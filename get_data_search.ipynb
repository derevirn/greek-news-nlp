{
 "cells": [
  {
   "cell_type": "code",
   "execution_count": 2,
   "id": "99bd4ac4-f968-4dfa-a18e-773ceec782bf",
   "metadata": {},
   "outputs": [],
   "source": [
    "import time, csv, os, json, requests\n",
    "import pandas as pd\n",
    "from credentials import api_key\n"
   ]
  },
  {
   "cell_type": "code",
   "execution_count": 3,
   "id": "396e71a6-71ea-44d4-8b3c-2ee7b7841db4",
   "metadata": {},
   "outputs": [],
   "source": [
    "base_url = 'https://api.newscatcherapi.com/v2/search'"
   ]
  },
  {
   "cell_type": "code",
   "execution_count": 57,
   "id": "0aedd6ff-61c7-4a88-94f8-cd3ac869ffe5",
   "metadata": {
    "tags": []
   },
   "outputs": [
    {
     "data": {
      "text/html": [
       "<div>\n",
       "<style scoped>\n",
       "    .dataframe tbody tr th:only-of-type {\n",
       "        vertical-align: middle;\n",
       "    }\n",
       "\n",
       "    .dataframe tbody tr th {\n",
       "        vertical-align: top;\n",
       "    }\n",
       "\n",
       "    .dataframe thead th {\n",
       "        text-align: right;\n",
       "    }\n",
       "</style>\n",
       "<table border=\"1\" class=\"dataframe\">\n",
       "  <thead>\n",
       "    <tr style=\"text-align: right;\">\n",
       "      <th></th>\n",
       "      <th>title</th>\n",
       "      <th>author</th>\n",
       "      <th>published_date</th>\n",
       "      <th>published_date_precision</th>\n",
       "      <th>link</th>\n",
       "      <th>clean_url</th>\n",
       "      <th>excerpt</th>\n",
       "      <th>summary</th>\n",
       "      <th>rights</th>\n",
       "      <th>rank</th>\n",
       "      <th>topic</th>\n",
       "      <th>country</th>\n",
       "      <th>language</th>\n",
       "      <th>authors</th>\n",
       "      <th>media</th>\n",
       "      <th>is_opinion</th>\n",
       "      <th>twitter_account</th>\n",
       "      <th>_score</th>\n",
       "      <th>_id</th>\n",
       "    </tr>\n",
       "  </thead>\n",
       "  <tbody>\n",
       "    <tr>\n",
       "      <th>0</th>\n",
       "      <td>«Κλιματική κρίση: Περιβάλλον &amp; Άνθρωπος»</td>\n",
       "      <td>Real.gr</td>\n",
       "      <td>2022-09-26 11:28:00</td>\n",
       "      <td>full</td>\n",
       "      <td>https://www.real.gr/planet/arthro/klimatiki_kr...</td>\n",
       "      <td>real.gr</td>\n",
       "      <td>Επιστημονική ημερίδα στην Κεφαλονιά με στόχο τ...</td>\n",
       "      <td>Επιστημονική ημερίδα στην Κεφαλονιά με στόχο τ...</td>\n",
       "      <td>real.gr</td>\n",
       "      <td>88151</td>\n",
       "      <td>news</td>\n",
       "      <td>GR</td>\n",
       "      <td>el</td>\n",
       "      <td>Real.gr</td>\n",
       "      <td>https://media.real.gr/filesystem/images/202209...</td>\n",
       "      <td>False</td>\n",
       "      <td>Real.gr</td>\n",
       "      <td>31.791569</td>\n",
       "      <td>c32c67660478c0fb85754f65c1319c97</td>\n",
       "    </tr>\n",
       "  </tbody>\n",
       "</table>\n",
       "</div>"
      ],
      "text/plain": [
       "                                      title   author       published_date  \\\n",
       "0  «Κλιματική κρίση: Περιβάλλον & Άνθρωπος»  Real.gr  2022-09-26 11:28:00   \n",
       "\n",
       "  published_date_precision                                               link  \\\n",
       "0                     full  https://www.real.gr/planet/arthro/klimatiki_kr...   \n",
       "\n",
       "  clean_url                                            excerpt  \\\n",
       "0   real.gr  Επιστημονική ημερίδα στην Κεφαλονιά με στόχο τ...   \n",
       "\n",
       "                                             summary   rights   rank topic  \\\n",
       "0  Επιστημονική ημερίδα στην Κεφαλονιά με στόχο τ...  real.gr  88151  news   \n",
       "\n",
       "  country language  authors  \\\n",
       "0      GR       el  Real.gr   \n",
       "\n",
       "                                               media  is_opinion  \\\n",
       "0  https://media.real.gr/filesystem/images/202209...       False   \n",
       "\n",
       "  twitter_account     _score                               _id  \n",
       "0         Real.gr  31.791569  c32c67660478c0fb85754f65c1319c97  "
      ]
     },
     "execution_count": 57,
     "metadata": {},
     "output_type": "execute_result"
    }
   ],
   "source": [
    "headers = {'x-api-key': api_key}\n",
    "\n",
    "params = {\n",
    "    'q': 'Κλιματική Κρίση N',\n",
    "    'countries': 'gr',\n",
    "    'from': '2022/09/18',\n",
    "    'to': '2022/10/18',\n",
    "    'lang': 'el',\n",
    "    'page_size': 1,\n",
    "    'page': 1  }\n",
    "\n",
    "response = requests.get(base_url, headers=headers, params=params)\n",
    "results = json.loads(response.text.encode())\n",
    "\n",
    "df = pd.DataFrame(results['articles'])\n",
    "\n",
    "df"
   ]
  },
  {
   "cell_type": "code",
   "execution_count": 58,
   "id": "59f4b4d2-baef-4601-9a37-0b9f3b596ba7",
   "metadata": {
    "tags": []
   },
   "outputs": [
    {
     "data": {
      "text/plain": [
       "{'status': 'ok',\n",
       " 'total_hits': 1407,\n",
       " 'page': 1,\n",
       " 'total_pages': 1407,\n",
       " 'page_size': 1,\n",
       " 'articles': [{'title': '«Κλιματική κρίση: Περιβάλλον & Άνθρωπος»',\n",
       "   'author': 'Real.gr',\n",
       "   'published_date': '2022-09-26 11:28:00',\n",
       "   'published_date_precision': 'full',\n",
       "   'link': 'https://www.real.gr/planet/arthro/klimatiki_krisi_periballon_anthropos-864926/',\n",
       "   'clean_url': 'real.gr',\n",
       "   'excerpt': 'Επιστημονική ημερίδα στην Κεφαλονιά με στόχο την ευαισθητοποίηση για την κλιματική αλλαγή που πλέον ονομάζεται κρίση.',\n",
       "   'summary': 'Επιστημονική ημερίδα στην Κεφαλονιά με στόχο την ευαισθητοποίηση για την κλιματική αλλαγή που πλέον ονομάζεται κρίση.\\nΤο Δημοτικό Λιμενικό Ταμείο Κεφαλονιάς-Ιθάκης διοργανώνει επιστημονική ημερίδα στο πλαίσιο πολυθεματικού έργου για την κλιματική κρίση, στην οποία συμμετέχουν 18 καταξιωμένοι επιστήμονες ειδικοί στο θέμα.Το Σάββατο 1 Οκτωβρίου 2022, στο Δημοτικό Θέατρο «Κέφαλος» στο Αργοστόλι θα παρουσιαστούν σύγχρονα επιστημονικά δεδομένα για την κλιματική κρίση, μέσα από πολύπλευρη κάλυψη του θέματος: τα αίτια, οι επιπτώσεις της κλιματικής αλλαγής στο χερσαίο/θαλάσσιο περιβάλλον και στη βιοποικιλότητα, καθώς και τα μέτρα αντιμετώπισής της.',\n",
       "   'rights': 'real.gr',\n",
       "   'rank': 88151,\n",
       "   'topic': 'news',\n",
       "   'country': 'GR',\n",
       "   'language': 'el',\n",
       "   'authors': 'Real.gr',\n",
       "   'media': 'https://media.real.gr/filesystem/images/20220926/engine/1.-kleio-gkizeli_252863_342839_type12140.jpg',\n",
       "   'is_opinion': False,\n",
       "   'twitter_account': 'Real.gr',\n",
       "   '_score': 31.791569,\n",
       "   '_id': 'c32c67660478c0fb85754f65c1319c97'}],\n",
       " 'user_input': {'q': 'Κλιματική Κρίση',\n",
       "  'search_in': ['title_summary'],\n",
       "  'lang': ['el'],\n",
       "  'not_lang': None,\n",
       "  'countries': ['GR'],\n",
       "  'not_countries': None,\n",
       "  'from': '2022-09-18 00:00:00',\n",
       "  'to': '2022-10-18 00:00:00',\n",
       "  'ranked_only': 'True',\n",
       "  'from_rank': None,\n",
       "  'to_rank': None,\n",
       "  'sort_by': 'relevancy',\n",
       "  'page': 1,\n",
       "  'size': 1,\n",
       "  'sources': None,\n",
       "  'not_sources': None,\n",
       "  'topic': None,\n",
       "  'published_date_precision': None}}"
      ]
     },
     "execution_count": 58,
     "metadata": {},
     "output_type": "execute_result"
    }
   ],
   "source": [
    "results"
   ]
  },
  {
   "cell_type": "code",
   "execution_count": 52,
   "id": "b164414a-7f75-4dff-8a00-56b3a64ad85e",
   "metadata": {
    "tags": []
   },
   "outputs": [
    {
     "name": "stderr",
     "output_type": "stream",
     "text": [
      "C:\\Users\\jtoli\\AppData\\Local\\Temp\\ipykernel_18120\\936731871.py:13: FutureWarning: The frame.append method is deprecated and will be removed from pandas in a future version. Use pandas.concat instead.\n",
      "  df = df.append(results['articles'], ignore_index = True)\n",
      "C:\\Users\\jtoli\\AppData\\Local\\Temp\\ipykernel_18120\\936731871.py:13: FutureWarning: The frame.append method is deprecated and will be removed from pandas in a future version. Use pandas.concat instead.\n",
      "  df = df.append(results['articles'], ignore_index = True)\n",
      "C:\\Users\\jtoli\\AppData\\Local\\Temp\\ipykernel_18120\\936731871.py:13: FutureWarning: The frame.append method is deprecated and will be removed from pandas in a future version. Use pandas.concat instead.\n",
      "  df = df.append(results['articles'], ignore_index = True)\n",
      "C:\\Users\\jtoli\\AppData\\Local\\Temp\\ipykernel_18120\\936731871.py:13: FutureWarning: The frame.append method is deprecated and will be removed from pandas in a future version. Use pandas.concat instead.\n",
      "  df = df.append(results['articles'], ignore_index = True)\n",
      "C:\\Users\\jtoli\\AppData\\Local\\Temp\\ipykernel_18120\\936731871.py:13: FutureWarning: The frame.append method is deprecated and will be removed from pandas in a future version. Use pandas.concat instead.\n",
      "  df = df.append(results['articles'], ignore_index = True)\n",
      "C:\\Users\\jtoli\\AppData\\Local\\Temp\\ipykernel_18120\\936731871.py:13: FutureWarning: The frame.append method is deprecated and will be removed from pandas in a future version. Use pandas.concat instead.\n",
      "  df = df.append(results['articles'], ignore_index = True)\n",
      "C:\\Users\\jtoli\\AppData\\Local\\Temp\\ipykernel_18120\\936731871.py:13: FutureWarning: The frame.append method is deprecated and will be removed from pandas in a future version. Use pandas.concat instead.\n",
      "  df = df.append(results['articles'], ignore_index = True)\n",
      "C:\\Users\\jtoli\\AppData\\Local\\Temp\\ipykernel_18120\\936731871.py:13: FutureWarning: The frame.append method is deprecated and will be removed from pandas in a future version. Use pandas.concat instead.\n",
      "  df = df.append(results['articles'], ignore_index = True)\n",
      "C:\\Users\\jtoli\\AppData\\Local\\Temp\\ipykernel_18120\\936731871.py:13: FutureWarning: The frame.append method is deprecated and will be removed from pandas in a future version. Use pandas.concat instead.\n",
      "  df = df.append(results['articles'], ignore_index = True)\n",
      "C:\\Users\\jtoli\\AppData\\Local\\Temp\\ipykernel_18120\\936731871.py:13: FutureWarning: The frame.append method is deprecated and will be removed from pandas in a future version. Use pandas.concat instead.\n",
      "  df = df.append(results['articles'], ignore_index = True)\n",
      "C:\\Users\\jtoli\\AppData\\Local\\Temp\\ipykernel_18120\\936731871.py:13: FutureWarning: The frame.append method is deprecated and will be removed from pandas in a future version. Use pandas.concat instead.\n",
      "  df = df.append(results['articles'], ignore_index = True)\n",
      "C:\\Users\\jtoli\\AppData\\Local\\Temp\\ipykernel_18120\\936731871.py:13: FutureWarning: The frame.append method is deprecated and will be removed from pandas in a future version. Use pandas.concat instead.\n",
      "  df = df.append(results['articles'], ignore_index = True)\n",
      "C:\\Users\\jtoli\\AppData\\Local\\Temp\\ipykernel_18120\\936731871.py:13: FutureWarning: The frame.append method is deprecated and will be removed from pandas in a future version. Use pandas.concat instead.\n",
      "  df = df.append(results['articles'], ignore_index = True)\n",
      "C:\\Users\\jtoli\\AppData\\Local\\Temp\\ipykernel_18120\\936731871.py:13: FutureWarning: The frame.append method is deprecated and will be removed from pandas in a future version. Use pandas.concat instead.\n",
      "  df = df.append(results['articles'], ignore_index = True)\n",
      "C:\\Users\\jtoli\\AppData\\Local\\Temp\\ipykernel_18120\\936731871.py:13: FutureWarning: The frame.append method is deprecated and will be removed from pandas in a future version. Use pandas.concat instead.\n",
      "  df = df.append(results['articles'], ignore_index = True)\n",
      "C:\\Users\\jtoli\\AppData\\Local\\Temp\\ipykernel_18120\\936731871.py:13: FutureWarning: The frame.append method is deprecated and will be removed from pandas in a future version. Use pandas.concat instead.\n",
      "  df = df.append(results['articles'], ignore_index = True)\n",
      "C:\\Users\\jtoli\\AppData\\Local\\Temp\\ipykernel_18120\\936731871.py:13: FutureWarning: The frame.append method is deprecated and will be removed from pandas in a future version. Use pandas.concat instead.\n",
      "  df = df.append(results['articles'], ignore_index = True)\n",
      "C:\\Users\\jtoli\\AppData\\Local\\Temp\\ipykernel_18120\\936731871.py:13: FutureWarning: The frame.append method is deprecated and will be removed from pandas in a future version. Use pandas.concat instead.\n",
      "  df = df.append(results['articles'], ignore_index = True)\n",
      "C:\\Users\\jtoli\\AppData\\Local\\Temp\\ipykernel_18120\\936731871.py:13: FutureWarning: The frame.append method is deprecated and will be removed from pandas in a future version. Use pandas.concat instead.\n",
      "  df = df.append(results['articles'], ignore_index = True)\n",
      "C:\\Users\\jtoli\\AppData\\Local\\Temp\\ipykernel_18120\\936731871.py:13: FutureWarning: The frame.append method is deprecated and will be removed from pandas in a future version. Use pandas.concat instead.\n",
      "  df = df.append(results['articles'], ignore_index = True)\n",
      "C:\\Users\\jtoli\\AppData\\Local\\Temp\\ipykernel_18120\\936731871.py:13: FutureWarning: The frame.append method is deprecated and will be removed from pandas in a future version. Use pandas.concat instead.\n",
      "  df = df.append(results['articles'], ignore_index = True)\n",
      "C:\\Users\\jtoli\\AppData\\Local\\Temp\\ipykernel_18120\\936731871.py:13: FutureWarning: The frame.append method is deprecated and will be removed from pandas in a future version. Use pandas.concat instead.\n",
      "  df = df.append(results['articles'], ignore_index = True)\n",
      "C:\\Users\\jtoli\\AppData\\Local\\Temp\\ipykernel_18120\\936731871.py:13: FutureWarning: The frame.append method is deprecated and will be removed from pandas in a future version. Use pandas.concat instead.\n",
      "  df = df.append(results['articles'], ignore_index = True)\n",
      "C:\\Users\\jtoli\\AppData\\Local\\Temp\\ipykernel_18120\\936731871.py:13: FutureWarning: The frame.append method is deprecated and will be removed from pandas in a future version. Use pandas.concat instead.\n",
      "  df = df.append(results['articles'], ignore_index = True)\n",
      "C:\\Users\\jtoli\\AppData\\Local\\Temp\\ipykernel_18120\\936731871.py:13: FutureWarning: The frame.append method is deprecated and will be removed from pandas in a future version. Use pandas.concat instead.\n",
      "  df = df.append(results['articles'], ignore_index = True)\n",
      "C:\\Users\\jtoli\\AppData\\Local\\Temp\\ipykernel_18120\\936731871.py:13: FutureWarning: The frame.append method is deprecated and will be removed from pandas in a future version. Use pandas.concat instead.\n",
      "  df = df.append(results['articles'], ignore_index = True)\n"
     ]
    }
   ],
   "source": [
    "for i in range(1, 27):\n",
    "    params = {\n",
    "        'q': 'Κλιματική Αλλαγή',\n",
    "        'countries': 'gr',\n",
    "        'from': '2022/09/18',\n",
    "        'to': '2022/10/18',\n",
    "        'page_size': 100,\n",
    "        'page': i  }\n",
    "\n",
    "    response = requests.get(base_url, headers=headers, params=params)\n",
    "    results = json.loads(response.text.encode())\n",
    "    \n",
    "    df = df.append(results['articles'], ignore_index = True)\n",
    "    \n",
    "    time.sleep(1)\n",
    "    \n",
    "    "
   ]
  },
  {
   "cell_type": "code",
   "execution_count": 53,
   "id": "f0d28408-9c5e-410d-891f-593d9ea1714a",
   "metadata": {},
   "outputs": [
    {
     "name": "stdout",
     "output_type": "stream",
     "text": [
      "<class 'pandas.core.frame.DataFrame'>\n",
      "RangeIndex: 2601 entries, 0 to 2600\n",
      "Data columns (total 19 columns):\n",
      " #   Column                    Non-Null Count  Dtype  \n",
      "---  ------                    --------------  -----  \n",
      " 0   title                     2601 non-null   object \n",
      " 1   author                    2601 non-null   object \n",
      " 2   published_date            2601 non-null   object \n",
      " 3   published_date_precision  2601 non-null   object \n",
      " 4   link                      2601 non-null   object \n",
      " 5   clean_url                 2601 non-null   object \n",
      " 6   excerpt                   2593 non-null   object \n",
      " 7   summary                   2601 non-null   object \n",
      " 8   rights                    2598 non-null   object \n",
      " 9   rank                      2601 non-null   int64  \n",
      " 10  topic                     2601 non-null   object \n",
      " 11  country                   2601 non-null   object \n",
      " 12  language                  2585 non-null   object \n",
      " 13  authors                   2601 non-null   object \n",
      " 14  media                     2601 non-null   object \n",
      " 15  is_opinion                2601 non-null   bool   \n",
      " 16  twitter_account           1923 non-null   object \n",
      " 17  _score                    2601 non-null   float64\n",
      " 18  _id                       2601 non-null   object \n",
      "dtypes: bool(1), float64(1), int64(1), object(16)\n",
      "memory usage: 368.4+ KB\n"
     ]
    }
   ],
   "source": [
    "df.info()"
   ]
  },
  {
   "cell_type": "code",
   "execution_count": 54,
   "id": "59d69806-ebc1-497b-a613-c98a4a3296db",
   "metadata": {},
   "outputs": [],
   "source": [
    "df['published_date'] = pd.to_datetime(df['published_date'])\n",
    "df = df.sort_values('published_date')"
   ]
  },
  {
   "cell_type": "code",
   "execution_count": 56,
   "id": "e8813cfc-b6e3-4315-81c9-62ed2568b20a",
   "metadata": {},
   "outputs": [],
   "source": [
    "df.to_csv('greek_news_climate_new.csv', encoding='utf-8', index=False, sep=',')"
   ]
  },
  {
   "cell_type": "code",
   "execution_count": 55,
   "id": "cd2758dd-e985-45ec-8d2a-c03a55ca0370",
   "metadata": {},
   "outputs": [
    {
     "data": {
      "text/plain": [
       "(2587,)"
      ]
     },
     "execution_count": 55,
     "metadata": {},
     "output_type": "execute_result"
    }
   ],
   "source": [
    "df['_id'].unique().shape"
   ]
  },
  {
   "cell_type": "code",
   "execution_count": null,
   "id": "35c786a9-3f2c-4533-a21a-efca77d95b4c",
   "metadata": {},
   "outputs": [],
   "source": []
  }
 ],
 "metadata": {
  "kernelspec": {
   "display_name": "Python 3 (ipykernel)",
   "language": "python",
   "name": "python3"
  },
  "language_info": {
   "codemirror_mode": {
    "name": "ipython",
    "version": 3
   },
   "file_extension": ".py",
   "mimetype": "text/x-python",
   "name": "python",
   "nbconvert_exporter": "python",
   "pygments_lexer": "ipython3",
   "version": "3.9.12"
  }
 },
 "nbformat": 4,
 "nbformat_minor": 5
}
