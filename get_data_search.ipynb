{
 "cells": [
  {
   "cell_type": "code",
   "execution_count": 22,
   "id": "99bd4ac4-f968-4dfa-a18e-773ceec782bf",
   "metadata": {},
   "outputs": [],
   "source": [
    "import time, csv, os, json, requests\n",
    "import pandas as pd\n"
   ]
  },
  {
   "cell_type": "code",
   "execution_count": 23,
   "id": "396e71a6-71ea-44d4-8b3c-2ee7b7841db4",
   "metadata": {},
   "outputs": [],
   "source": [
    "api_key = 'hJHY5Je-xrbWP4-y3kwXMn7aDOkqML7BX2Uh2mhiZgE'\n",
    "base_url = 'https://api.newscatcherapi.com/v2/search'"
   ]
  },
  {
   "cell_type": "code",
   "execution_count": 24,
   "id": "0aedd6ff-61c7-4a88-94f8-cd3ac869ffe5",
   "metadata": {
    "tags": []
   },
   "outputs": [
    {
     "data": {
      "text/html": [
       "<div>\n",
       "<style scoped>\n",
       "    .dataframe tbody tr th:only-of-type {\n",
       "        vertical-align: middle;\n",
       "    }\n",
       "\n",
       "    .dataframe tbody tr th {\n",
       "        vertical-align: top;\n",
       "    }\n",
       "\n",
       "    .dataframe thead th {\n",
       "        text-align: right;\n",
       "    }\n",
       "</style>\n",
       "<table border=\"1\" class=\"dataframe\">\n",
       "  <thead>\n",
       "    <tr style=\"text-align: right;\">\n",
       "      <th></th>\n",
       "      <th>title</th>\n",
       "      <th>author</th>\n",
       "      <th>published_date</th>\n",
       "      <th>published_date_precision</th>\n",
       "      <th>link</th>\n",
       "      <th>clean_url</th>\n",
       "      <th>excerpt</th>\n",
       "      <th>summary</th>\n",
       "      <th>rights</th>\n",
       "      <th>rank</th>\n",
       "      <th>topic</th>\n",
       "      <th>country</th>\n",
       "      <th>language</th>\n",
       "      <th>authors</th>\n",
       "      <th>media</th>\n",
       "      <th>is_opinion</th>\n",
       "      <th>twitter_account</th>\n",
       "      <th>_score</th>\n",
       "      <th>_id</th>\n",
       "    </tr>\n",
       "  </thead>\n",
       "  <tbody>\n",
       "    <tr>\n",
       "      <th>0</th>\n",
       "      <td>Ο σημαντικότερος αντίκτυπος</td>\n",
       "      <td>Δήμητρα-Μαρίλια Φούρλα</td>\n",
       "      <td>2021-11-10 15:32:22</td>\n",
       "      <td>full</td>\n",
       "      <td>https://www.dimokratiki.gr/10-11-2021/o-simant...</td>\n",
       "      <td>dimokratiki.gr</td>\n",
       "      <td>Ο σημαντικότερος αντίκτυπος</td>\n",
       "      <td>Στις επιπτώσεις που θα έχει η κλιματική αλλαγή...</td>\n",
       "      <td>dimokratiki.gr</td>\n",
       "      <td>136899</td>\n",
       "      <td>news</td>\n",
       "      <td>GR</td>\n",
       "      <td>el</td>\n",
       "      <td>[Δήμητρα-Μαρίλια Φούρλα]</td>\n",
       "      <td>https://www.dimokratiki.gr/wp-content/uploads/...</td>\n",
       "      <td>False</td>\n",
       "      <td>@dimokratikinews</td>\n",
       "      <td>36.102814</td>\n",
       "      <td>6a914c6fab4988352cd2369ca266ec18</td>\n",
       "    </tr>\n",
       "  </tbody>\n",
       "</table>\n",
       "</div>"
      ],
      "text/plain": [
       "                         title                  author       published_date  \\\n",
       "0  Ο σημαντικότερος αντίκτυπος  Δήμητρα-Μαρίλια Φούρλα  2021-11-10 15:32:22   \n",
       "\n",
       "  published_date_precision                                               link  \\\n",
       "0                     full  https://www.dimokratiki.gr/10-11-2021/o-simant...   \n",
       "\n",
       "        clean_url                      excerpt  \\\n",
       "0  dimokratiki.gr  Ο σημαντικότερος αντίκτυπος   \n",
       "\n",
       "                                             summary          rights    rank  \\\n",
       "0  Στις επιπτώσεις που θα έχει η κλιματική αλλαγή...  dimokratiki.gr  136899   \n",
       "\n",
       "  topic country language                   authors  \\\n",
       "0  news      GR       el  [Δήμητρα-Μαρίλια Φούρλα]   \n",
       "\n",
       "                                               media  is_opinion  \\\n",
       "0  https://www.dimokratiki.gr/wp-content/uploads/...       False   \n",
       "\n",
       "    twitter_account     _score                               _id  \n",
       "0  @dimokratikinews  36.102814  6a914c6fab4988352cd2369ca266ec18  "
      ]
     },
     "execution_count": 24,
     "metadata": {},
     "output_type": "execute_result"
    }
   ],
   "source": [
    "headers = {'x-api-key': api_key}\n",
    "\n",
    "params = {\n",
    "    'q': 'κλιματική αλλαγή OR COP26',\n",
    "    'countries': 'gr',\n",
    "    'lang': 'el',\n",
    "    'page_size': 1,\n",
    "    'page': 1  }\n",
    "\n",
    "response = requests.get(base_url, headers=headers, params=params)\n",
    "results = json.loads(response.text.encode())\n",
    "\n",
    "df = pd.DataFrame(results['articles'])\n",
    "\n",
    "df"
   ]
  },
  {
   "cell_type": "code",
   "execution_count": 25,
   "id": "59f4b4d2-baef-4601-9a37-0b9f3b596ba7",
   "metadata": {
    "tags": []
   },
   "outputs": [
    {
     "data": {
      "text/plain": [
       "{'status': 'ok',\n",
       " 'total_hits': 1599,\n",
       " 'page': 1,\n",
       " 'total_pages': 1599,\n",
       " 'page_size': 1,\n",
       " 'articles': [{'title': 'Ο σημαντικότερος αντίκτυπος',\n",
       "   'author': 'Δήμητρα-Μαρίλια Φούρλα',\n",
       "   'published_date': '2021-11-10 15:32:22',\n",
       "   'published_date_precision': 'full',\n",
       "   'link': 'https://www.dimokratiki.gr/10-11-2021/o-simantikoteros-antiktypos/',\n",
       "   'clean_url': 'dimokratiki.gr',\n",
       "   'excerpt': 'Ο σημαντικότερος αντίκτυπος',\n",
       "   'summary': 'Στις επιπτώσεις που θα έχει η κλιματική αλλαγή στους ασθενείς και στις επείγουσες ανθρωπιστικές ιατρικές δράσεις εστίαζαν οι Γιατροί Χωρίς Σύνορα, την ώρα που εξελισσόταν \\xa0η 26η διάσκεψη των Ηνωμένων Εθνών για την κλιματική αλλαγή (COP26) στην Γλασκώβη. Ο σημαντικότερος αντίκτυπος της κλιματικής αλλαγής εκδηλώνεται με τη μορφή του υποσιτισμού στα παιδιά. Εάν η κλιματική αλλαγή συνεχιστεί όπως προβλέπεται, οι Γιατροί Χωρίς Σύνορα προειδοποιούν ότι η μειωμένη παραγωγή τροφίμων και η μειωμένη διατροφική ποιότητα ορισμένων καλλιεργειών δημητριακών μπορεί να προμηνύουν την αύξηση πιθανού υποσιτισμού, με τα βρέφη να πλήττονται συχνά περισσότερο.',\n",
       "   'rights': 'dimokratiki.gr',\n",
       "   'rank': 136899,\n",
       "   'topic': 'news',\n",
       "   'country': 'GR',\n",
       "   'language': 'el',\n",
       "   'authors': ['Δήμητρα-Μαρίλια Φούρλα'],\n",
       "   'media': 'https://www.dimokratiki.gr/wp-content/uploads/2021/11/83-8.jpg',\n",
       "   'is_opinion': False,\n",
       "   'twitter_account': '@dimokratikinews',\n",
       "   '_score': 36.102814,\n",
       "   '_id': '6a914c6fab4988352cd2369ca266ec18'}],\n",
       " 'user_input': {'q': 'κλιματική αλλαγή OR COP26',\n",
       "  'search_in': ['title_summary'],\n",
       "  'lang': ['el'],\n",
       "  'not_lang': None,\n",
       "  'countries': ['GR'],\n",
       "  'not_countries': None,\n",
       "  'from': '2021-11-07 00:00:00',\n",
       "  'to': None,\n",
       "  'ranked_only': 'True',\n",
       "  'from_rank': None,\n",
       "  'to_rank': None,\n",
       "  'sort_by': 'relevancy',\n",
       "  'page': 1,\n",
       "  'size': 1,\n",
       "  'sources': None,\n",
       "  'not_sources': None,\n",
       "  'topic': None,\n",
       "  'published_date_precision': None}}"
      ]
     },
     "execution_count": 25,
     "metadata": {},
     "output_type": "execute_result"
    }
   ],
   "source": [
    "results"
   ]
  },
  {
   "cell_type": "code",
   "execution_count": 26,
   "id": "b164414a-7f75-4dff-8a00-56b3a64ad85e",
   "metadata": {
    "tags": []
   },
   "outputs": [],
   "source": [
    "for i in range(1, 13):\n",
    "    params = {\n",
    "        'q': 'κλιματική αλλαγή',\n",
    "        'countries': 'gr',\n",
    "        'lang': 'el',\n",
    "        'page_size': 100,\n",
    "        'page': i  }\n",
    "\n",
    "    response = requests.get(base_url, headers=headers, params=params)\n",
    "    results = json.loads(response.text.encode())\n",
    "    \n",
    "    df = df.append(results['articles'], ignore_index = True)\n",
    "    \n",
    "    time.sleep(1)\n",
    "    \n",
    "    "
   ]
  },
  {
   "cell_type": "code",
   "execution_count": 28,
   "id": "e8813cfc-b6e3-4315-81c9-62ed2568b20a",
   "metadata": {},
   "outputs": [],
   "source": [
    "df.to_csv('greek_news_climate.csv', encoding='utf-8', index=False, sep=',')"
   ]
  },
  {
   "cell_type": "code",
   "execution_count": null,
   "id": "f0d28408-9c5e-410d-891f-593d9ea1714a",
   "metadata": {},
   "outputs": [],
   "source": []
  }
 ],
 "metadata": {
  "kernelspec": {
   "display_name": "Python 3 (ipykernel)",
   "language": "python",
   "name": "python3"
  },
  "language_info": {
   "codemirror_mode": {
    "name": "ipython",
    "version": 3
   },
   "file_extension": ".py",
   "mimetype": "text/x-python",
   "name": "python",
   "nbconvert_exporter": "python",
   "pygments_lexer": "ipython3",
   "version": "3.9.5"
  }
 },
 "nbformat": 4,
 "nbformat_minor": 5
}
