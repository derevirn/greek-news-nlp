{
 "cells": [
  {
   "cell_type": "code",
   "execution_count": 1,
   "id": "717e3dfc-4f3e-4a43-afa1-6ec21a65d9dd",
   "metadata": {},
   "outputs": [
    {
     "name": "stderr",
     "output_type": "stream",
     "text": [
      "C:\\Users\\jtoli\\miniconda3\\envs\\greeknlp\\lib\\site-packages\\tqdm\\auto.py:22: TqdmWarning: IProgress not found. Please update jupyter and ipywidgets. See https://ipywidgets.readthedocs.io/en/stable/user_install.html\n",
      "  from .autonotebook import tqdm as notebook_tqdm\n"
     ]
    }
   ],
   "source": [
    "import pandas as pd\n",
    "from bertopic import BERTopic\n",
    "from sklearn.feature_extraction.text import CountVectorizer\n",
    "from stopwords import gr_stopwords"
   ]
  },
  {
   "cell_type": "code",
   "execution_count": 3,
   "id": "49198c11-6e4f-42d0-8f42-3895ff96745e",
   "metadata": {},
   "outputs": [],
   "source": [
    "df = pd.read_csv('data/greek_news_climate.tar.bz2')\n",
    "df['published_date'] = pd.to_datetime(df['published_date'])"
   ]
  },
  {
   "cell_type": "code",
   "execution_count": 4,
   "id": "fc1ffd25-1fac-4dd3-94e3-6ed0bcae9b58",
   "metadata": {},
   "outputs": [
    {
     "data": {
      "text/plain": [
       "(5443, 19)"
      ]
     },
     "execution_count": 4,
     "metadata": {},
     "output_type": "execute_result"
    }
   ],
   "source": [
    "df = df.query(\" _score > 30 \")\n",
    "\n",
    "df.shape"
   ]
  },
  {
   "cell_type": "code",
   "execution_count": 5,
   "id": "40397235-91aa-4adf-8226-0435e9926edf",
   "metadata": {},
   "outputs": [],
   "source": [
    "mask = df['summary'].notna()\n",
    "df.loc[mask, 'summary']\n",
    "\n",
    "news_list = df.loc[mask, 'summary'].to_list()\n",
    "timestamps = df.loc[mask, 'published_date'].to_list()"
   ]
  },
  {
   "cell_type": "code",
   "execution_count": 21,
   "id": "cc36764d-a3f4-4596-9616-2a48e2a66f0c",
   "metadata": {},
   "outputs": [],
   "source": [
    "vectorizer_model = CountVectorizer(stop_words = gr_stopwords)\n",
    "\n",
    "topic_model = BERTopic(language = 'multilingual', nr_topics = 5,\n",
    "                       vectorizer_model = vectorizer_model, verbose = True)\n",
    "                     "
   ]
  },
  {
   "cell_type": "code",
   "execution_count": 22,
   "id": "0be63167-dd23-4055-b245-0546fbc1f9fb",
   "metadata": {
    "tags": []
   },
   "outputs": [
    {
     "name": "stderr",
     "output_type": "stream",
     "text": [
      "Batches: 100%|███████████████████████████████████████████████████████████████████████████████████████████████████████████| 171/171 [00:25<00:00,  6.60it/s]\n",
      "2022-10-21 07:16:29,393 - BERTopic - Transformed documents to Embeddings\n",
      "2022-10-21 07:16:33,803 - BERTopic - Reduced dimensionality\n",
      "2022-10-21 07:16:34,022 - BERTopic - Clustered reduced embeddings\n",
      "2022-10-21 07:16:42,622 - BERTopic - Reduced number of topics from 164 to 6\n"
     ]
    }
   ],
   "source": [
    "topics, probs = topic_model.fit_transform(news_list)"
   ]
  },
  {
   "cell_type": "code",
   "execution_count": 23,
   "id": "f83f6190-ee69-43e8-9137-dd6847b8ef7a",
   "metadata": {},
   "outputs": [
    {
     "data": {
      "text/html": [
       "<div>\n",
       "<style scoped>\n",
       "    .dataframe tbody tr th:only-of-type {\n",
       "        vertical-align: middle;\n",
       "    }\n",
       "\n",
       "    .dataframe tbody tr th {\n",
       "        vertical-align: top;\n",
       "    }\n",
       "\n",
       "    .dataframe thead th {\n",
       "        text-align: right;\n",
       "    }\n",
       "</style>\n",
       "<table border=\"1\" class=\"dataframe\">\n",
       "  <thead>\n",
       "    <tr style=\"text-align: right;\">\n",
       "      <th></th>\n",
       "      <th>Topic</th>\n",
       "      <th>Count</th>\n",
       "      <th>Name</th>\n",
       "    </tr>\n",
       "  </thead>\n",
       "  <tbody>\n",
       "    <tr>\n",
       "      <th>0</th>\n",
       "      <td>-1</td>\n",
       "      <td>4198</td>\n",
       "      <td>-1_κλιματική_αλλαγή_κρίση_ελλάδα</td>\n",
       "    </tr>\n",
       "    <tr>\n",
       "      <th>1</th>\n",
       "      <td>0</td>\n",
       "      <td>494</td>\n",
       "      <td>0_κλιματική_αλλαγή_χρόνια_πλανήτη</td>\n",
       "    </tr>\n",
       "    <tr>\n",
       "      <th>2</th>\n",
       "      <td>1</td>\n",
       "      <td>227</td>\n",
       "      <td>1_ουκρανία_επισιτιστική_εκατομμύρια_τροφίμων</td>\n",
       "    </tr>\n",
       "    <tr>\n",
       "      <th>3</th>\n",
       "      <td>2</td>\n",
       "      <td>226</td>\n",
       "      <td>2_cop26_χώρες_συμφωνία_κλιματική</td>\n",
       "    </tr>\n",
       "    <tr>\n",
       "      <th>4</th>\n",
       "      <td>3</td>\n",
       "      <td>162</td>\n",
       "      <td>3_esm_ευρωζώνη_σοκ_ταμείου</td>\n",
       "    </tr>\n",
       "    <tr>\n",
       "      <th>5</th>\n",
       "      <td>4</td>\n",
       "      <td>136</td>\n",
       "      <td>4_κλιματική_κλιματικής_αλλαγή_κληρονομιάς</td>\n",
       "    </tr>\n",
       "  </tbody>\n",
       "</table>\n",
       "</div>"
      ],
      "text/plain": [
       "   Topic  Count                                          Name\n",
       "0     -1   4198              -1_κλιματική_αλλαγή_κρίση_ελλάδα\n",
       "1      0    494             0_κλιματική_αλλαγή_χρόνια_πλανήτη\n",
       "2      1    227  1_ουκρανία_επισιτιστική_εκατομμύρια_τροφίμων\n",
       "3      2    226              2_cop26_χώρες_συμφωνία_κλιματική\n",
       "4      3    162                    3_esm_ευρωζώνη_σοκ_ταμείου\n",
       "5      4    136     4_κλιματική_κλιματικής_αλλαγή_κληρονομιάς"
      ]
     },
     "execution_count": 23,
     "metadata": {},
     "output_type": "execute_result"
    }
   ],
   "source": [
    "topic_model.get_topic_info().head(30)"
   ]
  },
  {
   "cell_type": "code",
   "execution_count": 39,
   "id": "1528b29d-8619-48aa-a7f9-06bfddf21a99",
   "metadata": {},
   "outputs": [
    {
     "data": {
      "application/vnd.plotly.v1+json": {
       "config": {
        "plotlyServerURL": "https://plot.ly"
       },
       "data": [
        {
         "customdata": [
          [
           0,
           "φαινόμενα | κλιματική | λέκκας | αλλαγή | κρίση",
           251
          ],
          [
           1,
           "cop26 | κλιματική | κλίμα | αλλαγή | γλασκώβη",
           144
          ],
          [
           2,
           "ελλάδα | κλιματική | ενέργειας | κρίση | πρωθυπουργός",
           103
          ],
          [
           3,
           "πυρκαγιές | ευρώπη | θερμοκρασία | κλιματική | αύξηση",
           96
          ],
          [
           4,
           "τροφίμων | επισιτιστική | ουκρανία | εκατομμύρια | ρωσία",
           70
          ]
         ],
         "hovertemplate": "<b>Topic %{customdata[0]}</b><br>Words: %{customdata[1]}<br>Size: %{customdata[2]}",
         "legendgroup": "",
         "marker": {
          "color": "#B0BEC5",
          "line": {
           "color": "DarkSlateGrey",
           "width": 2
          },
          "size": [
           251,
           144,
           103,
           96,
           70
          ],
          "sizemode": "area",
          "sizeref": 0.156875,
          "symbol": "circle"
         },
         "mode": "markers",
         "name": "",
         "orientation": "v",
         "showlegend": false,
         "type": "scatter",
         "x": [
          -15.258755683898926,
          -15.968082427978516,
          -13.994439125061035,
          -14.475440979003906,
          -15.846171379089355
         ],
         "xaxis": "x",
         "y": [
          2.8325209617614746,
          3.391721725463867,
          4.410881519317627,
          2.7493555545806885,
          4.010056018829346
         ],
         "yaxis": "y"
        }
       ],
       "layout": {
        "annotations": [
         {
          "showarrow": false,
          "text": "D1",
          "x": -18.363294792175292,
          "y": 3.704732984304428,
          "yshift": 10
         },
         {
          "showarrow": false,
          "text": "D2",
          "x": -15.129284024238586,
          "xshift": 10,
          "y": 5.072513747215271
         }
        ],
        "height": 650,
        "hoverlabel": {
         "bgcolor": "white",
         "font": {
          "family": "Rockwell",
          "size": 16
         }
        },
        "legend": {
         "itemsizing": "constant",
         "tracegroupgap": 0
        },
        "margin": {
         "t": 60
        },
        "shapes": [
         {
          "line": {
           "color": "#CFD8DC",
           "width": 2
          },
          "type": "line",
          "x0": -15.129284024238586,
          "x1": -15.129284024238586,
          "y0": 2.3369522213935854,
          "y1": 5.072513747215271
         },
         {
          "line": {
           "color": "#9E9E9E",
           "width": 2
          },
          "type": "line",
          "x0": -18.363294792175292,
          "x1": -11.89527325630188,
          "y0": 3.704732984304428,
          "y1": 3.704732984304428
         }
        ],
        "sliders": [
         {
          "active": 0,
          "pad": {
           "t": 50
          },
          "steps": [
           {
            "args": [
             {
              "marker.color": [
               [
                "red",
                "#B0BEC5",
                "#B0BEC5",
                "#B0BEC5",
                "#B0BEC5"
               ]
              ]
             }
            ],
            "label": "Topic 0",
            "method": "update"
           },
           {
            "args": [
             {
              "marker.color": [
               [
                "#B0BEC5",
                "red",
                "#B0BEC5",
                "#B0BEC5",
                "#B0BEC5"
               ]
              ]
             }
            ],
            "label": "Topic 1",
            "method": "update"
           },
           {
            "args": [
             {
              "marker.color": [
               [
                "#B0BEC5",
                "#B0BEC5",
                "red",
                "#B0BEC5",
                "#B0BEC5"
               ]
              ]
             }
            ],
            "label": "Topic 2",
            "method": "update"
           },
           {
            "args": [
             {
              "marker.color": [
               [
                "#B0BEC5",
                "#B0BEC5",
                "#B0BEC5",
                "red",
                "#B0BEC5"
               ]
              ]
             }
            ],
            "label": "Topic 3",
            "method": "update"
           },
           {
            "args": [
             {
              "marker.color": [
               [
                "#B0BEC5",
                "#B0BEC5",
                "#B0BEC5",
                "#B0BEC5",
                "red"
               ]
              ]
             }
            ],
            "label": "Topic 4",
            "method": "update"
           }
          ]
         }
        ],
        "template": {
         "data": {
          "bar": [
           {
            "error_x": {
             "color": "rgb(36,36,36)"
            },
            "error_y": {
             "color": "rgb(36,36,36)"
            },
            "marker": {
             "line": {
              "color": "white",
              "width": 0.5
             },
             "pattern": {
              "fillmode": "overlay",
              "size": 10,
              "solidity": 0.2
             }
            },
            "type": "bar"
           }
          ],
          "barpolar": [
           {
            "marker": {
             "line": {
              "color": "white",
              "width": 0.5
             },
             "pattern": {
              "fillmode": "overlay",
              "size": 10,
              "solidity": 0.2
             }
            },
            "type": "barpolar"
           }
          ],
          "carpet": [
           {
            "aaxis": {
             "endlinecolor": "rgb(36,36,36)",
             "gridcolor": "white",
             "linecolor": "white",
             "minorgridcolor": "white",
             "startlinecolor": "rgb(36,36,36)"
            },
            "baxis": {
             "endlinecolor": "rgb(36,36,36)",
             "gridcolor": "white",
             "linecolor": "white",
             "minorgridcolor": "white",
             "startlinecolor": "rgb(36,36,36)"
            },
            "type": "carpet"
           }
          ],
          "choropleth": [
           {
            "colorbar": {
             "outlinewidth": 1,
             "tickcolor": "rgb(36,36,36)",
             "ticks": "outside"
            },
            "type": "choropleth"
           }
          ],
          "contour": [
           {
            "colorbar": {
             "outlinewidth": 1,
             "tickcolor": "rgb(36,36,36)",
             "ticks": "outside"
            },
            "colorscale": [
             [
              0,
              "#440154"
             ],
             [
              0.1111111111111111,
              "#482878"
             ],
             [
              0.2222222222222222,
              "#3e4989"
             ],
             [
              0.3333333333333333,
              "#31688e"
             ],
             [
              0.4444444444444444,
              "#26828e"
             ],
             [
              0.5555555555555556,
              "#1f9e89"
             ],
             [
              0.6666666666666666,
              "#35b779"
             ],
             [
              0.7777777777777778,
              "#6ece58"
             ],
             [
              0.8888888888888888,
              "#b5de2b"
             ],
             [
              1,
              "#fde725"
             ]
            ],
            "type": "contour"
           }
          ],
          "contourcarpet": [
           {
            "colorbar": {
             "outlinewidth": 1,
             "tickcolor": "rgb(36,36,36)",
             "ticks": "outside"
            },
            "type": "contourcarpet"
           }
          ],
          "heatmap": [
           {
            "colorbar": {
             "outlinewidth": 1,
             "tickcolor": "rgb(36,36,36)",
             "ticks": "outside"
            },
            "colorscale": [
             [
              0,
              "#440154"
             ],
             [
              0.1111111111111111,
              "#482878"
             ],
             [
              0.2222222222222222,
              "#3e4989"
             ],
             [
              0.3333333333333333,
              "#31688e"
             ],
             [
              0.4444444444444444,
              "#26828e"
             ],
             [
              0.5555555555555556,
              "#1f9e89"
             ],
             [
              0.6666666666666666,
              "#35b779"
             ],
             [
              0.7777777777777778,
              "#6ece58"
             ],
             [
              0.8888888888888888,
              "#b5de2b"
             ],
             [
              1,
              "#fde725"
             ]
            ],
            "type": "heatmap"
           }
          ],
          "heatmapgl": [
           {
            "colorbar": {
             "outlinewidth": 1,
             "tickcolor": "rgb(36,36,36)",
             "ticks": "outside"
            },
            "colorscale": [
             [
              0,
              "#440154"
             ],
             [
              0.1111111111111111,
              "#482878"
             ],
             [
              0.2222222222222222,
              "#3e4989"
             ],
             [
              0.3333333333333333,
              "#31688e"
             ],
             [
              0.4444444444444444,
              "#26828e"
             ],
             [
              0.5555555555555556,
              "#1f9e89"
             ],
             [
              0.6666666666666666,
              "#35b779"
             ],
             [
              0.7777777777777778,
              "#6ece58"
             ],
             [
              0.8888888888888888,
              "#b5de2b"
             ],
             [
              1,
              "#fde725"
             ]
            ],
            "type": "heatmapgl"
           }
          ],
          "histogram": [
           {
            "marker": {
             "line": {
              "color": "white",
              "width": 0.6
             }
            },
            "type": "histogram"
           }
          ],
          "histogram2d": [
           {
            "colorbar": {
             "outlinewidth": 1,
             "tickcolor": "rgb(36,36,36)",
             "ticks": "outside"
            },
            "colorscale": [
             [
              0,
              "#440154"
             ],
             [
              0.1111111111111111,
              "#482878"
             ],
             [
              0.2222222222222222,
              "#3e4989"
             ],
             [
              0.3333333333333333,
              "#31688e"
             ],
             [
              0.4444444444444444,
              "#26828e"
             ],
             [
              0.5555555555555556,
              "#1f9e89"
             ],
             [
              0.6666666666666666,
              "#35b779"
             ],
             [
              0.7777777777777778,
              "#6ece58"
             ],
             [
              0.8888888888888888,
              "#b5de2b"
             ],
             [
              1,
              "#fde725"
             ]
            ],
            "type": "histogram2d"
           }
          ],
          "histogram2dcontour": [
           {
            "colorbar": {
             "outlinewidth": 1,
             "tickcolor": "rgb(36,36,36)",
             "ticks": "outside"
            },
            "colorscale": [
             [
              0,
              "#440154"
             ],
             [
              0.1111111111111111,
              "#482878"
             ],
             [
              0.2222222222222222,
              "#3e4989"
             ],
             [
              0.3333333333333333,
              "#31688e"
             ],
             [
              0.4444444444444444,
              "#26828e"
             ],
             [
              0.5555555555555556,
              "#1f9e89"
             ],
             [
              0.6666666666666666,
              "#35b779"
             ],
             [
              0.7777777777777778,
              "#6ece58"
             ],
             [
              0.8888888888888888,
              "#b5de2b"
             ],
             [
              1,
              "#fde725"
             ]
            ],
            "type": "histogram2dcontour"
           }
          ],
          "mesh3d": [
           {
            "colorbar": {
             "outlinewidth": 1,
             "tickcolor": "rgb(36,36,36)",
             "ticks": "outside"
            },
            "type": "mesh3d"
           }
          ],
          "parcoords": [
           {
            "line": {
             "colorbar": {
              "outlinewidth": 1,
              "tickcolor": "rgb(36,36,36)",
              "ticks": "outside"
             }
            },
            "type": "parcoords"
           }
          ],
          "pie": [
           {
            "automargin": true,
            "type": "pie"
           }
          ],
          "scatter": [
           {
            "fillpattern": {
             "fillmode": "overlay",
             "size": 10,
             "solidity": 0.2
            },
            "type": "scatter"
           }
          ],
          "scatter3d": [
           {
            "line": {
             "colorbar": {
              "outlinewidth": 1,
              "tickcolor": "rgb(36,36,36)",
              "ticks": "outside"
             }
            },
            "marker": {
             "colorbar": {
              "outlinewidth": 1,
              "tickcolor": "rgb(36,36,36)",
              "ticks": "outside"
             }
            },
            "type": "scatter3d"
           }
          ],
          "scattercarpet": [
           {
            "marker": {
             "colorbar": {
              "outlinewidth": 1,
              "tickcolor": "rgb(36,36,36)",
              "ticks": "outside"
             }
            },
            "type": "scattercarpet"
           }
          ],
          "scattergeo": [
           {
            "marker": {
             "colorbar": {
              "outlinewidth": 1,
              "tickcolor": "rgb(36,36,36)",
              "ticks": "outside"
             }
            },
            "type": "scattergeo"
           }
          ],
          "scattergl": [
           {
            "marker": {
             "colorbar": {
              "outlinewidth": 1,
              "tickcolor": "rgb(36,36,36)",
              "ticks": "outside"
             }
            },
            "type": "scattergl"
           }
          ],
          "scattermapbox": [
           {
            "marker": {
             "colorbar": {
              "outlinewidth": 1,
              "tickcolor": "rgb(36,36,36)",
              "ticks": "outside"
             }
            },
            "type": "scattermapbox"
           }
          ],
          "scatterpolar": [
           {
            "marker": {
             "colorbar": {
              "outlinewidth": 1,
              "tickcolor": "rgb(36,36,36)",
              "ticks": "outside"
             }
            },
            "type": "scatterpolar"
           }
          ],
          "scatterpolargl": [
           {
            "marker": {
             "colorbar": {
              "outlinewidth": 1,
              "tickcolor": "rgb(36,36,36)",
              "ticks": "outside"
             }
            },
            "type": "scatterpolargl"
           }
          ],
          "scatterternary": [
           {
            "marker": {
             "colorbar": {
              "outlinewidth": 1,
              "tickcolor": "rgb(36,36,36)",
              "ticks": "outside"
             }
            },
            "type": "scatterternary"
           }
          ],
          "surface": [
           {
            "colorbar": {
             "outlinewidth": 1,
             "tickcolor": "rgb(36,36,36)",
             "ticks": "outside"
            },
            "colorscale": [
             [
              0,
              "#440154"
             ],
             [
              0.1111111111111111,
              "#482878"
             ],
             [
              0.2222222222222222,
              "#3e4989"
             ],
             [
              0.3333333333333333,
              "#31688e"
             ],
             [
              0.4444444444444444,
              "#26828e"
             ],
             [
              0.5555555555555556,
              "#1f9e89"
             ],
             [
              0.6666666666666666,
              "#35b779"
             ],
             [
              0.7777777777777778,
              "#6ece58"
             ],
             [
              0.8888888888888888,
              "#b5de2b"
             ],
             [
              1,
              "#fde725"
             ]
            ],
            "type": "surface"
           }
          ],
          "table": [
           {
            "cells": {
             "fill": {
              "color": "rgb(237,237,237)"
             },
             "line": {
              "color": "white"
             }
            },
            "header": {
             "fill": {
              "color": "rgb(217,217,217)"
             },
             "line": {
              "color": "white"
             }
            },
            "type": "table"
           }
          ]
         },
         "layout": {
          "annotationdefaults": {
           "arrowhead": 0,
           "arrowwidth": 1
          },
          "autotypenumbers": "strict",
          "coloraxis": {
           "colorbar": {
            "outlinewidth": 1,
            "tickcolor": "rgb(36,36,36)",
            "ticks": "outside"
           }
          },
          "colorscale": {
           "diverging": [
            [
             0,
             "rgb(103,0,31)"
            ],
            [
             0.1,
             "rgb(178,24,43)"
            ],
            [
             0.2,
             "rgb(214,96,77)"
            ],
            [
             0.3,
             "rgb(244,165,130)"
            ],
            [
             0.4,
             "rgb(253,219,199)"
            ],
            [
             0.5,
             "rgb(247,247,247)"
            ],
            [
             0.6,
             "rgb(209,229,240)"
            ],
            [
             0.7,
             "rgb(146,197,222)"
            ],
            [
             0.8,
             "rgb(67,147,195)"
            ],
            [
             0.9,
             "rgb(33,102,172)"
            ],
            [
             1,
             "rgb(5,48,97)"
            ]
           ],
           "sequential": [
            [
             0,
             "#440154"
            ],
            [
             0.1111111111111111,
             "#482878"
            ],
            [
             0.2222222222222222,
             "#3e4989"
            ],
            [
             0.3333333333333333,
             "#31688e"
            ],
            [
             0.4444444444444444,
             "#26828e"
            ],
            [
             0.5555555555555556,
             "#1f9e89"
            ],
            [
             0.6666666666666666,
             "#35b779"
            ],
            [
             0.7777777777777778,
             "#6ece58"
            ],
            [
             0.8888888888888888,
             "#b5de2b"
            ],
            [
             1,
             "#fde725"
            ]
           ],
           "sequentialminus": [
            [
             0,
             "#440154"
            ],
            [
             0.1111111111111111,
             "#482878"
            ],
            [
             0.2222222222222222,
             "#3e4989"
            ],
            [
             0.3333333333333333,
             "#31688e"
            ],
            [
             0.4444444444444444,
             "#26828e"
            ],
            [
             0.5555555555555556,
             "#1f9e89"
            ],
            [
             0.6666666666666666,
             "#35b779"
            ],
            [
             0.7777777777777778,
             "#6ece58"
            ],
            [
             0.8888888888888888,
             "#b5de2b"
            ],
            [
             1,
             "#fde725"
            ]
           ]
          },
          "colorway": [
           "#1F77B4",
           "#FF7F0E",
           "#2CA02C",
           "#D62728",
           "#9467BD",
           "#8C564B",
           "#E377C2",
           "#7F7F7F",
           "#BCBD22",
           "#17BECF"
          ],
          "font": {
           "color": "rgb(36,36,36)"
          },
          "geo": {
           "bgcolor": "white",
           "lakecolor": "white",
           "landcolor": "white",
           "showlakes": true,
           "showland": true,
           "subunitcolor": "white"
          },
          "hoverlabel": {
           "align": "left"
          },
          "hovermode": "closest",
          "mapbox": {
           "style": "light"
          },
          "paper_bgcolor": "white",
          "plot_bgcolor": "white",
          "polar": {
           "angularaxis": {
            "gridcolor": "rgb(232,232,232)",
            "linecolor": "rgb(36,36,36)",
            "showgrid": false,
            "showline": true,
            "ticks": "outside"
           },
           "bgcolor": "white",
           "radialaxis": {
            "gridcolor": "rgb(232,232,232)",
            "linecolor": "rgb(36,36,36)",
            "showgrid": false,
            "showline": true,
            "ticks": "outside"
           }
          },
          "scene": {
           "xaxis": {
            "backgroundcolor": "white",
            "gridcolor": "rgb(232,232,232)",
            "gridwidth": 2,
            "linecolor": "rgb(36,36,36)",
            "showbackground": true,
            "showgrid": false,
            "showline": true,
            "ticks": "outside",
            "zeroline": false,
            "zerolinecolor": "rgb(36,36,36)"
           },
           "yaxis": {
            "backgroundcolor": "white",
            "gridcolor": "rgb(232,232,232)",
            "gridwidth": 2,
            "linecolor": "rgb(36,36,36)",
            "showbackground": true,
            "showgrid": false,
            "showline": true,
            "ticks": "outside",
            "zeroline": false,
            "zerolinecolor": "rgb(36,36,36)"
           },
           "zaxis": {
            "backgroundcolor": "white",
            "gridcolor": "rgb(232,232,232)",
            "gridwidth": 2,
            "linecolor": "rgb(36,36,36)",
            "showbackground": true,
            "showgrid": false,
            "showline": true,
            "ticks": "outside",
            "zeroline": false,
            "zerolinecolor": "rgb(36,36,36)"
           }
          },
          "shapedefaults": {
           "fillcolor": "black",
           "line": {
            "width": 0
           },
           "opacity": 0.3
          },
          "ternary": {
           "aaxis": {
            "gridcolor": "rgb(232,232,232)",
            "linecolor": "rgb(36,36,36)",
            "showgrid": false,
            "showline": true,
            "ticks": "outside"
           },
           "baxis": {
            "gridcolor": "rgb(232,232,232)",
            "linecolor": "rgb(36,36,36)",
            "showgrid": false,
            "showline": true,
            "ticks": "outside"
           },
           "bgcolor": "white",
           "caxis": {
            "gridcolor": "rgb(232,232,232)",
            "linecolor": "rgb(36,36,36)",
            "showgrid": false,
            "showline": true,
            "ticks": "outside"
           }
          },
          "title": {
           "x": 0.05
          },
          "xaxis": {
           "automargin": true,
           "gridcolor": "rgb(232,232,232)",
           "linecolor": "rgb(36,36,36)",
           "showgrid": false,
           "showline": true,
           "ticks": "outside",
           "title": {
            "standoff": 15
           },
           "zeroline": false,
           "zerolinecolor": "rgb(36,36,36)"
          },
          "yaxis": {
           "automargin": true,
           "gridcolor": "rgb(232,232,232)",
           "linecolor": "rgb(36,36,36)",
           "showgrid": false,
           "showline": true,
           "ticks": "outside",
           "title": {
            "standoff": 15
           },
           "zeroline": false,
           "zerolinecolor": "rgb(36,36,36)"
          }
         }
        },
        "title": {
         "font": {
          "color": "Black",
          "size": 22
         },
         "text": "<b>Intertopic Distance Map",
         "x": 0.5,
         "xanchor": "center",
         "y": 0.95,
         "yanchor": "top"
        },
        "width": 650,
        "xaxis": {
         "anchor": "y",
         "domain": [
          0,
          1
         ],
         "range": [
          -18.363294792175292,
          -11.89527325630188
         ],
         "title": {
          "text": ""
         },
         "type": "linear",
         "visible": false
        },
        "yaxis": {
         "anchor": "x",
         "domain": [
          0,
          1
         ],
         "range": [
          2.3369522213935854,
          5.072513747215271
         ],
         "title": {
          "text": ""
         },
         "type": "linear",
         "visible": false
        }
       }
      },
      "image/png": "[encoded data removed]",
      "text/html": [
       "<div>                            <div id=\"bc2e9cc6-a374-4bce-af4e-76ccaac87f6b\" class=\"plotly-graph-div\" style=\"height:650px; width:650px;\"></div>            <script type=\"text/javascript\">                require([\"plotly\"], function(Plotly) {                    window.PLOTLYENV=window.PLOTLYENV || {};                                    if (document.getElementById(\"bc2e9cc6-a374-4bce-af4e-76ccaac87f6b\")) {                    Plotly.newPlot(                        \"bc2e9cc6-a374-4bce-af4e-76ccaac87f6b\",                        [{\"customdata\":[[0,\"\\u03c6\\u03b1\\u03b9\\u03bd\\u03cc\\u03bc\\u03b5\\u03bd\\u03b1 | \\u03ba\\u03bb\\u03b9\\u03bc\\u03b1\\u03c4\\u03b9\\u03ba\\u03ae | \\u03bb\\u03ad\\u03ba\\u03ba\\u03b1\\u03c2 | \\u03b1\\u03bb\\u03bb\\u03b1\\u03b3\\u03ae | \\u03ba\\u03c1\\u03af\\u03c3\\u03b7\",251],[1,\"cop26 | \\u03ba\\u03bb\\u03b9\\u03bc\\u03b1\\u03c4\\u03b9\\u03ba\\u03ae | \\u03ba\\u03bb\\u03af\\u03bc\\u03b1 | \\u03b1\\u03bb\\u03bb\\u03b1\\u03b3\\u03ae | \\u03b3\\u03bb\\u03b1\\u03c3\\u03ba\\u03ce\\u03b2\\u03b7\",144],[2,\"\\u03b5\\u03bb\\u03bb\\u03ac\\u03b4\\u03b1 | \\u03ba\\u03bb\\u03b9\\u03bc\\u03b1\\u03c4\\u03b9\\u03ba\\u03ae | \\u03b5\\u03bd\\u03ad\\u03c1\\u03b3\\u03b5\\u03b9\\u03b1\\u03c2 | \\u03ba\\u03c1\\u03af\\u03c3\\u03b7 | \\u03c0\\u03c1\\u03c9\\u03b8\\u03c5\\u03c0\\u03bf\\u03c5\\u03c1\\u03b3\\u03cc\\u03c2\",103],[3,\"\\u03c0\\u03c5\\u03c1\\u03ba\\u03b1\\u03b3\\u03b9\\u03ad\\u03c2 | \\u03b5\\u03c5\\u03c1\\u03ce\\u03c0\\u03b7 | \\u03b8\\u03b5\\u03c1\\u03bc\\u03bf\\u03ba\\u03c1\\u03b1\\u03c3\\u03af\\u03b1 | \\u03ba\\u03bb\\u03b9\\u03bc\\u03b1\\u03c4\\u03b9\\u03ba\\u03ae | \\u03b1\\u03cd\\u03be\\u03b7\\u03c3\\u03b7\",96],[4,\"\\u03c4\\u03c1\\u03bf\\u03c6\\u03af\\u03bc\\u03c9\\u03bd | \\u03b5\\u03c0\\u03b9\\u03c3\\u03b9\\u03c4\\u03b9\\u03c3\\u03c4\\u03b9\\u03ba\\u03ae | \\u03bf\\u03c5\\u03ba\\u03c1\\u03b1\\u03bd\\u03af\\u03b1 | \\u03b5\\u03ba\\u03b1\\u03c4\\u03bf\\u03bc\\u03bc\\u03cd\\u03c1\\u03b9\\u03b1 | \\u03c1\\u03c9\\u03c3\\u03af\\u03b1\",70]],\"hovertemplate\":\"<b>Topic %{customdata[0]}</b><br>Words: %{customdata[1]}<br>Size: %{customdata[2]}\",\"legendgroup\":\"\",\"marker\":{\"color\":\"#B0BEC5\",\"size\":[251,144,103,96,70],\"sizemode\":\"area\",\"sizeref\":0.156875,\"symbol\":\"circle\",\"line\":{\"color\":\"DarkSlateGrey\",\"width\":2}},\"mode\":\"markers\",\"name\":\"\",\"orientation\":\"v\",\"showlegend\":false,\"x\":[-15.258755683898926,-15.968082427978516,-13.994439125061035,-14.475440979003906,-15.846171379089355],\"xaxis\":\"x\",\"y\":[2.8325209617614746,3.391721725463867,4.410881519317627,2.7493555545806885,4.010056018829346],\"yaxis\":\"y\",\"type\":\"scatter\"}],                        {\"template\":{\"data\":{\"barpolar\":[{\"marker\":{\"line\":{\"color\":\"white\",\"width\":0.5},\"pattern\":{\"fillmode\":\"overlay\",\"size\":10,\"solidity\":0.2}},\"type\":\"barpolar\"}],\"bar\":[{\"error_x\":{\"color\":\"rgb(36,36,36)\"},\"error_y\":{\"color\":\"rgb(36,36,36)\"},\"marker\":{\"line\":{\"color\":\"white\",\"width\":0.5},\"pattern\":{\"fillmode\":\"overlay\",\"size\":10,\"solidity\":0.2}},\"type\":\"bar\"}],\"carpet\":[{\"aaxis\":{\"endlinecolor\":\"rgb(36,36,36)\",\"gridcolor\":\"white\",\"linecolor\":\"white\",\"minorgridcolor\":\"white\",\"startlinecolor\":\"rgb(36,36,36)\"},\"baxis\":{\"endlinecolor\":\"rgb(36,36,36)\",\"gridcolor\":\"white\",\"linecolor\":\"white\",\"minorgridcolor\":\"white\",\"startlinecolor\":\"rgb(36,36,36)\"},\"type\":\"carpet\"}],\"choropleth\":[{\"colorbar\":{\"outlinewidth\":1,\"tickcolor\":\"rgb(36,36,36)\",\"ticks\":\"outside\"},\"type\":\"choropleth\"}],\"contourcarpet\":[{\"colorbar\":{\"outlinewidth\":1,\"tickcolor\":\"rgb(36,36,36)\",\"ticks\":\"outside\"},\"type\":\"contourcarpet\"}],\"contour\":[{\"colorbar\":{\"outlinewidth\":1,\"tickcolor\":\"rgb(36,36,36)\",\"ticks\":\"outside\"},\"colorscale\":[[0.0,\"#440154\"],[0.1111111111111111,\"#482878\"],[0.2222222222222222,\"#3e4989\"],[0.3333333333333333,\"#31688e\"],[0.4444444444444444,\"#26828e\"],[0.5555555555555556,\"#1f9e89\"],[0.6666666666666666,\"#35b779\"],[0.7777777777777778,\"#6ece58\"],[0.8888888888888888,\"#b5de2b\"],[1.0,\"#fde725\"]],\"type\":\"contour\"}],\"heatmapgl\":[{\"colorbar\":{\"outlinewidth\":1,\"tickcolor\":\"rgb(36,36,36)\",\"ticks\":\"outside\"},\"colorscale\":[[0.0,\"#440154\"],[0.1111111111111111,\"#482878\"],[0.2222222222222222,\"#3e4989\"],[0.3333333333333333,\"#31688e\"],[0.4444444444444444,\"#26828e\"],[0.5555555555555556,\"#1f9e89\"],[0.6666666666666666,\"#35b779\"],[0.7777777777777778,\"#6ece58\"],[0.8888888888888888,\"#b5de2b\"],[1.0,\"#fde725\"]],\"type\":\"heatmapgl\"}],\"heatmap\":[{\"colorbar\":{\"outlinewidth\":1,\"tickcolor\":\"rgb(36,36,36)\",\"ticks\":\"outside\"},\"colorscale\":[[0.0,\"#440154\"],[0.1111111111111111,\"#482878\"],[0.2222222222222222,\"#3e4989\"],[0.3333333333333333,\"#31688e\"],[0.4444444444444444,\"#26828e\"],[0.5555555555555556,\"#1f9e89\"],[0.6666666666666666,\"#35b779\"],[0.7777777777777778,\"#6ece58\"],[0.8888888888888888,\"#b5de2b\"],[1.0,\"#fde725\"]],\"type\":\"heatmap\"}],\"histogram2dcontour\":[{\"colorbar\":{\"outlinewidth\":1,\"tickcolor\":\"rgb(36,36,36)\",\"ticks\":\"outside\"},\"colorscale\":[[0.0,\"#440154\"],[0.1111111111111111,\"#482878\"],[0.2222222222222222,\"#3e4989\"],[0.3333333333333333,\"#31688e\"],[0.4444444444444444,\"#26828e\"],[0.5555555555555556,\"#1f9e89\"],[0.6666666666666666,\"#35b779\"],[0.7777777777777778,\"#6ece58\"],[0.8888888888888888,\"#b5de2b\"],[1.0,\"#fde725\"]],\"type\":\"histogram2dcontour\"}],\"histogram2d\":[{\"colorbar\":{\"outlinewidth\":1,\"tickcolor\":\"rgb(36,36,36)\",\"ticks\":\"outside\"},\"colorscale\":[[0.0,\"#440154\"],[0.1111111111111111,\"#482878\"],[0.2222222222222222,\"#3e4989\"],[0.3333333333333333,\"#31688e\"],[0.4444444444444444,\"#26828e\"],[0.5555555555555556,\"#1f9e89\"],[0.6666666666666666,\"#35b779\"],[0.7777777777777778,\"#6ece58\"],[0.8888888888888888,\"#b5de2b\"],[1.0,\"#fde725\"]],\"type\":\"histogram2d\"}],\"histogram\":[{\"marker\":{\"line\":{\"color\":\"white\",\"width\":0.6}},\"type\":\"histogram\"}],\"mesh3d\":[{\"colorbar\":{\"outlinewidth\":1,\"tickcolor\":\"rgb(36,36,36)\",\"ticks\":\"outside\"},\"type\":\"mesh3d\"}],\"parcoords\":[{\"line\":{\"colorbar\":{\"outlinewidth\":1,\"tickcolor\":\"rgb(36,36,36)\",\"ticks\":\"outside\"}},\"type\":\"parcoords\"}],\"pie\":[{\"automargin\":true,\"type\":\"pie\"}],\"scatter3d\":[{\"line\":{\"colorbar\":{\"outlinewidth\":1,\"tickcolor\":\"rgb(36,36,36)\",\"ticks\":\"outside\"}},\"marker\":{\"colorbar\":{\"outlinewidth\":1,\"tickcolor\":\"rgb(36,36,36)\",\"ticks\":\"outside\"}},\"type\":\"scatter3d\"}],\"scattercarpet\":[{\"marker\":{\"colorbar\":{\"outlinewidth\":1,\"tickcolor\":\"rgb(36,36,36)\",\"ticks\":\"outside\"}},\"type\":\"scattercarpet\"}],\"scattergeo\":[{\"marker\":{\"colorbar\":{\"outlinewidth\":1,\"tickcolor\":\"rgb(36,36,36)\",\"ticks\":\"outside\"}},\"type\":\"scattergeo\"}],\"scattergl\":[{\"marker\":{\"colorbar\":{\"outlinewidth\":1,\"tickcolor\":\"rgb(36,36,36)\",\"ticks\":\"outside\"}},\"type\":\"scattergl\"}],\"scattermapbox\":[{\"marker\":{\"colorbar\":{\"outlinewidth\":1,\"tickcolor\":\"rgb(36,36,36)\",\"ticks\":\"outside\"}},\"type\":\"scattermapbox\"}],\"scatterpolargl\":[{\"marker\":{\"colorbar\":{\"outlinewidth\":1,\"tickcolor\":\"rgb(36,36,36)\",\"ticks\":\"outside\"}},\"type\":\"scatterpolargl\"}],\"scatterpolar\":[{\"marker\":{\"colorbar\":{\"outlinewidth\":1,\"tickcolor\":\"rgb(36,36,36)\",\"ticks\":\"outside\"}},\"type\":\"scatterpolar\"}],\"scatter\":[{\"fillpattern\":{\"fillmode\":\"overlay\",\"size\":10,\"solidity\":0.2},\"type\":\"scatter\"}],\"scatterternary\":[{\"marker\":{\"colorbar\":{\"outlinewidth\":1,\"tickcolor\":\"rgb(36,36,36)\",\"ticks\":\"outside\"}},\"type\":\"scatterternary\"}],\"surface\":[{\"colorbar\":{\"outlinewidth\":1,\"tickcolor\":\"rgb(36,36,36)\",\"ticks\":\"outside\"},\"colorscale\":[[0.0,\"#440154\"],[0.1111111111111111,\"#482878\"],[0.2222222222222222,\"#3e4989\"],[0.3333333333333333,\"#31688e\"],[0.4444444444444444,\"#26828e\"],[0.5555555555555556,\"#1f9e89\"],[0.6666666666666666,\"#35b779\"],[0.7777777777777778,\"#6ece58\"],[0.8888888888888888,\"#b5de2b\"],[1.0,\"#fde725\"]],\"type\":\"surface\"}],\"table\":[{\"cells\":{\"fill\":{\"color\":\"rgb(237,237,237)\"},\"line\":{\"color\":\"white\"}},\"header\":{\"fill\":{\"color\":\"rgb(217,217,217)\"},\"line\":{\"color\":\"white\"}},\"type\":\"table\"}]},\"layout\":{\"annotationdefaults\":{\"arrowhead\":0,\"arrowwidth\":1},\"autotypenumbers\":\"strict\",\"coloraxis\":{\"colorbar\":{\"outlinewidth\":1,\"tickcolor\":\"rgb(36,36,36)\",\"ticks\":\"outside\"}},\"colorscale\":{\"diverging\":[[0.0,\"rgb(103,0,31)\"],[0.1,\"rgb(178,24,43)\"],[0.2,\"rgb(214,96,77)\"],[0.3,\"rgb(244,165,130)\"],[0.4,\"rgb(253,219,199)\"],[0.5,\"rgb(247,247,247)\"],[0.6,\"rgb(209,229,240)\"],[0.7,\"rgb(146,197,222)\"],[0.8,\"rgb(67,147,195)\"],[0.9,\"rgb(33,102,172)\"],[1.0,\"rgb(5,48,97)\"]],\"sequential\":[[0.0,\"#440154\"],[0.1111111111111111,\"#482878\"],[0.2222222222222222,\"#3e4989\"],[0.3333333333333333,\"#31688e\"],[0.4444444444444444,\"#26828e\"],[0.5555555555555556,\"#1f9e89\"],[0.6666666666666666,\"#35b779\"],[0.7777777777777778,\"#6ece58\"],[0.8888888888888888,\"#b5de2b\"],[1.0,\"#fde725\"]],\"sequentialminus\":[[0.0,\"#440154\"],[0.1111111111111111,\"#482878\"],[0.2222222222222222,\"#3e4989\"],[0.3333333333333333,\"#31688e\"],[0.4444444444444444,\"#26828e\"],[0.5555555555555556,\"#1f9e89\"],[0.6666666666666666,\"#35b779\"],[0.7777777777777778,\"#6ece58\"],[0.8888888888888888,\"#b5de2b\"],[1.0,\"#fde725\"]]},\"colorway\":[\"#1F77B4\",\"#FF7F0E\",\"#2CA02C\",\"#D62728\",\"#9467BD\",\"#8C564B\",\"#E377C2\",\"#7F7F7F\",\"#BCBD22\",\"#17BECF\"],\"font\":{\"color\":\"rgb(36,36,36)\"},\"geo\":{\"bgcolor\":\"white\",\"lakecolor\":\"white\",\"landcolor\":\"white\",\"showlakes\":true,\"showland\":true,\"subunitcolor\":\"white\"},\"hoverlabel\":{\"align\":\"left\"},\"hovermode\":\"closest\",\"mapbox\":{\"style\":\"light\"},\"paper_bgcolor\":\"white\",\"plot_bgcolor\":\"white\",\"polar\":{\"angularaxis\":{\"gridcolor\":\"rgb(232,232,232)\",\"linecolor\":\"rgb(36,36,36)\",\"showgrid\":false,\"showline\":true,\"ticks\":\"outside\"},\"bgcolor\":\"white\",\"radialaxis\":{\"gridcolor\":\"rgb(232,232,232)\",\"linecolor\":\"rgb(36,36,36)\",\"showgrid\":false,\"showline\":true,\"ticks\":\"outside\"}},\"scene\":{\"xaxis\":{\"backgroundcolor\":\"white\",\"gridcolor\":\"rgb(232,232,232)\",\"gridwidth\":2,\"linecolor\":\"rgb(36,36,36)\",\"showbackground\":true,\"showgrid\":false,\"showline\":true,\"ticks\":\"outside\",\"zeroline\":false,\"zerolinecolor\":\"rgb(36,36,36)\"},\"yaxis\":{\"backgroundcolor\":\"white\",\"gridcolor\":\"rgb(232,232,232)\",\"gridwidth\":2,\"linecolor\":\"rgb(36,36,36)\",\"showbackground\":true,\"showgrid\":false,\"showline\":true,\"ticks\":\"outside\",\"zeroline\":false,\"zerolinecolor\":\"rgb(36,36,36)\"},\"zaxis\":{\"backgroundcolor\":\"white\",\"gridcolor\":\"rgb(232,232,232)\",\"gridwidth\":2,\"linecolor\":\"rgb(36,36,36)\",\"showbackground\":true,\"showgrid\":false,\"showline\":true,\"ticks\":\"outside\",\"zeroline\":false,\"zerolinecolor\":\"rgb(36,36,36)\"}},\"shapedefaults\":{\"fillcolor\":\"black\",\"line\":{\"width\":0},\"opacity\":0.3},\"ternary\":{\"aaxis\":{\"gridcolor\":\"rgb(232,232,232)\",\"linecolor\":\"rgb(36,36,36)\",\"showgrid\":false,\"showline\":true,\"ticks\":\"outside\"},\"baxis\":{\"gridcolor\":\"rgb(232,232,232)\",\"linecolor\":\"rgb(36,36,36)\",\"showgrid\":false,\"showline\":true,\"ticks\":\"outside\"},\"bgcolor\":\"white\",\"caxis\":{\"gridcolor\":\"rgb(232,232,232)\",\"linecolor\":\"rgb(36,36,36)\",\"showgrid\":false,\"showline\":true,\"ticks\":\"outside\"}},\"title\":{\"x\":0.05},\"xaxis\":{\"automargin\":true,\"gridcolor\":\"rgb(232,232,232)\",\"linecolor\":\"rgb(36,36,36)\",\"showgrid\":false,\"showline\":true,\"ticks\":\"outside\",\"title\":{\"standoff\":15},\"zeroline\":false,\"zerolinecolor\":\"rgb(36,36,36)\"},\"yaxis\":{\"automargin\":true,\"gridcolor\":\"rgb(232,232,232)\",\"linecolor\":\"rgb(36,36,36)\",\"showgrid\":false,\"showline\":true,\"ticks\":\"outside\",\"title\":{\"standoff\":15},\"zeroline\":false,\"zerolinecolor\":\"rgb(36,36,36)\"}}},\"xaxis\":{\"anchor\":\"y\",\"domain\":[0.0,1.0],\"title\":{\"text\":\"\"},\"visible\":false,\"range\":[-18.363294792175292,-11.89527325630188]},\"yaxis\":{\"anchor\":\"x\",\"domain\":[0.0,1.0],\"title\":{\"text\":\"\"},\"visible\":false,\"range\":[2.3369522213935854,5.072513747215271]},\"legend\":{\"tracegroupgap\":0,\"itemsizing\":\"constant\"},\"margin\":{\"t\":60},\"title\":{\"font\":{\"size\":22,\"color\":\"Black\"},\"text\":\"<b>Intertopic Distance Map\",\"y\":0.95,\"x\":0.5,\"xanchor\":\"center\",\"yanchor\":\"top\"},\"hoverlabel\":{\"font\":{\"size\":16,\"family\":\"Rockwell\"},\"bgcolor\":\"white\"},\"width\":650,\"height\":650,\"sliders\":[{\"active\":0,\"pad\":{\"t\":50},\"steps\":[{\"args\":[{\"marker.color\":[[\"red\",\"#B0BEC5\",\"#B0BEC5\",\"#B0BEC5\",\"#B0BEC5\"]]}],\"label\":\"Topic 0\",\"method\":\"update\"},{\"args\":[{\"marker.color\":[[\"#B0BEC5\",\"red\",\"#B0BEC5\",\"#B0BEC5\",\"#B0BEC5\"]]}],\"label\":\"Topic 1\",\"method\":\"update\"},{\"args\":[{\"marker.color\":[[\"#B0BEC5\",\"#B0BEC5\",\"red\",\"#B0BEC5\",\"#B0BEC5\"]]}],\"label\":\"Topic 2\",\"method\":\"update\"},{\"args\":[{\"marker.color\":[[\"#B0BEC5\",\"#B0BEC5\",\"#B0BEC5\",\"red\",\"#B0BEC5\"]]}],\"label\":\"Topic 3\",\"method\":\"update\"},{\"args\":[{\"marker.color\":[[\"#B0BEC5\",\"#B0BEC5\",\"#B0BEC5\",\"#B0BEC5\",\"red\"]]}],\"label\":\"Topic 4\",\"method\":\"update\"}]}],\"shapes\":[{\"line\":{\"color\":\"#CFD8DC\",\"width\":2},\"type\":\"line\",\"x0\":-15.129284024238586,\"x1\":-15.129284024238586,\"y0\":2.3369522213935854,\"y1\":5.072513747215271},{\"line\":{\"color\":\"#9E9E9E\",\"width\":2},\"type\":\"line\",\"x0\":-18.363294792175292,\"x1\":-11.89527325630188,\"y0\":3.704732984304428,\"y1\":3.704732984304428}],\"annotations\":[{\"showarrow\":false,\"text\":\"D1\",\"x\":-18.363294792175292,\"y\":3.704732984304428,\"yshift\":10},{\"showarrow\":false,\"text\":\"D2\",\"x\":-15.129284024238586,\"xshift\":10,\"y\":5.072513747215271}]},                        {\"responsive\": true}                    ).then(function(){\n",
       "                            \n",
       "var gd = document.getElementById('bc2e9cc6-a374-4bce-af4e-76ccaac87f6b');\n",
       "var x = new MutationObserver(function (mutations, observer) {{\n",
       "        var display = window.getComputedStyle(gd).display;\n",
       "        if (!display || display === 'none') {{\n",
       "            console.log([gd, 'removed!']);\n",
       "            Plotly.purge(gd);\n",
       "            observer.disconnect();\n",
       "        }}\n",
       "}});\n",
       "\n",
       "// Listen for the removal of the full notebook cells\n",
       "var notebookContainer = gd.closest('#notebook-container');\n",
       "if (notebookContainer) {{\n",
       "    x.observe(notebookContainer, {childList: true});\n",
       "}}\n",
       "\n",
       "// Listen for the clearing of the current output cell\n",
       "var outputEl = gd.closest('.output');\n",
       "if (outputEl) {{\n",
       "    x.observe(outputEl, {childList: true});\n",
       "}}\n",
       "\n",
       "                        })                };                });            </script>        </div>"
      ]
     },
     "metadata": {},
     "output_type": "display_data"
    }
   ],
   "source": [
    "topic_model.visualize_topics()"
   ]
  },
  {
   "cell_type": "code",
   "execution_count": 42,
   "id": "f810d97d-26c3-4b21-8f22-1ba0a6b1d8b4",
   "metadata": {},
   "outputs": [
    {
     "name": "stderr",
     "output_type": "stream",
     "text": [
      "2276it [02:12, 17.23it/s]\n"
     ]
    },
    {
     "data": {
      "application/vnd.plotly.v1+json": {
       "config": {
        "plotlyServerURL": "https://plot.ly"
       },
       "data": [
        {
         "hoverinfo": "text",
         "hovertext": [
          "<b>Topic 0</b><br>Words: γης, λαμπρότητα, μείωση, λαμπρότητας, ήλιου",
          "<b>Topic 0</b><br>Words: περιβαλλοντικό, σπίτι, αποτύπωμα, τρόπος, πλαστικό",
          "<b>Topic 0</b><br>Words: φωτεινότητα, 2017, παρατηρήθηκε, σιγά, κλιματική",
          "<b>Topic 0</b><br>Words: καταστροφών, διεθνής, δράσης, κοινωνιών, ανάληψη",
          "<b>Topic 0</b><br>Words: καταστροφών, διεθνής, ημέρα, δράσης, κοινωνιών",
          "<b>Topic 0</b><br>Words: καταστροφών, διεθνής, ημέρα, δράσης, κοινωνιών",
          "<b>Topic 0</b><br>Words: καταστροφών, διεθνής, κοινωνιών, ανάληψη, 2015",
          "<b>Topic 0</b><br>Words: αττικής, διαχείριση, περιφερειάρχης, περιφερειακή, αποτελέσει",
          "<b>Topic 0</b><br>Words: ευθύμιος, λέκκας, φαινόμενα, μπάλλος, κακοκαιρία",
          "<b>Topic 0</b><br>Words: φαινόμενα, ιθάκη, ευθύμιος, λέκκας, φάση",
          "<b>Topic 0</b><br>Words: eleftherostypos, ακολούθησε, ειδήσεις, φαινόμενα, κάνε",
          "<b>Topic 0</b><br>Words: φαινόμενα, ιθάκη, ευθύμιος, λέκκας, φάση",
          "<b>Topic 0</b><br>Words: φαινόμενα, ιθάκη, ευθύμιος, συχνότερα, λέκκας",
          "<b>Topic 0</b><br>Words: φαινόμενα, ιθάκη, ευθύμιος, λέκκας, φάση",
          "<b>Topic 0</b><br>Words: φαινόμενα, φανταζόμαστε, μπάλλος, καν, λέκκας",
          "<b>Topic 0</b><br>Words: φαινόμενα, ιθάκη, ευθύμιος, λέκκας, φάση",
          "<b>Topic 0</b><br>Words: φαινόμενα, ιθάκη, ευθύμιος, λέκκας, φάση",
          "<b>Topic 0</b><br>Words: φαινόμενα, ιθάκη, ευθύμιος, λέκκας, φάση",
          "<b>Topic 0</b><br>Words: φαινόμενα, λέκκας, καθηγητής, πρωτόγνωρα, έπεσαν",
          "<b>Topic 0</b><br>Words: φαινόμενα, ιθάκη, ευθύμιος, συχνότερα, λέκκας",
          "<b>Topic 0</b><br>Words: μπάλλος, λέκκας, κακοκαιρία, ευθύμιος, πέμπτη",
          "<b>Topic 0</b><br>Words: φαινόμενα, συχνότερα, φάση, ιθάκη, λέκκας",
          "<b>Topic 0</b><br>Words: φαινόμενα, ιθάκη, λέκκας, ευθύμιος, 2021",
          "<b>Topic 0</b><br>Words: κρίσεις, φαινόμενα, εκδηλώνονται, ακολουθεί, συχνότερα",
          "<b>Topic 0</b><br>Words: αττική, φαινόμενα, μπάλλος, κακοκαιρία, λέκκας",
          "<b>Topic 0</b><br>Words: φαινόμενα, ιθάκη, συχνότερα, λέκκας, φάση",
          "<b>Topic 0</b><br>Words: φαινόμενα, ιθάκη, ευθύμιος, λέκκας, συχνότερα",
          "<b>Topic 0</b><br>Words: sputniknews, νερού, gr, χθες, κηφισού",
          "<b>Topic 0</b><br>Words: φαινόμενα, πρωτόγνωρα, συχνότερα, φάση, ποιος",
          "<b>Topic 0</b><br>Words: φαινόμενα, ιθάκη, ευθύμιος, συχνότερα, λέκκας",
          "<b>Topic 0</b><br>Words: φαινόμενα, συχνότερα, κρίσεις, καθως, ευθύμιο",
          "<b>Topic 0</b><br>Words: φαινόμενα, καθηγητής, πρωτόγνωρα, ιθάκη, ευθύμιος",
          "<b>Topic 0</b><br>Words: φαινόμενα, ιθάκη, ευθύμιος, συχνότερα, λέκκας",
          "<b>Topic 0</b><br>Words: in, φαινόμενα, μπάλλος, κακοκαιρία, καθηγητής",
          "<b>Topic 0</b><br>Words: φαινόμενα, ιθάκη, ευθύμιος, λέκκας, φάση",
          "<b>Topic 0</b><br>Words: φαινόμενα, είπε, αττική, συχνότερα, λέκκας",
          "<b>Topic 0</b><br>Words: λέκκας, φάση, φαινόμενα, έπεσαν, ιθάκη",
          "<b>Topic 0</b><br>Words: παραλιακή, κηφισός, φαινόμενα, άνοιξε, μπάλλος",
          "<b>Topic 0</b><br>Words: χιλιοστά, 147, πατησίων, στρέμμα, φαινόμενα",
          "<b>Topic 0</b><br>Words: φαινόμενα, ιθάκη, ευθύμιος, λέκκας, συχνότερα",
          "<b>Topic 0</b><br>Words: φαινόμενα, είπε, αττική, συχνότερα, λέκκας",
          "<b>Topic 0</b><br>Words: κακοκαιρία, μπάλλος, παρασκευή, λέκκας, οκτωβρίου",
          "<b>Topic 0</b><br>Words: φάση, φαινόμενα, ιθάκη, συχνότερα, λέκκας",
          "<b>Topic 0</b><br>Words: λέκκας, φαινόμενα, μπάλλος, κακοκαιρία, ιθάκη",
          "<b>Topic 0</b><br>Words: δικαιούται, ζητάει, ξεχάσουμε, χαμοστέρνας, φρεάτια",
          "<b>Topic 0</b><br>Words: φαινόμενα, ιθάκη, ευθύμιος, συχνότερα, λέκκας",
          "<b>Topic 0</b><br>Words: λέκκας, φαινόμενα, ιθάκη, ευθύμιος, αττική",
          "<b>Topic 0</b><br>Words: χιλιοστά, νερού, φαινόμενα, κλιματική, αυτόματων",
          "<b>Topic 0</b><br>Words: photo, intime, πηγή, τεράστια, προβλήαμτα",
          "<b>Topic 0</b><br>Words: απαραίτητα, νεροποντή, πλημμύρες, κεφάλι, απο",
          "<b>Topic 0</b><br>Words: φαινόμενα, λέκκας, πλημμυρικά, καταστροφών, υπάρχει",
          "<b>Topic 0</b><br>Words: φαινόμενα, λέκκας, πλημμυρικά, καταστροφών, υπάρχει",
          "<b>Topic 0</b><br>Words: φαινόμενα, λέκκας, πλημμυρικά, καταστροφών, υπάρχει",
          "<b>Topic 0</b><br>Words: φαινόμενα, λέκκας, πλημμυρικά, καταστροφών, υπάρχει",
          "<b>Topic 0</b><br>Words: φαινόμενα, λέκκας, πλημμυρικά, καταστροφών, υπάρχει",
          "<b>Topic 0</b><br>Words: φαινόμενα, λέκκας, πλημμυρικά, καταστροφών, υπάρχει",
          "<b>Topic 0</b><br>Words: φαινόμενα, λέκκας, πλημμυρικά, καταστροφών, υπάρχει",
          "<b>Topic 0</b><br>Words: λέκκας, φαινόμενα, πλημμυρικά, καταστροφών, υπάρχει",
          "<b>Topic 0</b><br>Words: φαινόμενα, πλημμυρικά, λέκκας, εύβοια, έπρεπε",
          "<b>Topic 0</b><br>Words: φαινόμενα, λέκκας, πλημμυρικά, καταστροφών, υπάρχει",
          "<b>Topic 0</b><br>Words: φαινόμενα, λέκκας, πλημμυρικά, καταστροφών, υπάρχει",
          "<b>Topic 0</b><br>Words: φαινόμενα, λέκκας, πλημμυρικά, καταστροφών, υπάρχει",
          "<b>Topic 0</b><br>Words: φαινόμενα, λέκκας, πλημμυρικά, κανονικότητα, νέα",
          "<b>Topic 0</b><br>Words: φαινόμενα, λέκκας, πλημμυρικά, νέα, κανονικότητα",
          "<b>Topic 0</b><br>Words: φαινόμενα, λέκκας, πλημμυρικά, καταστροφών, υπάρχει",
          "<b>Topic 0</b><br>Words: λέκκας, φαινόμενα, οασπ, πλημμυρικά, καταστροφών",
          "<b>Topic 0</b><br>Words: φαινόμενα, λέκκας, πλημμυρικά, κανονικότητα, νέα",
          "<b>Topic 0</b><br>Words: φαινόμενα, λέκκας, πλημμυρικά, καταστροφών, υπάρχει",
          "<b>Topic 0</b><br>Words: φαινόμενα, πλημμυρικά, καταστροφών, υπάρχει, νέα",
          "<b>Topic 0</b><br>Words: φαινόμενα, λέκκας, πλημμυρικά, καταστροφών, υπάρχει",
          "<b>Topic 0</b><br>Words: φαινόμενα, λέκκας, πλημμυρικά, καταστροφών, υπάρχει",
          "<b>Topic 0</b><br>Words: λέκκας, φαινόμενα, πλημμυρικά, καταστροφών, υπάρχει",
          "<b>Topic 0</b><br>Words: λέκκας, φαινόμενα, οασπ, πλημμυρικά, εύβοια",
          "<b>Topic 0</b><br>Words: φαινόμενα, sputniknews, λέκκας, καιρικά, gr",
          "<b>Topic 0</b><br>Words: φαινόμενα, eleftherostypos, λέκκας, πλημμυρικά, ειδήσεις",
          "<b>Topic 0</b><br>Words: φαινόμενα, λέκκας, πλημμυρικά, καταστροφών, υπάρχει",
          "<b>Topic 0</b><br>Words: φαινόμενα, πλημμυρικά, υπάρχει, χρόνια, λέκκας",
          "<b>Topic 0</b><br>Words: φαινόμενα, λέκκας, πλημμυρικά, καταστροφών, υπάρχει",
          "<b>Topic 0</b><br>Words: φαινόμενα, λέκκας, πλημμυρικά, καταστροφών, υπάρχει",
          "<b>Topic 0</b><br>Words: λέκκας, φαινόμενα, κανονικότητα, νέα, ευθ",
          "<b>Topic 0</b><br>Words: φαινόμενα, λέκκας, πλημμυρικά, καταστροφών, υπάρχει",
          "<b>Topic 0</b><br>Words: φαινόμενα, λέκκας, πλημμυρικά, νέα, χρόνια",
          "<b>Topic 0</b><br>Words: λέκκας, φαινόμενα, πλημμυρικά, καταστροφών, υπάρχει",
          "<b>Topic 0</b><br>Words: φαινόμενα, λέκκας, πλημμυρικά, καταστροφών, υπάρχει",
          "<b>Topic 0</b><br>Words: λέκκας, πλημμυρικά, φαινόμενα, καταστροφών, υπάρχει",
          "<b>Topic 0</b><br>Words: φαινόμενα, λέκκας, πλημμυρικά, καταστροφών, υπάρχει",
          "<b>Topic 0</b><br>Words: πλημμυρικά, φαινόμενα, λέκκας, νέα, κανονικότητα",
          "<b>Topic 0</b><br>Words: φαινόμενα, λέκκας, πλημμυρικά, κανονικότητα, νέα",
          "<b>Topic 0</b><br>Words: φαινόμενα, πλημμυρικά, καταστροφών, υπάρχει, χρόνια",
          "<b>Topic 0</b><br>Words: φαινόμενα, λέκκας, πλημμυρικά, καταστροφών, υπάρχει",
          "<b>Topic 0</b><br>Words: πλημμυρικά, φαινόμενα, λέκκας, νέα, κανονικότητα",
          "<b>Topic 0</b><br>Words: φαινόμενα, λέκκας, πλημμυρικά, καταστροφών, υπάρχει",
          "<b>Topic 0</b><br>Words: λέκκας, φαινόμενα, πλημμυρικά, καταστροφών, υπάρχει",
          "<b>Topic 0</b><br>Words: λέκκας, φαινόμενα, πλημμυρικά, καταστροφών, υπάρχει",
          "<b>Topic 0</b><br>Words: φαινόμενα, λέκκας, πλημμυρικά, καταστροφών, υπάρχει",
          "<b>Topic 0</b><br>Words: φαινόμενα, λέκκας, πλημμυρικά, εύβοια, καταστροφών",
          "<b>Topic 0</b><br>Words: φαινόμενα, λέκκας, πλημμυρικά, καταστροφών, υπάρχει",
          "<b>Topic 0</b><br>Words: κατέρρευσε, αποκλεισμένα, φαινόμενα, χωριά, λέκκας",
          "<b>Topic 0</b><br>Words: φαινόμενα, λέκκας, πλημμυρικά, καταστροφών, υπάρχει",
          "<b>Topic 0</b><br>Words: κέρκυρα, αναμένεται, έπεσε, κακοκαιρίες, φοβερών",
          "<b>Topic 0</b><br>Words: δείξουμε, περιουσίες, βεβαίως, σεβασμό, συμφέροντα",
          "<b>Topic 0</b><br>Words: καταστροφές, φαινόμενα, κρίσεις, κινδύνους, επίπεδο",
          "<b>Topic 0</b><br>Words: βενετία, τέσεριν, εκατοστά, εκατοστών, φορές",
          "<b>Topic 0</b><br>Words: βενετία, τέσεριν, εκατοστά, εκατοστών, φορές",
          "<b>Topic 0</b><br>Words: τέσεριν, βενετία, εκατοστά, εκατοστών, αγίου",
          "<b>Topic 0</b><br>Words: κυβέρνηση, δίνει, κωμικού, φτιάχνω, περήφανοι",
          "<b>Topic 0</b><br>Words: κάσας, σαμόρα, δημοκρατίες, πολιτική, δήλωσε",
          "<b>Topic 0</b><br>Words: κάσας, δημοκρατίες, σαμόρα, κλιματική, πολιτική",
          "<b>Topic 0</b><br>Words: ceo, εταιρεία, αρνητών, koch, δολάρια",
          "<b>Topic 0</b><br>Words: βημα, κυκλοφορείακολουθήστε, επιστήμονες, ώτα, σχολιαστής",
          "<b>Topic 0</b><br>Words: φαινόμενα, περιοχή, ουσιαστικά, κλιματική, μαγνησία",
          "<b>Topic 0</b><br>Words: κλιματική, κρίση, πρωταγωνιστής, ορυκτού, τολμηρές",
          "<b>Topic 0</b><br>Words: εκπομπές, κλιματική, παρισιού, απουσία, γλασκώβη",
          "<b>Topic 0</b><br>Words: χρόνια, γη, κλιματική, περισσότερα, πατρίς",
          "<b>Topic 0</b><br>Words: κλιματική, vote, peoples, εχουν, χώρες",
          "<b>Topic 0</b><br>Words: facebook, παραπληροφόρηση, ιστότοπος, αναρτήσεις, σχετικά",
          "<b>Topic 0</b><br>Words: χρόνια, παραλία, περιοχές, χαλκιδική, στουρνάρας",
          "<b>Topic 0</b><br>Words: τεχνολογιών, οικοσυστημάτων, κλιματική, κοινωνίας, αλλαγή",
          "<b>Topic 0</b><br>Words: βενετίας, σύστημα, πλημμύρες, ιστορικό, κέντρο",
          "<b>Topic 0</b><br>Words: αποφάσεων, ώρα, cbs, παραθέτοντας, δένδιας",
          "<b>Topic 0</b><br>Words: αποφάσεων, ώρα, εικόνες, μοντέλο, συνεργασίας",
          "<b>Topic 0</b><br>Words: μπορούμε, φαινόμενα, καταστροφών, νέα, κλιματική",
          "<b>Topic 0</b><br>Words: εκκλησία, κατεύθυνση, ήθος, σεβασμός, ορθόδοξη",
          "<b>Topic 0</b><br>Words: εκκλησία, κατεύθυνση, ήθος, δημητριάδος, σεβασμός",
          "<b>Topic 0</b><br>Words: εκκλησία, κατεύθυνση, ήθος, σεβασμός, ορθόδοξη",
          "<b>Topic 0</b><br>Words: εκκλησία, κατεύθυνση, ήθος, σεβασμός, ορθόδοξη",
          "<b>Topic 0</b><br>Words: εκκλησία, κατεύθυνση, ήθος, σεβασμός, ορθόδοξη",
          "<b>Topic 0</b><br>Words: νερό, νερού, σφουγγάρι, κλιματική, πόλεις",
          "<b>Topic 0</b><br>Words: νερό, νερού, κίνα, σφουγγάρι, πόλεις",
          "<b>Topic 0</b><br>Words: ταϊμίρ, ελάφια, κλιματική, κυνήγι, παραδοσιακό",
          "<b>Topic 0</b><br>Words: επιφυλακή, ενδεχόμενων, αντιμετωπίζονται, εγρήγορση, διαρκή",
          "<b>Topic 0</b><br>Words: κλιματική, media, αλλαγή, δημοσιογραφία, μμε",
          "<b>Topic 0</b><br>Words: πολιτιστικής, κληρονομιάς, τοπίο, forum, χώρους",
          "<b>Topic 0</b><br>Words: κυβερνήσεις, αλλαγές, υγεία, κατευθύνσεις, περιβάλλον",
          "<b>Topic 0</b><br>Words: αποκάλυψης, παγετώνας, κλιματική, φαινόμενα, αλλαγή",
          "<b>Topic 0</b><br>Words: αποκάλυψης, παγετώνας, κλιματική, φαινόμενα, αλλαγή",
          "<b>Topic 0</b><br>Words: αποκάλυψης, παγετώνας, κλιματική, φαινόμενα, αλλαγή",
          "<b>Topic 0</b><br>Words: αποκάλυψης, παγετώνας, κλιματική, φαινόμενα, αλλαγή",
          "<b>Topic 0</b><br>Words: φράγμα, θουέιτς, ppm, κρίση, look",
          "<b>Topic 0</b><br>Words: ιστορίες, κλιματική, ήρωες, ηρωίδες, κρίση",
          "<b>Topic 0</b><br>Words: κλιματική, φαινόμενα, κρίση, χρόνια, αλλαγή",
          "<b>Topic 0</b><br>Words: σχολεία, σμύρνης, εκπαίδευση, κυρίαρχο, πόσα",
          "<b>Topic 0</b><br>Words: επιπτώσεις, βαθμό, έκθεση, θερμοκρασίας, άνοδος",
          "<b>Topic 0</b><br>Words: νερό, pepteam, letssolvewater, σκουπίδια, and",
          "<b>Topic 0</b><br>Words: barrau, συλλογή, κόσμο, αψίδα, γάλλο",
          "<b>Topic 0</b><br>Words: βιωσιμότητας, δεη, αναφέρθηκε, επεσήμανε, τομέα",
          "<b>Topic 0</b><br>Words: τυφώνες, αλλαγή, επιστήμονες, κλιματική, ριντ",
          "<b>Topic 0</b><br>Words: αντιπυρικής, υπάρχει, πελοποννήσου, κλιματική, περιόδου",
          "<b>Topic 0</b><br>Words: time, εξώφυλλο, cover, πολυεθνικών, περιοδικού",
          "<b>Topic 0</b><br>Words: twitter, γης, ημέρας, θαλάσσια, εταιρεία",
          "<b>Topic 0</b><br>Words: bruce, 22, ανάρτηση, αυτοπυρπολήθηκε, θάνατό",
          "<b>Topic 0</b><br>Words: φαινόμενα, θεσσαλία, θεσσαλίας, φαινομένων, χώρο",
          "<b>Topic 0</b><br>Words: χωρών, ληφθεί, χώρας, κίνδυνοι, υποδομών",
          "<b>Topic 0</b><br>Words: γκρέτα, τούνμπεργκ, κλιματική, κίνημα, μέλλον",
          "<b>Topic 0</b><br>Words: κιότο, άνθησης, σακούρα, κερασιών, αποκορύφωμα",
          "<b>Topic 0</b><br>Words: ανθοφορίας, φυτά, κερασιάς, έντομα, κερασιές",
          "<b>Topic 0</b><br>Words: sakura, άνθηση, κερασιών, πρόωρη, κιότο",
          "<b>Topic 0</b><br>Words: ανθοφορίας, φυτά, κερασιάς, έντομα, κερασιές",
          "<b>Topic 0</b><br>Words: αυστραλία, tvxs, πλημμύρες, sam, μπρίσμπεϊν",
          "<b>Topic 0</b><br>Words: μπαράου, φαμπιέν, έργα, αλήθεια, δείτε",
          "<b>Topic 0</b><br>Words: hsbc, κερκ, πλανήτη, επιπτώσεις, χέιχοου",
          "<b>Topic 0</b><br>Words: 06, 01, 2022, 14, 15",
          "<b>Topic 0</b><br>Words: hsbc, κερκ, πλανήτη, επιπτώσεις, guardian",
          "<b>Topic 0</b><br>Words: hsbc, κερκ, πλανήτη, επιπτώσεις, guardian",
          "<b>Topic 0</b><br>Words: hsbc, κερκ, πλανήτη, επιπτώσεις, χέιχοου",
          "<b>Topic 0</b><br>Words: hsbc, χέιχοου, κερκ, πλανήτη, επιπτώσεις",
          "<b>Topic 0</b><br>Words: hsbc, κερκ, πλανήτη, επιπτώσεις, κλιματική",
          "<b>Topic 0</b><br>Words: hsbc, κερκ, πλανήτη, επιπτώσεις, χέιχοου",
          "<b>Topic 0</b><br>Words: hsbc, κερκ, πλανήτη, επιπτώσεις, guardian",
          "<b>Topic 0</b><br>Words: κρίση, κλιματική, γη, υπάρχει, πανδημία",
          "<b>Topic 0</b><br>Words: γη, πλανήτη, φαινόμενα, περιοχές, οηε",
          "<b>Topic 0</b><br>Words: κυβερνήσεις, αξιωματούχοι, γράφουν, κλιματική, κλίμα",
          "<b>Topic 0</b><br>Words: γη, πλανήτη, κλιματική, φαινόμενα, δραστηριότητα",
          "<b>Topic 0</b><br>Words: film, κλιματική, κρίση, evia, παραγωγές",
          "<b>Topic 0</b><br>Words: γη, πλανήτη, περιοχές, φαινόμενα, οηε",
          "<b>Topic 0</b><br>Words: κρίσεων, κινδύνων, διεργασίες, καταστροφών, σταδίου",
          "<b>Topic 0</b><br>Words: φαινόμενα, κλιματική, χρόνια, ανθής, ανεφάρμοστο",
          "<b>Topic 0</b><br>Words: πολίτη, τροφοδότηση, συμβάλλουν, σήμερα, κρίσης",
          "<b>Topic 0</b><br>Words: κρίσεων, κινδύνων, διεργασίες, καταστροφών, σταδίου",
          "<b>Topic 0</b><br>Words: κομοτηνής, πρωί, συνεργεία, δήμου, βρέθηκε",
          "<b>Topic 0</b><br>Words: αλλαγές, μελέτη, σχετικά, διαπίστωσε, κλιματική",
          "<b>Topic 0</b><br>Words: πλεονέκτημα, ενέργειας, επιστροφή, προόρασης, γούνας",
          "<b>Topic 0</b><br>Words: λίμνη, ανάπτυξη, δτβμ, περιοχή, σενάριο",
          "<b>Topic 0</b><br>Words: 07, 09, συνεταιρισμοί, 2022, κρίση",
          "<b>Topic 0</b><br>Words: megafires, πυρκαγιών, καίγονται, πράγμα, λάθος",
          "<b>Topic 0</b><br>Words: κρυφής, ενστάλαξη, ταράξει, κάμερας, veritas",
          "<b>Topic 0</b><br>Words: τροπικές, λαγουβάρδος, αστικά, διαρκείας, υπογράμμισε",
          "<b>Topic 0</b><br>Words: διαρκείας, τροπικές, βαθμούς, καύσωνα, ερτ",
          "<b>Topic 0</b><br>Words: γεωλόγος, λειτουργήσουν, κλιματική, αεροπλάνα, καύσωνα",
          "<b>Topic 0</b><br>Words: τατόι, ευθύνης, ξερά, ηλεία, πεντέλη",
          "<b>Topic 0</b><br>Words: υπάρχει, ανθρωπότητα, μετοίκηση, ένεκα, κριμιζής",
          "<b>Topic 0</b><br>Words: κριμιζής, υπάρχει, ανθρωπότητα, μετοίκηση, ένεκα",
          "<b>Topic 0</b><br>Words: λάβλοκ, θεωρίας, τζέιμς, θεμελιωτής, γαίας",
          "<b>Topic 0</b><br>Words: λάβλοκ, τζέιμς, εποχή, θεμελιωτής, πλανήτη",
          "<b>Topic 0</b><br>Words: λάβλοκ, εποχή, πλανήτη, afp, γαίας",
          "<b>Topic 0</b><br>Words: λάβλοκ, γαίας, θεωρίας, τζέιμς, εποχή",
          "<b>Topic 0</b><br>Words: λάβλοκ, γαίας, θεωρίας, θεμελιωτής, τζέιμς",
          "<b>Topic 0</b><br>Words: λάβλοκ, γαίας, θεωρίας, τζέιμς, εποχή",
          "<b>Topic 0</b><br>Words: λάβλοκ, γαίας, θεωρίας, τζέιμς, εποχή",
          "<b>Topic 0</b><br>Words: λάβλοκ, τζέιμς, γαίας, θεωρίας, οικογένειά",
          "<b>Topic 0</b><br>Words: λάβλοκ, γαίας, θεωρίας, τζέιμς, εποχή",
          "<b>Topic 0</b><br>Words: λάβλοκ, γαίας, θεωρίας, τζέιμς, εποχή",
          "<b>Topic 0</b><br>Words: λάβλοκ, γαίας, θεωρίας, τζέιμς, εποχή",
          "<b>Topic 0</b><br>Words: λάβλοκ, γαίας, θεωρίας, τζέιμς, εποχή",
          "<b>Topic 0</b><br>Words: λάβλοκ, γαίας, θεωρίας, τζέιμς, κλιματική",
          "<b>Topic 0</b><br>Words: λάβλοκ, γαίας, θεωρίας, τζέιμς, εποχή",
          "<b>Topic 0</b><br>Words: λάβλοκ, εποχή, πλανήτη, afp, γαίας",
          "<b>Topic 0</b><br>Words: λάβλοκ, γαίας, θεωρίας, τζέιμς, εποχή",
          "<b>Topic 0</b><br>Words: λάβλοκ, γαίας, θεωρίας, τζέιμς, εποχή",
          "<b>Topic 0</b><br>Words: λάβλοκ, γαίας, θεωρίας, τζέιμς, εποχή",
          "<b>Topic 0</b><br>Words: λάβλοκ, γαίας, θεωρίας, τζέιμς, εποχή",
          "<b>Topic 0</b><br>Words: λάβλοκ, γαίας, θεωρίας, τζέιμς, εποχή",
          "<b>Topic 0</b><br>Words: λάβλοκ, γαίας, τζέιμς, θεωρίας, επιστήμονας",
          "<b>Topic 0</b><br>Words: λάβλοκ, γαίας, θεωρίας, τζέιμς, εποχή",
          "<b>Topic 0</b><br>Words: λάβλοκ, γαίας, θεωρίας, τζέιμς, εποχή",
          "<b>Topic 0</b><br>Words: λάβλοκ, γαίας, θεωρίας, τζέιμς, εποχή",
          "<b>Topic 0</b><br>Words: λάβλοκ, γαίας, θεωρίας, τζέιμς, εποχή",
          "<b>Topic 0</b><br>Words: τετάρτη, 27, ιουλίου, λάβλοκ, 2022",
          "<b>Topic 0</b><br>Words: λάβλοκ, τζέιμς, γαίας, θεωρίας, πλανήτη",
          "<b>Topic 0</b><br>Words: λάβλοκ, γαίας, afp, θεωρίας, τζέιμς",
          "<b>Topic 0</b><br>Words: lovelock, james, οικογένειά, γαίας, θεωρίας",
          "<b>Topic 0</b><br>Words: λάβλοκ, γαίας, θεωρίας, τζέιμς, εποχή",
          "<b>Topic 0</b><br>Words: λάβλοκ, γαίας, θεωρίας, τζέιμς, εποχή",
          "<b>Topic 0</b><br>Words: υπέρβασης, eod, πόρων, γης, ημέρα",
          "<b>Topic 0</b><br>Words: μύθος, κλιματική, καταστροφών, καμένα, κρίσης",
          "<b>Topic 0</b><br>Words: μύθος, κλιματική, καταστροφών, καμένα, κρίσης",
          "<b>Topic 0</b><br>Words: κεμπ, πιθανότητα, επιστήμονες, σενάρια, μελέτη",
          "<b>Topic 0</b><br>Words: πλανήτη, αλλάξουμε, πιστέψτε, κλιματική, θέλεις",
          "<b>Topic 0</b><br>Words: χρειαστεί, εκατομμύρια, μετανάστευση, πρόσφυγες, κλιματική",
          "<b>Topic 0</b><br>Words: στρέμματα, effis, κλιματική, αλλαγή, φαινόμενα",
          "<b>Topic 0</b><br>Words: καντάνου, εκδήλωση, περιβαλλοντολόγος, ανάπτυξης, κυκλικής",
          "<b>Topic 0</b><br>Words: υπήρχαν, κλιματική, αλλαγή, ξέρω, δασοπυρκαγιές",
          "<b>Topic 0</b><br>Words: κεφάλι, μάσκες, αντίθετα, ανθρώπινο, δυστυχώς",
          "<b>Topic 0</b><br>Words: πλανήτη, ταινίες, κλιματική, μακκόναχι, geostorm",
          "<b>Topic 0</b><br>Words: πακιστάν, πλημμύρες, ζωή, μουσώνων, ζημιές",
          "<b>Topic 0</b><br>Words: πακιστάν, πλημμύρες, οικονομική, πλανήτη, κλιματική",
          "<b>Topic 0</b><br>Words: καλοκαίρι, ξηρασία, φαινόμενα, άκρη, προβλεφθεί",
          "<b>Topic 0</b><br>Words: πακιστάν, περιοχές, χώρα, κλιματική, νερά",
          "<b>Topic 0</b><br>Words: πακιστάν, περιοχές, χώρα, νερά, κλιματική",
          "<b>Topic 0</b><br>Words: καταυλισμούς, skai, συνθήκες, ειδήσεις, ανθρωπιστική",
          "<b>Topic 0</b><br>Words: χρώμα, wonder, wild, dulux, μάρκα",
          "<b>Topic 0</b><br>Words: τζολί, πακιστάν, πλημμύρες, επισκέφθηκε, αντζελίνα",
          "<b>Topic 0</b><br>Words: κλιματική, ρίο, αλλαγή, φαινόμενα, γίνει",
          "<b>Topic 0</b><br>Words: ημερίδα, κρίση, κλιματική, επιστημονική, φύση",
          "<b>Topic 0</b><br>Words: ημερίδα, κρίση, κλιματική, επιστημονική, πολύπλευρη",
          "<b>Topic 0</b><br>Words: χώρες, κλιματική, ζημιές, δικαιοσύνης, ανάγκη",
          "<b>Topic 0</b><br>Words: φαινόμενα, κλιματική, nino, κλίμα, αλλαγή"
         ],
         "marker": {
          "color": "#E69F00"
         },
         "mode": "lines",
         "name": "0_φαινόμενα_κλιματική_λέκκας_αλλαγή",
         "type": "scatter",
         "x": [
          "2021-10-03T20:32:40",
          "2021-10-04T03:00:19",
          "2021-10-05T08:55:50",
          "2021-10-13T10:19:32",
          "2021-10-13T10:28:00",
          "2021-10-13T10:31:10",
          "2021-10-13T10:32:36",
          "2021-10-13T13:42:00",
          "2021-10-15T05:34:18",
          "2021-10-15T05:35:53",
          "2021-10-15T05:41:45",
          "2021-10-15T05:42:25",
          "2021-10-15T05:43:00",
          "2021-10-15T05:43:59",
          "2021-10-15T05:45:31",
          "2021-10-15T05:48:00",
          "2021-10-15T05:48:41",
          "2021-10-15T05:50:18",
          "2021-10-15T05:53:04",
          "2021-10-15T05:53:45",
          "2021-10-15T05:53:58",
          "2021-10-15T05:54:49",
          "2021-10-15T05:55:22",
          "2021-10-15T05:58:55",
          "2021-10-15T06:00:33",
          "2021-10-15T06:06:00",
          "2021-10-15T06:08:09",
          "2021-10-15T06:10:55",
          "2021-10-15T06:18:00",
          "2021-10-15T06:20:02",
          "2021-10-15T06:28:00",
          "2021-10-15T06:39:10",
          "2021-10-15T06:47:44",
          "2021-10-15T06:47:46",
          "2021-10-15T06:53:00",
          "2021-10-15T06:55:18",
          "2021-10-15T07:15:00",
          "2021-10-15T07:21:05",
          "2021-10-15T07:30:00",
          "2021-10-15T07:48:11",
          "2021-10-15T08:24:47",
          "2021-10-15T08:45:00",
          "2021-10-15T09:18:00",
          "2021-10-15T09:25:00",
          "2021-10-15T09:54:08",
          "2021-10-15T10:12:00",
          "2021-10-15T15:06:39",
          "2021-10-16T03:00:00",
          "2021-10-16T03:00:33",
          "2021-10-16T04:50:05",
          "2021-10-16T11:23:00",
          "2021-10-16T11:28:56",
          "2021-10-16T11:48:33",
          "2021-10-16T12:03:27",
          "2021-10-16T12:14:47",
          "2021-10-16T12:16:10",
          "2021-10-16T12:16:59",
          "2021-10-16T12:21:27",
          "2021-10-16T12:21:43",
          "2021-10-16T12:32:00",
          "2021-10-16T12:35:18",
          "2021-10-16T12:45:00",
          "2021-10-16T12:51:50",
          "2021-10-16T13:04:32",
          "2021-10-16T13:08:26",
          "2021-10-16T13:41:53",
          "2021-10-16T13:42:00",
          "2021-10-16T13:42:58",
          "2021-10-16T13:43:29",
          "2021-10-16T13:53:03",
          "2021-10-16T13:53:44",
          "2021-10-16T13:53:55",
          "2021-10-16T14:02:39",
          "2021-10-16T14:07:15",
          "2021-10-16T14:14:17",
          "2021-10-16T14:14:29",
          "2021-10-16T14:17:31",
          "2021-10-16T14:19:00",
          "2021-10-16T14:22:33",
          "2021-10-16T14:30:00",
          "2021-10-16T14:33:00",
          "2021-10-16T14:36:49",
          "2021-10-16T15:02:41",
          "2021-10-16T15:10:03",
          "2021-10-16T15:15:00",
          "2021-10-16T15:15:40",
          "2021-10-16T15:35:54",
          "2021-10-16T16:03:00",
          "2021-10-16T16:04:51",
          "2021-10-16T16:10:00",
          "2021-10-16T16:20:56",
          "2021-10-16T16:21:59",
          "2021-10-16T16:30:00",
          "2021-10-16T17:05:36",
          "2021-10-16T17:15:00",
          "2021-10-16T18:05:18",
          "2021-10-16T19:07:00",
          "2021-10-16T20:04:14",
          "2021-10-16T21:25:48",
          "2021-10-18T07:05:18",
          "2021-10-19T17:30:13",
          "2021-10-20T05:00:44",
          "2021-10-21T17:00:41",
          "2021-10-21T17:05:12",
          "2021-10-21T21:41:00",
          "2021-10-22T06:44:36",
          "2021-10-27T10:24:38",
          "2021-10-27T10:29:24",
          "2021-10-27T19:29:39",
          "2021-10-31T07:00:18",
          "2021-10-31T09:40:08",
          "2021-10-31T20:56:00",
          "2021-11-01T04:00:58",
          "2021-11-01T04:10:15",
          "2021-11-01T06:00:54",
          "2021-11-02T16:33:29",
          "2021-11-05T07:54:49",
          "2021-11-07T05:47:27",
          "2021-11-08T13:26:00",
          "2021-11-13T11:30:00",
          "2021-11-13T11:59:02",
          "2021-11-14T06:40:32",
          "2021-11-18T08:17:48",
          "2021-11-18T10:14:08",
          "2021-11-18T10:39:13",
          "2021-11-18T11:33:17",
          "2021-11-18T11:40:34",
          "2021-11-20T14:00:00",
          "2021-11-20T19:00:17",
          "2021-12-09T13:26:55",
          "2021-12-17T19:00:00",
          "2021-12-18T11:20:09",
          "2021-12-20T04:20:39",
          "2021-12-30T06:10:00",
          "2022-01-08T16:45:00",
          "2022-01-08T17:12:46",
          "2022-01-08T19:16:01",
          "2022-01-09T09:47:09",
          "2022-01-22T08:09:00",
          "2022-01-27T12:40:38",
          "2022-02-06T04:54:57",
          "2022-03-05T10:05:40",
          "2022-03-10T17:07:00",
          "2022-03-16T13:32:00",
          "2022-04-06T15:20:25",
          "2022-04-06T19:06:38",
          "2022-04-13T05:55:10",
          "2022-04-13T10:51:54",
          "2022-04-18T05:30:00",
          "2022-04-24T13:08:41",
          "2022-04-25T09:53:45",
          "2022-04-28T08:45:00",
          "2022-04-29T10:00:31",
          "2022-04-30T20:30:00",
          "2022-05-20T19:00:00",
          "2022-05-20T19:43:00",
          "2022-05-20T22:10:54",
          "2022-05-21T10:32:23",
          "2022-05-28T08:07:00",
          "2022-05-30T05:32:41",
          "2022-05-31T14:00:00",
          "2022-06-01T10:45:00",
          "2022-06-01T13:00:04",
          "2022-06-01T13:05:57",
          "2022-06-01T13:15:11",
          "2022-06-01T13:57:00",
          "2022-06-01T14:55:57",
          "2022-06-01T18:15:00",
          "2022-06-01T20:35:40",
          "2022-06-03T08:58:08",
          "2022-06-04T21:01:44",
          "2022-06-05T04:33:06",
          "2022-06-05T04:42:09",
          "2022-06-05T07:37:02",
          "2022-06-05T07:53:00",
          "2022-06-05T12:15:00",
          "2022-06-06T04:00:00",
          "2022-06-07T04:38:52",
          "2022-06-09T07:30:00",
          "2022-06-11T13:30:33",
          "2022-06-28T06:07:44",
          "2022-07-03T21:00:05",
          "2022-07-05T13:30:00",
          "2022-07-09T11:47:00",
          "2022-07-20T10:59:53",
          "2022-07-21T10:15:00",
          "2022-07-22T09:17:17",
          "2022-07-22T09:42:14",
          "2022-07-23T10:10:16",
          "2022-07-24T09:45:56",
          "2022-07-26T11:18:51",
          "2022-07-26T15:39:08",
          "2022-07-27T16:50:45",
          "2022-07-27T17:32:00",
          "2022-07-27T17:33:35",
          "2022-07-27T17:38:42",
          "2022-07-27T17:41:42",
          "2022-07-27T17:43:56",
          "2022-07-27T17:46:15",
          "2022-07-27T17:50:00",
          "2022-07-27T17:53:57",
          "2022-07-27T17:54:00",
          "2022-07-27T17:56:40",
          "2022-07-27T18:05:45",
          "2022-07-27T18:10:11",
          "2022-07-27T18:11:06",
          "2022-07-27T18:15:00",
          "2022-07-27T18:26:00",
          "2022-07-27T18:30:01",
          "2022-07-27T18:32:22",
          "2022-07-27T18:35:51",
          "2022-07-27T18:46:39",
          "2022-07-27T18:48:03",
          "2022-07-27T18:54:26",
          "2022-07-27T19:06:00",
          "2022-07-27T19:22:00",
          "2022-07-27T19:49:38",
          "2022-07-27T20:00:00",
          "2022-07-27T20:10:00",
          "2022-07-27T20:36:00",
          "2022-07-27T20:45:00",
          "2022-07-27T21:45:00",
          "2022-07-28T09:30:00",
          "2022-07-28T09:35:18",
          "2022-08-01T06:45:00",
          "2022-08-01T16:56:59",
          "2022-08-03T02:50:21",
          "2022-08-09T15:40:18",
          "2022-08-19T04:50:00",
          "2022-08-19T10:49:50",
          "2022-08-20T08:38:34",
          "2022-08-21T07:00:02",
          "2022-08-26T18:20:05",
          "2022-08-29T12:26:16",
          "2022-08-30T18:40:05",
          "2022-08-31T15:30:00",
          "2022-09-02T11:42:28",
          "2022-09-05T08:29:24",
          "2022-09-05T23:00:00",
          "2022-09-08T09:14:48",
          "2022-09-20T08:31:40",
          "2022-09-22T09:38:26",
          "2022-09-25T04:10:26",
          "2022-09-26T14:52:38",
          "2022-09-27T07:17:49",
          "2022-09-28T08:28:00",
          "2022-09-28T11:42:05"
         ],
         "y": [
          1,
          1,
          1,
          1,
          1,
          1,
          1,
          1,
          1,
          1,
          1,
          1,
          1,
          1,
          1,
          1,
          1,
          1,
          1,
          1,
          1,
          1,
          1,
          1,
          1,
          1,
          1,
          1,
          1,
          1,
          1,
          1,
          1,
          1,
          1,
          1,
          1,
          1,
          1,
          1,
          1,
          1,
          1,
          1,
          1,
          1,
          1,
          1,
          1,
          1,
          1,
          1,
          1,
          1,
          1,
          1,
          1,
          1,
          1,
          1,
          1,
          1,
          1,
          1,
          1,
          2,
          1,
          1,
          1,
          1,
          1,
          1,
          1,
          1,
          1,
          1,
          1,
          1,
          1,
          1,
          1,
          1,
          1,
          1,
          1,
          1,
          1,
          1,
          1,
          1,
          1,
          1,
          2,
          1,
          2,
          1,
          1,
          1,
          1,
          1,
          1,
          1,
          1,
          1,
          1,
          1,
          1,
          1,
          1,
          1,
          1,
          1,
          1,
          1,
          1,
          1,
          1,
          1,
          1,
          1,
          1,
          1,
          1,
          1,
          1,
          1,
          1,
          1,
          1,
          1,
          1,
          1,
          1,
          1,
          1,
          1,
          1,
          1,
          1,
          1,
          1,
          1,
          1,
          1,
          1,
          1,
          1,
          1,
          1,
          1,
          1,
          1,
          1,
          1,
          1,
          1,
          1,
          1,
          1,
          1,
          1,
          1,
          1,
          1,
          1,
          1,
          1,
          1,
          1,
          1,
          1,
          1,
          1,
          1,
          1,
          1,
          1,
          1,
          1,
          1,
          1,
          1,
          1,
          1,
          1,
          1,
          1,
          1,
          1,
          1,
          1,
          1,
          1,
          1,
          1,
          1,
          1,
          1,
          1,
          2,
          1,
          1,
          1,
          1,
          1,
          1,
          1,
          1,
          1,
          1,
          1,
          1,
          1,
          1,
          1,
          1,
          1,
          1,
          1,
          1,
          1,
          1,
          1,
          1,
          1,
          1,
          1,
          1,
          1,
          1,
          1,
          1,
          1,
          1,
          1,
          1,
          1,
          1,
          1,
          1,
          1,
          1,
          1,
          1,
          1,
          1,
          1
         ]
        },
        {
         "hoverinfo": "text",
         "hovertext": [
          "<b>Topic 1</b><br>Words: διαδήλωση, μπλα, ακτιβίστρια, κλίμα, fridays",
          "<b>Topic 1</b><br>Words: διαδήλωση, fridays, κλίμα, διαδηλωτές, future",
          "<b>Topic 1</b><br>Words: διαδηλωτές, συνεχίσουμε, κλίμα, μιλάνο, διαδήλωση",
          "<b>Topic 1</b><br>Words: πόλεων, οκτώβρη, ectp, habitat, σεποχ",
          "<b>Topic 1</b><br>Words: κάρολος, δήλωσε, μπλα, καταστροφικό, cop26",
          "<b>Topic 1</b><br>Words: κάρολος, δήλωσε, απογοήτευση, μπλα, καταστροφικό",
          "<b>Topic 1</b><br>Words: κάρολος, δήλωσε, μπλα, καταστροφικό, cop26",
          "<b>Topic 1</b><br>Words: κάρολος, μπλα, δήλωσε, cop26, καταστροφικό",
          "<b>Topic 1</b><br>Words: κάρολος, δήλωσε, απογοήτευση, μπλα, καταστροφικό",
          "<b>Topic 1</b><br>Words: κάρολος, αφαίρεση, aston, τυριού, martin",
          "<b>Topic 1</b><br>Words: πρίγκιπας, κάρολος, παρουσία, δούκας, ουίλιαμ",
          "<b>Topic 1</b><br>Words: ακούστηκε, βασίλισσα, ελισάβετ, μιλούν, ποιος",
          "<b>Topic 1</b><br>Words: ακούστηκε, βασίλισσα, ελισάβετ, μιλούν, ποιος",
          "<b>Topic 1</b><br>Words: βασίλισσα, ελισάβετ, ακούστηκε, μιλούν, ενόχλησή",
          "<b>Topic 1</b><br>Words: ακούστηκε, βασίλισσα, ελισάβετ, μιλούν, ποιος",
          "<b>Topic 1</b><br>Words: βασίλισσα, ελισάβετ, μιλούν, ποιος, εκνευρισμένη",
          "<b>Topic 1</b><br>Words: ελισάβετ, δούκισσα, βασίλισσα, κορνουάλης, 26η",
          "<b>Topic 1</b><br>Words: ακούστηκε, βασίλισσα, ελισάβετ, μιλούν, ποιος",
          "<b>Topic 1</b><br>Words: ελισάβετ, 95χρονη, ακούστηκε, βασίλισσα, μιλούν",
          "<b>Topic 1</b><br>Words: eleftherostypos, ακολούθησε, ειδήσεις, κάνε, ακούστηκε",
          "<b>Topic 1</b><br>Words: βασίλισσα, ελισάβετ, ακούστηκε, μιλούν, ποιος",
          "<b>Topic 1</b><br>Words: διάσκεψη, ακούστηκε, βασίλισσα, ελισάβετ, 26η",
          "<b>Topic 1</b><br>Words: βουλευτής, αμπατζόγλου, δαβάκης, αδιαφορία, κάνει",
          "<b>Topic 1</b><br>Words: συγγραφείς, επιλέγουμε, μέλλον, carnac, rivett",
          "<b>Topic 1</b><br>Words: ενέργειας, επίπεδα, ληφθούν, κλιματική, σύνοδο",
          "<b>Topic 1</b><br>Words: τζόνσον, ηνωμένου, βασιλείου, πρωθυπουργός, εκπομπός",
          "<b>Topic 1</b><br>Words: χώρες, g20, δεσμεύσεις, κλίμα, επιστολή",
          "<b>Topic 1</b><br>Words: sharma, γλασκώβη, τελειώνει, δήλωσε, παρίσι",
          "<b>Topic 1</b><br>Words: εε, cop26, κλίμα, ινδία, χώρες",
          "<b>Topic 1</b><br>Words: κλιματική, επιστήμονες, διάσκεψη, αλλαγή, πλανήτη",
          "<b>Topic 1</b><br>Words: ορθόδοξης, ακαδημίας, δρ, καλές, πρακτικές",
          "<b>Topic 1</b><br>Words: φόντα, τζέιν, γράφει, δημοσίευση, ανυπακοή",
          "<b>Topic 1</b><br>Words: ρύπων, κλίμα, γλασκώβη, μπάιντεν, συμφωνήσει",
          "<b>Topic 1</b><br>Words: pronews, γυμνή, email, gr, δικαίωμα",
          "<b>Topic 1</b><br>Words: cop26, κλίμα, οηε, θερμοκηπίου, παρισιού",
          "<b>Topic 1</b><br>Words: αλλαγής, intelligence, πράξουν, κλιματικής, χώρες",
          "<b>Topic 1</b><br>Words: ηγέτες, πρωθυπουργός, διάσκεψη, περιγράψει, εξηγήσει",
          "<b>Topic 1</b><br>Words: cop26, κλίμα, γλασκώβη, άνθρακα, κλιματική",
          "<b>Topic 1</b><br>Words: cop26, γλασκώβη, κλίμα, άνθρακα, κλιματική",
          "<b>Topic 1</b><br>Words: χώρες, cop26, χρειάζεται, δράση, κλίμα",
          "<b>Topic 1</b><br>Words: ιστορικές, alphatv, καταλήξουν, σοκ, καλούνται",
          "<b>Topic 1</b><br>Words: cop26, γλασκώβη, διάσκεψη, πούτιν, πεσκόφ",
          "<b>Topic 1</b><br>Words: 01, 11, 2021, κλίμα, κλιματική",
          "<b>Topic 1</b><br>Words: ηπα, είπε, αμερικανός, εκπομπές, μπάιντεν",
          "<b>Topic 1</b><br>Words: πρωθυπουργός, μητσοτάκης, πρωθυπουργό, κυριάκος, ελλάδα",
          "<b>Topic 1</b><br>Words: εε, κίνα, γλασκώβη, κλιματική, δείχνει",
          "<b>Topic 1</b><br>Words: κλιματική, γλασκώβη, συμφωνία, ηπα, κρίση",
          "<b>Topic 1</b><br>Words: cop26, κελσίου, ηγέτες, ρύπων, πλανήτη",
          "<b>Topic 1</b><br>Words: παίρνουν, προσποιούνται, σοβαρά, κλίμα, ηγεσία",
          "<b>Topic 1</b><br>Words: τούνμπεργκ, προσποιούνται, cop26, είπε, παίρνουν",
          "<b>Topic 1</b><br>Words: attenborough, ατμόσφαιρα, είπε, άνθρακα, αριθμό",
          "<b>Topic 1</b><br>Words: αλλαγή, κλίμα, κλιματική, cop26, συμφωνία",
          "<b>Topic 1</b><br>Words: greenpeace, 2021, αλλαγη, κλιματικη, αυγούστου",
          "<b>Topic 1</b><br>Words: attenborough, είπε, ατμόσφαιρα, άνθρακα, αριθμό",
          "<b>Topic 1</b><br>Words: γλασκόβη, cop26, κλιματική, παρόν, νοεμβρίου",
          "<b>Topic 1</b><br>Words: ακομα, eilish, billie, τρέιλερ, καναδός",
          "<b>Topic 1</b><br>Words: τέρας, νες, λοχ, sputniknews, κορυφής",
          "<b>Topic 1</b><br>Words: πυρκαγιές, εμπιστεύομαι, πρόβλημα, δάσος, αλλαγή",
          "<b>Topic 1</b><br>Words: τρισ, κεφαλαίων, δολαρίων, αξιοποίηση, 130",
          "<b>Topic 1</b><br>Words: meghan, harry, δήλωση, markle, cop26",
          "<b>Topic 1</b><br>Words: cop26, κλιματική, αλλαγή, κλιματικής, συμφωνία",
          "<b>Topic 1</b><br>Words: συγκρούστηκαν, διαδηλώνουν, alphatv, ισχυρούς, αρκετοί",
          "<b>Topic 1</b><br>Words: cop26, κλιματική, αλλαγή, κλιματικής, ξεχνώντας",
          "<b>Topic 1</b><br>Words: 11, 2021, 05, 19, κλίμα",
          "<b>Topic 1</b><br>Words: τούνμπεργκ, μπλα, γκρέτα, cop26, γλασκώβη",
          "<b>Topic 1</b><br>Words: επιφυλάξεις, διεκδικήσεις, cop26, βρέθηκαν, διαδηλωτές",
          "<b>Topic 1</b><br>Words: cop26, χώρες, κελσίου, κλιματική, αλλαγή",
          "<b>Topic 1</b><br>Words: κέρι, ηπα, κλίμα, συμφωνία, κλιματική",
          "<b>Topic 1</b><br>Words: κέρι, ηπα, κλίμα, συμφωνία, κλιματική",
          "<b>Topic 1</b><br>Words: κέρι, ηπα, κλίμα, συμφωνία, κλιματική",
          "<b>Topic 1</b><br>Words: κέρι, ηπα, κλίμα, συμφωνία, κλιματική",
          "<b>Topic 1</b><br>Words: κέρι, ηπα, κλίμα, συμφωνία, κλιματική",
          "<b>Topic 1</b><br>Words: κέρι, ηπα, αρθρο, συνεχιζει, διαφημιση",
          "<b>Topic 1</b><br>Words: κέρι, ηπα, κλίμα, συμφωνία, κλιματική",
          "<b>Topic 1</b><br>Words: κέρι, ηπα, κλίμα, συμφωνία, κλιματική",
          "<b>Topic 1</b><br>Words: αλλάξουν, έντυπο, διανεμήθηκε, αφυπνιστούν, ύψωσαν",
          "<b>Topic 1</b><br>Words: cop26, μέλλον, διαδηλωτές, άνθρωποι, πανό",
          "<b>Topic 1</b><br>Words: cop26, glasgow, november, in, pic",
          "<b>Topic 1</b><br>Words: cop26, μέλλον, διαδηλωτές, άνθρωποι, πανό",
          "<b>Topic 1</b><br>Words: cop26, μέλλον, διαδηλωτές, άνθρωποι, πανό",
          "<b>Topic 1</b><br>Words: cop26, μέλλον, διαδηλωτές, άνθρωποι, πανό",
          "<b>Topic 1</b><br>Words: cop26, μέλλον, διαδηλωτές, αρθρο, συνεχιζει",
          "<b>Topic 1</b><br>Words: cop26, μέλλον, διαδηλωτές, άνθρωποι, πανό",
          "<b>Topic 1</b><br>Words: cop26, μέλλον, διαδηλωτές, άνθρωποι, πανό",
          "<b>Topic 1</b><br>Words: cop26, μέλλον, διαδηλωτές, άνθρωποι, πανό",
          "<b>Topic 1</b><br>Words: cop26, μέλλον, διαδηλωτές, άνθρωποι, πανό",
          "<b>Topic 1</b><br>Words: cop26, μέλλον, διαδηλωτές, άνθρωποι, πανό",
          "<b>Topic 1</b><br>Words: cop26, μέλλον, διαδηλωτές, άνθρωποι, πανό",
          "<b>Topic 1</b><br>Words: cop26, μέλλον, φωτ, διαδηλωτές, reuters",
          "<b>Topic 1</b><br>Words: cop26, μέλλον, διαδηλωτές, άνθρωποι, πανό",
          "<b>Topic 1</b><br>Words: σταχυλογήσαμε, επισπευθεί, στόχος, δράση, στιγμιότυπα",
          "<b>Topic 1</b><br>Words: cop26, μέλλον, διαδηλωτές, άνθρωποι, πανό",
          "<b>Topic 1</b><br>Words: intercargo, φαφαλιός, ανάπτυξη, εμπορική, παγκόσμια",
          "<b>Topic 1</b><br>Words: cop26, μέλλον, διαδηλωτές, άνθρωποι, πανό",
          "<b>Topic 1</b><br>Words: cop26, μέλλον, διαδηλωτές, peoples, άνθρωποι",
          "<b>Topic 1</b><br>Words: cop26, μέλλον, διαδηλωτές, άνθρωποι, πανό",
          "<b>Topic 1</b><br>Words: χώρες, ηγέτες, 105, δασών, πλανήτη",
          "<b>Topic 1</b><br>Words: cop26, μέλλον, διαδηλωτές, άνθρωποι, πανό",
          "<b>Topic 1</b><br>Words: ορυκτών, καυσίμων, βιομηχανία, λομπίστες, cop26",
          "<b>Topic 1</b><br>Words: holzer, jenny, cop26, hurt, φωτίζεται",
          "<b>Topic 1</b><br>Words: λέσβου, μουσείο, δάσους, απολιθωμένο, δράσεις",
          "<b>Topic 1</b><br>Words: λέσβου, μουσείο, δάσους, απολιθωμένο, δράσεις",
          "<b>Topic 1</b><br>Words: χώρες, προσχέδιο, εκπομπές, κλίμα, δεσμεύσεις",
          "<b>Topic 1</b><br>Words: cop26, ορυκτών, καυσίμων, λομπίστες, δεσμεύσεις",
          "<b>Topic 1</b><br>Words: χώρες, διακήρυξης, cop26, τελικής, συνόδου",
          "<b>Topic 1</b><br>Words: χώρες, διακήρυξης, cop26, τελικής, φτωχότερες",
          "<b>Topic 1</b><br>Words: συμφωνία, χώρες, κειμένου, cop26, κλίμα",
          "<b>Topic 1</b><br>Words: χώρες, συμφωνία, κελσίου, παρισιού, κειμένου",
          "<b>Topic 1</b><br>Words: χώρες, συμφωνία, φτωχές, κελσίου, παρισιού",
          "<b>Topic 1</b><br>Words: παπανδρέου, γιώργος, υπερθέρμανσης, κελσίου, κλιματική",
          "<b>Topic 1</b><br>Words: συμφωνία, αλλαγές, υπερθέρμανσης, σάρμα, κλιματική",
          "<b>Topic 1</b><br>Words: cop26, αντιμετώπιση, επιτάχυνση, προσπαθειών, συνεπειών",
          "<b>Topic 1</b><br>Words: έτρεχε, αυστηρές, γλασκώβη, ανακοινωθέν, παιδί",
          "<b>Topic 1</b><br>Words: chomsky, diem25, cop26, ελπίδα, πρόβλημα",
          "<b>Topic 1</b><br>Words: θεωρία, υπερθέρμανση, αρνητών, πλανήτη, bbc",
          "<b>Topic 1</b><br>Words: tvxs, συμφωνία, σκοπό, κλίμα, σπασμένη",
          "<b>Topic 1</b><br>Words: πράσινες, υποσχέσεων, cop26, 5οc, επίπεδα",
          "<b>Topic 1</b><br>Words: χώρες, αναπτυσσόμενες, δισεκατομμύρια, δολάρια, κλίμα",
          "<b>Topic 1</b><br>Words: twinkl, γη, κλιματική, cop26, σχολεία",
          "<b>Topic 1</b><br>Words: twinkl, 12, ετών, υλικό, κλιματική",
          "<b>Topic 1</b><br>Words: εκπομπών, κλιματική, αλλαγή, 2023, cop26",
          "<b>Topic 1</b><br>Words: μπάιντεν, ηπα, τούνμπεργκ, μάχη, cop26",
          "<b>Topic 1</b><br>Words: πτήσεις, πρίγκιπας, ταξίδια, τζετ, κάρολος",
          "<b>Topic 1</b><br>Words: κλίμα, δικαστηρίου, δικαστήριο, κλιματική, εσδα",
          "<b>Topic 1</b><br>Words: κλίμα, δικαστηρίου, δικαστήριο, κλιματική, εσδα",
          "<b>Topic 1</b><br>Words: ατθ, εκπομπές, στρατιωτικές, mtco2e, στρατιωτικών",
          "<b>Topic 1</b><br>Words: pfizer, καρκίνος, δύσκολα, moonshot, μπουρλά",
          "<b>Topic 1</b><br>Words: time, εξώφυλλο, κλιματική, βιομηχανίας, αλλαγή",
          "<b>Topic 1</b><br>Words: ακροδεξιών, ακροδεξιά, κομμάτων, κόμματα, κλιματικής",
          "<b>Topic 1</b><br>Words: 05, 10, 2022, 11, στόχους",
          "<b>Topic 1</b><br>Words: ακτιβιστές, δήμαρχος, μάρβιν, ρις, 016",
          "<b>Topic 1</b><br>Words: free, flight, ted, uk, δήμαρχος",
          "<b>Topic 1</b><br>Words: ευαθ, κι, πκμ, περιβάλλοντος, θεσσαλονίκης",
          "<b>Topic 1</b><br>Words: ευαθ, κι, περιβάλλοντος, πκμ, θεσσαλονίκης",
          "<b>Topic 1</b><br>Words: κλίμα, συνεχιζει, αρθρο, διαφημιση, μετα",
          "<b>Topic 1</b><br>Words: οηε, εσπινόσα, κλίμα, συνομιλιών, γλασκώβη",
          "<b>Topic 1</b><br>Words: γιουσαφζάι, νακάτε, κορίτσια, τούνμπεργκ, reuters",
          "<b>Topic 1</b><br>Words: 17, 06, 2022, 16, 00",
          "<b>Topic 1</b><br>Words: γαλλίας, ποδηλατικός, ποδηλατικού, 10η, σταμάτησαν",
          "<b>Topic 1</b><br>Words: κράτη, φτωχά, κλιματική, τσέπη, ζημίες",
          "<b>Topic 1</b><br>Words: ωκεανών, ανοιχτή, θάλασσα, ωκεανοί, συμφωνία",
          "<b>Topic 1</b><br>Words: 23, 09, 2022, ευρωπη, 14",
          "<b>Topic 1</b><br>Words: ποταμών, cop27, https, κλιματική, copernicus"
         ],
         "marker": {
          "color": "#56B4E9"
         },
         "mode": "lines",
         "name": "1_cop26_κλιματική_κλίμα_αλλαγή",
         "type": "scatter",
         "x": [
          "2021-10-01T20:02:49",
          "2021-10-02T07:30:00",
          "2021-10-03T14:32:00",
          "2021-10-04T17:22:30",
          "2021-10-11T11:52:52",
          "2021-10-11T12:17:19",
          "2021-10-11T13:30:00",
          "2021-10-11T18:09:48",
          "2021-10-12T01:54:00",
          "2021-10-12T07:45:24",
          "2021-10-12T09:39:37",
          "2021-10-15T10:00:00",
          "2021-10-15T10:01:00",
          "2021-10-15T10:30:23",
          "2021-10-15T10:51:51",
          "2021-10-15T11:00:31",
          "2021-10-15T11:24:15",
          "2021-10-15T13:05:01",
          "2021-10-15T14:15:00",
          "2021-10-15T14:26:58",
          "2021-10-15T17:07:00",
          "2021-10-15T20:17:25",
          "2021-10-15T20:48:00",
          "2021-10-18T05:20:16",
          "2021-10-18T07:45:00",
          "2021-10-19T09:27:00",
          "2021-10-21T20:24:00",
          "2021-10-23T08:52:32",
          "2021-10-24T18:21:10",
          "2021-10-25T08:31:00",
          "2021-10-25T12:18:26",
          "2021-10-25T18:01:24",
          "2021-10-27T21:00:00",
          "2021-10-29T20:52:37",
          "2021-10-31T10:04:43",
          "2021-11-01T03:40:12",
          "2021-11-01T05:40:00",
          "2021-11-01T05:57:06",
          "2021-11-01T06:40:34",
          "2021-11-01T12:28:06",
          "2021-11-01T13:08:00",
          "2021-11-01T13:50:12",
          "2021-11-01T14:09:11",
          "2021-11-01T16:30:00",
          "2021-11-01T19:58:56",
          "2021-11-01T21:00:25",
          "2021-11-02T03:50:17",
          "2021-11-02T08:39:28",
          "2021-11-02T10:04:28",
          "2021-11-02T11:52:05",
          "2021-11-02T14:10:27",
          "2021-11-02T21:15:00",
          "2021-11-03T06:00:00",
          "2021-11-03T12:47:49",
          "2021-11-03T13:08:11",
          "2021-11-03T14:00:04",
          "2021-11-03T16:01:59",
          "2021-11-04T06:55:42",
          "2021-11-04T23:07:00",
          "2021-11-05T07:30:00",
          "2021-11-05T11:25:42",
          "2021-11-05T13:32:07",
          "2021-11-05T14:52:04",
          "2021-11-05T17:10:10",
          "2021-11-05T21:50:24",
          "2021-11-05T22:40:03",
          "2021-11-06T05:50:27",
          "2021-11-06T06:44:13",
          "2021-11-06T07:00:00",
          "2021-11-06T07:57:13",
          "2021-11-06T08:00:00",
          "2021-11-06T08:20:10",
          "2021-11-06T09:33:57",
          "2021-11-06T10:18:14",
          "2021-11-06T12:35:55",
          "2021-11-06T13:00:00",
          "2021-11-06T21:10:00",
          "2021-11-06T21:14:21",
          "2021-11-06T21:20:33",
          "2021-11-06T21:27:57",
          "2021-11-06T21:31:00",
          "2021-11-06T21:46:03",
          "2021-11-06T21:48:52",
          "2021-11-06T21:58:00",
          "2021-11-06T21:58:24",
          "2021-11-06T22:06:15",
          "2021-11-06T22:16:37",
          "2021-11-06T23:20:22",
          "2021-11-06T23:46:00",
          "2021-11-06T23:52:00",
          "2021-11-07T00:51:25",
          "2021-11-07T02:30:00",
          "2021-11-07T03:31:28",
          "2021-11-07T05:15:00",
          "2021-11-07T06:49:16",
          "2021-11-07T07:00:43",
          "2021-11-07T09:59:42",
          "2021-11-07T17:36:00",
          "2021-11-08T07:28:41",
          "2021-11-09T06:00:41",
          "2021-11-09T22:00:00",
          "2021-11-10T09:02:16",
          "2021-11-10T12:27:17",
          "2021-11-11T10:59:04",
          "2021-11-13T01:40:45",
          "2021-11-13T07:05:43",
          "2021-11-13T20:19:31",
          "2021-11-13T20:39:04",
          "2021-11-13T22:02:28",
          "2021-11-14T12:16:00",
          "2021-11-14T17:03:27",
          "2021-11-15T14:00:01",
          "2021-11-16T07:51:00",
          "2021-11-16T18:04:05",
          "2021-11-17T14:11:00",
          "2021-11-17T17:01:15",
          "2021-11-23T20:33:00",
          "2021-11-27T10:01:22",
          "2021-12-07T14:03:41",
          "2021-12-08T09:30:02",
          "2021-12-12T16:08:16",
          "2021-12-29T17:35:31",
          "2022-01-28T06:15:56",
          "2022-03-23T17:55:14",
          "2022-03-27T08:23:13",
          "2022-03-27T09:08:00",
          "2022-04-02T20:47:00",
          "2022-04-18T09:43:18",
          "2022-04-18T22:20:21",
          "2022-05-10T08:58:27",
          "2022-05-28T11:21:26",
          "2022-05-28T11:52:56",
          "2022-06-05T12:39:32",
          "2022-06-06T09:00:58",
          "2022-06-06T09:40:21",
          "2022-06-06T13:30:00",
          "2022-06-12T20:00:29",
          "2022-06-17T13:31:41",
          "2022-07-12T20:30:00",
          "2022-08-10T06:32:28",
          "2022-09-19T08:00:36",
          "2022-09-23T11:57:30",
          "2022-09-25T08:30:35"
         ],
         "y": [
          1,
          1,
          1,
          1,
          1,
          1,
          1,
          2,
          1,
          1,
          1,
          1,
          1,
          1,
          1,
          1,
          1,
          1,
          1,
          1,
          1,
          1,
          1,
          1,
          1,
          1,
          1,
          1,
          1,
          1,
          1,
          1,
          1,
          1,
          1,
          1,
          1,
          1,
          1,
          1,
          1,
          1,
          1,
          1,
          1,
          1,
          1,
          1,
          1,
          1,
          1,
          1,
          1,
          1,
          1,
          1,
          1,
          1,
          1,
          1,
          1,
          1,
          1,
          1,
          1,
          1,
          1,
          1,
          1,
          1,
          1,
          1,
          1,
          1,
          1,
          1,
          1,
          1,
          1,
          1,
          1,
          1,
          1,
          1,
          1,
          1,
          1,
          1,
          1,
          1,
          1,
          1,
          1,
          1,
          1,
          1,
          1,
          1,
          1,
          1,
          1,
          1,
          1,
          1,
          1,
          1,
          1,
          1,
          1,
          1,
          1,
          1,
          1,
          1,
          1,
          1,
          1,
          1,
          1,
          1,
          1,
          1,
          1,
          1,
          1,
          1,
          1,
          1,
          1,
          1,
          1,
          1,
          1,
          1,
          1,
          1,
          1,
          1,
          1,
          1,
          1,
          1,
          1
         ]
        },
        {
         "hoverinfo": "text",
         "hovertext": [
          "<b>Topic 2</b><br>Words: υπαίθρου, ερημοποίηση, θεσσαλίας, στήριξη, πολιτικών",
          "<b>Topic 2</b><br>Words: πολιτικές, ελλάδα, μετάβαση, πράσινη, ρόλο",
          "<b>Topic 2</b><br>Words: πατούλη, πράσινη, περιφερειάρχη, περιφερειών, αττικής",
          "<b>Topic 2</b><br>Words: αέριο, απε, αποθήκευση, ενεργειακή, περιστέρης",
          "<b>Topic 2</b><br>Words: ενεργειακή, ελαπε, περιστέρης, μετάβαση, σημείωσε",
          "<b>Topic 2</b><br>Words: καθημερινή, summits, esg, καραβέλλας, κόστος",
          "<b>Topic 2</b><br>Words: πάουελ, αλβανία, σεισμός, ερντογάν, ελλάδα",
          "<b>Topic 2</b><br>Words: μειώνεται, κύπρο, θερμοκρασίες, κλεάνθης, κρίση",
          "<b>Topic 2</b><br>Words: ελλάδα, πλατεία, κλιματική, κι, κρίση",
          "<b>Topic 2</b><br>Words: σαουδικής, αραβίας, μητσοτάκης, συνάντηση, κυριάκος",
          "<b>Topic 2</b><br>Words: κέρι, μητσοτάκης, σαουδική, αραβία, ελλάδα",
          "<b>Topic 2</b><br>Words: 10, ηπα, 27, τουρκία, θέματα",
          "<b>Topic 2</b><br>Words: τουρκίας, ηπα, συνάντηση, brahim, kalın",
          "<b>Topic 2</b><br>Words: μπάιντεν, τζο, ρώμη, δύο, νομοσχέδιο",
          "<b>Topic 2</b><br>Words: τουρκία, ξένων, δυνάμεων, ενόπλων, κρίση",
          "<b>Topic 2</b><br>Words: πρωθυπουργός, ελλάδα, πρωθυπουργού, ομιλία, πράσινη",
          "<b>Topic 2</b><br>Words: ελλάδα, ενέργειας, αφορά, άνθρακα, αντιμετωπίσουμε",
          "<b>Topic 2</b><br>Words: ελλάδα, ενέργειας, άνθρακα, αντιμετωπίσουμε, μητσοτάκης",
          "<b>Topic 2</b><br>Words: μητσοτάκης, αποκαλεί, εφαρμόζει, κυβέρνησής, tags",
          "<b>Topic 2</b><br>Words: πρωθυπουργός, απολιγνιτοποίηση, τόνισε, κυριάκος, μητσοτάκης",
          "<b>Topic 2</b><br>Words: ελλάδα, ενέργειας, πράσινης, άνθρακα, αντιμετωπίσουμε",
          "<b>Topic 2</b><br>Words: ελλάδα, ενέργειας, άνθρακα, αντιμετωπίσουμε, προορισμούς",
          "<b>Topic 2</b><br>Words: ελλάδα, ενέργειας, άνθρακα, αντιμετωπίσουμε, μητσοτάκης",
          "<b>Topic 2</b><br>Words: ελλάδα, ενέργειας, άνθρακα, αντιμετωπίσουμε, προορισμούς",
          "<b>Topic 2</b><br>Words: ελλάδα, άνθρακα, παπαμήτσος, μητσοτάκης, πρωθυπουργός",
          "<b>Topic 2</b><br>Words: ελλάδα, μητσοτάκης, πρωθυπουργός, άνθρακα, αντιμετωπίσουμε",
          "<b>Topic 2</b><br>Words: ελλάδα, ενέργειας, άνθρακα, αντιμετωπίσουμε, προορισμούς",
          "<b>Topic 2</b><br>Words: ελλάδα, μητσοτάκης, πρωτοβουλίες, ενέργειας, αφορά",
          "<b>Topic 2</b><br>Words: photo, ελλάδα, ap, μητσοτάκης, ενέργειας",
          "<b>Topic 2</b><br>Words: ελλάδα, ενέργειας, αφορά, άνθρακα, αντιμετωπίσουμε",
          "<b>Topic 2</b><br>Words: ελλάδα, άνθρακα, πρωθυπουργός, ενέργειας, απεξάρτηση",
          "<b>Topic 2</b><br>Words: ελλάδα, ενέργειας, άνθρακα, αντιμετωπίσουμε, προορισμούς",
          "<b>Topic 2</b><br>Words: ελλάδα, ενέργειας, άνθρακα, αντιμετωπίσουμε, προορισμούς",
          "<b>Topic 2</b><br>Words: ελλάδα, ενέργειας, άνθρακα, αντιμετωπίσουμε, προορισμούς",
          "<b>Topic 2</b><br>Words: ελλάδα, ενέργειας, αφορά, αναφέρθηκε, άνθρακα",
          "<b>Topic 2</b><br>Words: στιγμή, βίντεο, συνέδριο, ξύπνησε, αιχμαλωτίσει",
          "<b>Topic 2</b><br>Words: ελλάδα, ενέργειας, άνθρακα, αντιμετωπίσουμε, προορισμούς",
          "<b>Topic 2</b><br>Words: ελλάδα, ενέργειας, άνθρακα, αντιμετωπίσουμε, προορισμούς",
          "<b>Topic 2</b><br>Words: ελλάδα, πρωθυπουργός, ενέργειας, αντιμετωπίσουμε, αφορά",
          "<b>Topic 2</b><br>Words: ελλάδα, άνθρακα, ενέργειας, αφορά, προορισμούς",
          "<b>Topic 2</b><br>Words: πρωθυπουργός, μητσοτάκης, ενέργειας, υπεράκτια, αιολική",
          "<b>Topic 2</b><br>Words: ελλάδα, μητσοτάκης, πρωθυπουργός, άνθρακα, αντιμετωπίσουμε",
          "<b>Topic 2</b><br>Words: ελλάδα, άνθρακα, μητσοτάκης, ενέργειας, αφορά",
          "<b>Topic 2</b><br>Words: ελλάδα, μπορούμε, πράσινη, πράσινης, απλά",
          "<b>Topic 2</b><br>Words: ελλάδα, μπορούμε, πράσινη, ιδέες, μητσοτάκης",
          "<b>Topic 2</b><br>Words: ελλάδα, μπορούμε, πράσινη, πράσινης, απλά",
          "<b>Topic 2</b><br>Words: ελλάδα, απλά, πράσινη, μπορούμε, πράσινης",
          "<b>Topic 2</b><br>Words: ελλάδα, μπορούμε, πράσινη, πράσινης, απλά",
          "<b>Topic 2</b><br>Words: ελλάδα, απλά, πράσινη, μπορούμε, χώρα",
          "<b>Topic 2</b><br>Words: ελλάδα, πράσινη, μπορούμε, πράσινης, προηγουμένου",
          "<b>Topic 2</b><br>Words: ελλάδα, μπορούμε, πράσινη, πράσινης, απλά",
          "<b>Topic 2</b><br>Words: παρέλειψε, απέκρυψε, ελλάδας, πρωθυπουργός, κυβέρνησή",
          "<b>Topic 2</b><br>Words: mclaren, πρίγκιπας, κάρολος, f1, μπρον",
          "<b>Topic 2</b><br>Words: παρέλειψε, απέκρυψε, ελλάδας, πρωθυπουργός, κυβέρνησή",
          "<b>Topic 2</b><br>Words: παρέλειψε, απέκρυψε, ελλάδας, κυβέρνησή, κλιματική",
          "<b>Topic 2</b><br>Words: μπακογιάννης, δημοτικού, ειδήσεις, kathimerini, δημοτική",
          "<b>Topic 2</b><br>Words: photo, 12, εμμανουήλ, άγης, ελλάδα",
          "<b>Topic 2</b><br>Words: υπουργοί, συζήτησαν, εξωτερικών, σούκρι, ανακοινωθέν",
          "<b>Topic 2</b><br>Words: ελλάδα, κάρβουνου, κλιματική, κλιματικής, κάρβουνο",
          "<b>Topic 2</b><br>Words: ελλάδα, κι, κλιματική, φυσικό, wwf",
          "<b>Topic 2</b><br>Words: wwf, προστασία, χρόνια, 30, ασταμάτητα",
          "<b>Topic 2</b><br>Words: ξέρεις, κάνει, πλεμπαίε, μεγάλε, ψιτ",
          "<b>Topic 2</b><br>Words: κύπρος, αναστασιάδης, ναυτιλία, συνεπειών, αλλαγής",
          "<b>Topic 2</b><br>Words: υπερθέρμανσης, διακυβερνητικής, μείωση, οηε, εκπροσώπων",
          "<b>Topic 2</b><br>Words: οικονομικών, ομολόγου, έκδοσης, ελλάδα, βιώσιμου",
          "<b>Topic 2</b><br>Words: στουρνάρας, ελλάδα, 2014, πληθωρισμού, πληθωρισμό",
          "<b>Topic 2</b><br>Words: μητσοτάκη, άρθρο, κυβέρνησης, κλιματική, κυβέρνηση",
          "<b>Topic 2</b><br>Words: δράσεις, αμυράς, τονίζοντας, υφυπουργός, απομακρυσμένων",
          "<b>Topic 2</b><br>Words: συνεδριάζει, συνήθως, μπίλντερμπεργκ, φορά, ομάδα",
          "<b>Topic 2</b><br>Words: κυπριακής, πρωτοβουλία, εξέφρασε, ανέφερε, κλιματική",
          "<b>Topic 2</b><br>Words: δικαιοσύνης, τσιάρας, ουάσιγκτον, συνέλευσης, γενικής",
          "<b>Topic 2</b><br>Words: πρώην, μανιάτης, ενέργειας, συζήτηση, υποστήριξε",
          "<b>Topic 2</b><br>Words: ευρωπαίων, αμερικανών, διακοπών, κακό, φόβος",
          "<b>Topic 2</b><br>Words: economist, αναφερθεί, τσίπρας, συνέδριο, πανδημά",
          "<b>Topic 2</b><br>Words: τσίπρας, αναφερθεί, θυμήθηκε, τροφοδοτούσε, επιτεθεί",
          "<b>Topic 2</b><br>Words: έκταση, ελλάδα, πυρκαγιές, ελλάδας, συνολική",
          "<b>Topic 2</b><br>Words: κουνουπιών, εντόμων, τζιτζικιών, τριχάς, χρονιά",
          "<b>Topic 2</b><br>Words: φταίει, κρίση, καταστροφές, κλιματική, κράτος",
          "<b>Topic 2</b><br>Words: φταίει, κρίση, καταστροφές, αιτίας, κλιματική",
          "<b>Topic 2</b><br>Words: αμερική, ελλάδα, αντίδραση, καίγεται, κυβέρνηση",
          "<b>Topic 2</b><br>Words: πυρκαγιά, ελλάδα, πρωθυπουργός, κυβέρνηση, κλιματική",
          "<b>Topic 2</b><br>Words: κυβέρνηση, ενέργειας, κλιματική, ελλάδα, στρέμματα",
          "<b>Topic 2</b><br>Words: προοδευτική, ακρίβειας, πολιτικές, συμμαχία, κοινωνίας",
          "<b>Topic 2</b><br>Words: mcguire, κλιματική, ελλάδα, αντιστροφής, θερμοκρασίας",
          "<b>Topic 2</b><br>Words: ρεπορτάζ, ελλάδα, spiegel, handelsblatt, χρέους",
          "<b>Topic 2</b><br>Words: ελλάδα, ocean, conference, our, 2024",
          "<b>Topic 2</b><br>Words: ελλάδα, ηπα, ναυτιλίας, πρωθυπουργού, ενέργειας",
          "<b>Topic 2</b><br>Words: ελλάδα, ηπα, ναυτιλίας, πρωθυπουργού, ενέργειας",
          "<b>Topic 2</b><br>Words: ελλάδα, ναυτιλίας, ωκεανούς, κέρι, κρίσης",
          "<b>Topic 2</b><br>Words: ελλάδα, ocean, conference, our, διάσκεψη",
          "<b>Topic 2</b><br>Words: ελλάδα, ηπα, ναυτιλίας, πρωθυπουργού, ενέργειας",
          "<b>Topic 2</b><br>Words: ελλάδα, πρωθυπουργού, ηπα, κέρι, ναυτιλίας",
          "<b>Topic 2</b><br>Words: εξωτερικών, υπουργός, τουρκία, δένδιας, πράσινη",
          "<b>Topic 2</b><br>Words: εξωτερικών, δένδιας, υπουργός, τουρκία, πράσινη",
          "<b>Topic 2</b><br>Words: ελλάδα, κέρι, ocean, conference, ναυτιλίας",
          "<b>Topic 2</b><br>Words: ελλάδα, ελλάδας, ενέργειας, τουρκίας, υπερπτήσεις",
          "<b>Topic 2</b><br>Words: παίξει, ευρώπη, αλτμάιερ, ρόλο, κίνα",
          "<b>Topic 2</b><br>Words: παίξει, αλτμάιερ, ευρώπη, ρόλο, ελλάδα",
          "<b>Topic 2</b><br>Words: παίξει, αλτμάιερ, ευρώπη, ρόλο, ελλάδα",
          "<b>Topic 2</b><br>Words: πρωθυπουργός, εργαλειοποίηση, στείλει, κυριάκος, μητσοτάκης",
          "<b>Topic 2</b><br>Words: ελλάδα, πρωθυπουργός, τουρκία, αιγαίο, διεκδικήσεις"
         ],
         "marker": {
          "color": "#009E73"
         },
         "mode": "lines",
         "name": "2_ελλάδα_κλιματική_ενέργειας_κρίση",
         "type": "scatter",
         "x": [
          "2021-10-09T12:34:00",
          "2021-10-11T06:01:43",
          "2021-10-12T22:15:00",
          "2021-10-13T08:08:04",
          "2021-10-14T13:28:32",
          "2021-10-19T18:12:00",
          "2021-10-19T19:00:00",
          "2021-10-21T11:22:00",
          "2021-10-25T07:39:00",
          "2021-10-25T10:18:00",
          "2021-10-26T08:34:00",
          "2021-10-27T15:18:53",
          "2021-10-27T18:20:59",
          "2021-10-30T07:53:00",
          "2021-10-31T05:45:02",
          "2021-11-01T15:07:59",
          "2021-11-01T15:08:00",
          "2021-11-01T15:10:55",
          "2021-11-01T15:11:35",
          "2021-11-01T15:43:46",
          "2021-11-01T15:50:00",
          "2021-11-01T16:13:39",
          "2021-11-01T16:17:49",
          "2021-11-01T16:24:35",
          "2021-11-01T16:33:30",
          "2021-11-01T16:45:00",
          "2021-11-01T16:45:35",
          "2021-11-01T16:45:50",
          "2021-11-01T16:47:26",
          "2021-11-01T16:49:00",
          "2021-11-01T16:52:33",
          "2021-11-01T16:59:21",
          "2021-11-01T17:10:10",
          "2021-11-01T17:21:15",
          "2021-11-01T17:30:00",
          "2021-11-01T17:32:44",
          "2021-11-01T18:00:30",
          "2021-11-01T18:17:21",
          "2021-11-01T18:45:00",
          "2021-11-01T21:01:57",
          "2021-11-02T07:04:00",
          "2021-11-02T10:49:46",
          "2021-11-02T12:40:22",
          "2021-11-03T08:52:00",
          "2021-11-03T08:54:01",
          "2021-11-03T08:55:00",
          "2021-11-03T09:03:11",
          "2021-11-03T09:06:50",
          "2021-11-03T09:07:01",
          "2021-11-03T10:00:00",
          "2021-11-03T10:08:41",
          "2021-11-05T10:44:19",
          "2021-11-05T11:02:30",
          "2021-11-05T14:38:34",
          "2021-11-06T13:55:00",
          "2021-11-08T20:13:00",
          "2021-11-13T05:00:43",
          "2021-11-19T23:25:40",
          "2021-12-04T10:00:28",
          "2021-12-16T06:53:07",
          "2021-12-16T20:04:44",
          "2022-01-28T09:40:11",
          "2022-02-11T12:00:00",
          "2022-04-11T18:28:42",
          "2022-04-19T18:10:33",
          "2022-05-07T11:51:18",
          "2022-05-23T18:18:40",
          "2022-05-25T17:59:32",
          "2022-06-01T13:48:58",
          "2022-06-07T12:49:00",
          "2022-06-09T17:18:49",
          "2022-06-11T19:54:00",
          "2022-07-01T20:55:00",
          "2022-07-07T17:36:28",
          "2022-07-07T19:00:00",
          "2022-07-08T15:27:32",
          "2022-07-13T09:34:10",
          "2022-07-20T17:15:56",
          "2022-07-21T05:42:04",
          "2022-07-22T18:19:00",
          "2022-07-23T13:30:02",
          "2022-07-25T11:00:42",
          "2022-07-26T08:45:00",
          "2022-08-06T12:11:01",
          "2022-08-19T11:00:00",
          "2022-08-29T11:09:00",
          "2022-08-29T12:00:40",
          "2022-08-29T12:06:56",
          "2022-08-29T12:20:25",
          "2022-08-29T12:30:00",
          "2022-08-29T13:50:48",
          "2022-08-29T14:02:00",
          "2022-08-29T17:19:09",
          "2022-08-29T19:00:23",
          "2022-08-30T07:48:00",
          "2022-08-31T17:24:00",
          "2022-09-09T08:33:32",
          "2022-09-09T09:18:03",
          "2022-09-09T09:22:06",
          "2022-09-23T16:46:13",
          "2022-09-23T20:10:43"
         ],
         "y": [
          1,
          1,
          1,
          1,
          1,
          1,
          1,
          1,
          1,
          1,
          1,
          1,
          1,
          1,
          1,
          1,
          1,
          1,
          1,
          1,
          1,
          1,
          1,
          1,
          1,
          1,
          2,
          1,
          1,
          1,
          1,
          1,
          1,
          1,
          1,
          1,
          1,
          1,
          2,
          1,
          1,
          1,
          1,
          1,
          1,
          1,
          1,
          1,
          1,
          1,
          1,
          1,
          1,
          1,
          1,
          1,
          1,
          1,
          1,
          1,
          1,
          1,
          1,
          1,
          1,
          1,
          1,
          1,
          1,
          1,
          1,
          1,
          1,
          1,
          1,
          1,
          1,
          1,
          1,
          1,
          1,
          1,
          1,
          1,
          1,
          1,
          1,
          1,
          1,
          1,
          1,
          1,
          1,
          1,
          1,
          1,
          1,
          1,
          1,
          1,
          1
         ]
        },
        {
         "hoverinfo": "text",
         "hovertext": [
          "<b>Topic 3</b><br>Words: αλλαγή, πολιτικής, πυρκαγιές, προστασίας, κλιματική",
          "<b>Topic 3</b><br>Words: ανέμων, ft, μειωθεί, vortex, πόλων",
          "<b>Topic 3</b><br>Words: αλλαγή, κλιματική, αλλαγής, άρθρων, κλιματικής",
          "<b>Topic 3</b><br>Words: πλημμυρισμένα, βρέχει, χωράφια, ευθύνεται, δυστυχώς",
          "<b>Topic 3</b><br>Words: πυρκαγιές, κλιματική, διαχείριση, αλλαγή, πολίτη",
          "<b>Topic 3</b><br>Words: πυρκαγιές, ντοκιμαντέρ, ελλάς, cinedoc, wwf",
          "<b>Topic 3</b><br>Words: πυρκαγιές, ντοκιμαντέρ, ελλάς, cinedoc, wwf",
          "<b>Topic 3</b><br>Words: κλιματική, αλλαγή, πυρκαγιές, πόλεις, γλασκώβη",
          "<b>Topic 3</b><br>Words: ευρώπη, πυρκαγιές, ρεκόρ, συχνότητα, χρόνια",
          "<b>Topic 3</b><br>Words: θεοδοσόπουλος, χειμώνα, προγνώστης, βαθμούς, μετεωρολόγος",
          "<b>Topic 3</b><br>Words: 07, 11, 2021, ευρωπη, ισπανία",
          "<b>Topic 3</b><br>Words: wwf, καταστολή, πυρκαγιές, πρόληψη, πυρκαγιών",
          "<b>Topic 3</b><br>Words: πυρκαγιές, κλιματική, αυστραλία, παράγοντας, csiro",
          "<b>Topic 3</b><br>Words: φωτιές, εμπρηστές, πυρκαγιές, κλιματική, καλοκαίρι",
          "<b>Topic 3</b><br>Words: 14, 03, 2022, 13, κλιματική",
          "<b>Topic 3</b><br>Words: εδαφών, εδάφη, υποβάθμιση, αφορά, πυρκαγιές",
          "<b>Topic 3</b><br>Words: βαθμούς, πιθανότητα, άνθρακα, εκπομπές, άνοδος",
          "<b>Topic 3</b><br>Words: πιθανότητα, βαθμούς, άνθρακα, εκπομπές, άνοδος",
          "<b>Topic 3</b><br>Words: βαθμούς, πιθανότητα, άνθρακα, εκπομπές, άνοδος",
          "<b>Topic 3</b><br>Words: and, επαυπς, responders, μετέχει, first",
          "<b>Topic 3</b><br>Words: climpact, κλιματική, ατμοσφαιρική, θερμοκρασία, αλλαγή",
          "<b>Topic 3</b><br>Words: κρίσεων, κινδύνων, διεργασίες, σταδίου, κινδύνου",
          "<b>Topic 3</b><br>Words: νότια, εποχή, ισπανία, γαλλία, στροφή",
          "<b>Topic 3</b><br>Words: ευρώπη, ζέστη, γαλλία, ισπανία, θερμοκρασίες",
          "<b>Topic 3</b><br>Words: πυρκαγιές, πυρκαγιών, drones, ευρώπη, κλιματική",
          "<b>Topic 3</b><br>Words: πυρκαγιές, κλιματικής, εμπρησμού, αλλαγή, κλιματική",
          "<b>Topic 3</b><br>Words: 01, 07, 2022, πυρκαγιές, 11",
          "<b>Topic 3</b><br>Words: πυρκαγιές, πυρκαγιών, περιόδου, διάρκεια, παγκοσμίως",
          "<b>Topic 3</b><br>Words: ακραίων, καιρικών, φαινομένων, κλιματικής, ευρώπη",
          "<b>Topic 3</b><br>Words: αηδίες, εργαστηριακές, μπουκώσουν, γιά, ταπύρινα",
          "<b>Topic 3</b><br>Words: ευρώπη, ζέστη, βολβού, υγρού, θερμοκρασίες",
          "<b>Topic 3</b><br>Words: πυρκαγιές, ευρώπη, θερμοκρασίες, περισσότερα, καύσωνας",
          "<b>Topic 3</b><br>Words: 07, 18, ευρώπη, 2022, πυρκαγιές",
          "<b>Topic 3</b><br>Words: πλανήτη, ολοένα, περιοχές, ευρώπη, καύσωνα",
          "<b>Topic 3</b><br>Words: πλανήτη, ολοένα, ευρώπη, περιοχές, καύσωνα",
          "<b>Topic 3</b><br>Words: πλανήτη, ολοένα, περιοχές, ευρώπη, καύσωνα",
          "<b>Topic 3</b><br>Words: πλανήτη, ολοένα, περιοχές, ευρώπη, καύσωνα",
          "<b>Topic 3</b><br>Words: αλλαγή, μπορείς, κλιματική, κάνεις, πυρκαγιές",
          "<b>Topic 3</b><br>Words: πουλάνε, νορμάλ, αέρα, φωτιές, θερμοκρασίες",
          "<b>Topic 3</b><br>Words: πυρκαγιές, θερμοκρασία, ευρώπη, αύξηση, στοιχεία",
          "<b>Topic 3</b><br>Words: πυρκαγιές, θερμοκρασία, ευρώπη, αύξηση, στοιχεία",
          "<b>Topic 3</b><br>Words: πυρκαγιές, θερμοκρασία, ευρώπη, αύξηση, στοιχεία",
          "<b>Topic 3</b><br>Words: πυρκαγιές, θερμοκρασία, αύξηση, ευρώπη, στοιχεία",
          "<b>Topic 3</b><br>Words: πυρκαγιές, θερμοκρασία, ευρώπη, αύξηση, στοιχεία",
          "<b>Topic 3</b><br>Words: πυρκαγιές, θερμοκρασία, ευρώπη, αύξηση, στοιχεία",
          "<b>Topic 3</b><br>Words: πυρκαγιές, vouchers, διπλασιάζονται, ελλάδα, 400",
          "<b>Topic 3</b><br>Words: πυρκαγιές, θερμοκρασία, ευρώπη, αύξηση, στοιχεία",
          "<b>Topic 3</b><br>Words: πυρκαγιές, θερμοκρασία, ευρώπη, αύξηση, στοιχεία",
          "<b>Topic 3</b><br>Words: πυρκαγιές, θερμοκρασία, ευρώπη, αύξηση, στοιχεία",
          "<b>Topic 3</b><br>Words: πυρκαγιές, θερμοκρασία, ευρώπη, αύξηση, στοιχεία",
          "<b>Topic 3</b><br>Words: πυρκαγιές, θερμοκρασία, ευρώπη, αύξηση, στοιχεία",
          "<b>Topic 3</b><br>Words: θερμοκρασία, αύξηση, στοιχεία, ευρώπη, κλιματική",
          "<b>Topic 3</b><br>Words: πυρκαγιές, θερμοκρασία, ευρώπη, στοιχεία, αύξηση",
          "<b>Topic 3</b><br>Words: πυρκαγιές, θερμοκρασία, ευρώπη, αύξηση, στοιχεία",
          "<b>Topic 3</b><br>Words: θερμοκρασία, αύξηση, στοιχεία, ευρώπη, κλιματική",
          "<b>Topic 3</b><br>Words: πυρκαγιές, θερμοκρασία, ευρώπη, αύξηση, στοιχεία",
          "<b>Topic 3</b><br>Words: πυρκαγιές, θερμοκρασία, ευρώπη, αύξηση, στοιχεία",
          "<b>Topic 3</b><br>Words: πυρκαγιές, θερμοκρασία, ευρώπη, αύξηση, στοιχεία",
          "<b>Topic 3</b><br>Words: θερμοκρασία, αύξηση, στοιχεία, ευρώπη, κλιματική",
          "<b>Topic 3</b><br>Words: πυρκαγιές, θερμοκρασία, ευρώπη, αύξηση, στοιχεία",
          "<b>Topic 3</b><br>Words: πυρκαγιές, θερμοκρασία, ευρώπη, αύξηση, στοιχεία",
          "<b>Topic 3</b><br>Words: πυρκαγιές, θερμοκρασία, ευρώπη, αύξηση, στοιχεία",
          "<b>Topic 3</b><br>Words: θερμοκρασία, στοιχεία, αύξηση, ευρώπη, κλιματική",
          "<b>Topic 3</b><br>Words: πυρκαγιές, στοιχεία, μπε, απε, ελλάδα",
          "<b>Topic 3</b><br>Words: πυρκαγιές, κλιματική, αλλαγή, στοιχεία, παιδιά",
          "<b>Topic 3</b><br>Words: πυρκαγιές, θερμοκρασία, ευρώπη, αύξηση, στοιχεία",
          "<b>Topic 3</b><br>Words: πυρκαγιές, θερμοκρασία, ευρώπη, αύξηση, στοιχεία",
          "<b>Topic 3</b><br>Words: πυρκαγιές, θερμοκρασία, ευρώπη, αύξηση, στοιχεία",
          "<b>Topic 3</b><br>Words: πυρκαγιές, θερμοκρασία, ευρώπη, αύξηση, στοιχεία",
          "<b>Topic 3</b><br>Words: πυρκαγιές, θερμοκρασία, ευρώπη, αύξηση, στοιχεία",
          "<b>Topic 3</b><br>Words: πυρκαγιές, θερμοκρασία, ευρώπη, αύξηση, στοιχεία",
          "<b>Topic 3</b><br>Words: πυρκαγιές, θερμοκρασία, κλιματική, ευρώπη, αλλαγή",
          "<b>Topic 3</b><br>Words: πυρκαγιές, θερμοκρασία, κλιματική, ευρώπη, αλλαγή",
          "<b>Topic 3</b><br>Words: πυρκαγιές, θερμοκρασία, ευρώπη, αύξηση, στοιχεία",
          "<b>Topic 3</b><br>Words: πυρκαγιές, στοιχεία, ελλάδα, ανάγνωση, αμφιβολίας",
          "<b>Topic 3</b><br>Words: πυρκαγιές, θερμοκρασία, ευρώπη, αύξηση, στοιχεία",
          "<b>Topic 3</b><br>Words: πυρκαγιές, ευρώπη, κλιματική, θερμοκρασία, αλλαγή",
          "<b>Topic 3</b><br>Words: πυρκαγιές, θερμοκρασία, ευρώπη, στοιχεία, αύξηση",
          "<b>Topic 3</b><br>Words: πυρκαγιές, θερμοκρασία, ευρώπη, αύξηση, κλιματική",
          "<b>Topic 3</b><br>Words: πυρκαγιές, θερμοκρασία, ευρώπη, αύξηση, στοιχεία",
          "<b>Topic 3</b><br>Words: μέση, συχνά, ανατολή, θερμοκρασίες, πυρκαγιές",
          "<b>Topic 3</b><br>Words: ιουλίου, πυρκαγιές, θερμοκρασίες, κύμα, πάγου",
          "<b>Topic 3</b><br>Words: πυρκαγιάς, κινδύνου, αύξηση, πυρκαγιών, ευρώπη",
          "<b>Topic 3</b><br>Words: πυρκαγιάς, κινδύνου, αύξηση, ευρώπη, πυρκαγιών",
          "<b>Topic 3</b><br>Words: πυρκαγιές, πυρκαγιών, πυροσβέστες, δασικών, δασικές",
          "<b>Topic 3</b><br>Words: πυρκαγιές, ευρώπη, πυρκαγιών, κλιματική, αύξηση",
          "<b>Topic 3</b><br>Words: πυρκαγιές, αναμένεται, μέση, θερμοκρασία, ελλάδα",
          "<b>Topic 3</b><br>Words: mcguire, πυρκαγιές, θερμοκρασία, λέει, κλιματική",
          "<b>Topic 3</b><br>Words: 01, 08, 2022, επιστημονικα, νεα",
          "<b>Topic 3</b><br>Words: πυρκαγιές, στρέμματα, χρόνια, υπηρεσία, δασική",
          "<b>Topic 3</b><br>Words: ζέστη, θανάτων, κλιματική, 2018, πυρκαγιές",
          "<b>Topic 3</b><br>Words: 08, 2022, 11, ευρώπη, πυρκαγιές",
          "<b>Topic 3</b><br>Words: πυρκαγιές, φωτιές, επανδρωμένα, χαρακτηριστούν, δάση",
          "<b>Topic 3</b><br>Words: ευρώπη, ισπανία, ιταλία, βαλένθια, σαρώνουν",
          "<b>Topic 3</b><br>Words: 08, 25, 2022, δασών, επιστημονικα",
          "<b>Topic 3</b><br>Words: πυρκαγιές, θερμοκρασίας, θυελλώδεις, ελλάδα, αύξηση"
         ],
         "marker": {
          "color": "#F0E442"
         },
         "mode": "lines",
         "name": "3_πυρκαγιές_ευρώπη_θερμοκρασία_κλιματική",
         "type": "scatter",
         "x": [
          "2021-10-02T13:10:11",
          "2021-10-08T11:44:33",
          "2021-10-08T13:00:00",
          "2021-10-15T17:15:25",
          "2021-10-22T09:35:43",
          "2021-10-26T08:31:00",
          "2021-10-26T09:50:57",
          "2021-10-31T07:00:00",
          "2021-11-03T09:30:48",
          "2021-11-07T11:00:00",
          "2021-11-07T17:12:53",
          "2021-11-18T21:28:00",
          "2021-11-29T11:48:18",
          "2022-01-13T07:11:25",
          "2022-03-14T12:38:49",
          "2022-04-04T06:10:00",
          "2022-04-14T08:30:49",
          "2022-04-14T16:10:06",
          "2022-04-14T20:54:00",
          "2022-04-17T17:43:03",
          "2022-06-05T07:03:00",
          "2022-06-08T10:30:00",
          "2022-06-14T12:00:14",
          "2022-06-23T03:00:14",
          "2022-06-27T06:01:31",
          "2022-06-29T07:10:00",
          "2022-07-01T07:52:32",
          "2022-07-01T15:00:38",
          "2022-07-03T05:45:51",
          "2022-07-17T11:58:48",
          "2022-07-17T19:24:22",
          "2022-07-18T08:08:00",
          "2022-07-18T09:11:00",
          "2022-07-18T10:42:43",
          "2022-07-18T12:45:00",
          "2022-07-19T03:33:42",
          "2022-07-19T04:08:00",
          "2022-07-19T13:08:52",
          "2022-07-21T14:16:49",
          "2022-07-23T05:03:00",
          "2022-07-23T05:15:00",
          "2022-07-23T05:43:54",
          "2022-07-23T06:00:00",
          "2022-07-23T06:09:23",
          "2022-07-23T06:29:00",
          "2022-07-23T06:31:56",
          "2022-07-23T06:39:04",
          "2022-07-23T06:46:39",
          "2022-07-23T07:01:55",
          "2022-07-23T07:09:12",
          "2022-07-23T07:19:32",
          "2022-07-23T07:23:00",
          "2022-07-23T07:34:51",
          "2022-07-23T07:37:30",
          "2022-07-23T07:44:40",
          "2022-07-23T07:49:00",
          "2022-07-23T07:52:00",
          "2022-07-23T08:21:45",
          "2022-07-23T08:30:13",
          "2022-07-23T08:36:32",
          "2022-07-23T08:38:00",
          "2022-07-23T09:10:00",
          "2022-07-23T09:19:54",
          "2022-07-23T09:22:43",
          "2022-07-23T09:56:08",
          "2022-07-23T10:00:07",
          "2022-07-23T10:15:05",
          "2022-07-23T10:30:00",
          "2022-07-23T12:30:00",
          "2022-07-23T12:44:09",
          "2022-07-23T14:00:00",
          "2022-07-23T14:30:53",
          "2022-07-23T15:40:10",
          "2022-07-23T16:00:53",
          "2022-07-23T23:10:00",
          "2022-07-24T06:30:57",
          "2022-07-24T10:18:35",
          "2022-07-24T11:06:00",
          "2022-07-24T13:00:00",
          "2022-07-25T15:10:39",
          "2022-07-25T21:10:00",
          "2022-07-26T02:40:58",
          "2022-07-28T15:15:00",
          "2022-07-28T19:50:29",
          "2022-07-29T16:49:00",
          "2022-07-30T04:45:05",
          "2022-07-31T08:08:35",
          "2022-08-01T04:50:39",
          "2022-08-01T08:38:23",
          "2022-08-05T09:35:13",
          "2022-08-06T10:37:26",
          "2022-08-11T03:00:00",
          "2022-08-13T06:57:06",
          "2022-08-19T18:54:00",
          "2022-08-25T15:47:14",
          "2022-08-26T08:53:00"
         ],
         "y": [
          1,
          1,
          1,
          1,
          1,
          1,
          1,
          1,
          1,
          1,
          1,
          1,
          1,
          1,
          1,
          1,
          1,
          1,
          1,
          1,
          1,
          1,
          1,
          1,
          1,
          1,
          1,
          1,
          1,
          1,
          1,
          1,
          1,
          1,
          1,
          1,
          1,
          1,
          1,
          1,
          1,
          1,
          1,
          1,
          1,
          1,
          1,
          1,
          1,
          1,
          1,
          1,
          1,
          1,
          1,
          1,
          1,
          1,
          1,
          1,
          1,
          1,
          1,
          1,
          1,
          1,
          1,
          1,
          1,
          1,
          1,
          1,
          1,
          1,
          1,
          1,
          1,
          1,
          1,
          1,
          1,
          1,
          1,
          1,
          1,
          1,
          1,
          1,
          1,
          1,
          1,
          1,
          1,
          1,
          1,
          1
         ]
        },
        {
         "hoverinfo": "text",
         "hovertext": [
          "<b>Topic 4</b><br>Words: τροφίμων, τιμές, τιμών, τρόφιμα, fao",
          "<b>Topic 4</b><br>Words: τροφίμων, τιμές, τιμών, τρόφιμα, fao",
          "<b>Topic 4</b><br>Words: μαρκετ, ράφια, σούπερ, video, αυξήσεις",
          "<b>Topic 4</b><br>Words: αμνηστία, διεθνής, ξηρασία, μαδαγασκάρης, ανθρωπιστική",
          "<b>Topic 4</b><br>Words: αμνηστία, διεθνής, ξηρασία, μαδαγασκάρης, ανθρωπιστική",
          "<b>Topic 4</b><br>Words: αμνηστία, διεθνής, ξηρασία, μαδαγασκάρης, έκθεση",
          "<b>Topic 4</b><br>Words: αμνηστία, διεθνής, ξηρασία, μαδαγασκάρης, ανθρωπιστική",
          "<b>Topic 4</b><br>Words: αμνηστία, διεθνής, ξηρασία, mixanitouxronou, μαδαγασκάρης",
          "<b>Topic 4</b><br>Words: εκατομμύρια, πεπ, αφγανιστάν, λιμού, οξείας",
          "<b>Topic 4</b><br>Words: λουκασένκο, λευκορωσία, ειδήσεις, καθεστώς, kathimerini",
          "<b>Topic 4</b><br>Words: σουδάν, νότιο, νιώθουμε, πλημμύρες, τροφίμων",
          "<b>Topic 4</b><br>Words: σομαλία, οηε, βοήθεια, ανθρωπιστική, συγκρούσεις",
          "<b>Topic 4</b><br>Words: σομαλία, οηε, βοήθεια, ανθρωπιστική, συγκρούσεις",
          "<b>Topic 4</b><br>Words: σομαλία, βοήθεια, οηε, ανθρωπιστική, συγκρούσεις",
          "<b>Topic 4</b><br>Words: σομαλία, οηε, βοήθεια, ανθρωπιστική, συγκρούσεις",
          "<b>Topic 4</b><br>Words: σομαλία, οηε, βοήθεια, ανθρωπιστική, συγκρούσεις",
          "<b>Topic 4</b><br>Words: σομαλία, βοήθεια, ανθρωπιστική, οηε, συγκρούσεις",
          "<b>Topic 4</b><br>Words: σομαλία, οηε, βοήθεια, ανθρωπιστική, συγκρούσεις",
          "<b>Topic 4</b><br>Words: σομαλία, οηε, βοήθεια, ανθρωπιστική, εκατομμύρια",
          "<b>Topic 4</b><br>Words: ιθακης, κεθεα, κοινότητας, προϊόντα, προϊόντων",
          "<b>Topic 4</b><br>Words: 08, 02, 2022, εκατομμύρια, τροφίμων",
          "<b>Topic 4</b><br>Words: δήλωσαν, ηγέτες, g7, ιστορίας, ουκρανία",
          "<b>Topic 4</b><br>Words: πρόβλημα, λεπτά, καρτέλ, ψωμιού, τιμή",
          "<b>Topic 4</b><br>Words: ουκρανία, ρωσία, σιταριού, τροφίμων, εξαγωγές",
          "<b>Topic 4</b><br>Words: τροφίμων, οηε, αλυσιδωτές, αναφέρει, τιμές",
          "<b>Topic 4</b><br>Words: τροφίμων, επισιτιστική, ουκρανία, παραγωγή, τιμές",
          "<b>Topic 4</b><br>Words: ρωσία, τροφίμων, ουκρανία, ουκρανίας, πούτιν",
          "<b>Topic 4</b><br>Words: επισιτιστική, πόλεμος, ξεμένουμε, κλείδωμα, εξεγέρσεις",
          "<b>Topic 4</b><br>Words: ποικιλιών, τοπικών, βιοποικιλότητας, τροφίμων, γεωργίας",
          "<b>Topic 4</b><br>Words: εκατομμύρια, επισιτιστική, 2022, μαΐου, τροφίμων",
          "<b>Topic 4</b><br>Words: τροφίμων, κρίση, επισιτιστική, εκατομμύρια, οηε",
          "<b>Topic 4</b><br>Words: τροφίμων, επισιτιστική, ουκρανία, τιμές, χώρες",
          "<b>Topic 4</b><br>Words: τροφίμων, επισιτιστική, ουκρανία, τιμές, χώρες",
          "<b>Topic 4</b><br>Words: τροφίμων, επισιτιστική, ουκρανία, τιμές, χώρες",
          "<b>Topic 4</b><br>Words: τροφίμων, επισιτιστική, τιμές, ουκρανία, κρίση",
          "<b>Topic 4</b><br>Words: επισιτιστικής, δήλωσε, επισιτιστική, g20, κρίση",
          "<b>Topic 4</b><br>Words: φάσο, μπουρκίνα, γκράντι, τσαντ, σάχελ",
          "<b>Topic 4</b><br>Words: μουστάρδας, γάλλων, dijon, μουστάρδα, ντιζόν",
          "<b>Topic 4</b><br>Words: τροφίμων, αβοκάντο, τιμές, επισιτιστική, ανησυχείτε",
          "<b>Topic 4</b><br>Words: πείνα, μαδαγασκάρη, μαδαγασκάρης, λιμό, κέρε",
          "<b>Topic 4</b><br>Words: επισιτιστική, πολέμου, ρωσία, γκρίνφιλντ, τροφίμων",
          "<b>Topic 4</b><br>Words: επισιτιστική, πολέμου, ρωσία, τροφίμων, γκρίνφιλντ",
          "<b>Topic 4</b><br>Words: επισιτιστική, πολέμου, ρωσία, τροφίμων, δολάρια",
          "<b>Topic 4</b><br>Words: επισιτιστική, πολέμου, ρωσία, γκρίνφιλντ, τροφίμων",
          "<b>Topic 4</b><br>Words: επισιτιστική, πολέμου, ρωσία, τροφίμων, γκρίνφιλντ",
          "<b>Topic 4</b><br>Words: επισιτιστική, πολέμου, ρωσία, γκρίνφιλντ, τροφίμων",
          "<b>Topic 4</b><br>Words: επισιτιστική, πολέμου, ρωσία, τροφίμων, γκρίνφιλντ",
          "<b>Topic 4</b><br>Words: επισιτιστική, πολέμου, ρωσία, γκρίνφιλντ, τροφίμων",
          "<b>Topic 4</b><br>Words: επισιτιστική, πολέμου, ρωσία, γκρίνφιλντ, τροφίμων",
          "<b>Topic 4</b><br>Words: επισιτιστική, πολέμου, ρωσία, γκρίνφιλντ, τροφίμων",
          "<b>Topic 4</b><br>Words: επισιτιστική, πολέμου, ρωσία, γκρίνφιλντ, τροφίμων",
          "<b>Topic 4</b><br>Words: επισιτιστική, πολέμου, ρωσία, γκρίνφιλντ, τροφίμων",
          "<b>Topic 4</b><br>Words: επισιτιστική, πολέμου, ρωσία, ουκρανία, τροφίμων",
          "<b>Topic 4</b><br>Words: επισιτιστική, πολέμου, ρωσία, γκρίνφιλντ, τροφίμων",
          "<b>Topic 4</b><br>Words: επισιτιστική, πολέμου, ρωσία, γκρίνφιλντ, τροφίμων",
          "<b>Topic 4</b><br>Words: επισιτιστική, πολέμου, ρωσία, τροφίμων, δολάρια",
          "<b>Topic 4</b><br>Words: επισιτιστική, πολέμου, ρωσία, γκρίνφιλντ, τροφίμων",
          "<b>Topic 4</b><br>Words: επισιτιστική, γκρίνφιλντ, τροφίμων, ουκρανία, κυρώσεις",
          "<b>Topic 4</b><br>Words: επισιτιστική, πολέμου, ρωσία, τροφίμων, δολάρια",
          "<b>Topic 4</b><br>Words: επισιτιστική, πολέμου, ρωσία, τροφίμων, γκρίνφιλντ",
          "<b>Topic 4</b><br>Words: jquery, appendto, ρώσος, ρωσία, empty",
          "<b>Topic 4</b><br>Words: τροφίμων, πείνας, οηε, λιμό, ουκρανία",
          "<b>Topic 4</b><br>Words: jquery, appendto, empty, dv200, dv202",
          "<b>Topic 4</b><br>Words: εκατομμύρια, φλάισερ, wfp, έλλειψη, επισιτιστική",
          "<b>Topic 4</b><br>Words: εκατομμύρια, φλάισερ, επισιτιστική, wfp, ιράκ",
          "<b>Topic 4</b><br>Words: wfp, φλάισερ, εκατομμύρια, άνθρωποι, συγκρούσεις",
          "<b>Topic 4</b><br>Words: wfp, φλάισερ, εκατομμύρια, πόλεμος, παγκοσμίως",
          "<b>Topic 4</b><br>Words: επισιτιστική, γυναίκες, τροφίμων, εκατομμύρια, ουκρανία",
          "<b>Topic 4</b><br>Words: 09, 2022, εκατομμύρια, 16, επισιτιστική",
          "<b>Topic 4</b><br>Words: συνέλευση, γενική, ουκρανία, επισιτιστική, οηε"
         ],
         "marker": {
          "color": "#D55E00"
         },
         "mode": "lines",
         "name": "4_τροφίμων_επισιτιστική_ουκρανία_εκατομμ...",
         "type": "scatter",
         "x": [
          "2021-10-02T11:58:38",
          "2021-10-02T20:21:42",
          "2021-10-26T13:15:00",
          "2021-10-27T10:50:36",
          "2021-10-27T11:03:30",
          "2021-10-27T11:05:24",
          "2021-10-27T14:35:45",
          "2021-10-27T15:30:18",
          "2021-11-08T04:37:27",
          "2021-11-08T23:10:00",
          "2021-12-12T05:12:00",
          "2021-12-20T07:49:04",
          "2021-12-20T07:56:00",
          "2021-12-20T07:57:24",
          "2021-12-20T08:12:21",
          "2021-12-20T08:30:00",
          "2021-12-20T08:38:00",
          "2021-12-20T09:06:24",
          "2021-12-20T09:13:37",
          "2021-12-26T17:50:03",
          "2022-02-08T11:07:39",
          "2022-02-24T17:00:00",
          "2022-03-17T11:51:37",
          "2022-03-25T23:39:00",
          "2022-04-15T06:29:09",
          "2022-05-05T18:15:39",
          "2022-05-22T20:55:50",
          "2022-05-29T13:49:33",
          "2022-06-01T16:51:11",
          "2022-06-01T22:33:00",
          "2022-06-12T05:10:00",
          "2022-06-14T15:37:43",
          "2022-06-14T18:00:20",
          "2022-06-14T18:51:26",
          "2022-06-15T04:36:08",
          "2022-07-15T09:19:44",
          "2022-07-15T11:35:31",
          "2022-07-16T23:07:00",
          "2022-08-02T21:00:00",
          "2022-08-05T02:40:02",
          "2022-08-05T16:53:00",
          "2022-08-05T17:08:18",
          "2022-08-05T17:08:39",
          "2022-08-05T17:10:16",
          "2022-08-05T17:15:00",
          "2022-08-05T17:16:00",
          "2022-08-05T17:28:42",
          "2022-08-05T17:30:22",
          "2022-08-05T17:30:32",
          "2022-08-05T17:50:00",
          "2022-08-05T18:03:43",
          "2022-08-05T18:12:58",
          "2022-08-05T18:20:14",
          "2022-08-05T18:21:00",
          "2022-08-05T18:45:00",
          "2022-08-05T18:58:24",
          "2022-08-05T19:38:00",
          "2022-08-05T20:03:00",
          "2022-08-05T20:15:00",
          "2022-08-06T04:56:00",
          "2022-08-06T19:00:00",
          "2022-08-16T12:11:49",
          "2022-08-24T16:15:00",
          "2022-08-24T18:00:02",
          "2022-08-24T19:44:51",
          "2022-08-25T07:11:10",
          "2022-08-25T08:13:46",
          "2022-08-30T06:50:13",
          "2022-09-16T09:40:29",
          "2022-09-21T06:54:00"
         ],
         "y": [
          1,
          1,
          1,
          1,
          1,
          1,
          1,
          1,
          1,
          1,
          1,
          1,
          1,
          1,
          1,
          1,
          1,
          1,
          1,
          1,
          1,
          1,
          1,
          1,
          1,
          1,
          1,
          1,
          1,
          1,
          1,
          1,
          1,
          1,
          1,
          1,
          1,
          1,
          1,
          1,
          1,
          1,
          1,
          1,
          1,
          1,
          1,
          1,
          1,
          1,
          1,
          1,
          1,
          1,
          1,
          1,
          1,
          1,
          1,
          1,
          1,
          1,
          1,
          1,
          1,
          1,
          1,
          1,
          1,
          1
         ]
        }
       ],
       "layout": {
        "height": 450,
        "hoverlabel": {
         "bgcolor": "white",
         "font": {
          "family": "Rockwell",
          "size": 16
         }
        },
        "legend": {
         "title": {
          "text": "<b>Global Topic Representation"
         }
        },
        "template": {
         "data": {
          "bar": [
           {
            "error_x": {
             "color": "rgb(36,36,36)"
            },
            "error_y": {
             "color": "rgb(36,36,36)"
            },
            "marker": {
             "line": {
              "color": "white",
              "width": 0.5
             },
             "pattern": {
              "fillmode": "overlay",
              "size": 10,
              "solidity": 0.2
             }
            },
            "type": "bar"
           }
          ],
          "barpolar": [
           {
            "marker": {
             "line": {
              "color": "white",
              "width": 0.5
             },
             "pattern": {
              "fillmode": "overlay",
              "size": 10,
              "solidity": 0.2
             }
            },
            "type": "barpolar"
           }
          ],
          "carpet": [
           {
            "aaxis": {
             "endlinecolor": "rgb(36,36,36)",
             "gridcolor": "white",
             "linecolor": "white",
             "minorgridcolor": "white",
             "startlinecolor": "rgb(36,36,36)"
            },
            "baxis": {
             "endlinecolor": "rgb(36,36,36)",
             "gridcolor": "white",
             "linecolor": "white",
             "minorgridcolor": "white",
             "startlinecolor": "rgb(36,36,36)"
            },
            "type": "carpet"
           }
          ],
          "choropleth": [
           {
            "colorbar": {
             "outlinewidth": 1,
             "tickcolor": "rgb(36,36,36)",
             "ticks": "outside"
            },
            "type": "choropleth"
           }
          ],
          "contour": [
           {
            "colorbar": {
             "outlinewidth": 1,
             "tickcolor": "rgb(36,36,36)",
             "ticks": "outside"
            },
            "colorscale": [
             [
              0,
              "#440154"
             ],
             [
              0.1111111111111111,
              "#482878"
             ],
             [
              0.2222222222222222,
              "#3e4989"
             ],
             [
              0.3333333333333333,
              "#31688e"
             ],
             [
              0.4444444444444444,
              "#26828e"
             ],
             [
              0.5555555555555556,
              "#1f9e89"
             ],
             [
              0.6666666666666666,
              "#35b779"
             ],
             [
              0.7777777777777778,
              "#6ece58"
             ],
             [
              0.8888888888888888,
              "#b5de2b"
             ],
             [
              1,
              "#fde725"
             ]
            ],
            "type": "contour"
           }
          ],
          "contourcarpet": [
           {
            "colorbar": {
             "outlinewidth": 1,
             "tickcolor": "rgb(36,36,36)",
             "ticks": "outside"
            },
            "type": "contourcarpet"
           }
          ],
          "heatmap": [
           {
            "colorbar": {
             "outlinewidth": 1,
             "tickcolor": "rgb(36,36,36)",
             "ticks": "outside"
            },
            "colorscale": [
             [
              0,
              "#440154"
             ],
             [
              0.1111111111111111,
              "#482878"
             ],
             [
              0.2222222222222222,
              "#3e4989"
             ],
             [
              0.3333333333333333,
              "#31688e"
             ],
             [
              0.4444444444444444,
              "#26828e"
             ],
             [
              0.5555555555555556,
              "#1f9e89"
             ],
             [
              0.6666666666666666,
              "#35b779"
             ],
             [
              0.7777777777777778,
              "#6ece58"
             ],
             [
              0.8888888888888888,
              "#b5de2b"
             ],
             [
              1,
              "#fde725"
             ]
            ],
            "type": "heatmap"
           }
          ],
          "heatmapgl": [
           {
            "colorbar": {
             "outlinewidth": 1,
             "tickcolor": "rgb(36,36,36)",
             "ticks": "outside"
            },
            "colorscale": [
             [
              0,
              "#440154"
             ],
             [
              0.1111111111111111,
              "#482878"
             ],
             [
              0.2222222222222222,
              "#3e4989"
             ],
             [
              0.3333333333333333,
              "#31688e"
             ],
             [
              0.4444444444444444,
              "#26828e"
             ],
             [
              0.5555555555555556,
              "#1f9e89"
             ],
             [
              0.6666666666666666,
              "#35b779"
             ],
             [
              0.7777777777777778,
              "#6ece58"
             ],
             [
              0.8888888888888888,
              "#b5de2b"
             ],
             [
              1,
              "#fde725"
             ]
            ],
            "type": "heatmapgl"
           }
          ],
          "histogram": [
           {
            "marker": {
             "line": {
              "color": "white",
              "width": 0.6
             }
            },
            "type": "histogram"
           }
          ],
          "histogram2d": [
           {
            "colorbar": {
             "outlinewidth": 1,
             "tickcolor": "rgb(36,36,36)",
             "ticks": "outside"
            },
            "colorscale": [
             [
              0,
              "#440154"
             ],
             [
              0.1111111111111111,
              "#482878"
             ],
             [
              0.2222222222222222,
              "#3e4989"
             ],
             [
              0.3333333333333333,
              "#31688e"
             ],
             [
              0.4444444444444444,
              "#26828e"
             ],
             [
              0.5555555555555556,
              "#1f9e89"
             ],
             [
              0.6666666666666666,
              "#35b779"
             ],
             [
              0.7777777777777778,
              "#6ece58"
             ],
             [
              0.8888888888888888,
              "#b5de2b"
             ],
             [
              1,
              "#fde725"
             ]
            ],
            "type": "histogram2d"
           }
          ],
          "histogram2dcontour": [
           {
            "colorbar": {
             "outlinewidth": 1,
             "tickcolor": "rgb(36,36,36)",
             "ticks": "outside"
            },
            "colorscale": [
             [
              0,
              "#440154"
             ],
             [
              0.1111111111111111,
              "#482878"
             ],
             [
              0.2222222222222222,
              "#3e4989"
             ],
             [
              0.3333333333333333,
              "#31688e"
             ],
             [
              0.4444444444444444,
              "#26828e"
             ],
             [
              0.5555555555555556,
              "#1f9e89"
             ],
             [
              0.6666666666666666,
              "#35b779"
             ],
             [
              0.7777777777777778,
              "#6ece58"
             ],
             [
              0.8888888888888888,
              "#b5de2b"
             ],
             [
              1,
              "#fde725"
             ]
            ],
            "type": "histogram2dcontour"
           }
          ],
          "mesh3d": [
           {
            "colorbar": {
             "outlinewidth": 1,
             "tickcolor": "rgb(36,36,36)",
             "ticks": "outside"
            },
            "type": "mesh3d"
           }
          ],
          "parcoords": [
           {
            "line": {
             "colorbar": {
              "outlinewidth": 1,
              "tickcolor": "rgb(36,36,36)",
              "ticks": "outside"
             }
            },
            "type": "parcoords"
           }
          ],
          "pie": [
           {
            "automargin": true,
            "type": "pie"
           }
          ],
          "scatter": [
           {
            "fillpattern": {
             "fillmode": "overlay",
             "size": 10,
             "solidity": 0.2
            },
            "type": "scatter"
           }
          ],
          "scatter3d": [
           {
            "line": {
             "colorbar": {
              "outlinewidth": 1,
              "tickcolor": "rgb(36,36,36)",
              "ticks": "outside"
             }
            },
            "marker": {
             "colorbar": {
              "outlinewidth": 1,
              "tickcolor": "rgb(36,36,36)",
              "ticks": "outside"
             }
            },
            "type": "scatter3d"
           }
          ],
          "scattercarpet": [
           {
            "marker": {
             "colorbar": {
              "outlinewidth": 1,
              "tickcolor": "rgb(36,36,36)",
              "ticks": "outside"
             }
            },
            "type": "scattercarpet"
           }
          ],
          "scattergeo": [
           {
            "marker": {
             "colorbar": {
              "outlinewidth": 1,
              "tickcolor": "rgb(36,36,36)",
              "ticks": "outside"
             }
            },
            "type": "scattergeo"
           }
          ],
          "scattergl": [
           {
            "marker": {
             "colorbar": {
              "outlinewidth": 1,
              "tickcolor": "rgb(36,36,36)",
              "ticks": "outside"
             }
            },
            "type": "scattergl"
           }
          ],
          "scattermapbox": [
           {
            "marker": {
             "colorbar": {
              "outlinewidth": 1,
              "tickcolor": "rgb(36,36,36)",
              "ticks": "outside"
             }
            },
            "type": "scattermapbox"
           }
          ],
          "scatterpolar": [
           {
            "marker": {
             "colorbar": {
              "outlinewidth": 1,
              "tickcolor": "rgb(36,36,36)",
              "ticks": "outside"
             }
            },
            "type": "scatterpolar"
           }
          ],
          "scatterpolargl": [
           {
            "marker": {
             "colorbar": {
              "outlinewidth": 1,
              "tickcolor": "rgb(36,36,36)",
              "ticks": "outside"
             }
            },
            "type": "scatterpolargl"
           }
          ],
          "scatterternary": [
           {
            "marker": {
             "colorbar": {
              "outlinewidth": 1,
              "tickcolor": "rgb(36,36,36)",
              "ticks": "outside"
             }
            },
            "type": "scatterternary"
           }
          ],
          "surface": [
           {
            "colorbar": {
             "outlinewidth": 1,
             "tickcolor": "rgb(36,36,36)",
             "ticks": "outside"
            },
            "colorscale": [
             [
              0,
              "#440154"
             ],
             [
              0.1111111111111111,
              "#482878"
             ],
             [
              0.2222222222222222,
              "#3e4989"
             ],
             [
              0.3333333333333333,
              "#31688e"
             ],
             [
              0.4444444444444444,
              "#26828e"
             ],
             [
              0.5555555555555556,
              "#1f9e89"
             ],
             [
              0.6666666666666666,
              "#35b779"
             ],
             [
              0.7777777777777778,
              "#6ece58"
             ],
             [
              0.8888888888888888,
              "#b5de2b"
             ],
             [
              1,
              "#fde725"
             ]
            ],
            "type": "surface"
           }
          ],
          "table": [
           {
            "cells": {
             "fill": {
              "color": "rgb(237,237,237)"
             },
             "line": {
              "color": "white"
             }
            },
            "header": {
             "fill": {
              "color": "rgb(217,217,217)"
             },
             "line": {
              "color": "white"
             }
            },
            "type": "table"
           }
          ]
         },
         "layout": {
          "annotationdefaults": {
           "arrowhead": 0,
           "arrowwidth": 1
          },
          "autotypenumbers": "strict",
          "coloraxis": {
           "colorbar": {
            "outlinewidth": 1,
            "tickcolor": "rgb(36,36,36)",
            "ticks": "outside"
           }
          },
          "colorscale": {
           "diverging": [
            [
             0,
             "rgb(103,0,31)"
            ],
            [
             0.1,
             "rgb(178,24,43)"
            ],
            [
             0.2,
             "rgb(214,96,77)"
            ],
            [
             0.3,
             "rgb(244,165,130)"
            ],
            [
             0.4,
             "rgb(253,219,199)"
            ],
            [
             0.5,
             "rgb(247,247,247)"
            ],
            [
             0.6,
             "rgb(209,229,240)"
            ],
            [
             0.7,
             "rgb(146,197,222)"
            ],
            [
             0.8,
             "rgb(67,147,195)"
            ],
            [
             0.9,
             "rgb(33,102,172)"
            ],
            [
             1,
             "rgb(5,48,97)"
            ]
           ],
           "sequential": [
            [
             0,
             "#440154"
            ],
            [
             0.1111111111111111,
             "#482878"
            ],
            [
             0.2222222222222222,
             "#3e4989"
            ],
            [
             0.3333333333333333,
             "#31688e"
            ],
            [
             0.4444444444444444,
             "#26828e"
            ],
            [
             0.5555555555555556,
             "#1f9e89"
            ],
            [
             0.6666666666666666,
             "#35b779"
            ],
            [
             0.7777777777777778,
             "#6ece58"
            ],
            [
             0.8888888888888888,
             "#b5de2b"
            ],
            [
             1,
             "#fde725"
            ]
           ],
           "sequentialminus": [
            [
             0,
             "#440154"
            ],
            [
             0.1111111111111111,
             "#482878"
            ],
            [
             0.2222222222222222,
             "#3e4989"
            ],
            [
             0.3333333333333333,
             "#31688e"
            ],
            [
             0.4444444444444444,
             "#26828e"
            ],
            [
             0.5555555555555556,
             "#1f9e89"
            ],
            [
             0.6666666666666666,
             "#35b779"
            ],
            [
             0.7777777777777778,
             "#6ece58"
            ],
            [
             0.8888888888888888,
             "#b5de2b"
            ],
            [
             1,
             "#fde725"
            ]
           ]
          },
          "colorway": [
           "#1F77B4",
           "#FF7F0E",
           "#2CA02C",
           "#D62728",
           "#9467BD",
           "#8C564B",
           "#E377C2",
           "#7F7F7F",
           "#BCBD22",
           "#17BECF"
          ],
          "font": {
           "color": "rgb(36,36,36)"
          },
          "geo": {
           "bgcolor": "white",
           "lakecolor": "white",
           "landcolor": "white",
           "showlakes": true,
           "showland": true,
           "subunitcolor": "white"
          },
          "hoverlabel": {
           "align": "left"
          },
          "hovermode": "closest",
          "mapbox": {
           "style": "light"
          },
          "paper_bgcolor": "white",
          "plot_bgcolor": "white",
          "polar": {
           "angularaxis": {
            "gridcolor": "rgb(232,232,232)",
            "linecolor": "rgb(36,36,36)",
            "showgrid": false,
            "showline": true,
            "ticks": "outside"
           },
           "bgcolor": "white",
           "radialaxis": {
            "gridcolor": "rgb(232,232,232)",
            "linecolor": "rgb(36,36,36)",
            "showgrid": false,
            "showline": true,
            "ticks": "outside"
           }
          },
          "scene": {
           "xaxis": {
            "backgroundcolor": "white",
            "gridcolor": "rgb(232,232,232)",
            "gridwidth": 2,
            "linecolor": "rgb(36,36,36)",
            "showbackground": true,
            "showgrid": false,
            "showline": true,
            "ticks": "outside",
            "zeroline": false,
            "zerolinecolor": "rgb(36,36,36)"
           },
           "yaxis": {
            "backgroundcolor": "white",
            "gridcolor": "rgb(232,232,232)",
            "gridwidth": 2,
            "linecolor": "rgb(36,36,36)",
            "showbackground": true,
            "showgrid": false,
            "showline": true,
            "ticks": "outside",
            "zeroline": false,
            "zerolinecolor": "rgb(36,36,36)"
           },
           "zaxis": {
            "backgroundcolor": "white",
            "gridcolor": "rgb(232,232,232)",
            "gridwidth": 2,
            "linecolor": "rgb(36,36,36)",
            "showbackground": true,
            "showgrid": false,
            "showline": true,
            "ticks": "outside",
            "zeroline": false,
            "zerolinecolor": "rgb(36,36,36)"
           }
          },
          "shapedefaults": {
           "fillcolor": "black",
           "line": {
            "width": 0
           },
           "opacity": 0.3
          },
          "ternary": {
           "aaxis": {
            "gridcolor": "rgb(232,232,232)",
            "linecolor": "rgb(36,36,36)",
            "showgrid": false,
            "showline": true,
            "ticks": "outside"
           },
           "baxis": {
            "gridcolor": "rgb(232,232,232)",
            "linecolor": "rgb(36,36,36)",
            "showgrid": false,
            "showline": true,
            "ticks": "outside"
           },
           "bgcolor": "white",
           "caxis": {
            "gridcolor": "rgb(232,232,232)",
            "linecolor": "rgb(36,36,36)",
            "showgrid": false,
            "showline": true,
            "ticks": "outside"
           }
          },
          "title": {
           "x": 0.05
          },
          "xaxis": {
           "automargin": true,
           "gridcolor": "rgb(232,232,232)",
           "linecolor": "rgb(36,36,36)",
           "showgrid": false,
           "showline": true,
           "ticks": "outside",
           "title": {
            "standoff": 15
           },
           "zeroline": false,
           "zerolinecolor": "rgb(36,36,36)"
          },
          "yaxis": {
           "automargin": true,
           "gridcolor": "rgb(232,232,232)",
           "linecolor": "rgb(36,36,36)",
           "showgrid": false,
           "showline": true,
           "ticks": "outside",
           "title": {
            "standoff": 15
           },
           "zeroline": false,
           "zerolinecolor": "rgb(36,36,36)"
          }
         }
        },
        "title": {
         "font": {
          "color": "Black",
          "size": 22
         },
         "text": "<b>Topics over Time",
         "x": 0.4,
         "xanchor": "center",
         "y": 0.95,
         "yanchor": "top"
        },
        "width": 1250,
        "xaxis": {
         "autorange": true,
         "range": [
          "2021-10-01 20:02:49",
          "2022-09-28 11:42:05"
         ],
         "showgrid": true,
         "type": "date"
        },
        "yaxis": {
         "autorange": true,
         "range": [
          0.9444444444444444,
          2.0555555555555554
         ],
         "showgrid": true,
         "title": {
          "text": "Frequency"
         },
         "type": "linear"
        }
       }
      },
      "image/png": "[encoded data removed]",
      "text/html": [
       "<div>                            <div id=\"5d9606aa-1a1f-49e7-a930-9f4e4f7aace2\" class=\"plotly-graph-div\" style=\"height:450px; width:1250px;\"></div>            <script type=\"text/javascript\">                require([\"plotly\"], function(Plotly) {                    window.PLOTLYENV=window.PLOTLYENV || {};                                    if (document.getElementById(\"5d9606aa-1a1f-49e7-a930-9f4e4f7aace2\")) {                    Plotly.newPlot(                        \"5d9606aa-1a1f-49e7-a930-9f4e4f7aace2\",                        [{\"hoverinfo\":\"text\",\"hovertext\":[\"<b>Topic 0</b><br>Words: \\u03b3\\u03b7\\u03c2, \\u03bb\\u03b1\\u03bc\\u03c0\\u03c1\\u03cc\\u03c4\\u03b7\\u03c4\\u03b1, \\u03bc\\u03b5\\u03af\\u03c9\\u03c3\\u03b7, \\u03bb\\u03b1\\u03bc\\u03c0\\u03c1\\u03cc\\u03c4\\u03b7\\u03c4\\u03b1\\u03c2, \\u03ae\\u03bb\\u03b9\\u03bf\\u03c5\",\"<b>Topic 0</b><br>Words: \\u03c0\\u03b5\\u03c1\\u03b9\\u03b2\\u03b1\\u03bb\\u03bb\\u03bf\\u03bd\\u03c4\\u03b9\\u03ba\\u03cc, \\u03c3\\u03c0\\u03af\\u03c4\\u03b9, \\u03b1\\u03c0\\u03bf\\u03c4\\u03cd\\u03c0\\u03c9\\u03bc\\u03b1, \\u03c4\\u03c1\\u03cc\\u03c0\\u03bf\\u03c2, \\u03c0\\u03bb\\u03b1\\u03c3\\u03c4\\u03b9\\u03ba\\u03cc\",\"<b>Topic 0</b><br>Words: \\u03c6\\u03c9\\u03c4\\u03b5\\u03b9\\u03bd\\u03cc\\u03c4\\u03b7\\u03c4\\u03b1, 2017, \\u03c0\\u03b1\\u03c1\\u03b1\\u03c4\\u03b7\\u03c1\\u03ae\\u03b8\\u03b7\\u03ba\\u03b5, \\u03c3\\u03b9\\u03b3\\u03ac, \\u03ba\\u03bb\\u03b9\\u03bc\\u03b1\\u03c4\\u03b9\\u03ba\\u03ae\",\"<b>Topic 0</b><br>Words: \\u03ba\\u03b1\\u03c4\\u03b1\\u03c3\\u03c4\\u03c1\\u03bf\\u03c6\\u03ce\\u03bd, \\u03b4\\u03b9\\u03b5\\u03b8\\u03bd\\u03ae\\u03c2, \\u03b4\\u03c1\\u03ac\\u03c3\\u03b7\\u03c2, \\u03ba\\u03bf\\u03b9\\u03bd\\u03c9\\u03bd\\u03b9\\u03ce\\u03bd, \\u03b1\\u03bd\\u03ac\\u03bb\\u03b7\\u03c8\\u03b7\",\"<b>Topic 0</b><br>Words: \\u03ba\\u03b1\\u03c4\\u03b1\\u03c3\\u03c4\\u03c1\\u03bf\\u03c6\\u03ce\\u03bd, \\u03b4\\u03b9\\u03b5\\u03b8\\u03bd\\u03ae\\u03c2, \\u03b7\\u03bc\\u03ad\\u03c1\\u03b1, \\u03b4\\u03c1\\u03ac\\u03c3\\u03b7\\u03c2, \\u03ba\\u03bf\\u03b9\\u03bd\\u03c9\\u03bd\\u03b9\\u03ce\\u03bd\",\"<b>Topic 0</b><br>Words: \\u03ba\\u03b1\\u03c4\\u03b1\\u03c3\\u03c4\\u03c1\\u03bf\\u03c6\\u03ce\\u03bd, \\u03b4\\u03b9\\u03b5\\u03b8\\u03bd\\u03ae\\u03c2, \\u03b7\\u03bc\\u03ad\\u03c1\\u03b1, \\u03b4\\u03c1\\u03ac\\u03c3\\u03b7\\u03c2, \\u03ba\\u03bf\\u03b9\\u03bd\\u03c9\\u03bd\\u03b9\\u03ce\\u03bd\",\"<b>Topic 0</b><br>Words: \\u03ba\\u03b1\\u03c4\\u03b1\\u03c3\\u03c4\\u03c1\\u03bf\\u03c6\\u03ce\\u03bd, \\u03b4\\u03b9\\u03b5\\u03b8\\u03bd\\u03ae\\u03c2, \\u03ba\\u03bf\\u03b9\\u03bd\\u03c9\\u03bd\\u03b9\\u03ce\\u03bd, \\u03b1\\u03bd\\u03ac\\u03bb\\u03b7\\u03c8\\u03b7, 2015\",\"<b>Topic 0</b><br>Words: \\u03b1\\u03c4\\u03c4\\u03b9\\u03ba\\u03ae\\u03c2, \\u03b4\\u03b9\\u03b1\\u03c7\\u03b5\\u03af\\u03c1\\u03b9\\u03c3\\u03b7, \\u03c0\\u03b5\\u03c1\\u03b9\\u03c6\\u03b5\\u03c1\\u03b5\\u03b9\\u03ac\\u03c1\\u03c7\\u03b7\\u03c2, \\u03c0\\u03b5\\u03c1\\u03b9\\u03c6\\u03b5\\u03c1\\u03b5\\u03b9\\u03b1\\u03ba\\u03ae, \\u03b1\\u03c0\\u03bf\\u03c4\\u03b5\\u03bb\\u03ad\\u03c3\\u03b5\\u03b9\",\"<b>Topic 0</b><br>Words: \\u03b5\\u03c5\\u03b8\\u03cd\\u03bc\\u03b9\\u03bf\\u03c2, \\u03bb\\u03ad\\u03ba\\u03ba\\u03b1\\u03c2, \\u03c6\\u03b1\\u03b9\\u03bd\\u03cc\\u03bc\\u03b5\\u03bd\\u03b1, \\u03bc\\u03c0\\u03ac\\u03bb\\u03bb\\u03bf\\u03c2, \\u03ba\\u03b1\\u03ba\\u03bf\\u03ba\\u03b1\\u03b9\\u03c1\\u03af\\u03b1\",\"<b>Topic 0</b><br>Words: \\u03c6\\u03b1\\u03b9\\u03bd\\u03cc\\u03bc\\u03b5\\u03bd\\u03b1, \\u03b9\\u03b8\\u03ac\\u03ba\\u03b7, \\u03b5\\u03c5\\u03b8\\u03cd\\u03bc\\u03b9\\u03bf\\u03c2, \\u03bb\\u03ad\\u03ba\\u03ba\\u03b1\\u03c2, \\u03c6\\u03ac\\u03c3\\u03b7\",\"<b>Topic 0</b><br>Words: eleftherostypos, \\u03b1\\u03ba\\u03bf\\u03bb\\u03bf\\u03cd\\u03b8\\u03b7\\u03c3\\u03b5, \\u03b5\\u03b9\\u03b4\\u03ae\\u03c3\\u03b5\\u03b9\\u03c2, \\u03c6\\u03b1\\u03b9\\u03bd\\u03cc\\u03bc\\u03b5\\u03bd\\u03b1, \\u03ba\\u03ac\\u03bd\\u03b5\",\"<b>Topic 0</b><br>Words: \\u03c6\\u03b1\\u03b9\\u03bd\\u03cc\\u03bc\\u03b5\\u03bd\\u03b1, \\u03b9\\u03b8\\u03ac\\u03ba\\u03b7, \\u03b5\\u03c5\\u03b8\\u03cd\\u03bc\\u03b9\\u03bf\\u03c2, \\u03bb\\u03ad\\u03ba\\u03ba\\u03b1\\u03c2, \\u03c6\\u03ac\\u03c3\\u03b7\",\"<b>Topic 0</b><br>Words: \\u03c6\\u03b1\\u03b9\\u03bd\\u03cc\\u03bc\\u03b5\\u03bd\\u03b1, \\u03b9\\u03b8\\u03ac\\u03ba\\u03b7, \\u03b5\\u03c5\\u03b8\\u03cd\\u03bc\\u03b9\\u03bf\\u03c2, \\u03c3\\u03c5\\u03c7\\u03bd\\u03cc\\u03c4\\u03b5\\u03c1\\u03b1, \\u03bb\\u03ad\\u03ba\\u03ba\\u03b1\\u03c2\",\"<b>Topic 0</b><br>Words: \\u03c6\\u03b1\\u03b9\\u03bd\\u03cc\\u03bc\\u03b5\\u03bd\\u03b1, \\u03b9\\u03b8\\u03ac\\u03ba\\u03b7, \\u03b5\\u03c5\\u03b8\\u03cd\\u03bc\\u03b9\\u03bf\\u03c2, \\u03bb\\u03ad\\u03ba\\u03ba\\u03b1\\u03c2, \\u03c6\\u03ac\\u03c3\\u03b7\",\"<b>Topic 0</b><br>Words: \\u03c6\\u03b1\\u03b9\\u03bd\\u03cc\\u03bc\\u03b5\\u03bd\\u03b1, \\u03c6\\u03b1\\u03bd\\u03c4\\u03b1\\u03b6\\u03cc\\u03bc\\u03b1\\u03c3\\u03c4\\u03b5, \\u03bc\\u03c0\\u03ac\\u03bb\\u03bb\\u03bf\\u03c2, \\u03ba\\u03b1\\u03bd, \\u03bb\\u03ad\\u03ba\\u03ba\\u03b1\\u03c2\",\"<b>Topic 0</b><br>Words: \\u03c6\\u03b1\\u03b9\\u03bd\\u03cc\\u03bc\\u03b5\\u03bd\\u03b1, \\u03b9\\u03b8\\u03ac\\u03ba\\u03b7, \\u03b5\\u03c5\\u03b8\\u03cd\\u03bc\\u03b9\\u03bf\\u03c2, \\u03bb\\u03ad\\u03ba\\u03ba\\u03b1\\u03c2, \\u03c6\\u03ac\\u03c3\\u03b7\",\"<b>Topic 0</b><br>Words: \\u03c6\\u03b1\\u03b9\\u03bd\\u03cc\\u03bc\\u03b5\\u03bd\\u03b1, \\u03b9\\u03b8\\u03ac\\u03ba\\u03b7, \\u03b5\\u03c5\\u03b8\\u03cd\\u03bc\\u03b9\\u03bf\\u03c2, \\u03bb\\u03ad\\u03ba\\u03ba\\u03b1\\u03c2, \\u03c6\\u03ac\\u03c3\\u03b7\",\"<b>Topic 0</b><br>Words: \\u03c6\\u03b1\\u03b9\\u03bd\\u03cc\\u03bc\\u03b5\\u03bd\\u03b1, \\u03b9\\u03b8\\u03ac\\u03ba\\u03b7, \\u03b5\\u03c5\\u03b8\\u03cd\\u03bc\\u03b9\\u03bf\\u03c2, \\u03bb\\u03ad\\u03ba\\u03ba\\u03b1\\u03c2, \\u03c6\\u03ac\\u03c3\\u03b7\",\"<b>Topic 0</b><br>Words: \\u03c6\\u03b1\\u03b9\\u03bd\\u03cc\\u03bc\\u03b5\\u03bd\\u03b1, \\u03bb\\u03ad\\u03ba\\u03ba\\u03b1\\u03c2, \\u03ba\\u03b1\\u03b8\\u03b7\\u03b3\\u03b7\\u03c4\\u03ae\\u03c2, \\u03c0\\u03c1\\u03c9\\u03c4\\u03cc\\u03b3\\u03bd\\u03c9\\u03c1\\u03b1, \\u03ad\\u03c0\\u03b5\\u03c3\\u03b1\\u03bd\",\"<b>Topic 0</b><br>Words: \\u03c6\\u03b1\\u03b9\\u03bd\\u03cc\\u03bc\\u03b5\\u03bd\\u03b1, \\u03b9\\u03b8\\u03ac\\u03ba\\u03b7, \\u03b5\\u03c5\\u03b8\\u03cd\\u03bc\\u03b9\\u03bf\\u03c2, \\u03c3\\u03c5\\u03c7\\u03bd\\u03cc\\u03c4\\u03b5\\u03c1\\u03b1, \\u03bb\\u03ad\\u03ba\\u03ba\\u03b1\\u03c2\",\"<b>Topic 0</b><br>Words: \\u03bc\\u03c0\\u03ac\\u03bb\\u03bb\\u03bf\\u03c2, \\u03bb\\u03ad\\u03ba\\u03ba\\u03b1\\u03c2, \\u03ba\\u03b1\\u03ba\\u03bf\\u03ba\\u03b1\\u03b9\\u03c1\\u03af\\u03b1, \\u03b5\\u03c5\\u03b8\\u03cd\\u03bc\\u03b9\\u03bf\\u03c2, \\u03c0\\u03ad\\u03bc\\u03c0\\u03c4\\u03b7\",\"<b>Topic 0</b><br>Words: \\u03c6\\u03b1\\u03b9\\u03bd\\u03cc\\u03bc\\u03b5\\u03bd\\u03b1, \\u03c3\\u03c5\\u03c7\\u03bd\\u03cc\\u03c4\\u03b5\\u03c1\\u03b1, \\u03c6\\u03ac\\u03c3\\u03b7, \\u03b9\\u03b8\\u03ac\\u03ba\\u03b7, \\u03bb\\u03ad\\u03ba\\u03ba\\u03b1\\u03c2\",\"<b>Topic 0</b><br>Words: \\u03c6\\u03b1\\u03b9\\u03bd\\u03cc\\u03bc\\u03b5\\u03bd\\u03b1, \\u03b9\\u03b8\\u03ac\\u03ba\\u03b7, \\u03bb\\u03ad\\u03ba\\u03ba\\u03b1\\u03c2, \\u03b5\\u03c5\\u03b8\\u03cd\\u03bc\\u03b9\\u03bf\\u03c2, 2021\",\"<b>Topic 0</b><br>Words: \\u03ba\\u03c1\\u03af\\u03c3\\u03b5\\u03b9\\u03c2, \\u03c6\\u03b1\\u03b9\\u03bd\\u03cc\\u03bc\\u03b5\\u03bd\\u03b1, \\u03b5\\u03ba\\u03b4\\u03b7\\u03bb\\u03ce\\u03bd\\u03bf\\u03bd\\u03c4\\u03b1\\u03b9, \\u03b1\\u03ba\\u03bf\\u03bb\\u03bf\\u03c5\\u03b8\\u03b5\\u03af, \\u03c3\\u03c5\\u03c7\\u03bd\\u03cc\\u03c4\\u03b5\\u03c1\\u03b1\",\"<b>Topic 0</b><br>Words: \\u03b1\\u03c4\\u03c4\\u03b9\\u03ba\\u03ae, \\u03c6\\u03b1\\u03b9\\u03bd\\u03cc\\u03bc\\u03b5\\u03bd\\u03b1, \\u03bc\\u03c0\\u03ac\\u03bb\\u03bb\\u03bf\\u03c2, \\u03ba\\u03b1\\u03ba\\u03bf\\u03ba\\u03b1\\u03b9\\u03c1\\u03af\\u03b1, \\u03bb\\u03ad\\u03ba\\u03ba\\u03b1\\u03c2\",\"<b>Topic 0</b><br>Words: \\u03c6\\u03b1\\u03b9\\u03bd\\u03cc\\u03bc\\u03b5\\u03bd\\u03b1, \\u03b9\\u03b8\\u03ac\\u03ba\\u03b7, \\u03c3\\u03c5\\u03c7\\u03bd\\u03cc\\u03c4\\u03b5\\u03c1\\u03b1, \\u03bb\\u03ad\\u03ba\\u03ba\\u03b1\\u03c2, \\u03c6\\u03ac\\u03c3\\u03b7\",\"<b>Topic 0</b><br>Words: \\u03c6\\u03b1\\u03b9\\u03bd\\u03cc\\u03bc\\u03b5\\u03bd\\u03b1, \\u03b9\\u03b8\\u03ac\\u03ba\\u03b7, \\u03b5\\u03c5\\u03b8\\u03cd\\u03bc\\u03b9\\u03bf\\u03c2, \\u03bb\\u03ad\\u03ba\\u03ba\\u03b1\\u03c2, \\u03c3\\u03c5\\u03c7\\u03bd\\u03cc\\u03c4\\u03b5\\u03c1\\u03b1\",\"<b>Topic 0</b><br>Words: sputniknews, \\u03bd\\u03b5\\u03c1\\u03bf\\u03cd, gr, \\u03c7\\u03b8\\u03b5\\u03c2, \\u03ba\\u03b7\\u03c6\\u03b9\\u03c3\\u03bf\\u03cd\",\"<b>Topic 0</b><br>Words: \\u03c6\\u03b1\\u03b9\\u03bd\\u03cc\\u03bc\\u03b5\\u03bd\\u03b1, \\u03c0\\u03c1\\u03c9\\u03c4\\u03cc\\u03b3\\u03bd\\u03c9\\u03c1\\u03b1, \\u03c3\\u03c5\\u03c7\\u03bd\\u03cc\\u03c4\\u03b5\\u03c1\\u03b1, \\u03c6\\u03ac\\u03c3\\u03b7, \\u03c0\\u03bf\\u03b9\\u03bf\\u03c2\",\"<b>Topic 0</b><br>Words: \\u03c6\\u03b1\\u03b9\\u03bd\\u03cc\\u03bc\\u03b5\\u03bd\\u03b1, \\u03b9\\u03b8\\u03ac\\u03ba\\u03b7, \\u03b5\\u03c5\\u03b8\\u03cd\\u03bc\\u03b9\\u03bf\\u03c2, \\u03c3\\u03c5\\u03c7\\u03bd\\u03cc\\u03c4\\u03b5\\u03c1\\u03b1, \\u03bb\\u03ad\\u03ba\\u03ba\\u03b1\\u03c2\",\"<b>Topic 0</b><br>Words: \\u03c6\\u03b1\\u03b9\\u03bd\\u03cc\\u03bc\\u03b5\\u03bd\\u03b1, \\u03c3\\u03c5\\u03c7\\u03bd\\u03cc\\u03c4\\u03b5\\u03c1\\u03b1, \\u03ba\\u03c1\\u03af\\u03c3\\u03b5\\u03b9\\u03c2, \\u03ba\\u03b1\\u03b8\\u03c9\\u03c2, \\u03b5\\u03c5\\u03b8\\u03cd\\u03bc\\u03b9\\u03bf\",\"<b>Topic 0</b><br>Words: \\u03c6\\u03b1\\u03b9\\u03bd\\u03cc\\u03bc\\u03b5\\u03bd\\u03b1, \\u03ba\\u03b1\\u03b8\\u03b7\\u03b3\\u03b7\\u03c4\\u03ae\\u03c2, \\u03c0\\u03c1\\u03c9\\u03c4\\u03cc\\u03b3\\u03bd\\u03c9\\u03c1\\u03b1, \\u03b9\\u03b8\\u03ac\\u03ba\\u03b7, \\u03b5\\u03c5\\u03b8\\u03cd\\u03bc\\u03b9\\u03bf\\u03c2\",\"<b>Topic 0</b><br>Words: \\u03c6\\u03b1\\u03b9\\u03bd\\u03cc\\u03bc\\u03b5\\u03bd\\u03b1, \\u03b9\\u03b8\\u03ac\\u03ba\\u03b7, \\u03b5\\u03c5\\u03b8\\u03cd\\u03bc\\u03b9\\u03bf\\u03c2, \\u03c3\\u03c5\\u03c7\\u03bd\\u03cc\\u03c4\\u03b5\\u03c1\\u03b1, \\u03bb\\u03ad\\u03ba\\u03ba\\u03b1\\u03c2\",\"<b>Topic 0</b><br>Words: in, \\u03c6\\u03b1\\u03b9\\u03bd\\u03cc\\u03bc\\u03b5\\u03bd\\u03b1, \\u03bc\\u03c0\\u03ac\\u03bb\\u03bb\\u03bf\\u03c2, \\u03ba\\u03b1\\u03ba\\u03bf\\u03ba\\u03b1\\u03b9\\u03c1\\u03af\\u03b1, \\u03ba\\u03b1\\u03b8\\u03b7\\u03b3\\u03b7\\u03c4\\u03ae\\u03c2\",\"<b>Topic 0</b><br>Words: \\u03c6\\u03b1\\u03b9\\u03bd\\u03cc\\u03bc\\u03b5\\u03bd\\u03b1, \\u03b9\\u03b8\\u03ac\\u03ba\\u03b7, \\u03b5\\u03c5\\u03b8\\u03cd\\u03bc\\u03b9\\u03bf\\u03c2, \\u03bb\\u03ad\\u03ba\\u03ba\\u03b1\\u03c2, \\u03c6\\u03ac\\u03c3\\u03b7\",\"<b>Topic 0</b><br>Words: \\u03c6\\u03b1\\u03b9\\u03bd\\u03cc\\u03bc\\u03b5\\u03bd\\u03b1, \\u03b5\\u03af\\u03c0\\u03b5, \\u03b1\\u03c4\\u03c4\\u03b9\\u03ba\\u03ae, \\u03c3\\u03c5\\u03c7\\u03bd\\u03cc\\u03c4\\u03b5\\u03c1\\u03b1, \\u03bb\\u03ad\\u03ba\\u03ba\\u03b1\\u03c2\",\"<b>Topic 0</b><br>Words: \\u03bb\\u03ad\\u03ba\\u03ba\\u03b1\\u03c2, \\u03c6\\u03ac\\u03c3\\u03b7, \\u03c6\\u03b1\\u03b9\\u03bd\\u03cc\\u03bc\\u03b5\\u03bd\\u03b1, \\u03ad\\u03c0\\u03b5\\u03c3\\u03b1\\u03bd, \\u03b9\\u03b8\\u03ac\\u03ba\\u03b7\",\"<b>Topic 0</b><br>Words: \\u03c0\\u03b1\\u03c1\\u03b1\\u03bb\\u03b9\\u03b1\\u03ba\\u03ae, \\u03ba\\u03b7\\u03c6\\u03b9\\u03c3\\u03cc\\u03c2, \\u03c6\\u03b1\\u03b9\\u03bd\\u03cc\\u03bc\\u03b5\\u03bd\\u03b1, \\u03ac\\u03bd\\u03bf\\u03b9\\u03be\\u03b5, \\u03bc\\u03c0\\u03ac\\u03bb\\u03bb\\u03bf\\u03c2\",\"<b>Topic 0</b><br>Words: \\u03c7\\u03b9\\u03bb\\u03b9\\u03bf\\u03c3\\u03c4\\u03ac, 147, \\u03c0\\u03b1\\u03c4\\u03b7\\u03c3\\u03af\\u03c9\\u03bd, \\u03c3\\u03c4\\u03c1\\u03ad\\u03bc\\u03bc\\u03b1, \\u03c6\\u03b1\\u03b9\\u03bd\\u03cc\\u03bc\\u03b5\\u03bd\\u03b1\",\"<b>Topic 0</b><br>Words: \\u03c6\\u03b1\\u03b9\\u03bd\\u03cc\\u03bc\\u03b5\\u03bd\\u03b1, \\u03b9\\u03b8\\u03ac\\u03ba\\u03b7, \\u03b5\\u03c5\\u03b8\\u03cd\\u03bc\\u03b9\\u03bf\\u03c2, \\u03bb\\u03ad\\u03ba\\u03ba\\u03b1\\u03c2, \\u03c3\\u03c5\\u03c7\\u03bd\\u03cc\\u03c4\\u03b5\\u03c1\\u03b1\",\"<b>Topic 0</b><br>Words: \\u03c6\\u03b1\\u03b9\\u03bd\\u03cc\\u03bc\\u03b5\\u03bd\\u03b1, \\u03b5\\u03af\\u03c0\\u03b5, \\u03b1\\u03c4\\u03c4\\u03b9\\u03ba\\u03ae, \\u03c3\\u03c5\\u03c7\\u03bd\\u03cc\\u03c4\\u03b5\\u03c1\\u03b1, \\u03bb\\u03ad\\u03ba\\u03ba\\u03b1\\u03c2\",\"<b>Topic 0</b><br>Words: \\u03ba\\u03b1\\u03ba\\u03bf\\u03ba\\u03b1\\u03b9\\u03c1\\u03af\\u03b1, \\u03bc\\u03c0\\u03ac\\u03bb\\u03bb\\u03bf\\u03c2, \\u03c0\\u03b1\\u03c1\\u03b1\\u03c3\\u03ba\\u03b5\\u03c5\\u03ae, \\u03bb\\u03ad\\u03ba\\u03ba\\u03b1\\u03c2, \\u03bf\\u03ba\\u03c4\\u03c9\\u03b2\\u03c1\\u03af\\u03bf\\u03c5\",\"<b>Topic 0</b><br>Words: \\u03c6\\u03ac\\u03c3\\u03b7, \\u03c6\\u03b1\\u03b9\\u03bd\\u03cc\\u03bc\\u03b5\\u03bd\\u03b1, \\u03b9\\u03b8\\u03ac\\u03ba\\u03b7, \\u03c3\\u03c5\\u03c7\\u03bd\\u03cc\\u03c4\\u03b5\\u03c1\\u03b1, \\u03bb\\u03ad\\u03ba\\u03ba\\u03b1\\u03c2\",\"<b>Topic 0</b><br>Words: \\u03bb\\u03ad\\u03ba\\u03ba\\u03b1\\u03c2, \\u03c6\\u03b1\\u03b9\\u03bd\\u03cc\\u03bc\\u03b5\\u03bd\\u03b1, \\u03bc\\u03c0\\u03ac\\u03bb\\u03bb\\u03bf\\u03c2, \\u03ba\\u03b1\\u03ba\\u03bf\\u03ba\\u03b1\\u03b9\\u03c1\\u03af\\u03b1, \\u03b9\\u03b8\\u03ac\\u03ba\\u03b7\",\"<b>Topic 0</b><br>Words: \\u03b4\\u03b9\\u03ba\\u03b1\\u03b9\\u03bf\\u03cd\\u03c4\\u03b1\\u03b9, \\u03b6\\u03b7\\u03c4\\u03ac\\u03b5\\u03b9, \\u03be\\u03b5\\u03c7\\u03ac\\u03c3\\u03bf\\u03c5\\u03bc\\u03b5, \\u03c7\\u03b1\\u03bc\\u03bf\\u03c3\\u03c4\\u03ad\\u03c1\\u03bd\\u03b1\\u03c2, \\u03c6\\u03c1\\u03b5\\u03ac\\u03c4\\u03b9\\u03b1\",\"<b>Topic 0</b><br>Words: \\u03c6\\u03b1\\u03b9\\u03bd\\u03cc\\u03bc\\u03b5\\u03bd\\u03b1, \\u03b9\\u03b8\\u03ac\\u03ba\\u03b7, \\u03b5\\u03c5\\u03b8\\u03cd\\u03bc\\u03b9\\u03bf\\u03c2, \\u03c3\\u03c5\\u03c7\\u03bd\\u03cc\\u03c4\\u03b5\\u03c1\\u03b1, \\u03bb\\u03ad\\u03ba\\u03ba\\u03b1\\u03c2\",\"<b>Topic 0</b><br>Words: \\u03bb\\u03ad\\u03ba\\u03ba\\u03b1\\u03c2, \\u03c6\\u03b1\\u03b9\\u03bd\\u03cc\\u03bc\\u03b5\\u03bd\\u03b1, \\u03b9\\u03b8\\u03ac\\u03ba\\u03b7, \\u03b5\\u03c5\\u03b8\\u03cd\\u03bc\\u03b9\\u03bf\\u03c2, \\u03b1\\u03c4\\u03c4\\u03b9\\u03ba\\u03ae\",\"<b>Topic 0</b><br>Words: \\u03c7\\u03b9\\u03bb\\u03b9\\u03bf\\u03c3\\u03c4\\u03ac, \\u03bd\\u03b5\\u03c1\\u03bf\\u03cd, \\u03c6\\u03b1\\u03b9\\u03bd\\u03cc\\u03bc\\u03b5\\u03bd\\u03b1, \\u03ba\\u03bb\\u03b9\\u03bc\\u03b1\\u03c4\\u03b9\\u03ba\\u03ae, \\u03b1\\u03c5\\u03c4\\u03cc\\u03bc\\u03b1\\u03c4\\u03c9\\u03bd\",\"<b>Topic 0</b><br>Words: photo, intime, \\u03c0\\u03b7\\u03b3\\u03ae, \\u03c4\\u03b5\\u03c1\\u03ac\\u03c3\\u03c4\\u03b9\\u03b1, \\u03c0\\u03c1\\u03bf\\u03b2\\u03bb\\u03ae\\u03b1\\u03bc\\u03c4\\u03b1\",\"<b>Topic 0</b><br>Words: \\u03b1\\u03c0\\u03b1\\u03c1\\u03b1\\u03af\\u03c4\\u03b7\\u03c4\\u03b1, \\u03bd\\u03b5\\u03c1\\u03bf\\u03c0\\u03bf\\u03bd\\u03c4\\u03ae, \\u03c0\\u03bb\\u03b7\\u03bc\\u03bc\\u03cd\\u03c1\\u03b5\\u03c2, \\u03ba\\u03b5\\u03c6\\u03ac\\u03bb\\u03b9, \\u03b1\\u03c0\\u03bf\",\"<b>Topic 0</b><br>Words: \\u03c6\\u03b1\\u03b9\\u03bd\\u03cc\\u03bc\\u03b5\\u03bd\\u03b1, \\u03bb\\u03ad\\u03ba\\u03ba\\u03b1\\u03c2, \\u03c0\\u03bb\\u03b7\\u03bc\\u03bc\\u03c5\\u03c1\\u03b9\\u03ba\\u03ac, \\u03ba\\u03b1\\u03c4\\u03b1\\u03c3\\u03c4\\u03c1\\u03bf\\u03c6\\u03ce\\u03bd, \\u03c5\\u03c0\\u03ac\\u03c1\\u03c7\\u03b5\\u03b9\",\"<b>Topic 0</b><br>Words: \\u03c6\\u03b1\\u03b9\\u03bd\\u03cc\\u03bc\\u03b5\\u03bd\\u03b1, \\u03bb\\u03ad\\u03ba\\u03ba\\u03b1\\u03c2, \\u03c0\\u03bb\\u03b7\\u03bc\\u03bc\\u03c5\\u03c1\\u03b9\\u03ba\\u03ac, \\u03ba\\u03b1\\u03c4\\u03b1\\u03c3\\u03c4\\u03c1\\u03bf\\u03c6\\u03ce\\u03bd, \\u03c5\\u03c0\\u03ac\\u03c1\\u03c7\\u03b5\\u03b9\",\"<b>Topic 0</b><br>Words: \\u03c6\\u03b1\\u03b9\\u03bd\\u03cc\\u03bc\\u03b5\\u03bd\\u03b1, \\u03bb\\u03ad\\u03ba\\u03ba\\u03b1\\u03c2, \\u03c0\\u03bb\\u03b7\\u03bc\\u03bc\\u03c5\\u03c1\\u03b9\\u03ba\\u03ac, \\u03ba\\u03b1\\u03c4\\u03b1\\u03c3\\u03c4\\u03c1\\u03bf\\u03c6\\u03ce\\u03bd, \\u03c5\\u03c0\\u03ac\\u03c1\\u03c7\\u03b5\\u03b9\",\"<b>Topic 0</b><br>Words: \\u03c6\\u03b1\\u03b9\\u03bd\\u03cc\\u03bc\\u03b5\\u03bd\\u03b1, \\u03bb\\u03ad\\u03ba\\u03ba\\u03b1\\u03c2, \\u03c0\\u03bb\\u03b7\\u03bc\\u03bc\\u03c5\\u03c1\\u03b9\\u03ba\\u03ac, \\u03ba\\u03b1\\u03c4\\u03b1\\u03c3\\u03c4\\u03c1\\u03bf\\u03c6\\u03ce\\u03bd, \\u03c5\\u03c0\\u03ac\\u03c1\\u03c7\\u03b5\\u03b9\",\"<b>Topic 0</b><br>Words: \\u03c6\\u03b1\\u03b9\\u03bd\\u03cc\\u03bc\\u03b5\\u03bd\\u03b1, \\u03bb\\u03ad\\u03ba\\u03ba\\u03b1\\u03c2, \\u03c0\\u03bb\\u03b7\\u03bc\\u03bc\\u03c5\\u03c1\\u03b9\\u03ba\\u03ac, \\u03ba\\u03b1\\u03c4\\u03b1\\u03c3\\u03c4\\u03c1\\u03bf\\u03c6\\u03ce\\u03bd, \\u03c5\\u03c0\\u03ac\\u03c1\\u03c7\\u03b5\\u03b9\",\"<b>Topic 0</b><br>Words: \\u03c6\\u03b1\\u03b9\\u03bd\\u03cc\\u03bc\\u03b5\\u03bd\\u03b1, \\u03bb\\u03ad\\u03ba\\u03ba\\u03b1\\u03c2, \\u03c0\\u03bb\\u03b7\\u03bc\\u03bc\\u03c5\\u03c1\\u03b9\\u03ba\\u03ac, \\u03ba\\u03b1\\u03c4\\u03b1\\u03c3\\u03c4\\u03c1\\u03bf\\u03c6\\u03ce\\u03bd, \\u03c5\\u03c0\\u03ac\\u03c1\\u03c7\\u03b5\\u03b9\",\"<b>Topic 0</b><br>Words: \\u03c6\\u03b1\\u03b9\\u03bd\\u03cc\\u03bc\\u03b5\\u03bd\\u03b1, \\u03bb\\u03ad\\u03ba\\u03ba\\u03b1\\u03c2, \\u03c0\\u03bb\\u03b7\\u03bc\\u03bc\\u03c5\\u03c1\\u03b9\\u03ba\\u03ac, \\u03ba\\u03b1\\u03c4\\u03b1\\u03c3\\u03c4\\u03c1\\u03bf\\u03c6\\u03ce\\u03bd, \\u03c5\\u03c0\\u03ac\\u03c1\\u03c7\\u03b5\\u03b9\",\"<b>Topic 0</b><br>Words: \\u03bb\\u03ad\\u03ba\\u03ba\\u03b1\\u03c2, \\u03c6\\u03b1\\u03b9\\u03bd\\u03cc\\u03bc\\u03b5\\u03bd\\u03b1, \\u03c0\\u03bb\\u03b7\\u03bc\\u03bc\\u03c5\\u03c1\\u03b9\\u03ba\\u03ac, \\u03ba\\u03b1\\u03c4\\u03b1\\u03c3\\u03c4\\u03c1\\u03bf\\u03c6\\u03ce\\u03bd, \\u03c5\\u03c0\\u03ac\\u03c1\\u03c7\\u03b5\\u03b9\",\"<b>Topic 0</b><br>Words: \\u03c6\\u03b1\\u03b9\\u03bd\\u03cc\\u03bc\\u03b5\\u03bd\\u03b1, \\u03c0\\u03bb\\u03b7\\u03bc\\u03bc\\u03c5\\u03c1\\u03b9\\u03ba\\u03ac, \\u03bb\\u03ad\\u03ba\\u03ba\\u03b1\\u03c2, \\u03b5\\u03cd\\u03b2\\u03bf\\u03b9\\u03b1, \\u03ad\\u03c0\\u03c1\\u03b5\\u03c0\\u03b5\",\"<b>Topic 0</b><br>Words: \\u03c6\\u03b1\\u03b9\\u03bd\\u03cc\\u03bc\\u03b5\\u03bd\\u03b1, \\u03bb\\u03ad\\u03ba\\u03ba\\u03b1\\u03c2, \\u03c0\\u03bb\\u03b7\\u03bc\\u03bc\\u03c5\\u03c1\\u03b9\\u03ba\\u03ac, \\u03ba\\u03b1\\u03c4\\u03b1\\u03c3\\u03c4\\u03c1\\u03bf\\u03c6\\u03ce\\u03bd, \\u03c5\\u03c0\\u03ac\\u03c1\\u03c7\\u03b5\\u03b9\",\"<b>Topic 0</b><br>Words: \\u03c6\\u03b1\\u03b9\\u03bd\\u03cc\\u03bc\\u03b5\\u03bd\\u03b1, \\u03bb\\u03ad\\u03ba\\u03ba\\u03b1\\u03c2, \\u03c0\\u03bb\\u03b7\\u03bc\\u03bc\\u03c5\\u03c1\\u03b9\\u03ba\\u03ac, \\u03ba\\u03b1\\u03c4\\u03b1\\u03c3\\u03c4\\u03c1\\u03bf\\u03c6\\u03ce\\u03bd, \\u03c5\\u03c0\\u03ac\\u03c1\\u03c7\\u03b5\\u03b9\",\"<b>Topic 0</b><br>Words: \\u03c6\\u03b1\\u03b9\\u03bd\\u03cc\\u03bc\\u03b5\\u03bd\\u03b1, \\u03bb\\u03ad\\u03ba\\u03ba\\u03b1\\u03c2, \\u03c0\\u03bb\\u03b7\\u03bc\\u03bc\\u03c5\\u03c1\\u03b9\\u03ba\\u03ac, \\u03ba\\u03b1\\u03c4\\u03b1\\u03c3\\u03c4\\u03c1\\u03bf\\u03c6\\u03ce\\u03bd, \\u03c5\\u03c0\\u03ac\\u03c1\\u03c7\\u03b5\\u03b9\",\"<b>Topic 0</b><br>Words: \\u03c6\\u03b1\\u03b9\\u03bd\\u03cc\\u03bc\\u03b5\\u03bd\\u03b1, \\u03bb\\u03ad\\u03ba\\u03ba\\u03b1\\u03c2, \\u03c0\\u03bb\\u03b7\\u03bc\\u03bc\\u03c5\\u03c1\\u03b9\\u03ba\\u03ac, \\u03ba\\u03b1\\u03bd\\u03bf\\u03bd\\u03b9\\u03ba\\u03cc\\u03c4\\u03b7\\u03c4\\u03b1, \\u03bd\\u03ad\\u03b1\",\"<b>Topic 0</b><br>Words: \\u03c6\\u03b1\\u03b9\\u03bd\\u03cc\\u03bc\\u03b5\\u03bd\\u03b1, \\u03bb\\u03ad\\u03ba\\u03ba\\u03b1\\u03c2, \\u03c0\\u03bb\\u03b7\\u03bc\\u03bc\\u03c5\\u03c1\\u03b9\\u03ba\\u03ac, \\u03bd\\u03ad\\u03b1, \\u03ba\\u03b1\\u03bd\\u03bf\\u03bd\\u03b9\\u03ba\\u03cc\\u03c4\\u03b7\\u03c4\\u03b1\",\"<b>Topic 0</b><br>Words: \\u03c6\\u03b1\\u03b9\\u03bd\\u03cc\\u03bc\\u03b5\\u03bd\\u03b1, \\u03bb\\u03ad\\u03ba\\u03ba\\u03b1\\u03c2, \\u03c0\\u03bb\\u03b7\\u03bc\\u03bc\\u03c5\\u03c1\\u03b9\\u03ba\\u03ac, \\u03ba\\u03b1\\u03c4\\u03b1\\u03c3\\u03c4\\u03c1\\u03bf\\u03c6\\u03ce\\u03bd, \\u03c5\\u03c0\\u03ac\\u03c1\\u03c7\\u03b5\\u03b9\",\"<b>Topic 0</b><br>Words: \\u03bb\\u03ad\\u03ba\\u03ba\\u03b1\\u03c2, \\u03c6\\u03b1\\u03b9\\u03bd\\u03cc\\u03bc\\u03b5\\u03bd\\u03b1, \\u03bf\\u03b1\\u03c3\\u03c0, \\u03c0\\u03bb\\u03b7\\u03bc\\u03bc\\u03c5\\u03c1\\u03b9\\u03ba\\u03ac, \\u03ba\\u03b1\\u03c4\\u03b1\\u03c3\\u03c4\\u03c1\\u03bf\\u03c6\\u03ce\\u03bd\",\"<b>Topic 0</b><br>Words: \\u03c6\\u03b1\\u03b9\\u03bd\\u03cc\\u03bc\\u03b5\\u03bd\\u03b1, \\u03bb\\u03ad\\u03ba\\u03ba\\u03b1\\u03c2, \\u03c0\\u03bb\\u03b7\\u03bc\\u03bc\\u03c5\\u03c1\\u03b9\\u03ba\\u03ac, \\u03ba\\u03b1\\u03bd\\u03bf\\u03bd\\u03b9\\u03ba\\u03cc\\u03c4\\u03b7\\u03c4\\u03b1, \\u03bd\\u03ad\\u03b1\",\"<b>Topic 0</b><br>Words: \\u03c6\\u03b1\\u03b9\\u03bd\\u03cc\\u03bc\\u03b5\\u03bd\\u03b1, \\u03bb\\u03ad\\u03ba\\u03ba\\u03b1\\u03c2, \\u03c0\\u03bb\\u03b7\\u03bc\\u03bc\\u03c5\\u03c1\\u03b9\\u03ba\\u03ac, \\u03ba\\u03b1\\u03c4\\u03b1\\u03c3\\u03c4\\u03c1\\u03bf\\u03c6\\u03ce\\u03bd, \\u03c5\\u03c0\\u03ac\\u03c1\\u03c7\\u03b5\\u03b9\",\"<b>Topic 0</b><br>Words: \\u03c6\\u03b1\\u03b9\\u03bd\\u03cc\\u03bc\\u03b5\\u03bd\\u03b1, \\u03c0\\u03bb\\u03b7\\u03bc\\u03bc\\u03c5\\u03c1\\u03b9\\u03ba\\u03ac, \\u03ba\\u03b1\\u03c4\\u03b1\\u03c3\\u03c4\\u03c1\\u03bf\\u03c6\\u03ce\\u03bd, \\u03c5\\u03c0\\u03ac\\u03c1\\u03c7\\u03b5\\u03b9, \\u03bd\\u03ad\\u03b1\",\"<b>Topic 0</b><br>Words: \\u03c6\\u03b1\\u03b9\\u03bd\\u03cc\\u03bc\\u03b5\\u03bd\\u03b1, \\u03bb\\u03ad\\u03ba\\u03ba\\u03b1\\u03c2, \\u03c0\\u03bb\\u03b7\\u03bc\\u03bc\\u03c5\\u03c1\\u03b9\\u03ba\\u03ac, \\u03ba\\u03b1\\u03c4\\u03b1\\u03c3\\u03c4\\u03c1\\u03bf\\u03c6\\u03ce\\u03bd, \\u03c5\\u03c0\\u03ac\\u03c1\\u03c7\\u03b5\\u03b9\",\"<b>Topic 0</b><br>Words: \\u03c6\\u03b1\\u03b9\\u03bd\\u03cc\\u03bc\\u03b5\\u03bd\\u03b1, \\u03bb\\u03ad\\u03ba\\u03ba\\u03b1\\u03c2, \\u03c0\\u03bb\\u03b7\\u03bc\\u03bc\\u03c5\\u03c1\\u03b9\\u03ba\\u03ac, \\u03ba\\u03b1\\u03c4\\u03b1\\u03c3\\u03c4\\u03c1\\u03bf\\u03c6\\u03ce\\u03bd, \\u03c5\\u03c0\\u03ac\\u03c1\\u03c7\\u03b5\\u03b9\",\"<b>Topic 0</b><br>Words: \\u03bb\\u03ad\\u03ba\\u03ba\\u03b1\\u03c2, \\u03c6\\u03b1\\u03b9\\u03bd\\u03cc\\u03bc\\u03b5\\u03bd\\u03b1, \\u03c0\\u03bb\\u03b7\\u03bc\\u03bc\\u03c5\\u03c1\\u03b9\\u03ba\\u03ac, \\u03ba\\u03b1\\u03c4\\u03b1\\u03c3\\u03c4\\u03c1\\u03bf\\u03c6\\u03ce\\u03bd, \\u03c5\\u03c0\\u03ac\\u03c1\\u03c7\\u03b5\\u03b9\",\"<b>Topic 0</b><br>Words: \\u03bb\\u03ad\\u03ba\\u03ba\\u03b1\\u03c2, \\u03c6\\u03b1\\u03b9\\u03bd\\u03cc\\u03bc\\u03b5\\u03bd\\u03b1, \\u03bf\\u03b1\\u03c3\\u03c0, \\u03c0\\u03bb\\u03b7\\u03bc\\u03bc\\u03c5\\u03c1\\u03b9\\u03ba\\u03ac, \\u03b5\\u03cd\\u03b2\\u03bf\\u03b9\\u03b1\",\"<b>Topic 0</b><br>Words: \\u03c6\\u03b1\\u03b9\\u03bd\\u03cc\\u03bc\\u03b5\\u03bd\\u03b1, sputniknews, \\u03bb\\u03ad\\u03ba\\u03ba\\u03b1\\u03c2, \\u03ba\\u03b1\\u03b9\\u03c1\\u03b9\\u03ba\\u03ac, gr\",\"<b>Topic 0</b><br>Words: \\u03c6\\u03b1\\u03b9\\u03bd\\u03cc\\u03bc\\u03b5\\u03bd\\u03b1, eleftherostypos, \\u03bb\\u03ad\\u03ba\\u03ba\\u03b1\\u03c2, \\u03c0\\u03bb\\u03b7\\u03bc\\u03bc\\u03c5\\u03c1\\u03b9\\u03ba\\u03ac, \\u03b5\\u03b9\\u03b4\\u03ae\\u03c3\\u03b5\\u03b9\\u03c2\",\"<b>Topic 0</b><br>Words: \\u03c6\\u03b1\\u03b9\\u03bd\\u03cc\\u03bc\\u03b5\\u03bd\\u03b1, \\u03bb\\u03ad\\u03ba\\u03ba\\u03b1\\u03c2, \\u03c0\\u03bb\\u03b7\\u03bc\\u03bc\\u03c5\\u03c1\\u03b9\\u03ba\\u03ac, \\u03ba\\u03b1\\u03c4\\u03b1\\u03c3\\u03c4\\u03c1\\u03bf\\u03c6\\u03ce\\u03bd, \\u03c5\\u03c0\\u03ac\\u03c1\\u03c7\\u03b5\\u03b9\",\"<b>Topic 0</b><br>Words: \\u03c6\\u03b1\\u03b9\\u03bd\\u03cc\\u03bc\\u03b5\\u03bd\\u03b1, \\u03c0\\u03bb\\u03b7\\u03bc\\u03bc\\u03c5\\u03c1\\u03b9\\u03ba\\u03ac, \\u03c5\\u03c0\\u03ac\\u03c1\\u03c7\\u03b5\\u03b9, \\u03c7\\u03c1\\u03cc\\u03bd\\u03b9\\u03b1, \\u03bb\\u03ad\\u03ba\\u03ba\\u03b1\\u03c2\",\"<b>Topic 0</b><br>Words: \\u03c6\\u03b1\\u03b9\\u03bd\\u03cc\\u03bc\\u03b5\\u03bd\\u03b1, \\u03bb\\u03ad\\u03ba\\u03ba\\u03b1\\u03c2, \\u03c0\\u03bb\\u03b7\\u03bc\\u03bc\\u03c5\\u03c1\\u03b9\\u03ba\\u03ac, \\u03ba\\u03b1\\u03c4\\u03b1\\u03c3\\u03c4\\u03c1\\u03bf\\u03c6\\u03ce\\u03bd, \\u03c5\\u03c0\\u03ac\\u03c1\\u03c7\\u03b5\\u03b9\",\"<b>Topic 0</b><br>Words: \\u03c6\\u03b1\\u03b9\\u03bd\\u03cc\\u03bc\\u03b5\\u03bd\\u03b1, \\u03bb\\u03ad\\u03ba\\u03ba\\u03b1\\u03c2, \\u03c0\\u03bb\\u03b7\\u03bc\\u03bc\\u03c5\\u03c1\\u03b9\\u03ba\\u03ac, \\u03ba\\u03b1\\u03c4\\u03b1\\u03c3\\u03c4\\u03c1\\u03bf\\u03c6\\u03ce\\u03bd, \\u03c5\\u03c0\\u03ac\\u03c1\\u03c7\\u03b5\\u03b9\",\"<b>Topic 0</b><br>Words: \\u03bb\\u03ad\\u03ba\\u03ba\\u03b1\\u03c2, \\u03c6\\u03b1\\u03b9\\u03bd\\u03cc\\u03bc\\u03b5\\u03bd\\u03b1, \\u03ba\\u03b1\\u03bd\\u03bf\\u03bd\\u03b9\\u03ba\\u03cc\\u03c4\\u03b7\\u03c4\\u03b1, \\u03bd\\u03ad\\u03b1, \\u03b5\\u03c5\\u03b8\",\"<b>Topic 0</b><br>Words: \\u03c6\\u03b1\\u03b9\\u03bd\\u03cc\\u03bc\\u03b5\\u03bd\\u03b1, \\u03bb\\u03ad\\u03ba\\u03ba\\u03b1\\u03c2, \\u03c0\\u03bb\\u03b7\\u03bc\\u03bc\\u03c5\\u03c1\\u03b9\\u03ba\\u03ac, \\u03ba\\u03b1\\u03c4\\u03b1\\u03c3\\u03c4\\u03c1\\u03bf\\u03c6\\u03ce\\u03bd, \\u03c5\\u03c0\\u03ac\\u03c1\\u03c7\\u03b5\\u03b9\",\"<b>Topic 0</b><br>Words: \\u03c6\\u03b1\\u03b9\\u03bd\\u03cc\\u03bc\\u03b5\\u03bd\\u03b1, \\u03bb\\u03ad\\u03ba\\u03ba\\u03b1\\u03c2, \\u03c0\\u03bb\\u03b7\\u03bc\\u03bc\\u03c5\\u03c1\\u03b9\\u03ba\\u03ac, \\u03bd\\u03ad\\u03b1, \\u03c7\\u03c1\\u03cc\\u03bd\\u03b9\\u03b1\",\"<b>Topic 0</b><br>Words: \\u03bb\\u03ad\\u03ba\\u03ba\\u03b1\\u03c2, \\u03c6\\u03b1\\u03b9\\u03bd\\u03cc\\u03bc\\u03b5\\u03bd\\u03b1, \\u03c0\\u03bb\\u03b7\\u03bc\\u03bc\\u03c5\\u03c1\\u03b9\\u03ba\\u03ac, \\u03ba\\u03b1\\u03c4\\u03b1\\u03c3\\u03c4\\u03c1\\u03bf\\u03c6\\u03ce\\u03bd, \\u03c5\\u03c0\\u03ac\\u03c1\\u03c7\\u03b5\\u03b9\",\"<b>Topic 0</b><br>Words: \\u03c6\\u03b1\\u03b9\\u03bd\\u03cc\\u03bc\\u03b5\\u03bd\\u03b1, \\u03bb\\u03ad\\u03ba\\u03ba\\u03b1\\u03c2, \\u03c0\\u03bb\\u03b7\\u03bc\\u03bc\\u03c5\\u03c1\\u03b9\\u03ba\\u03ac, \\u03ba\\u03b1\\u03c4\\u03b1\\u03c3\\u03c4\\u03c1\\u03bf\\u03c6\\u03ce\\u03bd, \\u03c5\\u03c0\\u03ac\\u03c1\\u03c7\\u03b5\\u03b9\",\"<b>Topic 0</b><br>Words: \\u03bb\\u03ad\\u03ba\\u03ba\\u03b1\\u03c2, \\u03c0\\u03bb\\u03b7\\u03bc\\u03bc\\u03c5\\u03c1\\u03b9\\u03ba\\u03ac, \\u03c6\\u03b1\\u03b9\\u03bd\\u03cc\\u03bc\\u03b5\\u03bd\\u03b1, \\u03ba\\u03b1\\u03c4\\u03b1\\u03c3\\u03c4\\u03c1\\u03bf\\u03c6\\u03ce\\u03bd, \\u03c5\\u03c0\\u03ac\\u03c1\\u03c7\\u03b5\\u03b9\",\"<b>Topic 0</b><br>Words: \\u03c6\\u03b1\\u03b9\\u03bd\\u03cc\\u03bc\\u03b5\\u03bd\\u03b1, \\u03bb\\u03ad\\u03ba\\u03ba\\u03b1\\u03c2, \\u03c0\\u03bb\\u03b7\\u03bc\\u03bc\\u03c5\\u03c1\\u03b9\\u03ba\\u03ac, \\u03ba\\u03b1\\u03c4\\u03b1\\u03c3\\u03c4\\u03c1\\u03bf\\u03c6\\u03ce\\u03bd, \\u03c5\\u03c0\\u03ac\\u03c1\\u03c7\\u03b5\\u03b9\",\"<b>Topic 0</b><br>Words: \\u03c0\\u03bb\\u03b7\\u03bc\\u03bc\\u03c5\\u03c1\\u03b9\\u03ba\\u03ac, \\u03c6\\u03b1\\u03b9\\u03bd\\u03cc\\u03bc\\u03b5\\u03bd\\u03b1, \\u03bb\\u03ad\\u03ba\\u03ba\\u03b1\\u03c2, \\u03bd\\u03ad\\u03b1, \\u03ba\\u03b1\\u03bd\\u03bf\\u03bd\\u03b9\\u03ba\\u03cc\\u03c4\\u03b7\\u03c4\\u03b1\",\"<b>Topic 0</b><br>Words: \\u03c6\\u03b1\\u03b9\\u03bd\\u03cc\\u03bc\\u03b5\\u03bd\\u03b1, \\u03bb\\u03ad\\u03ba\\u03ba\\u03b1\\u03c2, \\u03c0\\u03bb\\u03b7\\u03bc\\u03bc\\u03c5\\u03c1\\u03b9\\u03ba\\u03ac, \\u03ba\\u03b1\\u03bd\\u03bf\\u03bd\\u03b9\\u03ba\\u03cc\\u03c4\\u03b7\\u03c4\\u03b1, \\u03bd\\u03ad\\u03b1\",\"<b>Topic 0</b><br>Words: \\u03c6\\u03b1\\u03b9\\u03bd\\u03cc\\u03bc\\u03b5\\u03bd\\u03b1, \\u03c0\\u03bb\\u03b7\\u03bc\\u03bc\\u03c5\\u03c1\\u03b9\\u03ba\\u03ac, \\u03ba\\u03b1\\u03c4\\u03b1\\u03c3\\u03c4\\u03c1\\u03bf\\u03c6\\u03ce\\u03bd, \\u03c5\\u03c0\\u03ac\\u03c1\\u03c7\\u03b5\\u03b9, \\u03c7\\u03c1\\u03cc\\u03bd\\u03b9\\u03b1\",\"<b>Topic 0</b><br>Words: \\u03c6\\u03b1\\u03b9\\u03bd\\u03cc\\u03bc\\u03b5\\u03bd\\u03b1, \\u03bb\\u03ad\\u03ba\\u03ba\\u03b1\\u03c2, \\u03c0\\u03bb\\u03b7\\u03bc\\u03bc\\u03c5\\u03c1\\u03b9\\u03ba\\u03ac, \\u03ba\\u03b1\\u03c4\\u03b1\\u03c3\\u03c4\\u03c1\\u03bf\\u03c6\\u03ce\\u03bd, \\u03c5\\u03c0\\u03ac\\u03c1\\u03c7\\u03b5\\u03b9\",\"<b>Topic 0</b><br>Words: \\u03c0\\u03bb\\u03b7\\u03bc\\u03bc\\u03c5\\u03c1\\u03b9\\u03ba\\u03ac, \\u03c6\\u03b1\\u03b9\\u03bd\\u03cc\\u03bc\\u03b5\\u03bd\\u03b1, \\u03bb\\u03ad\\u03ba\\u03ba\\u03b1\\u03c2, \\u03bd\\u03ad\\u03b1, \\u03ba\\u03b1\\u03bd\\u03bf\\u03bd\\u03b9\\u03ba\\u03cc\\u03c4\\u03b7\\u03c4\\u03b1\",\"<b>Topic 0</b><br>Words: \\u03c6\\u03b1\\u03b9\\u03bd\\u03cc\\u03bc\\u03b5\\u03bd\\u03b1, \\u03bb\\u03ad\\u03ba\\u03ba\\u03b1\\u03c2, \\u03c0\\u03bb\\u03b7\\u03bc\\u03bc\\u03c5\\u03c1\\u03b9\\u03ba\\u03ac, \\u03ba\\u03b1\\u03c4\\u03b1\\u03c3\\u03c4\\u03c1\\u03bf\\u03c6\\u03ce\\u03bd, \\u03c5\\u03c0\\u03ac\\u03c1\\u03c7\\u03b5\\u03b9\",\"<b>Topic 0</b><br>Words: \\u03bb\\u03ad\\u03ba\\u03ba\\u03b1\\u03c2, \\u03c6\\u03b1\\u03b9\\u03bd\\u03cc\\u03bc\\u03b5\\u03bd\\u03b1, \\u03c0\\u03bb\\u03b7\\u03bc\\u03bc\\u03c5\\u03c1\\u03b9\\u03ba\\u03ac, \\u03ba\\u03b1\\u03c4\\u03b1\\u03c3\\u03c4\\u03c1\\u03bf\\u03c6\\u03ce\\u03bd, \\u03c5\\u03c0\\u03ac\\u03c1\\u03c7\\u03b5\\u03b9\",\"<b>Topic 0</b><br>Words: \\u03bb\\u03ad\\u03ba\\u03ba\\u03b1\\u03c2, \\u03c6\\u03b1\\u03b9\\u03bd\\u03cc\\u03bc\\u03b5\\u03bd\\u03b1, \\u03c0\\u03bb\\u03b7\\u03bc\\u03bc\\u03c5\\u03c1\\u03b9\\u03ba\\u03ac, \\u03ba\\u03b1\\u03c4\\u03b1\\u03c3\\u03c4\\u03c1\\u03bf\\u03c6\\u03ce\\u03bd, \\u03c5\\u03c0\\u03ac\\u03c1\\u03c7\\u03b5\\u03b9\",\"<b>Topic 0</b><br>Words: \\u03c6\\u03b1\\u03b9\\u03bd\\u03cc\\u03bc\\u03b5\\u03bd\\u03b1, \\u03bb\\u03ad\\u03ba\\u03ba\\u03b1\\u03c2, \\u03c0\\u03bb\\u03b7\\u03bc\\u03bc\\u03c5\\u03c1\\u03b9\\u03ba\\u03ac, \\u03ba\\u03b1\\u03c4\\u03b1\\u03c3\\u03c4\\u03c1\\u03bf\\u03c6\\u03ce\\u03bd, \\u03c5\\u03c0\\u03ac\\u03c1\\u03c7\\u03b5\\u03b9\",\"<b>Topic 0</b><br>Words: \\u03c6\\u03b1\\u03b9\\u03bd\\u03cc\\u03bc\\u03b5\\u03bd\\u03b1, \\u03bb\\u03ad\\u03ba\\u03ba\\u03b1\\u03c2, \\u03c0\\u03bb\\u03b7\\u03bc\\u03bc\\u03c5\\u03c1\\u03b9\\u03ba\\u03ac, \\u03b5\\u03cd\\u03b2\\u03bf\\u03b9\\u03b1, \\u03ba\\u03b1\\u03c4\\u03b1\\u03c3\\u03c4\\u03c1\\u03bf\\u03c6\\u03ce\\u03bd\",\"<b>Topic 0</b><br>Words: \\u03c6\\u03b1\\u03b9\\u03bd\\u03cc\\u03bc\\u03b5\\u03bd\\u03b1, \\u03bb\\u03ad\\u03ba\\u03ba\\u03b1\\u03c2, \\u03c0\\u03bb\\u03b7\\u03bc\\u03bc\\u03c5\\u03c1\\u03b9\\u03ba\\u03ac, \\u03ba\\u03b1\\u03c4\\u03b1\\u03c3\\u03c4\\u03c1\\u03bf\\u03c6\\u03ce\\u03bd, \\u03c5\\u03c0\\u03ac\\u03c1\\u03c7\\u03b5\\u03b9\",\"<b>Topic 0</b><br>Words: \\u03ba\\u03b1\\u03c4\\u03ad\\u03c1\\u03c1\\u03b5\\u03c5\\u03c3\\u03b5, \\u03b1\\u03c0\\u03bf\\u03ba\\u03bb\\u03b5\\u03b9\\u03c3\\u03bc\\u03ad\\u03bd\\u03b1, \\u03c6\\u03b1\\u03b9\\u03bd\\u03cc\\u03bc\\u03b5\\u03bd\\u03b1, \\u03c7\\u03c9\\u03c1\\u03b9\\u03ac, \\u03bb\\u03ad\\u03ba\\u03ba\\u03b1\\u03c2\",\"<b>Topic 0</b><br>Words: \\u03c6\\u03b1\\u03b9\\u03bd\\u03cc\\u03bc\\u03b5\\u03bd\\u03b1, \\u03bb\\u03ad\\u03ba\\u03ba\\u03b1\\u03c2, \\u03c0\\u03bb\\u03b7\\u03bc\\u03bc\\u03c5\\u03c1\\u03b9\\u03ba\\u03ac, \\u03ba\\u03b1\\u03c4\\u03b1\\u03c3\\u03c4\\u03c1\\u03bf\\u03c6\\u03ce\\u03bd, \\u03c5\\u03c0\\u03ac\\u03c1\\u03c7\\u03b5\\u03b9\",\"<b>Topic 0</b><br>Words: \\u03ba\\u03ad\\u03c1\\u03ba\\u03c5\\u03c1\\u03b1, \\u03b1\\u03bd\\u03b1\\u03bc\\u03ad\\u03bd\\u03b5\\u03c4\\u03b1\\u03b9, \\u03ad\\u03c0\\u03b5\\u03c3\\u03b5, \\u03ba\\u03b1\\u03ba\\u03bf\\u03ba\\u03b1\\u03b9\\u03c1\\u03af\\u03b5\\u03c2, \\u03c6\\u03bf\\u03b2\\u03b5\\u03c1\\u03ce\\u03bd\",\"<b>Topic 0</b><br>Words: \\u03b4\\u03b5\\u03af\\u03be\\u03bf\\u03c5\\u03bc\\u03b5, \\u03c0\\u03b5\\u03c1\\u03b9\\u03bf\\u03c5\\u03c3\\u03af\\u03b5\\u03c2, \\u03b2\\u03b5\\u03b2\\u03b1\\u03af\\u03c9\\u03c2, \\u03c3\\u03b5\\u03b2\\u03b1\\u03c3\\u03bc\\u03cc, \\u03c3\\u03c5\\u03bc\\u03c6\\u03ad\\u03c1\\u03bf\\u03bd\\u03c4\\u03b1\",\"<b>Topic 0</b><br>Words: \\u03ba\\u03b1\\u03c4\\u03b1\\u03c3\\u03c4\\u03c1\\u03bf\\u03c6\\u03ad\\u03c2, \\u03c6\\u03b1\\u03b9\\u03bd\\u03cc\\u03bc\\u03b5\\u03bd\\u03b1, \\u03ba\\u03c1\\u03af\\u03c3\\u03b5\\u03b9\\u03c2, \\u03ba\\u03b9\\u03bd\\u03b4\\u03cd\\u03bd\\u03bf\\u03c5\\u03c2, \\u03b5\\u03c0\\u03af\\u03c0\\u03b5\\u03b4\\u03bf\",\"<b>Topic 0</b><br>Words: \\u03b2\\u03b5\\u03bd\\u03b5\\u03c4\\u03af\\u03b1, \\u03c4\\u03ad\\u03c3\\u03b5\\u03c1\\u03b9\\u03bd, \\u03b5\\u03ba\\u03b1\\u03c4\\u03bf\\u03c3\\u03c4\\u03ac, \\u03b5\\u03ba\\u03b1\\u03c4\\u03bf\\u03c3\\u03c4\\u03ce\\u03bd, \\u03c6\\u03bf\\u03c1\\u03ad\\u03c2\",\"<b>Topic 0</b><br>Words: \\u03b2\\u03b5\\u03bd\\u03b5\\u03c4\\u03af\\u03b1, \\u03c4\\u03ad\\u03c3\\u03b5\\u03c1\\u03b9\\u03bd, \\u03b5\\u03ba\\u03b1\\u03c4\\u03bf\\u03c3\\u03c4\\u03ac, \\u03b5\\u03ba\\u03b1\\u03c4\\u03bf\\u03c3\\u03c4\\u03ce\\u03bd, \\u03c6\\u03bf\\u03c1\\u03ad\\u03c2\",\"<b>Topic 0</b><br>Words: \\u03c4\\u03ad\\u03c3\\u03b5\\u03c1\\u03b9\\u03bd, \\u03b2\\u03b5\\u03bd\\u03b5\\u03c4\\u03af\\u03b1, \\u03b5\\u03ba\\u03b1\\u03c4\\u03bf\\u03c3\\u03c4\\u03ac, \\u03b5\\u03ba\\u03b1\\u03c4\\u03bf\\u03c3\\u03c4\\u03ce\\u03bd, \\u03b1\\u03b3\\u03af\\u03bf\\u03c5\",\"<b>Topic 0</b><br>Words: \\u03ba\\u03c5\\u03b2\\u03ad\\u03c1\\u03bd\\u03b7\\u03c3\\u03b7, \\u03b4\\u03af\\u03bd\\u03b5\\u03b9, \\u03ba\\u03c9\\u03bc\\u03b9\\u03ba\\u03bf\\u03cd, \\u03c6\\u03c4\\u03b9\\u03ac\\u03c7\\u03bd\\u03c9, \\u03c0\\u03b5\\u03c1\\u03ae\\u03c6\\u03b1\\u03bd\\u03bf\\u03b9\",\"<b>Topic 0</b><br>Words: \\u03ba\\u03ac\\u03c3\\u03b1\\u03c2, \\u03c3\\u03b1\\u03bc\\u03cc\\u03c1\\u03b1, \\u03b4\\u03b7\\u03bc\\u03bf\\u03ba\\u03c1\\u03b1\\u03c4\\u03af\\u03b5\\u03c2, \\u03c0\\u03bf\\u03bb\\u03b9\\u03c4\\u03b9\\u03ba\\u03ae, \\u03b4\\u03ae\\u03bb\\u03c9\\u03c3\\u03b5\",\"<b>Topic 0</b><br>Words: \\u03ba\\u03ac\\u03c3\\u03b1\\u03c2, \\u03b4\\u03b7\\u03bc\\u03bf\\u03ba\\u03c1\\u03b1\\u03c4\\u03af\\u03b5\\u03c2, \\u03c3\\u03b1\\u03bc\\u03cc\\u03c1\\u03b1, \\u03ba\\u03bb\\u03b9\\u03bc\\u03b1\\u03c4\\u03b9\\u03ba\\u03ae, \\u03c0\\u03bf\\u03bb\\u03b9\\u03c4\\u03b9\\u03ba\\u03ae\",\"<b>Topic 0</b><br>Words: ceo, \\u03b5\\u03c4\\u03b1\\u03b9\\u03c1\\u03b5\\u03af\\u03b1, \\u03b1\\u03c1\\u03bd\\u03b7\\u03c4\\u03ce\\u03bd, koch, \\u03b4\\u03bf\\u03bb\\u03ac\\u03c1\\u03b9\\u03b1\",\"<b>Topic 0</b><br>Words: \\u03b2\\u03b7\\u03bc\\u03b1, \\u03ba\\u03c5\\u03ba\\u03bb\\u03bf\\u03c6\\u03bf\\u03c1\\u03b5\\u03af\\u03b1\\u03ba\\u03bf\\u03bb\\u03bf\\u03c5\\u03b8\\u03ae\\u03c3\\u03c4\\u03b5, \\u03b5\\u03c0\\u03b9\\u03c3\\u03c4\\u03ae\\u03bc\\u03bf\\u03bd\\u03b5\\u03c2, \\u03ce\\u03c4\\u03b1, \\u03c3\\u03c7\\u03bf\\u03bb\\u03b9\\u03b1\\u03c3\\u03c4\\u03ae\\u03c2\",\"<b>Topic 0</b><br>Words: \\u03c6\\u03b1\\u03b9\\u03bd\\u03cc\\u03bc\\u03b5\\u03bd\\u03b1, \\u03c0\\u03b5\\u03c1\\u03b9\\u03bf\\u03c7\\u03ae, \\u03bf\\u03c5\\u03c3\\u03b9\\u03b1\\u03c3\\u03c4\\u03b9\\u03ba\\u03ac, \\u03ba\\u03bb\\u03b9\\u03bc\\u03b1\\u03c4\\u03b9\\u03ba\\u03ae, \\u03bc\\u03b1\\u03b3\\u03bd\\u03b7\\u03c3\\u03af\\u03b1\",\"<b>Topic 0</b><br>Words: \\u03ba\\u03bb\\u03b9\\u03bc\\u03b1\\u03c4\\u03b9\\u03ba\\u03ae, \\u03ba\\u03c1\\u03af\\u03c3\\u03b7, \\u03c0\\u03c1\\u03c9\\u03c4\\u03b1\\u03b3\\u03c9\\u03bd\\u03b9\\u03c3\\u03c4\\u03ae\\u03c2, \\u03bf\\u03c1\\u03c5\\u03ba\\u03c4\\u03bf\\u03cd, \\u03c4\\u03bf\\u03bb\\u03bc\\u03b7\\u03c1\\u03ad\\u03c2\",\"<b>Topic 0</b><br>Words: \\u03b5\\u03ba\\u03c0\\u03bf\\u03bc\\u03c0\\u03ad\\u03c2, \\u03ba\\u03bb\\u03b9\\u03bc\\u03b1\\u03c4\\u03b9\\u03ba\\u03ae, \\u03c0\\u03b1\\u03c1\\u03b9\\u03c3\\u03b9\\u03bf\\u03cd, \\u03b1\\u03c0\\u03bf\\u03c5\\u03c3\\u03af\\u03b1, \\u03b3\\u03bb\\u03b1\\u03c3\\u03ba\\u03ce\\u03b2\\u03b7\",\"<b>Topic 0</b><br>Words: \\u03c7\\u03c1\\u03cc\\u03bd\\u03b9\\u03b1, \\u03b3\\u03b7, \\u03ba\\u03bb\\u03b9\\u03bc\\u03b1\\u03c4\\u03b9\\u03ba\\u03ae, \\u03c0\\u03b5\\u03c1\\u03b9\\u03c3\\u03c3\\u03cc\\u03c4\\u03b5\\u03c1\\u03b1, \\u03c0\\u03b1\\u03c4\\u03c1\\u03af\\u03c2\",\"<b>Topic 0</b><br>Words: \\u03ba\\u03bb\\u03b9\\u03bc\\u03b1\\u03c4\\u03b9\\u03ba\\u03ae, vote, peoples, \\u03b5\\u03c7\\u03bf\\u03c5\\u03bd, \\u03c7\\u03ce\\u03c1\\u03b5\\u03c2\",\"<b>Topic 0</b><br>Words: facebook, \\u03c0\\u03b1\\u03c1\\u03b1\\u03c0\\u03bb\\u03b7\\u03c1\\u03bf\\u03c6\\u03cc\\u03c1\\u03b7\\u03c3\\u03b7, \\u03b9\\u03c3\\u03c4\\u03cc\\u03c4\\u03bf\\u03c0\\u03bf\\u03c2, \\u03b1\\u03bd\\u03b1\\u03c1\\u03c4\\u03ae\\u03c3\\u03b5\\u03b9\\u03c2, \\u03c3\\u03c7\\u03b5\\u03c4\\u03b9\\u03ba\\u03ac\",\"<b>Topic 0</b><br>Words: \\u03c7\\u03c1\\u03cc\\u03bd\\u03b9\\u03b1, \\u03c0\\u03b1\\u03c1\\u03b1\\u03bb\\u03af\\u03b1, \\u03c0\\u03b5\\u03c1\\u03b9\\u03bf\\u03c7\\u03ad\\u03c2, \\u03c7\\u03b1\\u03bb\\u03ba\\u03b9\\u03b4\\u03b9\\u03ba\\u03ae, \\u03c3\\u03c4\\u03bf\\u03c5\\u03c1\\u03bd\\u03ac\\u03c1\\u03b1\\u03c2\",\"<b>Topic 0</b><br>Words: \\u03c4\\u03b5\\u03c7\\u03bd\\u03bf\\u03bb\\u03bf\\u03b3\\u03b9\\u03ce\\u03bd, \\u03bf\\u03b9\\u03ba\\u03bf\\u03c3\\u03c5\\u03c3\\u03c4\\u03b7\\u03bc\\u03ac\\u03c4\\u03c9\\u03bd, \\u03ba\\u03bb\\u03b9\\u03bc\\u03b1\\u03c4\\u03b9\\u03ba\\u03ae, \\u03ba\\u03bf\\u03b9\\u03bd\\u03c9\\u03bd\\u03af\\u03b1\\u03c2, \\u03b1\\u03bb\\u03bb\\u03b1\\u03b3\\u03ae\",\"<b>Topic 0</b><br>Words: \\u03b2\\u03b5\\u03bd\\u03b5\\u03c4\\u03af\\u03b1\\u03c2, \\u03c3\\u03cd\\u03c3\\u03c4\\u03b7\\u03bc\\u03b1, \\u03c0\\u03bb\\u03b7\\u03bc\\u03bc\\u03cd\\u03c1\\u03b5\\u03c2, \\u03b9\\u03c3\\u03c4\\u03bf\\u03c1\\u03b9\\u03ba\\u03cc, \\u03ba\\u03ad\\u03bd\\u03c4\\u03c1\\u03bf\",\"<b>Topic 0</b><br>Words: \\u03b1\\u03c0\\u03bf\\u03c6\\u03ac\\u03c3\\u03b5\\u03c9\\u03bd, \\u03ce\\u03c1\\u03b1, cbs, \\u03c0\\u03b1\\u03c1\\u03b1\\u03b8\\u03ad\\u03c4\\u03bf\\u03bd\\u03c4\\u03b1\\u03c2, \\u03b4\\u03ad\\u03bd\\u03b4\\u03b9\\u03b1\\u03c2\",\"<b>Topic 0</b><br>Words: \\u03b1\\u03c0\\u03bf\\u03c6\\u03ac\\u03c3\\u03b5\\u03c9\\u03bd, \\u03ce\\u03c1\\u03b1, \\u03b5\\u03b9\\u03ba\\u03cc\\u03bd\\u03b5\\u03c2, \\u03bc\\u03bf\\u03bd\\u03c4\\u03ad\\u03bb\\u03bf, \\u03c3\\u03c5\\u03bd\\u03b5\\u03c1\\u03b3\\u03b1\\u03c3\\u03af\\u03b1\\u03c2\",\"<b>Topic 0</b><br>Words: \\u03bc\\u03c0\\u03bf\\u03c1\\u03bf\\u03cd\\u03bc\\u03b5, \\u03c6\\u03b1\\u03b9\\u03bd\\u03cc\\u03bc\\u03b5\\u03bd\\u03b1, \\u03ba\\u03b1\\u03c4\\u03b1\\u03c3\\u03c4\\u03c1\\u03bf\\u03c6\\u03ce\\u03bd, \\u03bd\\u03ad\\u03b1, \\u03ba\\u03bb\\u03b9\\u03bc\\u03b1\\u03c4\\u03b9\\u03ba\\u03ae\",\"<b>Topic 0</b><br>Words: \\u03b5\\u03ba\\u03ba\\u03bb\\u03b7\\u03c3\\u03af\\u03b1, \\u03ba\\u03b1\\u03c4\\u03b5\\u03cd\\u03b8\\u03c5\\u03bd\\u03c3\\u03b7, \\u03ae\\u03b8\\u03bf\\u03c2, \\u03c3\\u03b5\\u03b2\\u03b1\\u03c3\\u03bc\\u03cc\\u03c2, \\u03bf\\u03c1\\u03b8\\u03cc\\u03b4\\u03bf\\u03be\\u03b7\",\"<b>Topic 0</b><br>Words: \\u03b5\\u03ba\\u03ba\\u03bb\\u03b7\\u03c3\\u03af\\u03b1, \\u03ba\\u03b1\\u03c4\\u03b5\\u03cd\\u03b8\\u03c5\\u03bd\\u03c3\\u03b7, \\u03ae\\u03b8\\u03bf\\u03c2, \\u03b4\\u03b7\\u03bc\\u03b7\\u03c4\\u03c1\\u03b9\\u03ac\\u03b4\\u03bf\\u03c2, \\u03c3\\u03b5\\u03b2\\u03b1\\u03c3\\u03bc\\u03cc\\u03c2\",\"<b>Topic 0</b><br>Words: \\u03b5\\u03ba\\u03ba\\u03bb\\u03b7\\u03c3\\u03af\\u03b1, \\u03ba\\u03b1\\u03c4\\u03b5\\u03cd\\u03b8\\u03c5\\u03bd\\u03c3\\u03b7, \\u03ae\\u03b8\\u03bf\\u03c2, \\u03c3\\u03b5\\u03b2\\u03b1\\u03c3\\u03bc\\u03cc\\u03c2, \\u03bf\\u03c1\\u03b8\\u03cc\\u03b4\\u03bf\\u03be\\u03b7\",\"<b>Topic 0</b><br>Words: \\u03b5\\u03ba\\u03ba\\u03bb\\u03b7\\u03c3\\u03af\\u03b1, \\u03ba\\u03b1\\u03c4\\u03b5\\u03cd\\u03b8\\u03c5\\u03bd\\u03c3\\u03b7, \\u03ae\\u03b8\\u03bf\\u03c2, \\u03c3\\u03b5\\u03b2\\u03b1\\u03c3\\u03bc\\u03cc\\u03c2, \\u03bf\\u03c1\\u03b8\\u03cc\\u03b4\\u03bf\\u03be\\u03b7\",\"<b>Topic 0</b><br>Words: \\u03b5\\u03ba\\u03ba\\u03bb\\u03b7\\u03c3\\u03af\\u03b1, \\u03ba\\u03b1\\u03c4\\u03b5\\u03cd\\u03b8\\u03c5\\u03bd\\u03c3\\u03b7, \\u03ae\\u03b8\\u03bf\\u03c2, \\u03c3\\u03b5\\u03b2\\u03b1\\u03c3\\u03bc\\u03cc\\u03c2, \\u03bf\\u03c1\\u03b8\\u03cc\\u03b4\\u03bf\\u03be\\u03b7\",\"<b>Topic 0</b><br>Words: \\u03bd\\u03b5\\u03c1\\u03cc, \\u03bd\\u03b5\\u03c1\\u03bf\\u03cd, \\u03c3\\u03c6\\u03bf\\u03c5\\u03b3\\u03b3\\u03ac\\u03c1\\u03b9, \\u03ba\\u03bb\\u03b9\\u03bc\\u03b1\\u03c4\\u03b9\\u03ba\\u03ae, \\u03c0\\u03cc\\u03bb\\u03b5\\u03b9\\u03c2\",\"<b>Topic 0</b><br>Words: \\u03bd\\u03b5\\u03c1\\u03cc, \\u03bd\\u03b5\\u03c1\\u03bf\\u03cd, \\u03ba\\u03af\\u03bd\\u03b1, \\u03c3\\u03c6\\u03bf\\u03c5\\u03b3\\u03b3\\u03ac\\u03c1\\u03b9, \\u03c0\\u03cc\\u03bb\\u03b5\\u03b9\\u03c2\",\"<b>Topic 0</b><br>Words: \\u03c4\\u03b1\\u03ca\\u03bc\\u03af\\u03c1, \\u03b5\\u03bb\\u03ac\\u03c6\\u03b9\\u03b1, \\u03ba\\u03bb\\u03b9\\u03bc\\u03b1\\u03c4\\u03b9\\u03ba\\u03ae, \\u03ba\\u03c5\\u03bd\\u03ae\\u03b3\\u03b9, \\u03c0\\u03b1\\u03c1\\u03b1\\u03b4\\u03bf\\u03c3\\u03b9\\u03b1\\u03ba\\u03cc\",\"<b>Topic 0</b><br>Words: \\u03b5\\u03c0\\u03b9\\u03c6\\u03c5\\u03bb\\u03b1\\u03ba\\u03ae, \\u03b5\\u03bd\\u03b4\\u03b5\\u03c7\\u03cc\\u03bc\\u03b5\\u03bd\\u03c9\\u03bd, \\u03b1\\u03bd\\u03c4\\u03b9\\u03bc\\u03b5\\u03c4\\u03c9\\u03c0\\u03af\\u03b6\\u03bf\\u03bd\\u03c4\\u03b1\\u03b9, \\u03b5\\u03b3\\u03c1\\u03ae\\u03b3\\u03bf\\u03c1\\u03c3\\u03b7, \\u03b4\\u03b9\\u03b1\\u03c1\\u03ba\\u03ae\",\"<b>Topic 0</b><br>Words: \\u03ba\\u03bb\\u03b9\\u03bc\\u03b1\\u03c4\\u03b9\\u03ba\\u03ae, media, \\u03b1\\u03bb\\u03bb\\u03b1\\u03b3\\u03ae, \\u03b4\\u03b7\\u03bc\\u03bf\\u03c3\\u03b9\\u03bf\\u03b3\\u03c1\\u03b1\\u03c6\\u03af\\u03b1, \\u03bc\\u03bc\\u03b5\",\"<b>Topic 0</b><br>Words: \\u03c0\\u03bf\\u03bb\\u03b9\\u03c4\\u03b9\\u03c3\\u03c4\\u03b9\\u03ba\\u03ae\\u03c2, \\u03ba\\u03bb\\u03b7\\u03c1\\u03bf\\u03bd\\u03bf\\u03bc\\u03b9\\u03ac\\u03c2, \\u03c4\\u03bf\\u03c0\\u03af\\u03bf, forum, \\u03c7\\u03ce\\u03c1\\u03bf\\u03c5\\u03c2\",\"<b>Topic 0</b><br>Words: \\u03ba\\u03c5\\u03b2\\u03b5\\u03c1\\u03bd\\u03ae\\u03c3\\u03b5\\u03b9\\u03c2, \\u03b1\\u03bb\\u03bb\\u03b1\\u03b3\\u03ad\\u03c2, \\u03c5\\u03b3\\u03b5\\u03af\\u03b1, \\u03ba\\u03b1\\u03c4\\u03b5\\u03c5\\u03b8\\u03cd\\u03bd\\u03c3\\u03b5\\u03b9\\u03c2, \\u03c0\\u03b5\\u03c1\\u03b9\\u03b2\\u03ac\\u03bb\\u03bb\\u03bf\\u03bd\",\"<b>Topic 0</b><br>Words: \\u03b1\\u03c0\\u03bf\\u03ba\\u03ac\\u03bb\\u03c5\\u03c8\\u03b7\\u03c2, \\u03c0\\u03b1\\u03b3\\u03b5\\u03c4\\u03ce\\u03bd\\u03b1\\u03c2, \\u03ba\\u03bb\\u03b9\\u03bc\\u03b1\\u03c4\\u03b9\\u03ba\\u03ae, \\u03c6\\u03b1\\u03b9\\u03bd\\u03cc\\u03bc\\u03b5\\u03bd\\u03b1, \\u03b1\\u03bb\\u03bb\\u03b1\\u03b3\\u03ae\",\"<b>Topic 0</b><br>Words: \\u03b1\\u03c0\\u03bf\\u03ba\\u03ac\\u03bb\\u03c5\\u03c8\\u03b7\\u03c2, \\u03c0\\u03b1\\u03b3\\u03b5\\u03c4\\u03ce\\u03bd\\u03b1\\u03c2, \\u03ba\\u03bb\\u03b9\\u03bc\\u03b1\\u03c4\\u03b9\\u03ba\\u03ae, \\u03c6\\u03b1\\u03b9\\u03bd\\u03cc\\u03bc\\u03b5\\u03bd\\u03b1, \\u03b1\\u03bb\\u03bb\\u03b1\\u03b3\\u03ae\",\"<b>Topic 0</b><br>Words: \\u03b1\\u03c0\\u03bf\\u03ba\\u03ac\\u03bb\\u03c5\\u03c8\\u03b7\\u03c2, \\u03c0\\u03b1\\u03b3\\u03b5\\u03c4\\u03ce\\u03bd\\u03b1\\u03c2, \\u03ba\\u03bb\\u03b9\\u03bc\\u03b1\\u03c4\\u03b9\\u03ba\\u03ae, \\u03c6\\u03b1\\u03b9\\u03bd\\u03cc\\u03bc\\u03b5\\u03bd\\u03b1, \\u03b1\\u03bb\\u03bb\\u03b1\\u03b3\\u03ae\",\"<b>Topic 0</b><br>Words: \\u03b1\\u03c0\\u03bf\\u03ba\\u03ac\\u03bb\\u03c5\\u03c8\\u03b7\\u03c2, \\u03c0\\u03b1\\u03b3\\u03b5\\u03c4\\u03ce\\u03bd\\u03b1\\u03c2, \\u03ba\\u03bb\\u03b9\\u03bc\\u03b1\\u03c4\\u03b9\\u03ba\\u03ae, \\u03c6\\u03b1\\u03b9\\u03bd\\u03cc\\u03bc\\u03b5\\u03bd\\u03b1, \\u03b1\\u03bb\\u03bb\\u03b1\\u03b3\\u03ae\",\"<b>Topic 0</b><br>Words: \\u03c6\\u03c1\\u03ac\\u03b3\\u03bc\\u03b1, \\u03b8\\u03bf\\u03c5\\u03ad\\u03b9\\u03c4\\u03c2, ppm, \\u03ba\\u03c1\\u03af\\u03c3\\u03b7, look\",\"<b>Topic 0</b><br>Words: \\u03b9\\u03c3\\u03c4\\u03bf\\u03c1\\u03af\\u03b5\\u03c2, \\u03ba\\u03bb\\u03b9\\u03bc\\u03b1\\u03c4\\u03b9\\u03ba\\u03ae, \\u03ae\\u03c1\\u03c9\\u03b5\\u03c2, \\u03b7\\u03c1\\u03c9\\u03af\\u03b4\\u03b5\\u03c2, \\u03ba\\u03c1\\u03af\\u03c3\\u03b7\",\"<b>Topic 0</b><br>Words: \\u03ba\\u03bb\\u03b9\\u03bc\\u03b1\\u03c4\\u03b9\\u03ba\\u03ae, \\u03c6\\u03b1\\u03b9\\u03bd\\u03cc\\u03bc\\u03b5\\u03bd\\u03b1, \\u03ba\\u03c1\\u03af\\u03c3\\u03b7, \\u03c7\\u03c1\\u03cc\\u03bd\\u03b9\\u03b1, \\u03b1\\u03bb\\u03bb\\u03b1\\u03b3\\u03ae\",\"<b>Topic 0</b><br>Words: \\u03c3\\u03c7\\u03bf\\u03bb\\u03b5\\u03af\\u03b1, \\u03c3\\u03bc\\u03cd\\u03c1\\u03bd\\u03b7\\u03c2, \\u03b5\\u03ba\\u03c0\\u03b1\\u03af\\u03b4\\u03b5\\u03c5\\u03c3\\u03b7, \\u03ba\\u03c5\\u03c1\\u03af\\u03b1\\u03c1\\u03c7\\u03bf, \\u03c0\\u03cc\\u03c3\\u03b1\",\"<b>Topic 0</b><br>Words: \\u03b5\\u03c0\\u03b9\\u03c0\\u03c4\\u03ce\\u03c3\\u03b5\\u03b9\\u03c2, \\u03b2\\u03b1\\u03b8\\u03bc\\u03cc, \\u03ad\\u03ba\\u03b8\\u03b5\\u03c3\\u03b7, \\u03b8\\u03b5\\u03c1\\u03bc\\u03bf\\u03ba\\u03c1\\u03b1\\u03c3\\u03af\\u03b1\\u03c2, \\u03ac\\u03bd\\u03bf\\u03b4\\u03bf\\u03c2\",\"<b>Topic 0</b><br>Words: \\u03bd\\u03b5\\u03c1\\u03cc, pepteam, letssolvewater, \\u03c3\\u03ba\\u03bf\\u03c5\\u03c0\\u03af\\u03b4\\u03b9\\u03b1, and\",\"<b>Topic 0</b><br>Words: barrau, \\u03c3\\u03c5\\u03bb\\u03bb\\u03bf\\u03b3\\u03ae, \\u03ba\\u03cc\\u03c3\\u03bc\\u03bf, \\u03b1\\u03c8\\u03af\\u03b4\\u03b1, \\u03b3\\u03ac\\u03bb\\u03bb\\u03bf\",\"<b>Topic 0</b><br>Words: \\u03b2\\u03b9\\u03c9\\u03c3\\u03b9\\u03bc\\u03cc\\u03c4\\u03b7\\u03c4\\u03b1\\u03c2, \\u03b4\\u03b5\\u03b7, \\u03b1\\u03bd\\u03b1\\u03c6\\u03ad\\u03c1\\u03b8\\u03b7\\u03ba\\u03b5, \\u03b5\\u03c0\\u03b5\\u03c3\\u03ae\\u03bc\\u03b1\\u03bd\\u03b5, \\u03c4\\u03bf\\u03bc\\u03ad\\u03b1\",\"<b>Topic 0</b><br>Words: \\u03c4\\u03c5\\u03c6\\u03ce\\u03bd\\u03b5\\u03c2, \\u03b1\\u03bb\\u03bb\\u03b1\\u03b3\\u03ae, \\u03b5\\u03c0\\u03b9\\u03c3\\u03c4\\u03ae\\u03bc\\u03bf\\u03bd\\u03b5\\u03c2, \\u03ba\\u03bb\\u03b9\\u03bc\\u03b1\\u03c4\\u03b9\\u03ba\\u03ae, \\u03c1\\u03b9\\u03bd\\u03c4\",\"<b>Topic 0</b><br>Words: \\u03b1\\u03bd\\u03c4\\u03b9\\u03c0\\u03c5\\u03c1\\u03b9\\u03ba\\u03ae\\u03c2, \\u03c5\\u03c0\\u03ac\\u03c1\\u03c7\\u03b5\\u03b9, \\u03c0\\u03b5\\u03bb\\u03bf\\u03c0\\u03bf\\u03bd\\u03bd\\u03ae\\u03c3\\u03bf\\u03c5, \\u03ba\\u03bb\\u03b9\\u03bc\\u03b1\\u03c4\\u03b9\\u03ba\\u03ae, \\u03c0\\u03b5\\u03c1\\u03b9\\u03cc\\u03b4\\u03bf\\u03c5\",\"<b>Topic 0</b><br>Words: time, \\u03b5\\u03be\\u03ce\\u03c6\\u03c5\\u03bb\\u03bb\\u03bf, cover, \\u03c0\\u03bf\\u03bb\\u03c5\\u03b5\\u03b8\\u03bd\\u03b9\\u03ba\\u03ce\\u03bd, \\u03c0\\u03b5\\u03c1\\u03b9\\u03bf\\u03b4\\u03b9\\u03ba\\u03bf\\u03cd\",\"<b>Topic 0</b><br>Words: twitter, \\u03b3\\u03b7\\u03c2, \\u03b7\\u03bc\\u03ad\\u03c1\\u03b1\\u03c2, \\u03b8\\u03b1\\u03bb\\u03ac\\u03c3\\u03c3\\u03b9\\u03b1, \\u03b5\\u03c4\\u03b1\\u03b9\\u03c1\\u03b5\\u03af\\u03b1\",\"<b>Topic 0</b><br>Words: bruce, 22, \\u03b1\\u03bd\\u03ac\\u03c1\\u03c4\\u03b7\\u03c3\\u03b7, \\u03b1\\u03c5\\u03c4\\u03bf\\u03c0\\u03c5\\u03c1\\u03c0\\u03bf\\u03bb\\u03ae\\u03b8\\u03b7\\u03ba\\u03b5, \\u03b8\\u03ac\\u03bd\\u03b1\\u03c4\\u03cc\",\"<b>Topic 0</b><br>Words: \\u03c6\\u03b1\\u03b9\\u03bd\\u03cc\\u03bc\\u03b5\\u03bd\\u03b1, \\u03b8\\u03b5\\u03c3\\u03c3\\u03b1\\u03bb\\u03af\\u03b1, \\u03b8\\u03b5\\u03c3\\u03c3\\u03b1\\u03bb\\u03af\\u03b1\\u03c2, \\u03c6\\u03b1\\u03b9\\u03bd\\u03bf\\u03bc\\u03ad\\u03bd\\u03c9\\u03bd, \\u03c7\\u03ce\\u03c1\\u03bf\",\"<b>Topic 0</b><br>Words: \\u03c7\\u03c9\\u03c1\\u03ce\\u03bd, \\u03bb\\u03b7\\u03c6\\u03b8\\u03b5\\u03af, \\u03c7\\u03ce\\u03c1\\u03b1\\u03c2, \\u03ba\\u03af\\u03bd\\u03b4\\u03c5\\u03bd\\u03bf\\u03b9, \\u03c5\\u03c0\\u03bf\\u03b4\\u03bf\\u03bc\\u03ce\\u03bd\",\"<b>Topic 0</b><br>Words: \\u03b3\\u03ba\\u03c1\\u03ad\\u03c4\\u03b1, \\u03c4\\u03bf\\u03cd\\u03bd\\u03bc\\u03c0\\u03b5\\u03c1\\u03b3\\u03ba, \\u03ba\\u03bb\\u03b9\\u03bc\\u03b1\\u03c4\\u03b9\\u03ba\\u03ae, \\u03ba\\u03af\\u03bd\\u03b7\\u03bc\\u03b1, \\u03bc\\u03ad\\u03bb\\u03bb\\u03bf\\u03bd\",\"<b>Topic 0</b><br>Words: \\u03ba\\u03b9\\u03cc\\u03c4\\u03bf, \\u03ac\\u03bd\\u03b8\\u03b7\\u03c3\\u03b7\\u03c2, \\u03c3\\u03b1\\u03ba\\u03bf\\u03cd\\u03c1\\u03b1, \\u03ba\\u03b5\\u03c1\\u03b1\\u03c3\\u03b9\\u03ce\\u03bd, \\u03b1\\u03c0\\u03bf\\u03ba\\u03bf\\u03c1\\u03cd\\u03c6\\u03c9\\u03bc\\u03b1\",\"<b>Topic 0</b><br>Words: \\u03b1\\u03bd\\u03b8\\u03bf\\u03c6\\u03bf\\u03c1\\u03af\\u03b1\\u03c2, \\u03c6\\u03c5\\u03c4\\u03ac, \\u03ba\\u03b5\\u03c1\\u03b1\\u03c3\\u03b9\\u03ac\\u03c2, \\u03ad\\u03bd\\u03c4\\u03bf\\u03bc\\u03b1, \\u03ba\\u03b5\\u03c1\\u03b1\\u03c3\\u03b9\\u03ad\\u03c2\",\"<b>Topic 0</b><br>Words: sakura, \\u03ac\\u03bd\\u03b8\\u03b7\\u03c3\\u03b7, \\u03ba\\u03b5\\u03c1\\u03b1\\u03c3\\u03b9\\u03ce\\u03bd, \\u03c0\\u03c1\\u03cc\\u03c9\\u03c1\\u03b7, \\u03ba\\u03b9\\u03cc\\u03c4\\u03bf\",\"<b>Topic 0</b><br>Words: \\u03b1\\u03bd\\u03b8\\u03bf\\u03c6\\u03bf\\u03c1\\u03af\\u03b1\\u03c2, \\u03c6\\u03c5\\u03c4\\u03ac, \\u03ba\\u03b5\\u03c1\\u03b1\\u03c3\\u03b9\\u03ac\\u03c2, \\u03ad\\u03bd\\u03c4\\u03bf\\u03bc\\u03b1, \\u03ba\\u03b5\\u03c1\\u03b1\\u03c3\\u03b9\\u03ad\\u03c2\",\"<b>Topic 0</b><br>Words: \\u03b1\\u03c5\\u03c3\\u03c4\\u03c1\\u03b1\\u03bb\\u03af\\u03b1, tvxs, \\u03c0\\u03bb\\u03b7\\u03bc\\u03bc\\u03cd\\u03c1\\u03b5\\u03c2, sam, \\u03bc\\u03c0\\u03c1\\u03af\\u03c3\\u03bc\\u03c0\\u03b5\\u03ca\\u03bd\",\"<b>Topic 0</b><br>Words: \\u03bc\\u03c0\\u03b1\\u03c1\\u03ac\\u03bf\\u03c5, \\u03c6\\u03b1\\u03bc\\u03c0\\u03b9\\u03ad\\u03bd, \\u03ad\\u03c1\\u03b3\\u03b1, \\u03b1\\u03bb\\u03ae\\u03b8\\u03b5\\u03b9\\u03b1, \\u03b4\\u03b5\\u03af\\u03c4\\u03b5\",\"<b>Topic 0</b><br>Words: hsbc, \\u03ba\\u03b5\\u03c1\\u03ba, \\u03c0\\u03bb\\u03b1\\u03bd\\u03ae\\u03c4\\u03b7, \\u03b5\\u03c0\\u03b9\\u03c0\\u03c4\\u03ce\\u03c3\\u03b5\\u03b9\\u03c2, \\u03c7\\u03ad\\u03b9\\u03c7\\u03bf\\u03bf\\u03c5\",\"<b>Topic 0</b><br>Words: 06, 01, 2022, 14, 15\",\"<b>Topic 0</b><br>Words: hsbc, \\u03ba\\u03b5\\u03c1\\u03ba, \\u03c0\\u03bb\\u03b1\\u03bd\\u03ae\\u03c4\\u03b7, \\u03b5\\u03c0\\u03b9\\u03c0\\u03c4\\u03ce\\u03c3\\u03b5\\u03b9\\u03c2, guardian\",\"<b>Topic 0</b><br>Words: hsbc, \\u03ba\\u03b5\\u03c1\\u03ba, \\u03c0\\u03bb\\u03b1\\u03bd\\u03ae\\u03c4\\u03b7, \\u03b5\\u03c0\\u03b9\\u03c0\\u03c4\\u03ce\\u03c3\\u03b5\\u03b9\\u03c2, guardian\",\"<b>Topic 0</b><br>Words: hsbc, \\u03ba\\u03b5\\u03c1\\u03ba, \\u03c0\\u03bb\\u03b1\\u03bd\\u03ae\\u03c4\\u03b7, \\u03b5\\u03c0\\u03b9\\u03c0\\u03c4\\u03ce\\u03c3\\u03b5\\u03b9\\u03c2, \\u03c7\\u03ad\\u03b9\\u03c7\\u03bf\\u03bf\\u03c5\",\"<b>Topic 0</b><br>Words: hsbc, \\u03c7\\u03ad\\u03b9\\u03c7\\u03bf\\u03bf\\u03c5, \\u03ba\\u03b5\\u03c1\\u03ba, \\u03c0\\u03bb\\u03b1\\u03bd\\u03ae\\u03c4\\u03b7, \\u03b5\\u03c0\\u03b9\\u03c0\\u03c4\\u03ce\\u03c3\\u03b5\\u03b9\\u03c2\",\"<b>Topic 0</b><br>Words: hsbc, \\u03ba\\u03b5\\u03c1\\u03ba, \\u03c0\\u03bb\\u03b1\\u03bd\\u03ae\\u03c4\\u03b7, \\u03b5\\u03c0\\u03b9\\u03c0\\u03c4\\u03ce\\u03c3\\u03b5\\u03b9\\u03c2, \\u03ba\\u03bb\\u03b9\\u03bc\\u03b1\\u03c4\\u03b9\\u03ba\\u03ae\",\"<b>Topic 0</b><br>Words: hsbc, \\u03ba\\u03b5\\u03c1\\u03ba, \\u03c0\\u03bb\\u03b1\\u03bd\\u03ae\\u03c4\\u03b7, \\u03b5\\u03c0\\u03b9\\u03c0\\u03c4\\u03ce\\u03c3\\u03b5\\u03b9\\u03c2, \\u03c7\\u03ad\\u03b9\\u03c7\\u03bf\\u03bf\\u03c5\",\"<b>Topic 0</b><br>Words: hsbc, \\u03ba\\u03b5\\u03c1\\u03ba, \\u03c0\\u03bb\\u03b1\\u03bd\\u03ae\\u03c4\\u03b7, \\u03b5\\u03c0\\u03b9\\u03c0\\u03c4\\u03ce\\u03c3\\u03b5\\u03b9\\u03c2, guardian\",\"<b>Topic 0</b><br>Words: \\u03ba\\u03c1\\u03af\\u03c3\\u03b7, \\u03ba\\u03bb\\u03b9\\u03bc\\u03b1\\u03c4\\u03b9\\u03ba\\u03ae, \\u03b3\\u03b7, \\u03c5\\u03c0\\u03ac\\u03c1\\u03c7\\u03b5\\u03b9, \\u03c0\\u03b1\\u03bd\\u03b4\\u03b7\\u03bc\\u03af\\u03b1\",\"<b>Topic 0</b><br>Words: \\u03b3\\u03b7, \\u03c0\\u03bb\\u03b1\\u03bd\\u03ae\\u03c4\\u03b7, \\u03c6\\u03b1\\u03b9\\u03bd\\u03cc\\u03bc\\u03b5\\u03bd\\u03b1, \\u03c0\\u03b5\\u03c1\\u03b9\\u03bf\\u03c7\\u03ad\\u03c2, \\u03bf\\u03b7\\u03b5\",\"<b>Topic 0</b><br>Words: \\u03ba\\u03c5\\u03b2\\u03b5\\u03c1\\u03bd\\u03ae\\u03c3\\u03b5\\u03b9\\u03c2, \\u03b1\\u03be\\u03b9\\u03c9\\u03bc\\u03b1\\u03c4\\u03bf\\u03cd\\u03c7\\u03bf\\u03b9, \\u03b3\\u03c1\\u03ac\\u03c6\\u03bf\\u03c5\\u03bd, \\u03ba\\u03bb\\u03b9\\u03bc\\u03b1\\u03c4\\u03b9\\u03ba\\u03ae, \\u03ba\\u03bb\\u03af\\u03bc\\u03b1\",\"<b>Topic 0</b><br>Words: \\u03b3\\u03b7, \\u03c0\\u03bb\\u03b1\\u03bd\\u03ae\\u03c4\\u03b7, \\u03ba\\u03bb\\u03b9\\u03bc\\u03b1\\u03c4\\u03b9\\u03ba\\u03ae, \\u03c6\\u03b1\\u03b9\\u03bd\\u03cc\\u03bc\\u03b5\\u03bd\\u03b1, \\u03b4\\u03c1\\u03b1\\u03c3\\u03c4\\u03b7\\u03c1\\u03b9\\u03cc\\u03c4\\u03b7\\u03c4\\u03b1\",\"<b>Topic 0</b><br>Words: film, \\u03ba\\u03bb\\u03b9\\u03bc\\u03b1\\u03c4\\u03b9\\u03ba\\u03ae, \\u03ba\\u03c1\\u03af\\u03c3\\u03b7, evia, \\u03c0\\u03b1\\u03c1\\u03b1\\u03b3\\u03c9\\u03b3\\u03ad\\u03c2\",\"<b>Topic 0</b><br>Words: \\u03b3\\u03b7, \\u03c0\\u03bb\\u03b1\\u03bd\\u03ae\\u03c4\\u03b7, \\u03c0\\u03b5\\u03c1\\u03b9\\u03bf\\u03c7\\u03ad\\u03c2, \\u03c6\\u03b1\\u03b9\\u03bd\\u03cc\\u03bc\\u03b5\\u03bd\\u03b1, \\u03bf\\u03b7\\u03b5\",\"<b>Topic 0</b><br>Words: \\u03ba\\u03c1\\u03af\\u03c3\\u03b5\\u03c9\\u03bd, \\u03ba\\u03b9\\u03bd\\u03b4\\u03cd\\u03bd\\u03c9\\u03bd, \\u03b4\\u03b9\\u03b5\\u03c1\\u03b3\\u03b1\\u03c3\\u03af\\u03b5\\u03c2, \\u03ba\\u03b1\\u03c4\\u03b1\\u03c3\\u03c4\\u03c1\\u03bf\\u03c6\\u03ce\\u03bd, \\u03c3\\u03c4\\u03b1\\u03b4\\u03af\\u03bf\\u03c5\",\"<b>Topic 0</b><br>Words: \\u03c6\\u03b1\\u03b9\\u03bd\\u03cc\\u03bc\\u03b5\\u03bd\\u03b1, \\u03ba\\u03bb\\u03b9\\u03bc\\u03b1\\u03c4\\u03b9\\u03ba\\u03ae, \\u03c7\\u03c1\\u03cc\\u03bd\\u03b9\\u03b1, \\u03b1\\u03bd\\u03b8\\u03ae\\u03c2, \\u03b1\\u03bd\\u03b5\\u03c6\\u03ac\\u03c1\\u03bc\\u03bf\\u03c3\\u03c4\\u03bf\",\"<b>Topic 0</b><br>Words: \\u03c0\\u03bf\\u03bb\\u03af\\u03c4\\u03b7, \\u03c4\\u03c1\\u03bf\\u03c6\\u03bf\\u03b4\\u03cc\\u03c4\\u03b7\\u03c3\\u03b7, \\u03c3\\u03c5\\u03bc\\u03b2\\u03ac\\u03bb\\u03bb\\u03bf\\u03c5\\u03bd, \\u03c3\\u03ae\\u03bc\\u03b5\\u03c1\\u03b1, \\u03ba\\u03c1\\u03af\\u03c3\\u03b7\\u03c2\",\"<b>Topic 0</b><br>Words: \\u03ba\\u03c1\\u03af\\u03c3\\u03b5\\u03c9\\u03bd, \\u03ba\\u03b9\\u03bd\\u03b4\\u03cd\\u03bd\\u03c9\\u03bd, \\u03b4\\u03b9\\u03b5\\u03c1\\u03b3\\u03b1\\u03c3\\u03af\\u03b5\\u03c2, \\u03ba\\u03b1\\u03c4\\u03b1\\u03c3\\u03c4\\u03c1\\u03bf\\u03c6\\u03ce\\u03bd, \\u03c3\\u03c4\\u03b1\\u03b4\\u03af\\u03bf\\u03c5\",\"<b>Topic 0</b><br>Words: \\u03ba\\u03bf\\u03bc\\u03bf\\u03c4\\u03b7\\u03bd\\u03ae\\u03c2, \\u03c0\\u03c1\\u03c9\\u03af, \\u03c3\\u03c5\\u03bd\\u03b5\\u03c1\\u03b3\\u03b5\\u03af\\u03b1, \\u03b4\\u03ae\\u03bc\\u03bf\\u03c5, \\u03b2\\u03c1\\u03ad\\u03b8\\u03b7\\u03ba\\u03b5\",\"<b>Topic 0</b><br>Words: \\u03b1\\u03bb\\u03bb\\u03b1\\u03b3\\u03ad\\u03c2, \\u03bc\\u03b5\\u03bb\\u03ad\\u03c4\\u03b7, \\u03c3\\u03c7\\u03b5\\u03c4\\u03b9\\u03ba\\u03ac, \\u03b4\\u03b9\\u03b1\\u03c0\\u03af\\u03c3\\u03c4\\u03c9\\u03c3\\u03b5, \\u03ba\\u03bb\\u03b9\\u03bc\\u03b1\\u03c4\\u03b9\\u03ba\\u03ae\",\"<b>Topic 0</b><br>Words: \\u03c0\\u03bb\\u03b5\\u03bf\\u03bd\\u03ad\\u03ba\\u03c4\\u03b7\\u03bc\\u03b1, \\u03b5\\u03bd\\u03ad\\u03c1\\u03b3\\u03b5\\u03b9\\u03b1\\u03c2, \\u03b5\\u03c0\\u03b9\\u03c3\\u03c4\\u03c1\\u03bf\\u03c6\\u03ae, \\u03c0\\u03c1\\u03bf\\u03cc\\u03c1\\u03b1\\u03c3\\u03b7\\u03c2, \\u03b3\\u03bf\\u03cd\\u03bd\\u03b1\\u03c2\",\"<b>Topic 0</b><br>Words: \\u03bb\\u03af\\u03bc\\u03bd\\u03b7, \\u03b1\\u03bd\\u03ac\\u03c0\\u03c4\\u03c5\\u03be\\u03b7, \\u03b4\\u03c4\\u03b2\\u03bc, \\u03c0\\u03b5\\u03c1\\u03b9\\u03bf\\u03c7\\u03ae, \\u03c3\\u03b5\\u03bd\\u03ac\\u03c1\\u03b9\\u03bf\",\"<b>Topic 0</b><br>Words: 07, 09, \\u03c3\\u03c5\\u03bd\\u03b5\\u03c4\\u03b1\\u03b9\\u03c1\\u03b9\\u03c3\\u03bc\\u03bf\\u03af, 2022, \\u03ba\\u03c1\\u03af\\u03c3\\u03b7\",\"<b>Topic 0</b><br>Words: megafires, \\u03c0\\u03c5\\u03c1\\u03ba\\u03b1\\u03b3\\u03b9\\u03ce\\u03bd, \\u03ba\\u03b1\\u03af\\u03b3\\u03bf\\u03bd\\u03c4\\u03b1\\u03b9, \\u03c0\\u03c1\\u03ac\\u03b3\\u03bc\\u03b1, \\u03bb\\u03ac\\u03b8\\u03bf\\u03c2\",\"<b>Topic 0</b><br>Words: \\u03ba\\u03c1\\u03c5\\u03c6\\u03ae\\u03c2, \\u03b5\\u03bd\\u03c3\\u03c4\\u03ac\\u03bb\\u03b1\\u03be\\u03b7, \\u03c4\\u03b1\\u03c1\\u03ac\\u03be\\u03b5\\u03b9, \\u03ba\\u03ac\\u03bc\\u03b5\\u03c1\\u03b1\\u03c2, veritas\",\"<b>Topic 0</b><br>Words: \\u03c4\\u03c1\\u03bf\\u03c0\\u03b9\\u03ba\\u03ad\\u03c2, \\u03bb\\u03b1\\u03b3\\u03bf\\u03c5\\u03b2\\u03ac\\u03c1\\u03b4\\u03bf\\u03c2, \\u03b1\\u03c3\\u03c4\\u03b9\\u03ba\\u03ac, \\u03b4\\u03b9\\u03b1\\u03c1\\u03ba\\u03b5\\u03af\\u03b1\\u03c2, \\u03c5\\u03c0\\u03bf\\u03b3\\u03c1\\u03ac\\u03bc\\u03bc\\u03b9\\u03c3\\u03b5\",\"<b>Topic 0</b><br>Words: \\u03b4\\u03b9\\u03b1\\u03c1\\u03ba\\u03b5\\u03af\\u03b1\\u03c2, \\u03c4\\u03c1\\u03bf\\u03c0\\u03b9\\u03ba\\u03ad\\u03c2, \\u03b2\\u03b1\\u03b8\\u03bc\\u03bf\\u03cd\\u03c2, \\u03ba\\u03b1\\u03cd\\u03c3\\u03c9\\u03bd\\u03b1, \\u03b5\\u03c1\\u03c4\",\"<b>Topic 0</b><br>Words: \\u03b3\\u03b5\\u03c9\\u03bb\\u03cc\\u03b3\\u03bf\\u03c2, \\u03bb\\u03b5\\u03b9\\u03c4\\u03bf\\u03c5\\u03c1\\u03b3\\u03ae\\u03c3\\u03bf\\u03c5\\u03bd, \\u03ba\\u03bb\\u03b9\\u03bc\\u03b1\\u03c4\\u03b9\\u03ba\\u03ae, \\u03b1\\u03b5\\u03c1\\u03bf\\u03c0\\u03bb\\u03ac\\u03bd\\u03b1, \\u03ba\\u03b1\\u03cd\\u03c3\\u03c9\\u03bd\\u03b1\",\"<b>Topic 0</b><br>Words: \\u03c4\\u03b1\\u03c4\\u03cc\\u03b9, \\u03b5\\u03c5\\u03b8\\u03cd\\u03bd\\u03b7\\u03c2, \\u03be\\u03b5\\u03c1\\u03ac, \\u03b7\\u03bb\\u03b5\\u03af\\u03b1, \\u03c0\\u03b5\\u03bd\\u03c4\\u03ad\\u03bb\\u03b7\",\"<b>Topic 0</b><br>Words: \\u03c5\\u03c0\\u03ac\\u03c1\\u03c7\\u03b5\\u03b9, \\u03b1\\u03bd\\u03b8\\u03c1\\u03c9\\u03c0\\u03cc\\u03c4\\u03b7\\u03c4\\u03b1, \\u03bc\\u03b5\\u03c4\\u03bf\\u03af\\u03ba\\u03b7\\u03c3\\u03b7, \\u03ad\\u03bd\\u03b5\\u03ba\\u03b1, \\u03ba\\u03c1\\u03b9\\u03bc\\u03b9\\u03b6\\u03ae\\u03c2\",\"<b>Topic 0</b><br>Words: \\u03ba\\u03c1\\u03b9\\u03bc\\u03b9\\u03b6\\u03ae\\u03c2, \\u03c5\\u03c0\\u03ac\\u03c1\\u03c7\\u03b5\\u03b9, \\u03b1\\u03bd\\u03b8\\u03c1\\u03c9\\u03c0\\u03cc\\u03c4\\u03b7\\u03c4\\u03b1, \\u03bc\\u03b5\\u03c4\\u03bf\\u03af\\u03ba\\u03b7\\u03c3\\u03b7, \\u03ad\\u03bd\\u03b5\\u03ba\\u03b1\",\"<b>Topic 0</b><br>Words: \\u03bb\\u03ac\\u03b2\\u03bb\\u03bf\\u03ba, \\u03b8\\u03b5\\u03c9\\u03c1\\u03af\\u03b1\\u03c2, \\u03c4\\u03b6\\u03ad\\u03b9\\u03bc\\u03c2, \\u03b8\\u03b5\\u03bc\\u03b5\\u03bb\\u03b9\\u03c9\\u03c4\\u03ae\\u03c2, \\u03b3\\u03b1\\u03af\\u03b1\\u03c2\",\"<b>Topic 0</b><br>Words: \\u03bb\\u03ac\\u03b2\\u03bb\\u03bf\\u03ba, \\u03c4\\u03b6\\u03ad\\u03b9\\u03bc\\u03c2, \\u03b5\\u03c0\\u03bf\\u03c7\\u03ae, \\u03b8\\u03b5\\u03bc\\u03b5\\u03bb\\u03b9\\u03c9\\u03c4\\u03ae\\u03c2, \\u03c0\\u03bb\\u03b1\\u03bd\\u03ae\\u03c4\\u03b7\",\"<b>Topic 0</b><br>Words: \\u03bb\\u03ac\\u03b2\\u03bb\\u03bf\\u03ba, \\u03b5\\u03c0\\u03bf\\u03c7\\u03ae, \\u03c0\\u03bb\\u03b1\\u03bd\\u03ae\\u03c4\\u03b7, afp, \\u03b3\\u03b1\\u03af\\u03b1\\u03c2\",\"<b>Topic 0</b><br>Words: \\u03bb\\u03ac\\u03b2\\u03bb\\u03bf\\u03ba, \\u03b3\\u03b1\\u03af\\u03b1\\u03c2, \\u03b8\\u03b5\\u03c9\\u03c1\\u03af\\u03b1\\u03c2, \\u03c4\\u03b6\\u03ad\\u03b9\\u03bc\\u03c2, \\u03b5\\u03c0\\u03bf\\u03c7\\u03ae\",\"<b>Topic 0</b><br>Words: \\u03bb\\u03ac\\u03b2\\u03bb\\u03bf\\u03ba, \\u03b3\\u03b1\\u03af\\u03b1\\u03c2, \\u03b8\\u03b5\\u03c9\\u03c1\\u03af\\u03b1\\u03c2, \\u03b8\\u03b5\\u03bc\\u03b5\\u03bb\\u03b9\\u03c9\\u03c4\\u03ae\\u03c2, \\u03c4\\u03b6\\u03ad\\u03b9\\u03bc\\u03c2\",\"<b>Topic 0</b><br>Words: \\u03bb\\u03ac\\u03b2\\u03bb\\u03bf\\u03ba, \\u03b3\\u03b1\\u03af\\u03b1\\u03c2, \\u03b8\\u03b5\\u03c9\\u03c1\\u03af\\u03b1\\u03c2, \\u03c4\\u03b6\\u03ad\\u03b9\\u03bc\\u03c2, \\u03b5\\u03c0\\u03bf\\u03c7\\u03ae\",\"<b>Topic 0</b><br>Words: \\u03bb\\u03ac\\u03b2\\u03bb\\u03bf\\u03ba, \\u03b3\\u03b1\\u03af\\u03b1\\u03c2, \\u03b8\\u03b5\\u03c9\\u03c1\\u03af\\u03b1\\u03c2, \\u03c4\\u03b6\\u03ad\\u03b9\\u03bc\\u03c2, \\u03b5\\u03c0\\u03bf\\u03c7\\u03ae\",\"<b>Topic 0</b><br>Words: \\u03bb\\u03ac\\u03b2\\u03bb\\u03bf\\u03ba, \\u03c4\\u03b6\\u03ad\\u03b9\\u03bc\\u03c2, \\u03b3\\u03b1\\u03af\\u03b1\\u03c2, \\u03b8\\u03b5\\u03c9\\u03c1\\u03af\\u03b1\\u03c2, \\u03bf\\u03b9\\u03ba\\u03bf\\u03b3\\u03ad\\u03bd\\u03b5\\u03b9\\u03ac\",\"<b>Topic 0</b><br>Words: \\u03bb\\u03ac\\u03b2\\u03bb\\u03bf\\u03ba, \\u03b3\\u03b1\\u03af\\u03b1\\u03c2, \\u03b8\\u03b5\\u03c9\\u03c1\\u03af\\u03b1\\u03c2, \\u03c4\\u03b6\\u03ad\\u03b9\\u03bc\\u03c2, \\u03b5\\u03c0\\u03bf\\u03c7\\u03ae\",\"<b>Topic 0</b><br>Words: \\u03bb\\u03ac\\u03b2\\u03bb\\u03bf\\u03ba, \\u03b3\\u03b1\\u03af\\u03b1\\u03c2, \\u03b8\\u03b5\\u03c9\\u03c1\\u03af\\u03b1\\u03c2, \\u03c4\\u03b6\\u03ad\\u03b9\\u03bc\\u03c2, \\u03b5\\u03c0\\u03bf\\u03c7\\u03ae\",\"<b>Topic 0</b><br>Words: \\u03bb\\u03ac\\u03b2\\u03bb\\u03bf\\u03ba, \\u03b3\\u03b1\\u03af\\u03b1\\u03c2, \\u03b8\\u03b5\\u03c9\\u03c1\\u03af\\u03b1\\u03c2, \\u03c4\\u03b6\\u03ad\\u03b9\\u03bc\\u03c2, \\u03b5\\u03c0\\u03bf\\u03c7\\u03ae\",\"<b>Topic 0</b><br>Words: \\u03bb\\u03ac\\u03b2\\u03bb\\u03bf\\u03ba, \\u03b3\\u03b1\\u03af\\u03b1\\u03c2, \\u03b8\\u03b5\\u03c9\\u03c1\\u03af\\u03b1\\u03c2, \\u03c4\\u03b6\\u03ad\\u03b9\\u03bc\\u03c2, \\u03b5\\u03c0\\u03bf\\u03c7\\u03ae\",\"<b>Topic 0</b><br>Words: \\u03bb\\u03ac\\u03b2\\u03bb\\u03bf\\u03ba, \\u03b3\\u03b1\\u03af\\u03b1\\u03c2, \\u03b8\\u03b5\\u03c9\\u03c1\\u03af\\u03b1\\u03c2, \\u03c4\\u03b6\\u03ad\\u03b9\\u03bc\\u03c2, \\u03ba\\u03bb\\u03b9\\u03bc\\u03b1\\u03c4\\u03b9\\u03ba\\u03ae\",\"<b>Topic 0</b><br>Words: \\u03bb\\u03ac\\u03b2\\u03bb\\u03bf\\u03ba, \\u03b3\\u03b1\\u03af\\u03b1\\u03c2, \\u03b8\\u03b5\\u03c9\\u03c1\\u03af\\u03b1\\u03c2, \\u03c4\\u03b6\\u03ad\\u03b9\\u03bc\\u03c2, \\u03b5\\u03c0\\u03bf\\u03c7\\u03ae\",\"<b>Topic 0</b><br>Words: \\u03bb\\u03ac\\u03b2\\u03bb\\u03bf\\u03ba, \\u03b5\\u03c0\\u03bf\\u03c7\\u03ae, \\u03c0\\u03bb\\u03b1\\u03bd\\u03ae\\u03c4\\u03b7, afp, \\u03b3\\u03b1\\u03af\\u03b1\\u03c2\",\"<b>Topic 0</b><br>Words: \\u03bb\\u03ac\\u03b2\\u03bb\\u03bf\\u03ba, \\u03b3\\u03b1\\u03af\\u03b1\\u03c2, \\u03b8\\u03b5\\u03c9\\u03c1\\u03af\\u03b1\\u03c2, \\u03c4\\u03b6\\u03ad\\u03b9\\u03bc\\u03c2, \\u03b5\\u03c0\\u03bf\\u03c7\\u03ae\",\"<b>Topic 0</b><br>Words: \\u03bb\\u03ac\\u03b2\\u03bb\\u03bf\\u03ba, \\u03b3\\u03b1\\u03af\\u03b1\\u03c2, \\u03b8\\u03b5\\u03c9\\u03c1\\u03af\\u03b1\\u03c2, \\u03c4\\u03b6\\u03ad\\u03b9\\u03bc\\u03c2, \\u03b5\\u03c0\\u03bf\\u03c7\\u03ae\",\"<b>Topic 0</b><br>Words: \\u03bb\\u03ac\\u03b2\\u03bb\\u03bf\\u03ba, \\u03b3\\u03b1\\u03af\\u03b1\\u03c2, \\u03b8\\u03b5\\u03c9\\u03c1\\u03af\\u03b1\\u03c2, \\u03c4\\u03b6\\u03ad\\u03b9\\u03bc\\u03c2, \\u03b5\\u03c0\\u03bf\\u03c7\\u03ae\",\"<b>Topic 0</b><br>Words: \\u03bb\\u03ac\\u03b2\\u03bb\\u03bf\\u03ba, \\u03b3\\u03b1\\u03af\\u03b1\\u03c2, \\u03b8\\u03b5\\u03c9\\u03c1\\u03af\\u03b1\\u03c2, \\u03c4\\u03b6\\u03ad\\u03b9\\u03bc\\u03c2, \\u03b5\\u03c0\\u03bf\\u03c7\\u03ae\",\"<b>Topic 0</b><br>Words: \\u03bb\\u03ac\\u03b2\\u03bb\\u03bf\\u03ba, \\u03b3\\u03b1\\u03af\\u03b1\\u03c2, \\u03b8\\u03b5\\u03c9\\u03c1\\u03af\\u03b1\\u03c2, \\u03c4\\u03b6\\u03ad\\u03b9\\u03bc\\u03c2, \\u03b5\\u03c0\\u03bf\\u03c7\\u03ae\",\"<b>Topic 0</b><br>Words: \\u03bb\\u03ac\\u03b2\\u03bb\\u03bf\\u03ba, \\u03b3\\u03b1\\u03af\\u03b1\\u03c2, \\u03c4\\u03b6\\u03ad\\u03b9\\u03bc\\u03c2, \\u03b8\\u03b5\\u03c9\\u03c1\\u03af\\u03b1\\u03c2, \\u03b5\\u03c0\\u03b9\\u03c3\\u03c4\\u03ae\\u03bc\\u03bf\\u03bd\\u03b1\\u03c2\",\"<b>Topic 0</b><br>Words: \\u03bb\\u03ac\\u03b2\\u03bb\\u03bf\\u03ba, \\u03b3\\u03b1\\u03af\\u03b1\\u03c2, \\u03b8\\u03b5\\u03c9\\u03c1\\u03af\\u03b1\\u03c2, \\u03c4\\u03b6\\u03ad\\u03b9\\u03bc\\u03c2, \\u03b5\\u03c0\\u03bf\\u03c7\\u03ae\",\"<b>Topic 0</b><br>Words: \\u03bb\\u03ac\\u03b2\\u03bb\\u03bf\\u03ba, \\u03b3\\u03b1\\u03af\\u03b1\\u03c2, \\u03b8\\u03b5\\u03c9\\u03c1\\u03af\\u03b1\\u03c2, \\u03c4\\u03b6\\u03ad\\u03b9\\u03bc\\u03c2, \\u03b5\\u03c0\\u03bf\\u03c7\\u03ae\",\"<b>Topic 0</b><br>Words: \\u03bb\\u03ac\\u03b2\\u03bb\\u03bf\\u03ba, \\u03b3\\u03b1\\u03af\\u03b1\\u03c2, \\u03b8\\u03b5\\u03c9\\u03c1\\u03af\\u03b1\\u03c2, \\u03c4\\u03b6\\u03ad\\u03b9\\u03bc\\u03c2, \\u03b5\\u03c0\\u03bf\\u03c7\\u03ae\",\"<b>Topic 0</b><br>Words: \\u03bb\\u03ac\\u03b2\\u03bb\\u03bf\\u03ba, \\u03b3\\u03b1\\u03af\\u03b1\\u03c2, \\u03b8\\u03b5\\u03c9\\u03c1\\u03af\\u03b1\\u03c2, \\u03c4\\u03b6\\u03ad\\u03b9\\u03bc\\u03c2, \\u03b5\\u03c0\\u03bf\\u03c7\\u03ae\",\"<b>Topic 0</b><br>Words: \\u03c4\\u03b5\\u03c4\\u03ac\\u03c1\\u03c4\\u03b7, 27, \\u03b9\\u03bf\\u03c5\\u03bb\\u03af\\u03bf\\u03c5, \\u03bb\\u03ac\\u03b2\\u03bb\\u03bf\\u03ba, 2022\",\"<b>Topic 0</b><br>Words: \\u03bb\\u03ac\\u03b2\\u03bb\\u03bf\\u03ba, \\u03c4\\u03b6\\u03ad\\u03b9\\u03bc\\u03c2, \\u03b3\\u03b1\\u03af\\u03b1\\u03c2, \\u03b8\\u03b5\\u03c9\\u03c1\\u03af\\u03b1\\u03c2, \\u03c0\\u03bb\\u03b1\\u03bd\\u03ae\\u03c4\\u03b7\",\"<b>Topic 0</b><br>Words: \\u03bb\\u03ac\\u03b2\\u03bb\\u03bf\\u03ba, \\u03b3\\u03b1\\u03af\\u03b1\\u03c2, afp, \\u03b8\\u03b5\\u03c9\\u03c1\\u03af\\u03b1\\u03c2, \\u03c4\\u03b6\\u03ad\\u03b9\\u03bc\\u03c2\",\"<b>Topic 0</b><br>Words: lovelock, james, \\u03bf\\u03b9\\u03ba\\u03bf\\u03b3\\u03ad\\u03bd\\u03b5\\u03b9\\u03ac, \\u03b3\\u03b1\\u03af\\u03b1\\u03c2, \\u03b8\\u03b5\\u03c9\\u03c1\\u03af\\u03b1\\u03c2\",\"<b>Topic 0</b><br>Words: \\u03bb\\u03ac\\u03b2\\u03bb\\u03bf\\u03ba, \\u03b3\\u03b1\\u03af\\u03b1\\u03c2, \\u03b8\\u03b5\\u03c9\\u03c1\\u03af\\u03b1\\u03c2, \\u03c4\\u03b6\\u03ad\\u03b9\\u03bc\\u03c2, \\u03b5\\u03c0\\u03bf\\u03c7\\u03ae\",\"<b>Topic 0</b><br>Words: \\u03bb\\u03ac\\u03b2\\u03bb\\u03bf\\u03ba, \\u03b3\\u03b1\\u03af\\u03b1\\u03c2, \\u03b8\\u03b5\\u03c9\\u03c1\\u03af\\u03b1\\u03c2, \\u03c4\\u03b6\\u03ad\\u03b9\\u03bc\\u03c2, \\u03b5\\u03c0\\u03bf\\u03c7\\u03ae\",\"<b>Topic 0</b><br>Words: \\u03c5\\u03c0\\u03ad\\u03c1\\u03b2\\u03b1\\u03c3\\u03b7\\u03c2, eod, \\u03c0\\u03cc\\u03c1\\u03c9\\u03bd, \\u03b3\\u03b7\\u03c2, \\u03b7\\u03bc\\u03ad\\u03c1\\u03b1\",\"<b>Topic 0</b><br>Words: \\u03bc\\u03cd\\u03b8\\u03bf\\u03c2, \\u03ba\\u03bb\\u03b9\\u03bc\\u03b1\\u03c4\\u03b9\\u03ba\\u03ae, \\u03ba\\u03b1\\u03c4\\u03b1\\u03c3\\u03c4\\u03c1\\u03bf\\u03c6\\u03ce\\u03bd, \\u03ba\\u03b1\\u03bc\\u03ad\\u03bd\\u03b1, \\u03ba\\u03c1\\u03af\\u03c3\\u03b7\\u03c2\",\"<b>Topic 0</b><br>Words: \\u03bc\\u03cd\\u03b8\\u03bf\\u03c2, \\u03ba\\u03bb\\u03b9\\u03bc\\u03b1\\u03c4\\u03b9\\u03ba\\u03ae, \\u03ba\\u03b1\\u03c4\\u03b1\\u03c3\\u03c4\\u03c1\\u03bf\\u03c6\\u03ce\\u03bd, \\u03ba\\u03b1\\u03bc\\u03ad\\u03bd\\u03b1, \\u03ba\\u03c1\\u03af\\u03c3\\u03b7\\u03c2\",\"<b>Topic 0</b><br>Words: \\u03ba\\u03b5\\u03bc\\u03c0, \\u03c0\\u03b9\\u03b8\\u03b1\\u03bd\\u03cc\\u03c4\\u03b7\\u03c4\\u03b1, \\u03b5\\u03c0\\u03b9\\u03c3\\u03c4\\u03ae\\u03bc\\u03bf\\u03bd\\u03b5\\u03c2, \\u03c3\\u03b5\\u03bd\\u03ac\\u03c1\\u03b9\\u03b1, \\u03bc\\u03b5\\u03bb\\u03ad\\u03c4\\u03b7\",\"<b>Topic 0</b><br>Words: \\u03c0\\u03bb\\u03b1\\u03bd\\u03ae\\u03c4\\u03b7, \\u03b1\\u03bb\\u03bb\\u03ac\\u03be\\u03bf\\u03c5\\u03bc\\u03b5, \\u03c0\\u03b9\\u03c3\\u03c4\\u03ad\\u03c8\\u03c4\\u03b5, \\u03ba\\u03bb\\u03b9\\u03bc\\u03b1\\u03c4\\u03b9\\u03ba\\u03ae, \\u03b8\\u03ad\\u03bb\\u03b5\\u03b9\\u03c2\",\"<b>Topic 0</b><br>Words: \\u03c7\\u03c1\\u03b5\\u03b9\\u03b1\\u03c3\\u03c4\\u03b5\\u03af, \\u03b5\\u03ba\\u03b1\\u03c4\\u03bf\\u03bc\\u03bc\\u03cd\\u03c1\\u03b9\\u03b1, \\u03bc\\u03b5\\u03c4\\u03b1\\u03bd\\u03ac\\u03c3\\u03c4\\u03b5\\u03c5\\u03c3\\u03b7, \\u03c0\\u03c1\\u03cc\\u03c3\\u03c6\\u03c5\\u03b3\\u03b5\\u03c2, \\u03ba\\u03bb\\u03b9\\u03bc\\u03b1\\u03c4\\u03b9\\u03ba\\u03ae\",\"<b>Topic 0</b><br>Words: \\u03c3\\u03c4\\u03c1\\u03ad\\u03bc\\u03bc\\u03b1\\u03c4\\u03b1, effis, \\u03ba\\u03bb\\u03b9\\u03bc\\u03b1\\u03c4\\u03b9\\u03ba\\u03ae, \\u03b1\\u03bb\\u03bb\\u03b1\\u03b3\\u03ae, \\u03c6\\u03b1\\u03b9\\u03bd\\u03cc\\u03bc\\u03b5\\u03bd\\u03b1\",\"<b>Topic 0</b><br>Words: \\u03ba\\u03b1\\u03bd\\u03c4\\u03ac\\u03bd\\u03bf\\u03c5, \\u03b5\\u03ba\\u03b4\\u03ae\\u03bb\\u03c9\\u03c3\\u03b7, \\u03c0\\u03b5\\u03c1\\u03b9\\u03b2\\u03b1\\u03bb\\u03bb\\u03bf\\u03bd\\u03c4\\u03bf\\u03bb\\u03cc\\u03b3\\u03bf\\u03c2, \\u03b1\\u03bd\\u03ac\\u03c0\\u03c4\\u03c5\\u03be\\u03b7\\u03c2, \\u03ba\\u03c5\\u03ba\\u03bb\\u03b9\\u03ba\\u03ae\\u03c2\",\"<b>Topic 0</b><br>Words: \\u03c5\\u03c0\\u03ae\\u03c1\\u03c7\\u03b1\\u03bd, \\u03ba\\u03bb\\u03b9\\u03bc\\u03b1\\u03c4\\u03b9\\u03ba\\u03ae, \\u03b1\\u03bb\\u03bb\\u03b1\\u03b3\\u03ae, \\u03be\\u03ad\\u03c1\\u03c9, \\u03b4\\u03b1\\u03c3\\u03bf\\u03c0\\u03c5\\u03c1\\u03ba\\u03b1\\u03b3\\u03b9\\u03ad\\u03c2\",\"<b>Topic 0</b><br>Words: \\u03ba\\u03b5\\u03c6\\u03ac\\u03bb\\u03b9, \\u03bc\\u03ac\\u03c3\\u03ba\\u03b5\\u03c2, \\u03b1\\u03bd\\u03c4\\u03af\\u03b8\\u03b5\\u03c4\\u03b1, \\u03b1\\u03bd\\u03b8\\u03c1\\u03ce\\u03c0\\u03b9\\u03bd\\u03bf, \\u03b4\\u03c5\\u03c3\\u03c4\\u03c5\\u03c7\\u03ce\\u03c2\",\"<b>Topic 0</b><br>Words: \\u03c0\\u03bb\\u03b1\\u03bd\\u03ae\\u03c4\\u03b7, \\u03c4\\u03b1\\u03b9\\u03bd\\u03af\\u03b5\\u03c2, \\u03ba\\u03bb\\u03b9\\u03bc\\u03b1\\u03c4\\u03b9\\u03ba\\u03ae, \\u03bc\\u03b1\\u03ba\\u03ba\\u03cc\\u03bd\\u03b1\\u03c7\\u03b9, geostorm\",\"<b>Topic 0</b><br>Words: \\u03c0\\u03b1\\u03ba\\u03b9\\u03c3\\u03c4\\u03ac\\u03bd, \\u03c0\\u03bb\\u03b7\\u03bc\\u03bc\\u03cd\\u03c1\\u03b5\\u03c2, \\u03b6\\u03c9\\u03ae, \\u03bc\\u03bf\\u03c5\\u03c3\\u03ce\\u03bd\\u03c9\\u03bd, \\u03b6\\u03b7\\u03bc\\u03b9\\u03ad\\u03c2\",\"<b>Topic 0</b><br>Words: \\u03c0\\u03b1\\u03ba\\u03b9\\u03c3\\u03c4\\u03ac\\u03bd, \\u03c0\\u03bb\\u03b7\\u03bc\\u03bc\\u03cd\\u03c1\\u03b5\\u03c2, \\u03bf\\u03b9\\u03ba\\u03bf\\u03bd\\u03bf\\u03bc\\u03b9\\u03ba\\u03ae, \\u03c0\\u03bb\\u03b1\\u03bd\\u03ae\\u03c4\\u03b7, \\u03ba\\u03bb\\u03b9\\u03bc\\u03b1\\u03c4\\u03b9\\u03ba\\u03ae\",\"<b>Topic 0</b><br>Words: \\u03ba\\u03b1\\u03bb\\u03bf\\u03ba\\u03b1\\u03af\\u03c1\\u03b9, \\u03be\\u03b7\\u03c1\\u03b1\\u03c3\\u03af\\u03b1, \\u03c6\\u03b1\\u03b9\\u03bd\\u03cc\\u03bc\\u03b5\\u03bd\\u03b1, \\u03ac\\u03ba\\u03c1\\u03b7, \\u03c0\\u03c1\\u03bf\\u03b2\\u03bb\\u03b5\\u03c6\\u03b8\\u03b5\\u03af\",\"<b>Topic 0</b><br>Words: \\u03c0\\u03b1\\u03ba\\u03b9\\u03c3\\u03c4\\u03ac\\u03bd, \\u03c0\\u03b5\\u03c1\\u03b9\\u03bf\\u03c7\\u03ad\\u03c2, \\u03c7\\u03ce\\u03c1\\u03b1, \\u03ba\\u03bb\\u03b9\\u03bc\\u03b1\\u03c4\\u03b9\\u03ba\\u03ae, \\u03bd\\u03b5\\u03c1\\u03ac\",\"<b>Topic 0</b><br>Words: \\u03c0\\u03b1\\u03ba\\u03b9\\u03c3\\u03c4\\u03ac\\u03bd, \\u03c0\\u03b5\\u03c1\\u03b9\\u03bf\\u03c7\\u03ad\\u03c2, \\u03c7\\u03ce\\u03c1\\u03b1, \\u03bd\\u03b5\\u03c1\\u03ac, \\u03ba\\u03bb\\u03b9\\u03bc\\u03b1\\u03c4\\u03b9\\u03ba\\u03ae\",\"<b>Topic 0</b><br>Words: \\u03ba\\u03b1\\u03c4\\u03b1\\u03c5\\u03bb\\u03b9\\u03c3\\u03bc\\u03bf\\u03cd\\u03c2, skai, \\u03c3\\u03c5\\u03bd\\u03b8\\u03ae\\u03ba\\u03b5\\u03c2, \\u03b5\\u03b9\\u03b4\\u03ae\\u03c3\\u03b5\\u03b9\\u03c2, \\u03b1\\u03bd\\u03b8\\u03c1\\u03c9\\u03c0\\u03b9\\u03c3\\u03c4\\u03b9\\u03ba\\u03ae\",\"<b>Topic 0</b><br>Words: \\u03c7\\u03c1\\u03ce\\u03bc\\u03b1, wonder, wild, dulux, \\u03bc\\u03ac\\u03c1\\u03ba\\u03b1\",\"<b>Topic 0</b><br>Words: \\u03c4\\u03b6\\u03bf\\u03bb\\u03af, \\u03c0\\u03b1\\u03ba\\u03b9\\u03c3\\u03c4\\u03ac\\u03bd, \\u03c0\\u03bb\\u03b7\\u03bc\\u03bc\\u03cd\\u03c1\\u03b5\\u03c2, \\u03b5\\u03c0\\u03b9\\u03c3\\u03ba\\u03ad\\u03c6\\u03b8\\u03b7\\u03ba\\u03b5, \\u03b1\\u03bd\\u03c4\\u03b6\\u03b5\\u03bb\\u03af\\u03bd\\u03b1\",\"<b>Topic 0</b><br>Words: \\u03ba\\u03bb\\u03b9\\u03bc\\u03b1\\u03c4\\u03b9\\u03ba\\u03ae, \\u03c1\\u03af\\u03bf, \\u03b1\\u03bb\\u03bb\\u03b1\\u03b3\\u03ae, \\u03c6\\u03b1\\u03b9\\u03bd\\u03cc\\u03bc\\u03b5\\u03bd\\u03b1, \\u03b3\\u03af\\u03bd\\u03b5\\u03b9\",\"<b>Topic 0</b><br>Words: \\u03b7\\u03bc\\u03b5\\u03c1\\u03af\\u03b4\\u03b1, \\u03ba\\u03c1\\u03af\\u03c3\\u03b7, \\u03ba\\u03bb\\u03b9\\u03bc\\u03b1\\u03c4\\u03b9\\u03ba\\u03ae, \\u03b5\\u03c0\\u03b9\\u03c3\\u03c4\\u03b7\\u03bc\\u03bf\\u03bd\\u03b9\\u03ba\\u03ae, \\u03c6\\u03cd\\u03c3\\u03b7\",\"<b>Topic 0</b><br>Words: \\u03b7\\u03bc\\u03b5\\u03c1\\u03af\\u03b4\\u03b1, \\u03ba\\u03c1\\u03af\\u03c3\\u03b7, \\u03ba\\u03bb\\u03b9\\u03bc\\u03b1\\u03c4\\u03b9\\u03ba\\u03ae, \\u03b5\\u03c0\\u03b9\\u03c3\\u03c4\\u03b7\\u03bc\\u03bf\\u03bd\\u03b9\\u03ba\\u03ae, \\u03c0\\u03bf\\u03bb\\u03cd\\u03c0\\u03bb\\u03b5\\u03c5\\u03c1\\u03b7\",\"<b>Topic 0</b><br>Words: \\u03c7\\u03ce\\u03c1\\u03b5\\u03c2, \\u03ba\\u03bb\\u03b9\\u03bc\\u03b1\\u03c4\\u03b9\\u03ba\\u03ae, \\u03b6\\u03b7\\u03bc\\u03b9\\u03ad\\u03c2, \\u03b4\\u03b9\\u03ba\\u03b1\\u03b9\\u03bf\\u03c3\\u03cd\\u03bd\\u03b7\\u03c2, \\u03b1\\u03bd\\u03ac\\u03b3\\u03ba\\u03b7\",\"<b>Topic 0</b><br>Words: \\u03c6\\u03b1\\u03b9\\u03bd\\u03cc\\u03bc\\u03b5\\u03bd\\u03b1, \\u03ba\\u03bb\\u03b9\\u03bc\\u03b1\\u03c4\\u03b9\\u03ba\\u03ae, nino, \\u03ba\\u03bb\\u03af\\u03bc\\u03b1, \\u03b1\\u03bb\\u03bb\\u03b1\\u03b3\\u03ae\"],\"marker\":{\"color\":\"#E69F00\"},\"mode\":\"lines\",\"name\":\"0_\\u03c6\\u03b1\\u03b9\\u03bd\\u03cc\\u03bc\\u03b5\\u03bd\\u03b1_\\u03ba\\u03bb\\u03b9\\u03bc\\u03b1\\u03c4\\u03b9\\u03ba\\u03ae_\\u03bb\\u03ad\\u03ba\\u03ba\\u03b1\\u03c2_\\u03b1\\u03bb\\u03bb\\u03b1\\u03b3\\u03ae\",\"x\":[\"2021-10-03T20:32:40\",\"2021-10-04T03:00:19\",\"2021-10-05T08:55:50\",\"2021-10-13T10:19:32\",\"2021-10-13T10:28:00\",\"2021-10-13T10:31:10\",\"2021-10-13T10:32:36\",\"2021-10-13T13:42:00\",\"2021-10-15T05:34:18\",\"2021-10-15T05:35:53\",\"2021-10-15T05:41:45\",\"2021-10-15T05:42:25\",\"2021-10-15T05:43:00\",\"2021-10-15T05:43:59\",\"2021-10-15T05:45:31\",\"2021-10-15T05:48:00\",\"2021-10-15T05:48:41\",\"2021-10-15T05:50:18\",\"2021-10-15T05:53:04\",\"2021-10-15T05:53:45\",\"2021-10-15T05:53:58\",\"2021-10-15T05:54:49\",\"2021-10-15T05:55:22\",\"2021-10-15T05:58:55\",\"2021-10-15T06:00:33\",\"2021-10-15T06:06:00\",\"2021-10-15T06:08:09\",\"2021-10-15T06:10:55\",\"2021-10-15T06:18:00\",\"2021-10-15T06:20:02\",\"2021-10-15T06:28:00\",\"2021-10-15T06:39:10\",\"2021-10-15T06:47:44\",\"2021-10-15T06:47:46\",\"2021-10-15T06:53:00\",\"2021-10-15T06:55:18\",\"2021-10-15T07:15:00\",\"2021-10-15T07:21:05\",\"2021-10-15T07:30:00\",\"2021-10-15T07:48:11\",\"2021-10-15T08:24:47\",\"2021-10-15T08:45:00\",\"2021-10-15T09:18:00\",\"2021-10-15T09:25:00\",\"2021-10-15T09:54:08\",\"2021-10-15T10:12:00\",\"2021-10-15T15:06:39\",\"2021-10-16T03:00:00\",\"2021-10-16T03:00:33\",\"2021-10-16T04:50:05\",\"2021-10-16T11:23:00\",\"2021-10-16T11:28:56\",\"2021-10-16T11:48:33\",\"2021-10-16T12:03:27\",\"2021-10-16T12:14:47\",\"2021-10-16T12:16:10\",\"2021-10-16T12:16:59\",\"2021-10-16T12:21:27\",\"2021-10-16T12:21:43\",\"2021-10-16T12:32:00\",\"2021-10-16T12:35:18\",\"2021-10-16T12:45:00\",\"2021-10-16T12:51:50\",\"2021-10-16T13:04:32\",\"2021-10-16T13:08:26\",\"2021-10-16T13:41:53\",\"2021-10-16T13:42:00\",\"2021-10-16T13:42:58\",\"2021-10-16T13:43:29\",\"2021-10-16T13:53:03\",\"2021-10-16T13:53:44\",\"2021-10-16T13:53:55\",\"2021-10-16T14:02:39\",\"2021-10-16T14:07:15\",\"2021-10-16T14:14:17\",\"2021-10-16T14:14:29\",\"2021-10-16T14:17:31\",\"2021-10-16T14:19:00\",\"2021-10-16T14:22:33\",\"2021-10-16T14:30:00\",\"2021-10-16T14:33:00\",\"2021-10-16T14:36:49\",\"2021-10-16T15:02:41\",\"2021-10-16T15:10:03\",\"2021-10-16T15:15:00\",\"2021-10-16T15:15:40\",\"2021-10-16T15:35:54\",\"2021-10-16T16:03:00\",\"2021-10-16T16:04:51\",\"2021-10-16T16:10:00\",\"2021-10-16T16:20:56\",\"2021-10-16T16:21:59\",\"2021-10-16T16:30:00\",\"2021-10-16T17:05:36\",\"2021-10-16T17:15:00\",\"2021-10-16T18:05:18\",\"2021-10-16T19:07:00\",\"2021-10-16T20:04:14\",\"2021-10-16T21:25:48\",\"2021-10-18T07:05:18\",\"2021-10-19T17:30:13\",\"2021-10-20T05:00:44\",\"2021-10-21T17:00:41\",\"2021-10-21T17:05:12\",\"2021-10-21T21:41:00\",\"2021-10-22T06:44:36\",\"2021-10-27T10:24:38\",\"2021-10-27T10:29:24\",\"2021-10-27T19:29:39\",\"2021-10-31T07:00:18\",\"2021-10-31T09:40:08\",\"2021-10-31T20:56:00\",\"2021-11-01T04:00:58\",\"2021-11-01T04:10:15\",\"2021-11-01T06:00:54\",\"2021-11-02T16:33:29\",\"2021-11-05T07:54:49\",\"2021-11-07T05:47:27\",\"2021-11-08T13:26:00\",\"2021-11-13T11:30:00\",\"2021-11-13T11:59:02\",\"2021-11-14T06:40:32\",\"2021-11-18T08:17:48\",\"2021-11-18T10:14:08\",\"2021-11-18T10:39:13\",\"2021-11-18T11:33:17\",\"2021-11-18T11:40:34\",\"2021-11-20T14:00:00\",\"2021-11-20T19:00:17\",\"2021-12-09T13:26:55\",\"2021-12-17T19:00:00\",\"2021-12-18T11:20:09\",\"2021-12-20T04:20:39\",\"2021-12-30T06:10:00\",\"2022-01-08T16:45:00\",\"2022-01-08T17:12:46\",\"2022-01-08T19:16:01\",\"2022-01-09T09:47:09\",\"2022-01-22T08:09:00\",\"2022-01-27T12:40:38\",\"2022-02-06T04:54:57\",\"2022-03-05T10:05:40\",\"2022-03-10T17:07:00\",\"2022-03-16T13:32:00\",\"2022-04-06T15:20:25\",\"2022-04-06T19:06:38\",\"2022-04-13T05:55:10\",\"2022-04-13T10:51:54\",\"2022-04-18T05:30:00\",\"2022-04-24T13:08:41\",\"2022-04-25T09:53:45\",\"2022-04-28T08:45:00\",\"2022-04-29T10:00:31\",\"2022-04-30T20:30:00\",\"2022-05-20T19:00:00\",\"2022-05-20T19:43:00\",\"2022-05-20T22:10:54\",\"2022-05-21T10:32:23\",\"2022-05-28T08:07:00\",\"2022-05-30T05:32:41\",\"2022-05-31T14:00:00\",\"2022-06-01T10:45:00\",\"2022-06-01T13:00:04\",\"2022-06-01T13:05:57\",\"2022-06-01T13:15:11\",\"2022-06-01T13:57:00\",\"2022-06-01T14:55:57\",\"2022-06-01T18:15:00\",\"2022-06-01T20:35:40\",\"2022-06-03T08:58:08\",\"2022-06-04T21:01:44\",\"2022-06-05T04:33:06\",\"2022-06-05T04:42:09\",\"2022-06-05T07:37:02\",\"2022-06-05T07:53:00\",\"2022-06-05T12:15:00\",\"2022-06-06T04:00:00\",\"2022-06-07T04:38:52\",\"2022-06-09T07:30:00\",\"2022-06-11T13:30:33\",\"2022-06-28T06:07:44\",\"2022-07-03T21:00:05\",\"2022-07-05T13:30:00\",\"2022-07-09T11:47:00\",\"2022-07-20T10:59:53\",\"2022-07-21T10:15:00\",\"2022-07-22T09:17:17\",\"2022-07-22T09:42:14\",\"2022-07-23T10:10:16\",\"2022-07-24T09:45:56\",\"2022-07-26T11:18:51\",\"2022-07-26T15:39:08\",\"2022-07-27T16:50:45\",\"2022-07-27T17:32:00\",\"2022-07-27T17:33:35\",\"2022-07-27T17:38:42\",\"2022-07-27T17:41:42\",\"2022-07-27T17:43:56\",\"2022-07-27T17:46:15\",\"2022-07-27T17:50:00\",\"2022-07-27T17:53:57\",\"2022-07-27T17:54:00\",\"2022-07-27T17:56:40\",\"2022-07-27T18:05:45\",\"2022-07-27T18:10:11\",\"2022-07-27T18:11:06\",\"2022-07-27T18:15:00\",\"2022-07-27T18:26:00\",\"2022-07-27T18:30:01\",\"2022-07-27T18:32:22\",\"2022-07-27T18:35:51\",\"2022-07-27T18:46:39\",\"2022-07-27T18:48:03\",\"2022-07-27T18:54:26\",\"2022-07-27T19:06:00\",\"2022-07-27T19:22:00\",\"2022-07-27T19:49:38\",\"2022-07-27T20:00:00\",\"2022-07-27T20:10:00\",\"2022-07-27T20:36:00\",\"2022-07-27T20:45:00\",\"2022-07-27T21:45:00\",\"2022-07-28T09:30:00\",\"2022-07-28T09:35:18\",\"2022-08-01T06:45:00\",\"2022-08-01T16:56:59\",\"2022-08-03T02:50:21\",\"2022-08-09T15:40:18\",\"2022-08-19T04:50:00\",\"2022-08-19T10:49:50\",\"2022-08-20T08:38:34\",\"2022-08-21T07:00:02\",\"2022-08-26T18:20:05\",\"2022-08-29T12:26:16\",\"2022-08-30T18:40:05\",\"2022-08-31T15:30:00\",\"2022-09-02T11:42:28\",\"2022-09-05T08:29:24\",\"2022-09-05T23:00:00\",\"2022-09-08T09:14:48\",\"2022-09-20T08:31:40\",\"2022-09-22T09:38:26\",\"2022-09-25T04:10:26\",\"2022-09-26T14:52:38\",\"2022-09-27T07:17:49\",\"2022-09-28T08:28:00\",\"2022-09-28T11:42:05\"],\"y\":[1,1,1,1,1,1,1,1,1,1,1,1,1,1,1,1,1,1,1,1,1,1,1,1,1,1,1,1,1,1,1,1,1,1,1,1,1,1,1,1,1,1,1,1,1,1,1,1,1,1,1,1,1,1,1,1,1,1,1,1,1,1,1,1,1,2,1,1,1,1,1,1,1,1,1,1,1,1,1,1,1,1,1,1,1,1,1,1,1,1,1,1,2,1,2,1,1,1,1,1,1,1,1,1,1,1,1,1,1,1,1,1,1,1,1,1,1,1,1,1,1,1,1,1,1,1,1,1,1,1,1,1,1,1,1,1,1,1,1,1,1,1,1,1,1,1,1,1,1,1,1,1,1,1,1,1,1,1,1,1,1,1,1,1,1,1,1,1,1,1,1,1,1,1,1,1,1,1,1,1,1,1,1,1,1,1,1,1,1,1,1,1,1,1,1,1,1,1,1,2,1,1,1,1,1,1,1,1,1,1,1,1,1,1,1,1,1,1,1,1,1,1,1,1,1,1,1,1,1,1,1,1,1,1,1,1,1,1,1,1,1,1,1,1,1,1,1],\"type\":\"scatter\"},{\"hoverinfo\":\"text\",\"hovertext\":[\"<b>Topic 1</b><br>Words: \\u03b4\\u03b9\\u03b1\\u03b4\\u03ae\\u03bb\\u03c9\\u03c3\\u03b7, \\u03bc\\u03c0\\u03bb\\u03b1, \\u03b1\\u03ba\\u03c4\\u03b9\\u03b2\\u03af\\u03c3\\u03c4\\u03c1\\u03b9\\u03b1, \\u03ba\\u03bb\\u03af\\u03bc\\u03b1, fridays\",\"<b>Topic 1</b><br>Words: \\u03b4\\u03b9\\u03b1\\u03b4\\u03ae\\u03bb\\u03c9\\u03c3\\u03b7, fridays, \\u03ba\\u03bb\\u03af\\u03bc\\u03b1, \\u03b4\\u03b9\\u03b1\\u03b4\\u03b7\\u03bb\\u03c9\\u03c4\\u03ad\\u03c2, future\",\"<b>Topic 1</b><br>Words: \\u03b4\\u03b9\\u03b1\\u03b4\\u03b7\\u03bb\\u03c9\\u03c4\\u03ad\\u03c2, \\u03c3\\u03c5\\u03bd\\u03b5\\u03c7\\u03af\\u03c3\\u03bf\\u03c5\\u03bc\\u03b5, \\u03ba\\u03bb\\u03af\\u03bc\\u03b1, \\u03bc\\u03b9\\u03bb\\u03ac\\u03bd\\u03bf, \\u03b4\\u03b9\\u03b1\\u03b4\\u03ae\\u03bb\\u03c9\\u03c3\\u03b7\",\"<b>Topic 1</b><br>Words: \\u03c0\\u03cc\\u03bb\\u03b5\\u03c9\\u03bd, \\u03bf\\u03ba\\u03c4\\u03ce\\u03b2\\u03c1\\u03b7, ectp, habitat, \\u03c3\\u03b5\\u03c0\\u03bf\\u03c7\",\"<b>Topic 1</b><br>Words: \\u03ba\\u03ac\\u03c1\\u03bf\\u03bb\\u03bf\\u03c2, \\u03b4\\u03ae\\u03bb\\u03c9\\u03c3\\u03b5, \\u03bc\\u03c0\\u03bb\\u03b1, \\u03ba\\u03b1\\u03c4\\u03b1\\u03c3\\u03c4\\u03c1\\u03bf\\u03c6\\u03b9\\u03ba\\u03cc, cop26\",\"<b>Topic 1</b><br>Words: \\u03ba\\u03ac\\u03c1\\u03bf\\u03bb\\u03bf\\u03c2, \\u03b4\\u03ae\\u03bb\\u03c9\\u03c3\\u03b5, \\u03b1\\u03c0\\u03bf\\u03b3\\u03bf\\u03ae\\u03c4\\u03b5\\u03c5\\u03c3\\u03b7, \\u03bc\\u03c0\\u03bb\\u03b1, \\u03ba\\u03b1\\u03c4\\u03b1\\u03c3\\u03c4\\u03c1\\u03bf\\u03c6\\u03b9\\u03ba\\u03cc\",\"<b>Topic 1</b><br>Words: \\u03ba\\u03ac\\u03c1\\u03bf\\u03bb\\u03bf\\u03c2, \\u03b4\\u03ae\\u03bb\\u03c9\\u03c3\\u03b5, \\u03bc\\u03c0\\u03bb\\u03b1, \\u03ba\\u03b1\\u03c4\\u03b1\\u03c3\\u03c4\\u03c1\\u03bf\\u03c6\\u03b9\\u03ba\\u03cc, cop26\",\"<b>Topic 1</b><br>Words: \\u03ba\\u03ac\\u03c1\\u03bf\\u03bb\\u03bf\\u03c2, \\u03bc\\u03c0\\u03bb\\u03b1, \\u03b4\\u03ae\\u03bb\\u03c9\\u03c3\\u03b5, cop26, \\u03ba\\u03b1\\u03c4\\u03b1\\u03c3\\u03c4\\u03c1\\u03bf\\u03c6\\u03b9\\u03ba\\u03cc\",\"<b>Topic 1</b><br>Words: \\u03ba\\u03ac\\u03c1\\u03bf\\u03bb\\u03bf\\u03c2, \\u03b4\\u03ae\\u03bb\\u03c9\\u03c3\\u03b5, \\u03b1\\u03c0\\u03bf\\u03b3\\u03bf\\u03ae\\u03c4\\u03b5\\u03c5\\u03c3\\u03b7, \\u03bc\\u03c0\\u03bb\\u03b1, \\u03ba\\u03b1\\u03c4\\u03b1\\u03c3\\u03c4\\u03c1\\u03bf\\u03c6\\u03b9\\u03ba\\u03cc\",\"<b>Topic 1</b><br>Words: \\u03ba\\u03ac\\u03c1\\u03bf\\u03bb\\u03bf\\u03c2, \\u03b1\\u03c6\\u03b1\\u03af\\u03c1\\u03b5\\u03c3\\u03b7, aston, \\u03c4\\u03c5\\u03c1\\u03b9\\u03bf\\u03cd, martin\",\"<b>Topic 1</b><br>Words: \\u03c0\\u03c1\\u03af\\u03b3\\u03ba\\u03b9\\u03c0\\u03b1\\u03c2, \\u03ba\\u03ac\\u03c1\\u03bf\\u03bb\\u03bf\\u03c2, \\u03c0\\u03b1\\u03c1\\u03bf\\u03c5\\u03c3\\u03af\\u03b1, \\u03b4\\u03bf\\u03cd\\u03ba\\u03b1\\u03c2, \\u03bf\\u03c5\\u03af\\u03bb\\u03b9\\u03b1\\u03bc\",\"<b>Topic 1</b><br>Words: \\u03b1\\u03ba\\u03bf\\u03cd\\u03c3\\u03c4\\u03b7\\u03ba\\u03b5, \\u03b2\\u03b1\\u03c3\\u03af\\u03bb\\u03b9\\u03c3\\u03c3\\u03b1, \\u03b5\\u03bb\\u03b9\\u03c3\\u03ac\\u03b2\\u03b5\\u03c4, \\u03bc\\u03b9\\u03bb\\u03bf\\u03cd\\u03bd, \\u03c0\\u03bf\\u03b9\\u03bf\\u03c2\",\"<b>Topic 1</b><br>Words: \\u03b1\\u03ba\\u03bf\\u03cd\\u03c3\\u03c4\\u03b7\\u03ba\\u03b5, \\u03b2\\u03b1\\u03c3\\u03af\\u03bb\\u03b9\\u03c3\\u03c3\\u03b1, \\u03b5\\u03bb\\u03b9\\u03c3\\u03ac\\u03b2\\u03b5\\u03c4, \\u03bc\\u03b9\\u03bb\\u03bf\\u03cd\\u03bd, \\u03c0\\u03bf\\u03b9\\u03bf\\u03c2\",\"<b>Topic 1</b><br>Words: \\u03b2\\u03b1\\u03c3\\u03af\\u03bb\\u03b9\\u03c3\\u03c3\\u03b1, \\u03b5\\u03bb\\u03b9\\u03c3\\u03ac\\u03b2\\u03b5\\u03c4, \\u03b1\\u03ba\\u03bf\\u03cd\\u03c3\\u03c4\\u03b7\\u03ba\\u03b5, \\u03bc\\u03b9\\u03bb\\u03bf\\u03cd\\u03bd, \\u03b5\\u03bd\\u03cc\\u03c7\\u03bb\\u03b7\\u03c3\\u03ae\",\"<b>Topic 1</b><br>Words: \\u03b1\\u03ba\\u03bf\\u03cd\\u03c3\\u03c4\\u03b7\\u03ba\\u03b5, \\u03b2\\u03b1\\u03c3\\u03af\\u03bb\\u03b9\\u03c3\\u03c3\\u03b1, \\u03b5\\u03bb\\u03b9\\u03c3\\u03ac\\u03b2\\u03b5\\u03c4, \\u03bc\\u03b9\\u03bb\\u03bf\\u03cd\\u03bd, \\u03c0\\u03bf\\u03b9\\u03bf\\u03c2\",\"<b>Topic 1</b><br>Words: \\u03b2\\u03b1\\u03c3\\u03af\\u03bb\\u03b9\\u03c3\\u03c3\\u03b1, \\u03b5\\u03bb\\u03b9\\u03c3\\u03ac\\u03b2\\u03b5\\u03c4, \\u03bc\\u03b9\\u03bb\\u03bf\\u03cd\\u03bd, \\u03c0\\u03bf\\u03b9\\u03bf\\u03c2, \\u03b5\\u03ba\\u03bd\\u03b5\\u03c5\\u03c1\\u03b9\\u03c3\\u03bc\\u03ad\\u03bd\\u03b7\",\"<b>Topic 1</b><br>Words: \\u03b5\\u03bb\\u03b9\\u03c3\\u03ac\\u03b2\\u03b5\\u03c4, \\u03b4\\u03bf\\u03cd\\u03ba\\u03b9\\u03c3\\u03c3\\u03b1, \\u03b2\\u03b1\\u03c3\\u03af\\u03bb\\u03b9\\u03c3\\u03c3\\u03b1, \\u03ba\\u03bf\\u03c1\\u03bd\\u03bf\\u03c5\\u03ac\\u03bb\\u03b7\\u03c2, 26\\u03b7\",\"<b>Topic 1</b><br>Words: \\u03b1\\u03ba\\u03bf\\u03cd\\u03c3\\u03c4\\u03b7\\u03ba\\u03b5, \\u03b2\\u03b1\\u03c3\\u03af\\u03bb\\u03b9\\u03c3\\u03c3\\u03b1, \\u03b5\\u03bb\\u03b9\\u03c3\\u03ac\\u03b2\\u03b5\\u03c4, \\u03bc\\u03b9\\u03bb\\u03bf\\u03cd\\u03bd, \\u03c0\\u03bf\\u03b9\\u03bf\\u03c2\",\"<b>Topic 1</b><br>Words: \\u03b5\\u03bb\\u03b9\\u03c3\\u03ac\\u03b2\\u03b5\\u03c4, 95\\u03c7\\u03c1\\u03bf\\u03bd\\u03b7, \\u03b1\\u03ba\\u03bf\\u03cd\\u03c3\\u03c4\\u03b7\\u03ba\\u03b5, \\u03b2\\u03b1\\u03c3\\u03af\\u03bb\\u03b9\\u03c3\\u03c3\\u03b1, \\u03bc\\u03b9\\u03bb\\u03bf\\u03cd\\u03bd\",\"<b>Topic 1</b><br>Words: eleftherostypos, \\u03b1\\u03ba\\u03bf\\u03bb\\u03bf\\u03cd\\u03b8\\u03b7\\u03c3\\u03b5, \\u03b5\\u03b9\\u03b4\\u03ae\\u03c3\\u03b5\\u03b9\\u03c2, \\u03ba\\u03ac\\u03bd\\u03b5, \\u03b1\\u03ba\\u03bf\\u03cd\\u03c3\\u03c4\\u03b7\\u03ba\\u03b5\",\"<b>Topic 1</b><br>Words: \\u03b2\\u03b1\\u03c3\\u03af\\u03bb\\u03b9\\u03c3\\u03c3\\u03b1, \\u03b5\\u03bb\\u03b9\\u03c3\\u03ac\\u03b2\\u03b5\\u03c4, \\u03b1\\u03ba\\u03bf\\u03cd\\u03c3\\u03c4\\u03b7\\u03ba\\u03b5, \\u03bc\\u03b9\\u03bb\\u03bf\\u03cd\\u03bd, \\u03c0\\u03bf\\u03b9\\u03bf\\u03c2\",\"<b>Topic 1</b><br>Words: \\u03b4\\u03b9\\u03ac\\u03c3\\u03ba\\u03b5\\u03c8\\u03b7, \\u03b1\\u03ba\\u03bf\\u03cd\\u03c3\\u03c4\\u03b7\\u03ba\\u03b5, \\u03b2\\u03b1\\u03c3\\u03af\\u03bb\\u03b9\\u03c3\\u03c3\\u03b1, \\u03b5\\u03bb\\u03b9\\u03c3\\u03ac\\u03b2\\u03b5\\u03c4, 26\\u03b7\",\"<b>Topic 1</b><br>Words: \\u03b2\\u03bf\\u03c5\\u03bb\\u03b5\\u03c5\\u03c4\\u03ae\\u03c2, \\u03b1\\u03bc\\u03c0\\u03b1\\u03c4\\u03b6\\u03cc\\u03b3\\u03bb\\u03bf\\u03c5, \\u03b4\\u03b1\\u03b2\\u03ac\\u03ba\\u03b7\\u03c2, \\u03b1\\u03b4\\u03b9\\u03b1\\u03c6\\u03bf\\u03c1\\u03af\\u03b1, \\u03ba\\u03ac\\u03bd\\u03b5\\u03b9\",\"<b>Topic 1</b><br>Words: \\u03c3\\u03c5\\u03b3\\u03b3\\u03c1\\u03b1\\u03c6\\u03b5\\u03af\\u03c2, \\u03b5\\u03c0\\u03b9\\u03bb\\u03ad\\u03b3\\u03bf\\u03c5\\u03bc\\u03b5, \\u03bc\\u03ad\\u03bb\\u03bb\\u03bf\\u03bd, carnac, rivett\",\"<b>Topic 1</b><br>Words: \\u03b5\\u03bd\\u03ad\\u03c1\\u03b3\\u03b5\\u03b9\\u03b1\\u03c2, \\u03b5\\u03c0\\u03af\\u03c0\\u03b5\\u03b4\\u03b1, \\u03bb\\u03b7\\u03c6\\u03b8\\u03bf\\u03cd\\u03bd, \\u03ba\\u03bb\\u03b9\\u03bc\\u03b1\\u03c4\\u03b9\\u03ba\\u03ae, \\u03c3\\u03cd\\u03bd\\u03bf\\u03b4\\u03bf\",\"<b>Topic 1</b><br>Words: \\u03c4\\u03b6\\u03cc\\u03bd\\u03c3\\u03bf\\u03bd, \\u03b7\\u03bd\\u03c9\\u03bc\\u03ad\\u03bd\\u03bf\\u03c5, \\u03b2\\u03b1\\u03c3\\u03b9\\u03bb\\u03b5\\u03af\\u03bf\\u03c5, \\u03c0\\u03c1\\u03c9\\u03b8\\u03c5\\u03c0\\u03bf\\u03c5\\u03c1\\u03b3\\u03cc\\u03c2, \\u03b5\\u03ba\\u03c0\\u03bf\\u03bc\\u03c0\\u03cc\\u03c2\",\"<b>Topic 1</b><br>Words: \\u03c7\\u03ce\\u03c1\\u03b5\\u03c2, g20, \\u03b4\\u03b5\\u03c3\\u03bc\\u03b5\\u03cd\\u03c3\\u03b5\\u03b9\\u03c2, \\u03ba\\u03bb\\u03af\\u03bc\\u03b1, \\u03b5\\u03c0\\u03b9\\u03c3\\u03c4\\u03bf\\u03bb\\u03ae\",\"<b>Topic 1</b><br>Words: sharma, \\u03b3\\u03bb\\u03b1\\u03c3\\u03ba\\u03ce\\u03b2\\u03b7, \\u03c4\\u03b5\\u03bb\\u03b5\\u03b9\\u03ce\\u03bd\\u03b5\\u03b9, \\u03b4\\u03ae\\u03bb\\u03c9\\u03c3\\u03b5, \\u03c0\\u03b1\\u03c1\\u03af\\u03c3\\u03b9\",\"<b>Topic 1</b><br>Words: \\u03b5\\u03b5, cop26, \\u03ba\\u03bb\\u03af\\u03bc\\u03b1, \\u03b9\\u03bd\\u03b4\\u03af\\u03b1, \\u03c7\\u03ce\\u03c1\\u03b5\\u03c2\",\"<b>Topic 1</b><br>Words: \\u03ba\\u03bb\\u03b9\\u03bc\\u03b1\\u03c4\\u03b9\\u03ba\\u03ae, \\u03b5\\u03c0\\u03b9\\u03c3\\u03c4\\u03ae\\u03bc\\u03bf\\u03bd\\u03b5\\u03c2, \\u03b4\\u03b9\\u03ac\\u03c3\\u03ba\\u03b5\\u03c8\\u03b7, \\u03b1\\u03bb\\u03bb\\u03b1\\u03b3\\u03ae, \\u03c0\\u03bb\\u03b1\\u03bd\\u03ae\\u03c4\\u03b7\",\"<b>Topic 1</b><br>Words: \\u03bf\\u03c1\\u03b8\\u03cc\\u03b4\\u03bf\\u03be\\u03b7\\u03c2, \\u03b1\\u03ba\\u03b1\\u03b4\\u03b7\\u03bc\\u03af\\u03b1\\u03c2, \\u03b4\\u03c1, \\u03ba\\u03b1\\u03bb\\u03ad\\u03c2, \\u03c0\\u03c1\\u03b1\\u03ba\\u03c4\\u03b9\\u03ba\\u03ad\\u03c2\",\"<b>Topic 1</b><br>Words: \\u03c6\\u03cc\\u03bd\\u03c4\\u03b1, \\u03c4\\u03b6\\u03ad\\u03b9\\u03bd, \\u03b3\\u03c1\\u03ac\\u03c6\\u03b5\\u03b9, \\u03b4\\u03b7\\u03bc\\u03bf\\u03c3\\u03af\\u03b5\\u03c5\\u03c3\\u03b7, \\u03b1\\u03bd\\u03c5\\u03c0\\u03b1\\u03ba\\u03bf\\u03ae\",\"<b>Topic 1</b><br>Words: \\u03c1\\u03cd\\u03c0\\u03c9\\u03bd, \\u03ba\\u03bb\\u03af\\u03bc\\u03b1, \\u03b3\\u03bb\\u03b1\\u03c3\\u03ba\\u03ce\\u03b2\\u03b7, \\u03bc\\u03c0\\u03ac\\u03b9\\u03bd\\u03c4\\u03b5\\u03bd, \\u03c3\\u03c5\\u03bc\\u03c6\\u03c9\\u03bd\\u03ae\\u03c3\\u03b5\\u03b9\",\"<b>Topic 1</b><br>Words: pronews, \\u03b3\\u03c5\\u03bc\\u03bd\\u03ae, email, gr, \\u03b4\\u03b9\\u03ba\\u03b1\\u03af\\u03c9\\u03bc\\u03b1\",\"<b>Topic 1</b><br>Words: cop26, \\u03ba\\u03bb\\u03af\\u03bc\\u03b1, \\u03bf\\u03b7\\u03b5, \\u03b8\\u03b5\\u03c1\\u03bc\\u03bf\\u03ba\\u03b7\\u03c0\\u03af\\u03bf\\u03c5, \\u03c0\\u03b1\\u03c1\\u03b9\\u03c3\\u03b9\\u03bf\\u03cd\",\"<b>Topic 1</b><br>Words: \\u03b1\\u03bb\\u03bb\\u03b1\\u03b3\\u03ae\\u03c2, intelligence, \\u03c0\\u03c1\\u03ac\\u03be\\u03bf\\u03c5\\u03bd, \\u03ba\\u03bb\\u03b9\\u03bc\\u03b1\\u03c4\\u03b9\\u03ba\\u03ae\\u03c2, \\u03c7\\u03ce\\u03c1\\u03b5\\u03c2\",\"<b>Topic 1</b><br>Words: \\u03b7\\u03b3\\u03ad\\u03c4\\u03b5\\u03c2, \\u03c0\\u03c1\\u03c9\\u03b8\\u03c5\\u03c0\\u03bf\\u03c5\\u03c1\\u03b3\\u03cc\\u03c2, \\u03b4\\u03b9\\u03ac\\u03c3\\u03ba\\u03b5\\u03c8\\u03b7, \\u03c0\\u03b5\\u03c1\\u03b9\\u03b3\\u03c1\\u03ac\\u03c8\\u03b5\\u03b9, \\u03b5\\u03be\\u03b7\\u03b3\\u03ae\\u03c3\\u03b5\\u03b9\",\"<b>Topic 1</b><br>Words: cop26, \\u03ba\\u03bb\\u03af\\u03bc\\u03b1, \\u03b3\\u03bb\\u03b1\\u03c3\\u03ba\\u03ce\\u03b2\\u03b7, \\u03ac\\u03bd\\u03b8\\u03c1\\u03b1\\u03ba\\u03b1, \\u03ba\\u03bb\\u03b9\\u03bc\\u03b1\\u03c4\\u03b9\\u03ba\\u03ae\",\"<b>Topic 1</b><br>Words: cop26, \\u03b3\\u03bb\\u03b1\\u03c3\\u03ba\\u03ce\\u03b2\\u03b7, \\u03ba\\u03bb\\u03af\\u03bc\\u03b1, \\u03ac\\u03bd\\u03b8\\u03c1\\u03b1\\u03ba\\u03b1, \\u03ba\\u03bb\\u03b9\\u03bc\\u03b1\\u03c4\\u03b9\\u03ba\\u03ae\",\"<b>Topic 1</b><br>Words: \\u03c7\\u03ce\\u03c1\\u03b5\\u03c2, cop26, \\u03c7\\u03c1\\u03b5\\u03b9\\u03ac\\u03b6\\u03b5\\u03c4\\u03b1\\u03b9, \\u03b4\\u03c1\\u03ac\\u03c3\\u03b7, \\u03ba\\u03bb\\u03af\\u03bc\\u03b1\",\"<b>Topic 1</b><br>Words: \\u03b9\\u03c3\\u03c4\\u03bf\\u03c1\\u03b9\\u03ba\\u03ad\\u03c2, alphatv, \\u03ba\\u03b1\\u03c4\\u03b1\\u03bb\\u03ae\\u03be\\u03bf\\u03c5\\u03bd, \\u03c3\\u03bf\\u03ba, \\u03ba\\u03b1\\u03bb\\u03bf\\u03cd\\u03bd\\u03c4\\u03b1\\u03b9\",\"<b>Topic 1</b><br>Words: cop26, \\u03b3\\u03bb\\u03b1\\u03c3\\u03ba\\u03ce\\u03b2\\u03b7, \\u03b4\\u03b9\\u03ac\\u03c3\\u03ba\\u03b5\\u03c8\\u03b7, \\u03c0\\u03bf\\u03cd\\u03c4\\u03b9\\u03bd, \\u03c0\\u03b5\\u03c3\\u03ba\\u03cc\\u03c6\",\"<b>Topic 1</b><br>Words: 01, 11, 2021, \\u03ba\\u03bb\\u03af\\u03bc\\u03b1, \\u03ba\\u03bb\\u03b9\\u03bc\\u03b1\\u03c4\\u03b9\\u03ba\\u03ae\",\"<b>Topic 1</b><br>Words: \\u03b7\\u03c0\\u03b1, \\u03b5\\u03af\\u03c0\\u03b5, \\u03b1\\u03bc\\u03b5\\u03c1\\u03b9\\u03ba\\u03b1\\u03bd\\u03cc\\u03c2, \\u03b5\\u03ba\\u03c0\\u03bf\\u03bc\\u03c0\\u03ad\\u03c2, \\u03bc\\u03c0\\u03ac\\u03b9\\u03bd\\u03c4\\u03b5\\u03bd\",\"<b>Topic 1</b><br>Words: \\u03c0\\u03c1\\u03c9\\u03b8\\u03c5\\u03c0\\u03bf\\u03c5\\u03c1\\u03b3\\u03cc\\u03c2, \\u03bc\\u03b7\\u03c4\\u03c3\\u03bf\\u03c4\\u03ac\\u03ba\\u03b7\\u03c2, \\u03c0\\u03c1\\u03c9\\u03b8\\u03c5\\u03c0\\u03bf\\u03c5\\u03c1\\u03b3\\u03cc, \\u03ba\\u03c5\\u03c1\\u03b9\\u03ac\\u03ba\\u03bf\\u03c2, \\u03b5\\u03bb\\u03bb\\u03ac\\u03b4\\u03b1\",\"<b>Topic 1</b><br>Words: \\u03b5\\u03b5, \\u03ba\\u03af\\u03bd\\u03b1, \\u03b3\\u03bb\\u03b1\\u03c3\\u03ba\\u03ce\\u03b2\\u03b7, \\u03ba\\u03bb\\u03b9\\u03bc\\u03b1\\u03c4\\u03b9\\u03ba\\u03ae, \\u03b4\\u03b5\\u03af\\u03c7\\u03bd\\u03b5\\u03b9\",\"<b>Topic 1</b><br>Words: \\u03ba\\u03bb\\u03b9\\u03bc\\u03b1\\u03c4\\u03b9\\u03ba\\u03ae, \\u03b3\\u03bb\\u03b1\\u03c3\\u03ba\\u03ce\\u03b2\\u03b7, \\u03c3\\u03c5\\u03bc\\u03c6\\u03c9\\u03bd\\u03af\\u03b1, \\u03b7\\u03c0\\u03b1, \\u03ba\\u03c1\\u03af\\u03c3\\u03b7\",\"<b>Topic 1</b><br>Words: cop26, \\u03ba\\u03b5\\u03bb\\u03c3\\u03af\\u03bf\\u03c5, \\u03b7\\u03b3\\u03ad\\u03c4\\u03b5\\u03c2, \\u03c1\\u03cd\\u03c0\\u03c9\\u03bd, \\u03c0\\u03bb\\u03b1\\u03bd\\u03ae\\u03c4\\u03b7\",\"<b>Topic 1</b><br>Words: \\u03c0\\u03b1\\u03af\\u03c1\\u03bd\\u03bf\\u03c5\\u03bd, \\u03c0\\u03c1\\u03bf\\u03c3\\u03c0\\u03bf\\u03b9\\u03bf\\u03cd\\u03bd\\u03c4\\u03b1\\u03b9, \\u03c3\\u03bf\\u03b2\\u03b1\\u03c1\\u03ac, \\u03ba\\u03bb\\u03af\\u03bc\\u03b1, \\u03b7\\u03b3\\u03b5\\u03c3\\u03af\\u03b1\",\"<b>Topic 1</b><br>Words: \\u03c4\\u03bf\\u03cd\\u03bd\\u03bc\\u03c0\\u03b5\\u03c1\\u03b3\\u03ba, \\u03c0\\u03c1\\u03bf\\u03c3\\u03c0\\u03bf\\u03b9\\u03bf\\u03cd\\u03bd\\u03c4\\u03b1\\u03b9, cop26, \\u03b5\\u03af\\u03c0\\u03b5, \\u03c0\\u03b1\\u03af\\u03c1\\u03bd\\u03bf\\u03c5\\u03bd\",\"<b>Topic 1</b><br>Words: attenborough, \\u03b1\\u03c4\\u03bc\\u03cc\\u03c3\\u03c6\\u03b1\\u03b9\\u03c1\\u03b1, \\u03b5\\u03af\\u03c0\\u03b5, \\u03ac\\u03bd\\u03b8\\u03c1\\u03b1\\u03ba\\u03b1, \\u03b1\\u03c1\\u03b9\\u03b8\\u03bc\\u03cc\",\"<b>Topic 1</b><br>Words: \\u03b1\\u03bb\\u03bb\\u03b1\\u03b3\\u03ae, \\u03ba\\u03bb\\u03af\\u03bc\\u03b1, \\u03ba\\u03bb\\u03b9\\u03bc\\u03b1\\u03c4\\u03b9\\u03ba\\u03ae, cop26, \\u03c3\\u03c5\\u03bc\\u03c6\\u03c9\\u03bd\\u03af\\u03b1\",\"<b>Topic 1</b><br>Words: greenpeace, 2021, \\u03b1\\u03bb\\u03bb\\u03b1\\u03b3\\u03b7, \\u03ba\\u03bb\\u03b9\\u03bc\\u03b1\\u03c4\\u03b9\\u03ba\\u03b7, \\u03b1\\u03c5\\u03b3\\u03bf\\u03cd\\u03c3\\u03c4\\u03bf\\u03c5\",\"<b>Topic 1</b><br>Words: attenborough, \\u03b5\\u03af\\u03c0\\u03b5, \\u03b1\\u03c4\\u03bc\\u03cc\\u03c3\\u03c6\\u03b1\\u03b9\\u03c1\\u03b1, \\u03ac\\u03bd\\u03b8\\u03c1\\u03b1\\u03ba\\u03b1, \\u03b1\\u03c1\\u03b9\\u03b8\\u03bc\\u03cc\",\"<b>Topic 1</b><br>Words: \\u03b3\\u03bb\\u03b1\\u03c3\\u03ba\\u03cc\\u03b2\\u03b7, cop26, \\u03ba\\u03bb\\u03b9\\u03bc\\u03b1\\u03c4\\u03b9\\u03ba\\u03ae, \\u03c0\\u03b1\\u03c1\\u03cc\\u03bd, \\u03bd\\u03bf\\u03b5\\u03bc\\u03b2\\u03c1\\u03af\\u03bf\\u03c5\",\"<b>Topic 1</b><br>Words: \\u03b1\\u03ba\\u03bf\\u03bc\\u03b1, eilish, billie, \\u03c4\\u03c1\\u03ad\\u03b9\\u03bb\\u03b5\\u03c1, \\u03ba\\u03b1\\u03bd\\u03b1\\u03b4\\u03cc\\u03c2\",\"<b>Topic 1</b><br>Words: \\u03c4\\u03ad\\u03c1\\u03b1\\u03c2, \\u03bd\\u03b5\\u03c2, \\u03bb\\u03bf\\u03c7, sputniknews, \\u03ba\\u03bf\\u03c1\\u03c5\\u03c6\\u03ae\\u03c2\",\"<b>Topic 1</b><br>Words: \\u03c0\\u03c5\\u03c1\\u03ba\\u03b1\\u03b3\\u03b9\\u03ad\\u03c2, \\u03b5\\u03bc\\u03c0\\u03b9\\u03c3\\u03c4\\u03b5\\u03cd\\u03bf\\u03bc\\u03b1\\u03b9, \\u03c0\\u03c1\\u03cc\\u03b2\\u03bb\\u03b7\\u03bc\\u03b1, \\u03b4\\u03ac\\u03c3\\u03bf\\u03c2, \\u03b1\\u03bb\\u03bb\\u03b1\\u03b3\\u03ae\",\"<b>Topic 1</b><br>Words: \\u03c4\\u03c1\\u03b9\\u03c3, \\u03ba\\u03b5\\u03c6\\u03b1\\u03bb\\u03b1\\u03af\\u03c9\\u03bd, \\u03b4\\u03bf\\u03bb\\u03b1\\u03c1\\u03af\\u03c9\\u03bd, \\u03b1\\u03be\\u03b9\\u03bf\\u03c0\\u03bf\\u03af\\u03b7\\u03c3\\u03b7, 130\",\"<b>Topic 1</b><br>Words: meghan, harry, \\u03b4\\u03ae\\u03bb\\u03c9\\u03c3\\u03b7, markle, cop26\",\"<b>Topic 1</b><br>Words: cop26, \\u03ba\\u03bb\\u03b9\\u03bc\\u03b1\\u03c4\\u03b9\\u03ba\\u03ae, \\u03b1\\u03bb\\u03bb\\u03b1\\u03b3\\u03ae, \\u03ba\\u03bb\\u03b9\\u03bc\\u03b1\\u03c4\\u03b9\\u03ba\\u03ae\\u03c2, \\u03c3\\u03c5\\u03bc\\u03c6\\u03c9\\u03bd\\u03af\\u03b1\",\"<b>Topic 1</b><br>Words: \\u03c3\\u03c5\\u03b3\\u03ba\\u03c1\\u03bf\\u03cd\\u03c3\\u03c4\\u03b7\\u03ba\\u03b1\\u03bd, \\u03b4\\u03b9\\u03b1\\u03b4\\u03b7\\u03bb\\u03ce\\u03bd\\u03bf\\u03c5\\u03bd, alphatv, \\u03b9\\u03c3\\u03c7\\u03c5\\u03c1\\u03bf\\u03cd\\u03c2, \\u03b1\\u03c1\\u03ba\\u03b5\\u03c4\\u03bf\\u03af\",\"<b>Topic 1</b><br>Words: cop26, \\u03ba\\u03bb\\u03b9\\u03bc\\u03b1\\u03c4\\u03b9\\u03ba\\u03ae, \\u03b1\\u03bb\\u03bb\\u03b1\\u03b3\\u03ae, \\u03ba\\u03bb\\u03b9\\u03bc\\u03b1\\u03c4\\u03b9\\u03ba\\u03ae\\u03c2, \\u03be\\u03b5\\u03c7\\u03bd\\u03ce\\u03bd\\u03c4\\u03b1\\u03c2\",\"<b>Topic 1</b><br>Words: 11, 2021, 05, 19, \\u03ba\\u03bb\\u03af\\u03bc\\u03b1\",\"<b>Topic 1</b><br>Words: \\u03c4\\u03bf\\u03cd\\u03bd\\u03bc\\u03c0\\u03b5\\u03c1\\u03b3\\u03ba, \\u03bc\\u03c0\\u03bb\\u03b1, \\u03b3\\u03ba\\u03c1\\u03ad\\u03c4\\u03b1, cop26, \\u03b3\\u03bb\\u03b1\\u03c3\\u03ba\\u03ce\\u03b2\\u03b7\",\"<b>Topic 1</b><br>Words: \\u03b5\\u03c0\\u03b9\\u03c6\\u03c5\\u03bb\\u03ac\\u03be\\u03b5\\u03b9\\u03c2, \\u03b4\\u03b9\\u03b5\\u03ba\\u03b4\\u03b9\\u03ba\\u03ae\\u03c3\\u03b5\\u03b9\\u03c2, cop26, \\u03b2\\u03c1\\u03ad\\u03b8\\u03b7\\u03ba\\u03b1\\u03bd, \\u03b4\\u03b9\\u03b1\\u03b4\\u03b7\\u03bb\\u03c9\\u03c4\\u03ad\\u03c2\",\"<b>Topic 1</b><br>Words: cop26, \\u03c7\\u03ce\\u03c1\\u03b5\\u03c2, \\u03ba\\u03b5\\u03bb\\u03c3\\u03af\\u03bf\\u03c5, \\u03ba\\u03bb\\u03b9\\u03bc\\u03b1\\u03c4\\u03b9\\u03ba\\u03ae, \\u03b1\\u03bb\\u03bb\\u03b1\\u03b3\\u03ae\",\"<b>Topic 1</b><br>Words: \\u03ba\\u03ad\\u03c1\\u03b9, \\u03b7\\u03c0\\u03b1, \\u03ba\\u03bb\\u03af\\u03bc\\u03b1, \\u03c3\\u03c5\\u03bc\\u03c6\\u03c9\\u03bd\\u03af\\u03b1, \\u03ba\\u03bb\\u03b9\\u03bc\\u03b1\\u03c4\\u03b9\\u03ba\\u03ae\",\"<b>Topic 1</b><br>Words: \\u03ba\\u03ad\\u03c1\\u03b9, \\u03b7\\u03c0\\u03b1, \\u03ba\\u03bb\\u03af\\u03bc\\u03b1, \\u03c3\\u03c5\\u03bc\\u03c6\\u03c9\\u03bd\\u03af\\u03b1, \\u03ba\\u03bb\\u03b9\\u03bc\\u03b1\\u03c4\\u03b9\\u03ba\\u03ae\",\"<b>Topic 1</b><br>Words: \\u03ba\\u03ad\\u03c1\\u03b9, \\u03b7\\u03c0\\u03b1, \\u03ba\\u03bb\\u03af\\u03bc\\u03b1, \\u03c3\\u03c5\\u03bc\\u03c6\\u03c9\\u03bd\\u03af\\u03b1, \\u03ba\\u03bb\\u03b9\\u03bc\\u03b1\\u03c4\\u03b9\\u03ba\\u03ae\",\"<b>Topic 1</b><br>Words: \\u03ba\\u03ad\\u03c1\\u03b9, \\u03b7\\u03c0\\u03b1, \\u03ba\\u03bb\\u03af\\u03bc\\u03b1, \\u03c3\\u03c5\\u03bc\\u03c6\\u03c9\\u03bd\\u03af\\u03b1, \\u03ba\\u03bb\\u03b9\\u03bc\\u03b1\\u03c4\\u03b9\\u03ba\\u03ae\",\"<b>Topic 1</b><br>Words: \\u03ba\\u03ad\\u03c1\\u03b9, \\u03b7\\u03c0\\u03b1, \\u03ba\\u03bb\\u03af\\u03bc\\u03b1, \\u03c3\\u03c5\\u03bc\\u03c6\\u03c9\\u03bd\\u03af\\u03b1, \\u03ba\\u03bb\\u03b9\\u03bc\\u03b1\\u03c4\\u03b9\\u03ba\\u03ae\",\"<b>Topic 1</b><br>Words: \\u03ba\\u03ad\\u03c1\\u03b9, \\u03b7\\u03c0\\u03b1, \\u03b1\\u03c1\\u03b8\\u03c1\\u03bf, \\u03c3\\u03c5\\u03bd\\u03b5\\u03c7\\u03b9\\u03b6\\u03b5\\u03b9, \\u03b4\\u03b9\\u03b1\\u03c6\\u03b7\\u03bc\\u03b9\\u03c3\\u03b7\",\"<b>Topic 1</b><br>Words: \\u03ba\\u03ad\\u03c1\\u03b9, \\u03b7\\u03c0\\u03b1, \\u03ba\\u03bb\\u03af\\u03bc\\u03b1, \\u03c3\\u03c5\\u03bc\\u03c6\\u03c9\\u03bd\\u03af\\u03b1, \\u03ba\\u03bb\\u03b9\\u03bc\\u03b1\\u03c4\\u03b9\\u03ba\\u03ae\",\"<b>Topic 1</b><br>Words: \\u03ba\\u03ad\\u03c1\\u03b9, \\u03b7\\u03c0\\u03b1, \\u03ba\\u03bb\\u03af\\u03bc\\u03b1, \\u03c3\\u03c5\\u03bc\\u03c6\\u03c9\\u03bd\\u03af\\u03b1, \\u03ba\\u03bb\\u03b9\\u03bc\\u03b1\\u03c4\\u03b9\\u03ba\\u03ae\",\"<b>Topic 1</b><br>Words: \\u03b1\\u03bb\\u03bb\\u03ac\\u03be\\u03bf\\u03c5\\u03bd, \\u03ad\\u03bd\\u03c4\\u03c5\\u03c0\\u03bf, \\u03b4\\u03b9\\u03b1\\u03bd\\u03b5\\u03bc\\u03ae\\u03b8\\u03b7\\u03ba\\u03b5, \\u03b1\\u03c6\\u03c5\\u03c0\\u03bd\\u03b9\\u03c3\\u03c4\\u03bf\\u03cd\\u03bd, \\u03cd\\u03c8\\u03c9\\u03c3\\u03b1\\u03bd\",\"<b>Topic 1</b><br>Words: cop26, \\u03bc\\u03ad\\u03bb\\u03bb\\u03bf\\u03bd, \\u03b4\\u03b9\\u03b1\\u03b4\\u03b7\\u03bb\\u03c9\\u03c4\\u03ad\\u03c2, \\u03ac\\u03bd\\u03b8\\u03c1\\u03c9\\u03c0\\u03bf\\u03b9, \\u03c0\\u03b1\\u03bd\\u03cc\",\"<b>Topic 1</b><br>Words: cop26, glasgow, november, in, pic\",\"<b>Topic 1</b><br>Words: cop26, \\u03bc\\u03ad\\u03bb\\u03bb\\u03bf\\u03bd, \\u03b4\\u03b9\\u03b1\\u03b4\\u03b7\\u03bb\\u03c9\\u03c4\\u03ad\\u03c2, \\u03ac\\u03bd\\u03b8\\u03c1\\u03c9\\u03c0\\u03bf\\u03b9, \\u03c0\\u03b1\\u03bd\\u03cc\",\"<b>Topic 1</b><br>Words: cop26, \\u03bc\\u03ad\\u03bb\\u03bb\\u03bf\\u03bd, \\u03b4\\u03b9\\u03b1\\u03b4\\u03b7\\u03bb\\u03c9\\u03c4\\u03ad\\u03c2, \\u03ac\\u03bd\\u03b8\\u03c1\\u03c9\\u03c0\\u03bf\\u03b9, \\u03c0\\u03b1\\u03bd\\u03cc\",\"<b>Topic 1</b><br>Words: cop26, \\u03bc\\u03ad\\u03bb\\u03bb\\u03bf\\u03bd, \\u03b4\\u03b9\\u03b1\\u03b4\\u03b7\\u03bb\\u03c9\\u03c4\\u03ad\\u03c2, \\u03ac\\u03bd\\u03b8\\u03c1\\u03c9\\u03c0\\u03bf\\u03b9, \\u03c0\\u03b1\\u03bd\\u03cc\",\"<b>Topic 1</b><br>Words: cop26, \\u03bc\\u03ad\\u03bb\\u03bb\\u03bf\\u03bd, \\u03b4\\u03b9\\u03b1\\u03b4\\u03b7\\u03bb\\u03c9\\u03c4\\u03ad\\u03c2, \\u03b1\\u03c1\\u03b8\\u03c1\\u03bf, \\u03c3\\u03c5\\u03bd\\u03b5\\u03c7\\u03b9\\u03b6\\u03b5\\u03b9\",\"<b>Topic 1</b><br>Words: cop26, \\u03bc\\u03ad\\u03bb\\u03bb\\u03bf\\u03bd, \\u03b4\\u03b9\\u03b1\\u03b4\\u03b7\\u03bb\\u03c9\\u03c4\\u03ad\\u03c2, \\u03ac\\u03bd\\u03b8\\u03c1\\u03c9\\u03c0\\u03bf\\u03b9, \\u03c0\\u03b1\\u03bd\\u03cc\",\"<b>Topic 1</b><br>Words: cop26, \\u03bc\\u03ad\\u03bb\\u03bb\\u03bf\\u03bd, \\u03b4\\u03b9\\u03b1\\u03b4\\u03b7\\u03bb\\u03c9\\u03c4\\u03ad\\u03c2, \\u03ac\\u03bd\\u03b8\\u03c1\\u03c9\\u03c0\\u03bf\\u03b9, \\u03c0\\u03b1\\u03bd\\u03cc\",\"<b>Topic 1</b><br>Words: cop26, \\u03bc\\u03ad\\u03bb\\u03bb\\u03bf\\u03bd, \\u03b4\\u03b9\\u03b1\\u03b4\\u03b7\\u03bb\\u03c9\\u03c4\\u03ad\\u03c2, \\u03ac\\u03bd\\u03b8\\u03c1\\u03c9\\u03c0\\u03bf\\u03b9, \\u03c0\\u03b1\\u03bd\\u03cc\",\"<b>Topic 1</b><br>Words: cop26, \\u03bc\\u03ad\\u03bb\\u03bb\\u03bf\\u03bd, \\u03b4\\u03b9\\u03b1\\u03b4\\u03b7\\u03bb\\u03c9\\u03c4\\u03ad\\u03c2, \\u03ac\\u03bd\\u03b8\\u03c1\\u03c9\\u03c0\\u03bf\\u03b9, \\u03c0\\u03b1\\u03bd\\u03cc\",\"<b>Topic 1</b><br>Words: cop26, \\u03bc\\u03ad\\u03bb\\u03bb\\u03bf\\u03bd, \\u03b4\\u03b9\\u03b1\\u03b4\\u03b7\\u03bb\\u03c9\\u03c4\\u03ad\\u03c2, \\u03ac\\u03bd\\u03b8\\u03c1\\u03c9\\u03c0\\u03bf\\u03b9, \\u03c0\\u03b1\\u03bd\\u03cc\",\"<b>Topic 1</b><br>Words: cop26, \\u03bc\\u03ad\\u03bb\\u03bb\\u03bf\\u03bd, \\u03b4\\u03b9\\u03b1\\u03b4\\u03b7\\u03bb\\u03c9\\u03c4\\u03ad\\u03c2, \\u03ac\\u03bd\\u03b8\\u03c1\\u03c9\\u03c0\\u03bf\\u03b9, \\u03c0\\u03b1\\u03bd\\u03cc\",\"<b>Topic 1</b><br>Words: cop26, \\u03bc\\u03ad\\u03bb\\u03bb\\u03bf\\u03bd, \\u03c6\\u03c9\\u03c4, \\u03b4\\u03b9\\u03b1\\u03b4\\u03b7\\u03bb\\u03c9\\u03c4\\u03ad\\u03c2, reuters\",\"<b>Topic 1</b><br>Words: cop26, \\u03bc\\u03ad\\u03bb\\u03bb\\u03bf\\u03bd, \\u03b4\\u03b9\\u03b1\\u03b4\\u03b7\\u03bb\\u03c9\\u03c4\\u03ad\\u03c2, \\u03ac\\u03bd\\u03b8\\u03c1\\u03c9\\u03c0\\u03bf\\u03b9, \\u03c0\\u03b1\\u03bd\\u03cc\",\"<b>Topic 1</b><br>Words: \\u03c3\\u03c4\\u03b1\\u03c7\\u03c5\\u03bb\\u03bf\\u03b3\\u03ae\\u03c3\\u03b1\\u03bc\\u03b5, \\u03b5\\u03c0\\u03b9\\u03c3\\u03c0\\u03b5\\u03c5\\u03b8\\u03b5\\u03af, \\u03c3\\u03c4\\u03cc\\u03c7\\u03bf\\u03c2, \\u03b4\\u03c1\\u03ac\\u03c3\\u03b7, \\u03c3\\u03c4\\u03b9\\u03b3\\u03bc\\u03b9\\u03cc\\u03c4\\u03c5\\u03c0\\u03b1\",\"<b>Topic 1</b><br>Words: cop26, \\u03bc\\u03ad\\u03bb\\u03bb\\u03bf\\u03bd, \\u03b4\\u03b9\\u03b1\\u03b4\\u03b7\\u03bb\\u03c9\\u03c4\\u03ad\\u03c2, \\u03ac\\u03bd\\u03b8\\u03c1\\u03c9\\u03c0\\u03bf\\u03b9, \\u03c0\\u03b1\\u03bd\\u03cc\",\"<b>Topic 1</b><br>Words: intercargo, \\u03c6\\u03b1\\u03c6\\u03b1\\u03bb\\u03b9\\u03cc\\u03c2, \\u03b1\\u03bd\\u03ac\\u03c0\\u03c4\\u03c5\\u03be\\u03b7, \\u03b5\\u03bc\\u03c0\\u03bf\\u03c1\\u03b9\\u03ba\\u03ae, \\u03c0\\u03b1\\u03b3\\u03ba\\u03cc\\u03c3\\u03bc\\u03b9\\u03b1\",\"<b>Topic 1</b><br>Words: cop26, \\u03bc\\u03ad\\u03bb\\u03bb\\u03bf\\u03bd, \\u03b4\\u03b9\\u03b1\\u03b4\\u03b7\\u03bb\\u03c9\\u03c4\\u03ad\\u03c2, \\u03ac\\u03bd\\u03b8\\u03c1\\u03c9\\u03c0\\u03bf\\u03b9, \\u03c0\\u03b1\\u03bd\\u03cc\",\"<b>Topic 1</b><br>Words: cop26, \\u03bc\\u03ad\\u03bb\\u03bb\\u03bf\\u03bd, \\u03b4\\u03b9\\u03b1\\u03b4\\u03b7\\u03bb\\u03c9\\u03c4\\u03ad\\u03c2, peoples, \\u03ac\\u03bd\\u03b8\\u03c1\\u03c9\\u03c0\\u03bf\\u03b9\",\"<b>Topic 1</b><br>Words: cop26, \\u03bc\\u03ad\\u03bb\\u03bb\\u03bf\\u03bd, \\u03b4\\u03b9\\u03b1\\u03b4\\u03b7\\u03bb\\u03c9\\u03c4\\u03ad\\u03c2, \\u03ac\\u03bd\\u03b8\\u03c1\\u03c9\\u03c0\\u03bf\\u03b9, \\u03c0\\u03b1\\u03bd\\u03cc\",\"<b>Topic 1</b><br>Words: \\u03c7\\u03ce\\u03c1\\u03b5\\u03c2, \\u03b7\\u03b3\\u03ad\\u03c4\\u03b5\\u03c2, 105, \\u03b4\\u03b1\\u03c3\\u03ce\\u03bd, \\u03c0\\u03bb\\u03b1\\u03bd\\u03ae\\u03c4\\u03b7\",\"<b>Topic 1</b><br>Words: cop26, \\u03bc\\u03ad\\u03bb\\u03bb\\u03bf\\u03bd, \\u03b4\\u03b9\\u03b1\\u03b4\\u03b7\\u03bb\\u03c9\\u03c4\\u03ad\\u03c2, \\u03ac\\u03bd\\u03b8\\u03c1\\u03c9\\u03c0\\u03bf\\u03b9, \\u03c0\\u03b1\\u03bd\\u03cc\",\"<b>Topic 1</b><br>Words: \\u03bf\\u03c1\\u03c5\\u03ba\\u03c4\\u03ce\\u03bd, \\u03ba\\u03b1\\u03c5\\u03c3\\u03af\\u03bc\\u03c9\\u03bd, \\u03b2\\u03b9\\u03bf\\u03bc\\u03b7\\u03c7\\u03b1\\u03bd\\u03af\\u03b1, \\u03bb\\u03bf\\u03bc\\u03c0\\u03af\\u03c3\\u03c4\\u03b5\\u03c2, cop26\",\"<b>Topic 1</b><br>Words: holzer, jenny, cop26, hurt, \\u03c6\\u03c9\\u03c4\\u03af\\u03b6\\u03b5\\u03c4\\u03b1\\u03b9\",\"<b>Topic 1</b><br>Words: \\u03bb\\u03ad\\u03c3\\u03b2\\u03bf\\u03c5, \\u03bc\\u03bf\\u03c5\\u03c3\\u03b5\\u03af\\u03bf, \\u03b4\\u03ac\\u03c3\\u03bf\\u03c5\\u03c2, \\u03b1\\u03c0\\u03bf\\u03bb\\u03b9\\u03b8\\u03c9\\u03bc\\u03ad\\u03bd\\u03bf, \\u03b4\\u03c1\\u03ac\\u03c3\\u03b5\\u03b9\\u03c2\",\"<b>Topic 1</b><br>Words: \\u03bb\\u03ad\\u03c3\\u03b2\\u03bf\\u03c5, \\u03bc\\u03bf\\u03c5\\u03c3\\u03b5\\u03af\\u03bf, \\u03b4\\u03ac\\u03c3\\u03bf\\u03c5\\u03c2, \\u03b1\\u03c0\\u03bf\\u03bb\\u03b9\\u03b8\\u03c9\\u03bc\\u03ad\\u03bd\\u03bf, \\u03b4\\u03c1\\u03ac\\u03c3\\u03b5\\u03b9\\u03c2\",\"<b>Topic 1</b><br>Words: \\u03c7\\u03ce\\u03c1\\u03b5\\u03c2, \\u03c0\\u03c1\\u03bf\\u03c3\\u03c7\\u03ad\\u03b4\\u03b9\\u03bf, \\u03b5\\u03ba\\u03c0\\u03bf\\u03bc\\u03c0\\u03ad\\u03c2, \\u03ba\\u03bb\\u03af\\u03bc\\u03b1, \\u03b4\\u03b5\\u03c3\\u03bc\\u03b5\\u03cd\\u03c3\\u03b5\\u03b9\\u03c2\",\"<b>Topic 1</b><br>Words: cop26, \\u03bf\\u03c1\\u03c5\\u03ba\\u03c4\\u03ce\\u03bd, \\u03ba\\u03b1\\u03c5\\u03c3\\u03af\\u03bc\\u03c9\\u03bd, \\u03bb\\u03bf\\u03bc\\u03c0\\u03af\\u03c3\\u03c4\\u03b5\\u03c2, \\u03b4\\u03b5\\u03c3\\u03bc\\u03b5\\u03cd\\u03c3\\u03b5\\u03b9\\u03c2\",\"<b>Topic 1</b><br>Words: \\u03c7\\u03ce\\u03c1\\u03b5\\u03c2, \\u03b4\\u03b9\\u03b1\\u03ba\\u03ae\\u03c1\\u03c5\\u03be\\u03b7\\u03c2, cop26, \\u03c4\\u03b5\\u03bb\\u03b9\\u03ba\\u03ae\\u03c2, \\u03c3\\u03c5\\u03bd\\u03cc\\u03b4\\u03bf\\u03c5\",\"<b>Topic 1</b><br>Words: \\u03c7\\u03ce\\u03c1\\u03b5\\u03c2, \\u03b4\\u03b9\\u03b1\\u03ba\\u03ae\\u03c1\\u03c5\\u03be\\u03b7\\u03c2, cop26, \\u03c4\\u03b5\\u03bb\\u03b9\\u03ba\\u03ae\\u03c2, \\u03c6\\u03c4\\u03c9\\u03c7\\u03cc\\u03c4\\u03b5\\u03c1\\u03b5\\u03c2\",\"<b>Topic 1</b><br>Words: \\u03c3\\u03c5\\u03bc\\u03c6\\u03c9\\u03bd\\u03af\\u03b1, \\u03c7\\u03ce\\u03c1\\u03b5\\u03c2, \\u03ba\\u03b5\\u03b9\\u03bc\\u03ad\\u03bd\\u03bf\\u03c5, cop26, \\u03ba\\u03bb\\u03af\\u03bc\\u03b1\",\"<b>Topic 1</b><br>Words: \\u03c7\\u03ce\\u03c1\\u03b5\\u03c2, \\u03c3\\u03c5\\u03bc\\u03c6\\u03c9\\u03bd\\u03af\\u03b1, \\u03ba\\u03b5\\u03bb\\u03c3\\u03af\\u03bf\\u03c5, \\u03c0\\u03b1\\u03c1\\u03b9\\u03c3\\u03b9\\u03bf\\u03cd, \\u03ba\\u03b5\\u03b9\\u03bc\\u03ad\\u03bd\\u03bf\\u03c5\",\"<b>Topic 1</b><br>Words: \\u03c7\\u03ce\\u03c1\\u03b5\\u03c2, \\u03c3\\u03c5\\u03bc\\u03c6\\u03c9\\u03bd\\u03af\\u03b1, \\u03c6\\u03c4\\u03c9\\u03c7\\u03ad\\u03c2, \\u03ba\\u03b5\\u03bb\\u03c3\\u03af\\u03bf\\u03c5, \\u03c0\\u03b1\\u03c1\\u03b9\\u03c3\\u03b9\\u03bf\\u03cd\",\"<b>Topic 1</b><br>Words: \\u03c0\\u03b1\\u03c0\\u03b1\\u03bd\\u03b4\\u03c1\\u03ad\\u03bf\\u03c5, \\u03b3\\u03b9\\u03ce\\u03c1\\u03b3\\u03bf\\u03c2, \\u03c5\\u03c0\\u03b5\\u03c1\\u03b8\\u03ad\\u03c1\\u03bc\\u03b1\\u03bd\\u03c3\\u03b7\\u03c2, \\u03ba\\u03b5\\u03bb\\u03c3\\u03af\\u03bf\\u03c5, \\u03ba\\u03bb\\u03b9\\u03bc\\u03b1\\u03c4\\u03b9\\u03ba\\u03ae\",\"<b>Topic 1</b><br>Words: \\u03c3\\u03c5\\u03bc\\u03c6\\u03c9\\u03bd\\u03af\\u03b1, \\u03b1\\u03bb\\u03bb\\u03b1\\u03b3\\u03ad\\u03c2, \\u03c5\\u03c0\\u03b5\\u03c1\\u03b8\\u03ad\\u03c1\\u03bc\\u03b1\\u03bd\\u03c3\\u03b7\\u03c2, \\u03c3\\u03ac\\u03c1\\u03bc\\u03b1, \\u03ba\\u03bb\\u03b9\\u03bc\\u03b1\\u03c4\\u03b9\\u03ba\\u03ae\",\"<b>Topic 1</b><br>Words: cop26, \\u03b1\\u03bd\\u03c4\\u03b9\\u03bc\\u03b5\\u03c4\\u03ce\\u03c0\\u03b9\\u03c3\\u03b7, \\u03b5\\u03c0\\u03b9\\u03c4\\u03ac\\u03c7\\u03c5\\u03bd\\u03c3\\u03b7, \\u03c0\\u03c1\\u03bf\\u03c3\\u03c0\\u03b1\\u03b8\\u03b5\\u03b9\\u03ce\\u03bd, \\u03c3\\u03c5\\u03bd\\u03b5\\u03c0\\u03b5\\u03b9\\u03ce\\u03bd\",\"<b>Topic 1</b><br>Words: \\u03ad\\u03c4\\u03c1\\u03b5\\u03c7\\u03b5, \\u03b1\\u03c5\\u03c3\\u03c4\\u03b7\\u03c1\\u03ad\\u03c2, \\u03b3\\u03bb\\u03b1\\u03c3\\u03ba\\u03ce\\u03b2\\u03b7, \\u03b1\\u03bd\\u03b1\\u03ba\\u03bf\\u03b9\\u03bd\\u03c9\\u03b8\\u03ad\\u03bd, \\u03c0\\u03b1\\u03b9\\u03b4\\u03af\",\"<b>Topic 1</b><br>Words: chomsky, diem25, cop26, \\u03b5\\u03bb\\u03c0\\u03af\\u03b4\\u03b1, \\u03c0\\u03c1\\u03cc\\u03b2\\u03bb\\u03b7\\u03bc\\u03b1\",\"<b>Topic 1</b><br>Words: \\u03b8\\u03b5\\u03c9\\u03c1\\u03af\\u03b1, \\u03c5\\u03c0\\u03b5\\u03c1\\u03b8\\u03ad\\u03c1\\u03bc\\u03b1\\u03bd\\u03c3\\u03b7, \\u03b1\\u03c1\\u03bd\\u03b7\\u03c4\\u03ce\\u03bd, \\u03c0\\u03bb\\u03b1\\u03bd\\u03ae\\u03c4\\u03b7, bbc\",\"<b>Topic 1</b><br>Words: tvxs, \\u03c3\\u03c5\\u03bc\\u03c6\\u03c9\\u03bd\\u03af\\u03b1, \\u03c3\\u03ba\\u03bf\\u03c0\\u03cc, \\u03ba\\u03bb\\u03af\\u03bc\\u03b1, \\u03c3\\u03c0\\u03b1\\u03c3\\u03bc\\u03ad\\u03bd\\u03b7\",\"<b>Topic 1</b><br>Words: \\u03c0\\u03c1\\u03ac\\u03c3\\u03b9\\u03bd\\u03b5\\u03c2, \\u03c5\\u03c0\\u03bf\\u03c3\\u03c7\\u03ad\\u03c3\\u03b5\\u03c9\\u03bd, cop26, 5\\u03bfc, \\u03b5\\u03c0\\u03af\\u03c0\\u03b5\\u03b4\\u03b1\",\"<b>Topic 1</b><br>Words: \\u03c7\\u03ce\\u03c1\\u03b5\\u03c2, \\u03b1\\u03bd\\u03b1\\u03c0\\u03c4\\u03c5\\u03c3\\u03c3\\u03cc\\u03bc\\u03b5\\u03bd\\u03b5\\u03c2, \\u03b4\\u03b9\\u03c3\\u03b5\\u03ba\\u03b1\\u03c4\\u03bf\\u03bc\\u03bc\\u03cd\\u03c1\\u03b9\\u03b1, \\u03b4\\u03bf\\u03bb\\u03ac\\u03c1\\u03b9\\u03b1, \\u03ba\\u03bb\\u03af\\u03bc\\u03b1\",\"<b>Topic 1</b><br>Words: twinkl, \\u03b3\\u03b7, \\u03ba\\u03bb\\u03b9\\u03bc\\u03b1\\u03c4\\u03b9\\u03ba\\u03ae, cop26, \\u03c3\\u03c7\\u03bf\\u03bb\\u03b5\\u03af\\u03b1\",\"<b>Topic 1</b><br>Words: twinkl, 12, \\u03b5\\u03c4\\u03ce\\u03bd, \\u03c5\\u03bb\\u03b9\\u03ba\\u03cc, \\u03ba\\u03bb\\u03b9\\u03bc\\u03b1\\u03c4\\u03b9\\u03ba\\u03ae\",\"<b>Topic 1</b><br>Words: \\u03b5\\u03ba\\u03c0\\u03bf\\u03bc\\u03c0\\u03ce\\u03bd, \\u03ba\\u03bb\\u03b9\\u03bc\\u03b1\\u03c4\\u03b9\\u03ba\\u03ae, \\u03b1\\u03bb\\u03bb\\u03b1\\u03b3\\u03ae, 2023, cop26\",\"<b>Topic 1</b><br>Words: \\u03bc\\u03c0\\u03ac\\u03b9\\u03bd\\u03c4\\u03b5\\u03bd, \\u03b7\\u03c0\\u03b1, \\u03c4\\u03bf\\u03cd\\u03bd\\u03bc\\u03c0\\u03b5\\u03c1\\u03b3\\u03ba, \\u03bc\\u03ac\\u03c7\\u03b7, cop26\",\"<b>Topic 1</b><br>Words: \\u03c0\\u03c4\\u03ae\\u03c3\\u03b5\\u03b9\\u03c2, \\u03c0\\u03c1\\u03af\\u03b3\\u03ba\\u03b9\\u03c0\\u03b1\\u03c2, \\u03c4\\u03b1\\u03be\\u03af\\u03b4\\u03b9\\u03b1, \\u03c4\\u03b6\\u03b5\\u03c4, \\u03ba\\u03ac\\u03c1\\u03bf\\u03bb\\u03bf\\u03c2\",\"<b>Topic 1</b><br>Words: \\u03ba\\u03bb\\u03af\\u03bc\\u03b1, \\u03b4\\u03b9\\u03ba\\u03b1\\u03c3\\u03c4\\u03b7\\u03c1\\u03af\\u03bf\\u03c5, \\u03b4\\u03b9\\u03ba\\u03b1\\u03c3\\u03c4\\u03ae\\u03c1\\u03b9\\u03bf, \\u03ba\\u03bb\\u03b9\\u03bc\\u03b1\\u03c4\\u03b9\\u03ba\\u03ae, \\u03b5\\u03c3\\u03b4\\u03b1\",\"<b>Topic 1</b><br>Words: \\u03ba\\u03bb\\u03af\\u03bc\\u03b1, \\u03b4\\u03b9\\u03ba\\u03b1\\u03c3\\u03c4\\u03b7\\u03c1\\u03af\\u03bf\\u03c5, \\u03b4\\u03b9\\u03ba\\u03b1\\u03c3\\u03c4\\u03ae\\u03c1\\u03b9\\u03bf, \\u03ba\\u03bb\\u03b9\\u03bc\\u03b1\\u03c4\\u03b9\\u03ba\\u03ae, \\u03b5\\u03c3\\u03b4\\u03b1\",\"<b>Topic 1</b><br>Words: \\u03b1\\u03c4\\u03b8, \\u03b5\\u03ba\\u03c0\\u03bf\\u03bc\\u03c0\\u03ad\\u03c2, \\u03c3\\u03c4\\u03c1\\u03b1\\u03c4\\u03b9\\u03c9\\u03c4\\u03b9\\u03ba\\u03ad\\u03c2, mtco2e, \\u03c3\\u03c4\\u03c1\\u03b1\\u03c4\\u03b9\\u03c9\\u03c4\\u03b9\\u03ba\\u03ce\\u03bd\",\"<b>Topic 1</b><br>Words: pfizer, \\u03ba\\u03b1\\u03c1\\u03ba\\u03af\\u03bd\\u03bf\\u03c2, \\u03b4\\u03cd\\u03c3\\u03ba\\u03bf\\u03bb\\u03b1, moonshot, \\u03bc\\u03c0\\u03bf\\u03c5\\u03c1\\u03bb\\u03ac\",\"<b>Topic 1</b><br>Words: time, \\u03b5\\u03be\\u03ce\\u03c6\\u03c5\\u03bb\\u03bb\\u03bf, \\u03ba\\u03bb\\u03b9\\u03bc\\u03b1\\u03c4\\u03b9\\u03ba\\u03ae, \\u03b2\\u03b9\\u03bf\\u03bc\\u03b7\\u03c7\\u03b1\\u03bd\\u03af\\u03b1\\u03c2, \\u03b1\\u03bb\\u03bb\\u03b1\\u03b3\\u03ae\",\"<b>Topic 1</b><br>Words: \\u03b1\\u03ba\\u03c1\\u03bf\\u03b4\\u03b5\\u03be\\u03b9\\u03ce\\u03bd, \\u03b1\\u03ba\\u03c1\\u03bf\\u03b4\\u03b5\\u03be\\u03b9\\u03ac, \\u03ba\\u03bf\\u03bc\\u03bc\\u03ac\\u03c4\\u03c9\\u03bd, \\u03ba\\u03cc\\u03bc\\u03bc\\u03b1\\u03c4\\u03b1, \\u03ba\\u03bb\\u03b9\\u03bc\\u03b1\\u03c4\\u03b9\\u03ba\\u03ae\\u03c2\",\"<b>Topic 1</b><br>Words: 05, 10, 2022, 11, \\u03c3\\u03c4\\u03cc\\u03c7\\u03bf\\u03c5\\u03c2\",\"<b>Topic 1</b><br>Words: \\u03b1\\u03ba\\u03c4\\u03b9\\u03b2\\u03b9\\u03c3\\u03c4\\u03ad\\u03c2, \\u03b4\\u03ae\\u03bc\\u03b1\\u03c1\\u03c7\\u03bf\\u03c2, \\u03bc\\u03ac\\u03c1\\u03b2\\u03b9\\u03bd, \\u03c1\\u03b9\\u03c2, 016\",\"<b>Topic 1</b><br>Words: free, flight, ted, uk, \\u03b4\\u03ae\\u03bc\\u03b1\\u03c1\\u03c7\\u03bf\\u03c2\",\"<b>Topic 1</b><br>Words: \\u03b5\\u03c5\\u03b1\\u03b8, \\u03ba\\u03b9, \\u03c0\\u03ba\\u03bc, \\u03c0\\u03b5\\u03c1\\u03b9\\u03b2\\u03ac\\u03bb\\u03bb\\u03bf\\u03bd\\u03c4\\u03bf\\u03c2, \\u03b8\\u03b5\\u03c3\\u03c3\\u03b1\\u03bb\\u03bf\\u03bd\\u03af\\u03ba\\u03b7\\u03c2\",\"<b>Topic 1</b><br>Words: \\u03b5\\u03c5\\u03b1\\u03b8, \\u03ba\\u03b9, \\u03c0\\u03b5\\u03c1\\u03b9\\u03b2\\u03ac\\u03bb\\u03bb\\u03bf\\u03bd\\u03c4\\u03bf\\u03c2, \\u03c0\\u03ba\\u03bc, \\u03b8\\u03b5\\u03c3\\u03c3\\u03b1\\u03bb\\u03bf\\u03bd\\u03af\\u03ba\\u03b7\\u03c2\",\"<b>Topic 1</b><br>Words: \\u03ba\\u03bb\\u03af\\u03bc\\u03b1, \\u03c3\\u03c5\\u03bd\\u03b5\\u03c7\\u03b9\\u03b6\\u03b5\\u03b9, \\u03b1\\u03c1\\u03b8\\u03c1\\u03bf, \\u03b4\\u03b9\\u03b1\\u03c6\\u03b7\\u03bc\\u03b9\\u03c3\\u03b7, \\u03bc\\u03b5\\u03c4\\u03b1\",\"<b>Topic 1</b><br>Words: \\u03bf\\u03b7\\u03b5, \\u03b5\\u03c3\\u03c0\\u03b9\\u03bd\\u03cc\\u03c3\\u03b1, \\u03ba\\u03bb\\u03af\\u03bc\\u03b1, \\u03c3\\u03c5\\u03bd\\u03bf\\u03bc\\u03b9\\u03bb\\u03b9\\u03ce\\u03bd, \\u03b3\\u03bb\\u03b1\\u03c3\\u03ba\\u03ce\\u03b2\\u03b7\",\"<b>Topic 1</b><br>Words: \\u03b3\\u03b9\\u03bf\\u03c5\\u03c3\\u03b1\\u03c6\\u03b6\\u03ac\\u03b9, \\u03bd\\u03b1\\u03ba\\u03ac\\u03c4\\u03b5, \\u03ba\\u03bf\\u03c1\\u03af\\u03c4\\u03c3\\u03b9\\u03b1, \\u03c4\\u03bf\\u03cd\\u03bd\\u03bc\\u03c0\\u03b5\\u03c1\\u03b3\\u03ba, reuters\",\"<b>Topic 1</b><br>Words: 17, 06, 2022, 16, 00\",\"<b>Topic 1</b><br>Words: \\u03b3\\u03b1\\u03bb\\u03bb\\u03af\\u03b1\\u03c2, \\u03c0\\u03bf\\u03b4\\u03b7\\u03bb\\u03b1\\u03c4\\u03b9\\u03ba\\u03cc\\u03c2, \\u03c0\\u03bf\\u03b4\\u03b7\\u03bb\\u03b1\\u03c4\\u03b9\\u03ba\\u03bf\\u03cd, 10\\u03b7, \\u03c3\\u03c4\\u03b1\\u03bc\\u03ac\\u03c4\\u03b7\\u03c3\\u03b1\\u03bd\",\"<b>Topic 1</b><br>Words: \\u03ba\\u03c1\\u03ac\\u03c4\\u03b7, \\u03c6\\u03c4\\u03c9\\u03c7\\u03ac, \\u03ba\\u03bb\\u03b9\\u03bc\\u03b1\\u03c4\\u03b9\\u03ba\\u03ae, \\u03c4\\u03c3\\u03ad\\u03c0\\u03b7, \\u03b6\\u03b7\\u03bc\\u03af\\u03b5\\u03c2\",\"<b>Topic 1</b><br>Words: \\u03c9\\u03ba\\u03b5\\u03b1\\u03bd\\u03ce\\u03bd, \\u03b1\\u03bd\\u03bf\\u03b9\\u03c7\\u03c4\\u03ae, \\u03b8\\u03ac\\u03bb\\u03b1\\u03c3\\u03c3\\u03b1, \\u03c9\\u03ba\\u03b5\\u03b1\\u03bd\\u03bf\\u03af, \\u03c3\\u03c5\\u03bc\\u03c6\\u03c9\\u03bd\\u03af\\u03b1\",\"<b>Topic 1</b><br>Words: 23, 09, 2022, \\u03b5\\u03c5\\u03c1\\u03c9\\u03c0\\u03b7, 14\",\"<b>Topic 1</b><br>Words: \\u03c0\\u03bf\\u03c4\\u03b1\\u03bc\\u03ce\\u03bd, cop27, https, \\u03ba\\u03bb\\u03b9\\u03bc\\u03b1\\u03c4\\u03b9\\u03ba\\u03ae, copernicus\"],\"marker\":{\"color\":\"#56B4E9\"},\"mode\":\"lines\",\"name\":\"1_cop26_\\u03ba\\u03bb\\u03b9\\u03bc\\u03b1\\u03c4\\u03b9\\u03ba\\u03ae_\\u03ba\\u03bb\\u03af\\u03bc\\u03b1_\\u03b1\\u03bb\\u03bb\\u03b1\\u03b3\\u03ae\",\"x\":[\"2021-10-01T20:02:49\",\"2021-10-02T07:30:00\",\"2021-10-03T14:32:00\",\"2021-10-04T17:22:30\",\"2021-10-11T11:52:52\",\"2021-10-11T12:17:19\",\"2021-10-11T13:30:00\",\"2021-10-11T18:09:48\",\"2021-10-12T01:54:00\",\"2021-10-12T07:45:24\",\"2021-10-12T09:39:37\",\"2021-10-15T10:00:00\",\"2021-10-15T10:01:00\",\"2021-10-15T10:30:23\",\"2021-10-15T10:51:51\",\"2021-10-15T11:00:31\",\"2021-10-15T11:24:15\",\"2021-10-15T13:05:01\",\"2021-10-15T14:15:00\",\"2021-10-15T14:26:58\",\"2021-10-15T17:07:00\",\"2021-10-15T20:17:25\",\"2021-10-15T20:48:00\",\"2021-10-18T05:20:16\",\"2021-10-18T07:45:00\",\"2021-10-19T09:27:00\",\"2021-10-21T20:24:00\",\"2021-10-23T08:52:32\",\"2021-10-24T18:21:10\",\"2021-10-25T08:31:00\",\"2021-10-25T12:18:26\",\"2021-10-25T18:01:24\",\"2021-10-27T21:00:00\",\"2021-10-29T20:52:37\",\"2021-10-31T10:04:43\",\"2021-11-01T03:40:12\",\"2021-11-01T05:40:00\",\"2021-11-01T05:57:06\",\"2021-11-01T06:40:34\",\"2021-11-01T12:28:06\",\"2021-11-01T13:08:00\",\"2021-11-01T13:50:12\",\"2021-11-01T14:09:11\",\"2021-11-01T16:30:00\",\"2021-11-01T19:58:56\",\"2021-11-01T21:00:25\",\"2021-11-02T03:50:17\",\"2021-11-02T08:39:28\",\"2021-11-02T10:04:28\",\"2021-11-02T11:52:05\",\"2021-11-02T14:10:27\",\"2021-11-02T21:15:00\",\"2021-11-03T06:00:00\",\"2021-11-03T12:47:49\",\"2021-11-03T13:08:11\",\"2021-11-03T14:00:04\",\"2021-11-03T16:01:59\",\"2021-11-04T06:55:42\",\"2021-11-04T23:07:00\",\"2021-11-05T07:30:00\",\"2021-11-05T11:25:42\",\"2021-11-05T13:32:07\",\"2021-11-05T14:52:04\",\"2021-11-05T17:10:10\",\"2021-11-05T21:50:24\",\"2021-11-05T22:40:03\",\"2021-11-06T05:50:27\",\"2021-11-06T06:44:13\",\"2021-11-06T07:00:00\",\"2021-11-06T07:57:13\",\"2021-11-06T08:00:00\",\"2021-11-06T08:20:10\",\"2021-11-06T09:33:57\",\"2021-11-06T10:18:14\",\"2021-11-06T12:35:55\",\"2021-11-06T13:00:00\",\"2021-11-06T21:10:00\",\"2021-11-06T21:14:21\",\"2021-11-06T21:20:33\",\"2021-11-06T21:27:57\",\"2021-11-06T21:31:00\",\"2021-11-06T21:46:03\",\"2021-11-06T21:48:52\",\"2021-11-06T21:58:00\",\"2021-11-06T21:58:24\",\"2021-11-06T22:06:15\",\"2021-11-06T22:16:37\",\"2021-11-06T23:20:22\",\"2021-11-06T23:46:00\",\"2021-11-06T23:52:00\",\"2021-11-07T00:51:25\",\"2021-11-07T02:30:00\",\"2021-11-07T03:31:28\",\"2021-11-07T05:15:00\",\"2021-11-07T06:49:16\",\"2021-11-07T07:00:43\",\"2021-11-07T09:59:42\",\"2021-11-07T17:36:00\",\"2021-11-08T07:28:41\",\"2021-11-09T06:00:41\",\"2021-11-09T22:00:00\",\"2021-11-10T09:02:16\",\"2021-11-10T12:27:17\",\"2021-11-11T10:59:04\",\"2021-11-13T01:40:45\",\"2021-11-13T07:05:43\",\"2021-11-13T20:19:31\",\"2021-11-13T20:39:04\",\"2021-11-13T22:02:28\",\"2021-11-14T12:16:00\",\"2021-11-14T17:03:27\",\"2021-11-15T14:00:01\",\"2021-11-16T07:51:00\",\"2021-11-16T18:04:05\",\"2021-11-17T14:11:00\",\"2021-11-17T17:01:15\",\"2021-11-23T20:33:00\",\"2021-11-27T10:01:22\",\"2021-12-07T14:03:41\",\"2021-12-08T09:30:02\",\"2021-12-12T16:08:16\",\"2021-12-29T17:35:31\",\"2022-01-28T06:15:56\",\"2022-03-23T17:55:14\",\"2022-03-27T08:23:13\",\"2022-03-27T09:08:00\",\"2022-04-02T20:47:00\",\"2022-04-18T09:43:18\",\"2022-04-18T22:20:21\",\"2022-05-10T08:58:27\",\"2022-05-28T11:21:26\",\"2022-05-28T11:52:56\",\"2022-06-05T12:39:32\",\"2022-06-06T09:00:58\",\"2022-06-06T09:40:21\",\"2022-06-06T13:30:00\",\"2022-06-12T20:00:29\",\"2022-06-17T13:31:41\",\"2022-07-12T20:30:00\",\"2022-08-10T06:32:28\",\"2022-09-19T08:00:36\",\"2022-09-23T11:57:30\",\"2022-09-25T08:30:35\"],\"y\":[1,1,1,1,1,1,1,2,1,1,1,1,1,1,1,1,1,1,1,1,1,1,1,1,1,1,1,1,1,1,1,1,1,1,1,1,1,1,1,1,1,1,1,1,1,1,1,1,1,1,1,1,1,1,1,1,1,1,1,1,1,1,1,1,1,1,1,1,1,1,1,1,1,1,1,1,1,1,1,1,1,1,1,1,1,1,1,1,1,1,1,1,1,1,1,1,1,1,1,1,1,1,1,1,1,1,1,1,1,1,1,1,1,1,1,1,1,1,1,1,1,1,1,1,1,1,1,1,1,1,1,1,1,1,1,1,1,1,1,1,1,1,1],\"type\":\"scatter\"},{\"hoverinfo\":\"text\",\"hovertext\":[\"<b>Topic 2</b><br>Words: \\u03c5\\u03c0\\u03b1\\u03af\\u03b8\\u03c1\\u03bf\\u03c5, \\u03b5\\u03c1\\u03b7\\u03bc\\u03bf\\u03c0\\u03bf\\u03af\\u03b7\\u03c3\\u03b7, \\u03b8\\u03b5\\u03c3\\u03c3\\u03b1\\u03bb\\u03af\\u03b1\\u03c2, \\u03c3\\u03c4\\u03ae\\u03c1\\u03b9\\u03be\\u03b7, \\u03c0\\u03bf\\u03bb\\u03b9\\u03c4\\u03b9\\u03ba\\u03ce\\u03bd\",\"<b>Topic 2</b><br>Words: \\u03c0\\u03bf\\u03bb\\u03b9\\u03c4\\u03b9\\u03ba\\u03ad\\u03c2, \\u03b5\\u03bb\\u03bb\\u03ac\\u03b4\\u03b1, \\u03bc\\u03b5\\u03c4\\u03ac\\u03b2\\u03b1\\u03c3\\u03b7, \\u03c0\\u03c1\\u03ac\\u03c3\\u03b9\\u03bd\\u03b7, \\u03c1\\u03cc\\u03bb\\u03bf\",\"<b>Topic 2</b><br>Words: \\u03c0\\u03b1\\u03c4\\u03bf\\u03cd\\u03bb\\u03b7, \\u03c0\\u03c1\\u03ac\\u03c3\\u03b9\\u03bd\\u03b7, \\u03c0\\u03b5\\u03c1\\u03b9\\u03c6\\u03b5\\u03c1\\u03b5\\u03b9\\u03ac\\u03c1\\u03c7\\u03b7, \\u03c0\\u03b5\\u03c1\\u03b9\\u03c6\\u03b5\\u03c1\\u03b5\\u03b9\\u03ce\\u03bd, \\u03b1\\u03c4\\u03c4\\u03b9\\u03ba\\u03ae\\u03c2\",\"<b>Topic 2</b><br>Words: \\u03b1\\u03ad\\u03c1\\u03b9\\u03bf, \\u03b1\\u03c0\\u03b5, \\u03b1\\u03c0\\u03bf\\u03b8\\u03ae\\u03ba\\u03b5\\u03c5\\u03c3\\u03b7, \\u03b5\\u03bd\\u03b5\\u03c1\\u03b3\\u03b5\\u03b9\\u03b1\\u03ba\\u03ae, \\u03c0\\u03b5\\u03c1\\u03b9\\u03c3\\u03c4\\u03ad\\u03c1\\u03b7\\u03c2\",\"<b>Topic 2</b><br>Words: \\u03b5\\u03bd\\u03b5\\u03c1\\u03b3\\u03b5\\u03b9\\u03b1\\u03ba\\u03ae, \\u03b5\\u03bb\\u03b1\\u03c0\\u03b5, \\u03c0\\u03b5\\u03c1\\u03b9\\u03c3\\u03c4\\u03ad\\u03c1\\u03b7\\u03c2, \\u03bc\\u03b5\\u03c4\\u03ac\\u03b2\\u03b1\\u03c3\\u03b7, \\u03c3\\u03b7\\u03bc\\u03b5\\u03af\\u03c9\\u03c3\\u03b5\",\"<b>Topic 2</b><br>Words: \\u03ba\\u03b1\\u03b8\\u03b7\\u03bc\\u03b5\\u03c1\\u03b9\\u03bd\\u03ae, summits, esg, \\u03ba\\u03b1\\u03c1\\u03b1\\u03b2\\u03ad\\u03bb\\u03bb\\u03b1\\u03c2, \\u03ba\\u03cc\\u03c3\\u03c4\\u03bf\\u03c2\",\"<b>Topic 2</b><br>Words: \\u03c0\\u03ac\\u03bf\\u03c5\\u03b5\\u03bb, \\u03b1\\u03bb\\u03b2\\u03b1\\u03bd\\u03af\\u03b1, \\u03c3\\u03b5\\u03b9\\u03c3\\u03bc\\u03cc\\u03c2, \\u03b5\\u03c1\\u03bd\\u03c4\\u03bf\\u03b3\\u03ac\\u03bd, \\u03b5\\u03bb\\u03bb\\u03ac\\u03b4\\u03b1\",\"<b>Topic 2</b><br>Words: \\u03bc\\u03b5\\u03b9\\u03ce\\u03bd\\u03b5\\u03c4\\u03b1\\u03b9, \\u03ba\\u03cd\\u03c0\\u03c1\\u03bf, \\u03b8\\u03b5\\u03c1\\u03bc\\u03bf\\u03ba\\u03c1\\u03b1\\u03c3\\u03af\\u03b5\\u03c2, \\u03ba\\u03bb\\u03b5\\u03ac\\u03bd\\u03b8\\u03b7\\u03c2, \\u03ba\\u03c1\\u03af\\u03c3\\u03b7\",\"<b>Topic 2</b><br>Words: \\u03b5\\u03bb\\u03bb\\u03ac\\u03b4\\u03b1, \\u03c0\\u03bb\\u03b1\\u03c4\\u03b5\\u03af\\u03b1, \\u03ba\\u03bb\\u03b9\\u03bc\\u03b1\\u03c4\\u03b9\\u03ba\\u03ae, \\u03ba\\u03b9, \\u03ba\\u03c1\\u03af\\u03c3\\u03b7\",\"<b>Topic 2</b><br>Words: \\u03c3\\u03b1\\u03bf\\u03c5\\u03b4\\u03b9\\u03ba\\u03ae\\u03c2, \\u03b1\\u03c1\\u03b1\\u03b2\\u03af\\u03b1\\u03c2, \\u03bc\\u03b7\\u03c4\\u03c3\\u03bf\\u03c4\\u03ac\\u03ba\\u03b7\\u03c2, \\u03c3\\u03c5\\u03bd\\u03ac\\u03bd\\u03c4\\u03b7\\u03c3\\u03b7, \\u03ba\\u03c5\\u03c1\\u03b9\\u03ac\\u03ba\\u03bf\\u03c2\",\"<b>Topic 2</b><br>Words: \\u03ba\\u03ad\\u03c1\\u03b9, \\u03bc\\u03b7\\u03c4\\u03c3\\u03bf\\u03c4\\u03ac\\u03ba\\u03b7\\u03c2, \\u03c3\\u03b1\\u03bf\\u03c5\\u03b4\\u03b9\\u03ba\\u03ae, \\u03b1\\u03c1\\u03b1\\u03b2\\u03af\\u03b1, \\u03b5\\u03bb\\u03bb\\u03ac\\u03b4\\u03b1\",\"<b>Topic 2</b><br>Words: 10, \\u03b7\\u03c0\\u03b1, 27, \\u03c4\\u03bf\\u03c5\\u03c1\\u03ba\\u03af\\u03b1, \\u03b8\\u03ad\\u03bc\\u03b1\\u03c4\\u03b1\",\"<b>Topic 2</b><br>Words: \\u03c4\\u03bf\\u03c5\\u03c1\\u03ba\\u03af\\u03b1\\u03c2, \\u03b7\\u03c0\\u03b1, \\u03c3\\u03c5\\u03bd\\u03ac\\u03bd\\u03c4\\u03b7\\u03c3\\u03b7, brahim, kal\\u0131n\",\"<b>Topic 2</b><br>Words: \\u03bc\\u03c0\\u03ac\\u03b9\\u03bd\\u03c4\\u03b5\\u03bd, \\u03c4\\u03b6\\u03bf, \\u03c1\\u03ce\\u03bc\\u03b7, \\u03b4\\u03cd\\u03bf, \\u03bd\\u03bf\\u03bc\\u03bf\\u03c3\\u03c7\\u03ad\\u03b4\\u03b9\\u03bf\",\"<b>Topic 2</b><br>Words: \\u03c4\\u03bf\\u03c5\\u03c1\\u03ba\\u03af\\u03b1, \\u03be\\u03ad\\u03bd\\u03c9\\u03bd, \\u03b4\\u03c5\\u03bd\\u03ac\\u03bc\\u03b5\\u03c9\\u03bd, \\u03b5\\u03bd\\u03cc\\u03c0\\u03bb\\u03c9\\u03bd, \\u03ba\\u03c1\\u03af\\u03c3\\u03b7\",\"<b>Topic 2</b><br>Words: \\u03c0\\u03c1\\u03c9\\u03b8\\u03c5\\u03c0\\u03bf\\u03c5\\u03c1\\u03b3\\u03cc\\u03c2, \\u03b5\\u03bb\\u03bb\\u03ac\\u03b4\\u03b1, \\u03c0\\u03c1\\u03c9\\u03b8\\u03c5\\u03c0\\u03bf\\u03c5\\u03c1\\u03b3\\u03bf\\u03cd, \\u03bf\\u03bc\\u03b9\\u03bb\\u03af\\u03b1, \\u03c0\\u03c1\\u03ac\\u03c3\\u03b9\\u03bd\\u03b7\",\"<b>Topic 2</b><br>Words: \\u03b5\\u03bb\\u03bb\\u03ac\\u03b4\\u03b1, \\u03b5\\u03bd\\u03ad\\u03c1\\u03b3\\u03b5\\u03b9\\u03b1\\u03c2, \\u03b1\\u03c6\\u03bf\\u03c1\\u03ac, \\u03ac\\u03bd\\u03b8\\u03c1\\u03b1\\u03ba\\u03b1, \\u03b1\\u03bd\\u03c4\\u03b9\\u03bc\\u03b5\\u03c4\\u03c9\\u03c0\\u03af\\u03c3\\u03bf\\u03c5\\u03bc\\u03b5\",\"<b>Topic 2</b><br>Words: \\u03b5\\u03bb\\u03bb\\u03ac\\u03b4\\u03b1, \\u03b5\\u03bd\\u03ad\\u03c1\\u03b3\\u03b5\\u03b9\\u03b1\\u03c2, \\u03ac\\u03bd\\u03b8\\u03c1\\u03b1\\u03ba\\u03b1, \\u03b1\\u03bd\\u03c4\\u03b9\\u03bc\\u03b5\\u03c4\\u03c9\\u03c0\\u03af\\u03c3\\u03bf\\u03c5\\u03bc\\u03b5, \\u03bc\\u03b7\\u03c4\\u03c3\\u03bf\\u03c4\\u03ac\\u03ba\\u03b7\\u03c2\",\"<b>Topic 2</b><br>Words: \\u03bc\\u03b7\\u03c4\\u03c3\\u03bf\\u03c4\\u03ac\\u03ba\\u03b7\\u03c2, \\u03b1\\u03c0\\u03bf\\u03ba\\u03b1\\u03bb\\u03b5\\u03af, \\u03b5\\u03c6\\u03b1\\u03c1\\u03bc\\u03cc\\u03b6\\u03b5\\u03b9, \\u03ba\\u03c5\\u03b2\\u03ad\\u03c1\\u03bd\\u03b7\\u03c3\\u03ae\\u03c2, tags\",\"<b>Topic 2</b><br>Words: \\u03c0\\u03c1\\u03c9\\u03b8\\u03c5\\u03c0\\u03bf\\u03c5\\u03c1\\u03b3\\u03cc\\u03c2, \\u03b1\\u03c0\\u03bf\\u03bb\\u03b9\\u03b3\\u03bd\\u03b9\\u03c4\\u03bf\\u03c0\\u03bf\\u03af\\u03b7\\u03c3\\u03b7, \\u03c4\\u03cc\\u03bd\\u03b9\\u03c3\\u03b5, \\u03ba\\u03c5\\u03c1\\u03b9\\u03ac\\u03ba\\u03bf\\u03c2, \\u03bc\\u03b7\\u03c4\\u03c3\\u03bf\\u03c4\\u03ac\\u03ba\\u03b7\\u03c2\",\"<b>Topic 2</b><br>Words: \\u03b5\\u03bb\\u03bb\\u03ac\\u03b4\\u03b1, \\u03b5\\u03bd\\u03ad\\u03c1\\u03b3\\u03b5\\u03b9\\u03b1\\u03c2, \\u03c0\\u03c1\\u03ac\\u03c3\\u03b9\\u03bd\\u03b7\\u03c2, \\u03ac\\u03bd\\u03b8\\u03c1\\u03b1\\u03ba\\u03b1, \\u03b1\\u03bd\\u03c4\\u03b9\\u03bc\\u03b5\\u03c4\\u03c9\\u03c0\\u03af\\u03c3\\u03bf\\u03c5\\u03bc\\u03b5\",\"<b>Topic 2</b><br>Words: \\u03b5\\u03bb\\u03bb\\u03ac\\u03b4\\u03b1, \\u03b5\\u03bd\\u03ad\\u03c1\\u03b3\\u03b5\\u03b9\\u03b1\\u03c2, \\u03ac\\u03bd\\u03b8\\u03c1\\u03b1\\u03ba\\u03b1, \\u03b1\\u03bd\\u03c4\\u03b9\\u03bc\\u03b5\\u03c4\\u03c9\\u03c0\\u03af\\u03c3\\u03bf\\u03c5\\u03bc\\u03b5, \\u03c0\\u03c1\\u03bf\\u03bf\\u03c1\\u03b9\\u03c3\\u03bc\\u03bf\\u03cd\\u03c2\",\"<b>Topic 2</b><br>Words: \\u03b5\\u03bb\\u03bb\\u03ac\\u03b4\\u03b1, \\u03b5\\u03bd\\u03ad\\u03c1\\u03b3\\u03b5\\u03b9\\u03b1\\u03c2, \\u03ac\\u03bd\\u03b8\\u03c1\\u03b1\\u03ba\\u03b1, \\u03b1\\u03bd\\u03c4\\u03b9\\u03bc\\u03b5\\u03c4\\u03c9\\u03c0\\u03af\\u03c3\\u03bf\\u03c5\\u03bc\\u03b5, \\u03bc\\u03b7\\u03c4\\u03c3\\u03bf\\u03c4\\u03ac\\u03ba\\u03b7\\u03c2\",\"<b>Topic 2</b><br>Words: \\u03b5\\u03bb\\u03bb\\u03ac\\u03b4\\u03b1, \\u03b5\\u03bd\\u03ad\\u03c1\\u03b3\\u03b5\\u03b9\\u03b1\\u03c2, \\u03ac\\u03bd\\u03b8\\u03c1\\u03b1\\u03ba\\u03b1, \\u03b1\\u03bd\\u03c4\\u03b9\\u03bc\\u03b5\\u03c4\\u03c9\\u03c0\\u03af\\u03c3\\u03bf\\u03c5\\u03bc\\u03b5, \\u03c0\\u03c1\\u03bf\\u03bf\\u03c1\\u03b9\\u03c3\\u03bc\\u03bf\\u03cd\\u03c2\",\"<b>Topic 2</b><br>Words: \\u03b5\\u03bb\\u03bb\\u03ac\\u03b4\\u03b1, \\u03ac\\u03bd\\u03b8\\u03c1\\u03b1\\u03ba\\u03b1, \\u03c0\\u03b1\\u03c0\\u03b1\\u03bc\\u03ae\\u03c4\\u03c3\\u03bf\\u03c2, \\u03bc\\u03b7\\u03c4\\u03c3\\u03bf\\u03c4\\u03ac\\u03ba\\u03b7\\u03c2, \\u03c0\\u03c1\\u03c9\\u03b8\\u03c5\\u03c0\\u03bf\\u03c5\\u03c1\\u03b3\\u03cc\\u03c2\",\"<b>Topic 2</b><br>Words: \\u03b5\\u03bb\\u03bb\\u03ac\\u03b4\\u03b1, \\u03bc\\u03b7\\u03c4\\u03c3\\u03bf\\u03c4\\u03ac\\u03ba\\u03b7\\u03c2, \\u03c0\\u03c1\\u03c9\\u03b8\\u03c5\\u03c0\\u03bf\\u03c5\\u03c1\\u03b3\\u03cc\\u03c2, \\u03ac\\u03bd\\u03b8\\u03c1\\u03b1\\u03ba\\u03b1, \\u03b1\\u03bd\\u03c4\\u03b9\\u03bc\\u03b5\\u03c4\\u03c9\\u03c0\\u03af\\u03c3\\u03bf\\u03c5\\u03bc\\u03b5\",\"<b>Topic 2</b><br>Words: \\u03b5\\u03bb\\u03bb\\u03ac\\u03b4\\u03b1, \\u03b5\\u03bd\\u03ad\\u03c1\\u03b3\\u03b5\\u03b9\\u03b1\\u03c2, \\u03ac\\u03bd\\u03b8\\u03c1\\u03b1\\u03ba\\u03b1, \\u03b1\\u03bd\\u03c4\\u03b9\\u03bc\\u03b5\\u03c4\\u03c9\\u03c0\\u03af\\u03c3\\u03bf\\u03c5\\u03bc\\u03b5, \\u03c0\\u03c1\\u03bf\\u03bf\\u03c1\\u03b9\\u03c3\\u03bc\\u03bf\\u03cd\\u03c2\",\"<b>Topic 2</b><br>Words: \\u03b5\\u03bb\\u03bb\\u03ac\\u03b4\\u03b1, \\u03bc\\u03b7\\u03c4\\u03c3\\u03bf\\u03c4\\u03ac\\u03ba\\u03b7\\u03c2, \\u03c0\\u03c1\\u03c9\\u03c4\\u03bf\\u03b2\\u03bf\\u03c5\\u03bb\\u03af\\u03b5\\u03c2, \\u03b5\\u03bd\\u03ad\\u03c1\\u03b3\\u03b5\\u03b9\\u03b1\\u03c2, \\u03b1\\u03c6\\u03bf\\u03c1\\u03ac\",\"<b>Topic 2</b><br>Words: photo, \\u03b5\\u03bb\\u03bb\\u03ac\\u03b4\\u03b1, ap, \\u03bc\\u03b7\\u03c4\\u03c3\\u03bf\\u03c4\\u03ac\\u03ba\\u03b7\\u03c2, \\u03b5\\u03bd\\u03ad\\u03c1\\u03b3\\u03b5\\u03b9\\u03b1\\u03c2\",\"<b>Topic 2</b><br>Words: \\u03b5\\u03bb\\u03bb\\u03ac\\u03b4\\u03b1, \\u03b5\\u03bd\\u03ad\\u03c1\\u03b3\\u03b5\\u03b9\\u03b1\\u03c2, \\u03b1\\u03c6\\u03bf\\u03c1\\u03ac, \\u03ac\\u03bd\\u03b8\\u03c1\\u03b1\\u03ba\\u03b1, \\u03b1\\u03bd\\u03c4\\u03b9\\u03bc\\u03b5\\u03c4\\u03c9\\u03c0\\u03af\\u03c3\\u03bf\\u03c5\\u03bc\\u03b5\",\"<b>Topic 2</b><br>Words: \\u03b5\\u03bb\\u03bb\\u03ac\\u03b4\\u03b1, \\u03ac\\u03bd\\u03b8\\u03c1\\u03b1\\u03ba\\u03b1, \\u03c0\\u03c1\\u03c9\\u03b8\\u03c5\\u03c0\\u03bf\\u03c5\\u03c1\\u03b3\\u03cc\\u03c2, \\u03b5\\u03bd\\u03ad\\u03c1\\u03b3\\u03b5\\u03b9\\u03b1\\u03c2, \\u03b1\\u03c0\\u03b5\\u03be\\u03ac\\u03c1\\u03c4\\u03b7\\u03c3\\u03b7\",\"<b>Topic 2</b><br>Words: \\u03b5\\u03bb\\u03bb\\u03ac\\u03b4\\u03b1, \\u03b5\\u03bd\\u03ad\\u03c1\\u03b3\\u03b5\\u03b9\\u03b1\\u03c2, \\u03ac\\u03bd\\u03b8\\u03c1\\u03b1\\u03ba\\u03b1, \\u03b1\\u03bd\\u03c4\\u03b9\\u03bc\\u03b5\\u03c4\\u03c9\\u03c0\\u03af\\u03c3\\u03bf\\u03c5\\u03bc\\u03b5, \\u03c0\\u03c1\\u03bf\\u03bf\\u03c1\\u03b9\\u03c3\\u03bc\\u03bf\\u03cd\\u03c2\",\"<b>Topic 2</b><br>Words: \\u03b5\\u03bb\\u03bb\\u03ac\\u03b4\\u03b1, \\u03b5\\u03bd\\u03ad\\u03c1\\u03b3\\u03b5\\u03b9\\u03b1\\u03c2, \\u03ac\\u03bd\\u03b8\\u03c1\\u03b1\\u03ba\\u03b1, \\u03b1\\u03bd\\u03c4\\u03b9\\u03bc\\u03b5\\u03c4\\u03c9\\u03c0\\u03af\\u03c3\\u03bf\\u03c5\\u03bc\\u03b5, \\u03c0\\u03c1\\u03bf\\u03bf\\u03c1\\u03b9\\u03c3\\u03bc\\u03bf\\u03cd\\u03c2\",\"<b>Topic 2</b><br>Words: \\u03b5\\u03bb\\u03bb\\u03ac\\u03b4\\u03b1, \\u03b5\\u03bd\\u03ad\\u03c1\\u03b3\\u03b5\\u03b9\\u03b1\\u03c2, \\u03ac\\u03bd\\u03b8\\u03c1\\u03b1\\u03ba\\u03b1, \\u03b1\\u03bd\\u03c4\\u03b9\\u03bc\\u03b5\\u03c4\\u03c9\\u03c0\\u03af\\u03c3\\u03bf\\u03c5\\u03bc\\u03b5, \\u03c0\\u03c1\\u03bf\\u03bf\\u03c1\\u03b9\\u03c3\\u03bc\\u03bf\\u03cd\\u03c2\",\"<b>Topic 2</b><br>Words: \\u03b5\\u03bb\\u03bb\\u03ac\\u03b4\\u03b1, \\u03b5\\u03bd\\u03ad\\u03c1\\u03b3\\u03b5\\u03b9\\u03b1\\u03c2, \\u03b1\\u03c6\\u03bf\\u03c1\\u03ac, \\u03b1\\u03bd\\u03b1\\u03c6\\u03ad\\u03c1\\u03b8\\u03b7\\u03ba\\u03b5, \\u03ac\\u03bd\\u03b8\\u03c1\\u03b1\\u03ba\\u03b1\",\"<b>Topic 2</b><br>Words: \\u03c3\\u03c4\\u03b9\\u03b3\\u03bc\\u03ae, \\u03b2\\u03af\\u03bd\\u03c4\\u03b5\\u03bf, \\u03c3\\u03c5\\u03bd\\u03ad\\u03b4\\u03c1\\u03b9\\u03bf, \\u03be\\u03cd\\u03c0\\u03bd\\u03b7\\u03c3\\u03b5, \\u03b1\\u03b9\\u03c7\\u03bc\\u03b1\\u03bb\\u03c9\\u03c4\\u03af\\u03c3\\u03b5\\u03b9\",\"<b>Topic 2</b><br>Words: \\u03b5\\u03bb\\u03bb\\u03ac\\u03b4\\u03b1, \\u03b5\\u03bd\\u03ad\\u03c1\\u03b3\\u03b5\\u03b9\\u03b1\\u03c2, \\u03ac\\u03bd\\u03b8\\u03c1\\u03b1\\u03ba\\u03b1, \\u03b1\\u03bd\\u03c4\\u03b9\\u03bc\\u03b5\\u03c4\\u03c9\\u03c0\\u03af\\u03c3\\u03bf\\u03c5\\u03bc\\u03b5, \\u03c0\\u03c1\\u03bf\\u03bf\\u03c1\\u03b9\\u03c3\\u03bc\\u03bf\\u03cd\\u03c2\",\"<b>Topic 2</b><br>Words: \\u03b5\\u03bb\\u03bb\\u03ac\\u03b4\\u03b1, \\u03b5\\u03bd\\u03ad\\u03c1\\u03b3\\u03b5\\u03b9\\u03b1\\u03c2, \\u03ac\\u03bd\\u03b8\\u03c1\\u03b1\\u03ba\\u03b1, \\u03b1\\u03bd\\u03c4\\u03b9\\u03bc\\u03b5\\u03c4\\u03c9\\u03c0\\u03af\\u03c3\\u03bf\\u03c5\\u03bc\\u03b5, \\u03c0\\u03c1\\u03bf\\u03bf\\u03c1\\u03b9\\u03c3\\u03bc\\u03bf\\u03cd\\u03c2\",\"<b>Topic 2</b><br>Words: \\u03b5\\u03bb\\u03bb\\u03ac\\u03b4\\u03b1, \\u03c0\\u03c1\\u03c9\\u03b8\\u03c5\\u03c0\\u03bf\\u03c5\\u03c1\\u03b3\\u03cc\\u03c2, \\u03b5\\u03bd\\u03ad\\u03c1\\u03b3\\u03b5\\u03b9\\u03b1\\u03c2, \\u03b1\\u03bd\\u03c4\\u03b9\\u03bc\\u03b5\\u03c4\\u03c9\\u03c0\\u03af\\u03c3\\u03bf\\u03c5\\u03bc\\u03b5, \\u03b1\\u03c6\\u03bf\\u03c1\\u03ac\",\"<b>Topic 2</b><br>Words: \\u03b5\\u03bb\\u03bb\\u03ac\\u03b4\\u03b1, \\u03ac\\u03bd\\u03b8\\u03c1\\u03b1\\u03ba\\u03b1, \\u03b5\\u03bd\\u03ad\\u03c1\\u03b3\\u03b5\\u03b9\\u03b1\\u03c2, \\u03b1\\u03c6\\u03bf\\u03c1\\u03ac, \\u03c0\\u03c1\\u03bf\\u03bf\\u03c1\\u03b9\\u03c3\\u03bc\\u03bf\\u03cd\\u03c2\",\"<b>Topic 2</b><br>Words: \\u03c0\\u03c1\\u03c9\\u03b8\\u03c5\\u03c0\\u03bf\\u03c5\\u03c1\\u03b3\\u03cc\\u03c2, \\u03bc\\u03b7\\u03c4\\u03c3\\u03bf\\u03c4\\u03ac\\u03ba\\u03b7\\u03c2, \\u03b5\\u03bd\\u03ad\\u03c1\\u03b3\\u03b5\\u03b9\\u03b1\\u03c2, \\u03c5\\u03c0\\u03b5\\u03c1\\u03ac\\u03ba\\u03c4\\u03b9\\u03b1, \\u03b1\\u03b9\\u03bf\\u03bb\\u03b9\\u03ba\\u03ae\",\"<b>Topic 2</b><br>Words: \\u03b5\\u03bb\\u03bb\\u03ac\\u03b4\\u03b1, \\u03bc\\u03b7\\u03c4\\u03c3\\u03bf\\u03c4\\u03ac\\u03ba\\u03b7\\u03c2, \\u03c0\\u03c1\\u03c9\\u03b8\\u03c5\\u03c0\\u03bf\\u03c5\\u03c1\\u03b3\\u03cc\\u03c2, \\u03ac\\u03bd\\u03b8\\u03c1\\u03b1\\u03ba\\u03b1, \\u03b1\\u03bd\\u03c4\\u03b9\\u03bc\\u03b5\\u03c4\\u03c9\\u03c0\\u03af\\u03c3\\u03bf\\u03c5\\u03bc\\u03b5\",\"<b>Topic 2</b><br>Words: \\u03b5\\u03bb\\u03bb\\u03ac\\u03b4\\u03b1, \\u03ac\\u03bd\\u03b8\\u03c1\\u03b1\\u03ba\\u03b1, \\u03bc\\u03b7\\u03c4\\u03c3\\u03bf\\u03c4\\u03ac\\u03ba\\u03b7\\u03c2, \\u03b5\\u03bd\\u03ad\\u03c1\\u03b3\\u03b5\\u03b9\\u03b1\\u03c2, \\u03b1\\u03c6\\u03bf\\u03c1\\u03ac\",\"<b>Topic 2</b><br>Words: \\u03b5\\u03bb\\u03bb\\u03ac\\u03b4\\u03b1, \\u03bc\\u03c0\\u03bf\\u03c1\\u03bf\\u03cd\\u03bc\\u03b5, \\u03c0\\u03c1\\u03ac\\u03c3\\u03b9\\u03bd\\u03b7, \\u03c0\\u03c1\\u03ac\\u03c3\\u03b9\\u03bd\\u03b7\\u03c2, \\u03b1\\u03c0\\u03bb\\u03ac\",\"<b>Topic 2</b><br>Words: \\u03b5\\u03bb\\u03bb\\u03ac\\u03b4\\u03b1, \\u03bc\\u03c0\\u03bf\\u03c1\\u03bf\\u03cd\\u03bc\\u03b5, \\u03c0\\u03c1\\u03ac\\u03c3\\u03b9\\u03bd\\u03b7, \\u03b9\\u03b4\\u03ad\\u03b5\\u03c2, \\u03bc\\u03b7\\u03c4\\u03c3\\u03bf\\u03c4\\u03ac\\u03ba\\u03b7\\u03c2\",\"<b>Topic 2</b><br>Words: \\u03b5\\u03bb\\u03bb\\u03ac\\u03b4\\u03b1, \\u03bc\\u03c0\\u03bf\\u03c1\\u03bf\\u03cd\\u03bc\\u03b5, \\u03c0\\u03c1\\u03ac\\u03c3\\u03b9\\u03bd\\u03b7, \\u03c0\\u03c1\\u03ac\\u03c3\\u03b9\\u03bd\\u03b7\\u03c2, \\u03b1\\u03c0\\u03bb\\u03ac\",\"<b>Topic 2</b><br>Words: \\u03b5\\u03bb\\u03bb\\u03ac\\u03b4\\u03b1, \\u03b1\\u03c0\\u03bb\\u03ac, \\u03c0\\u03c1\\u03ac\\u03c3\\u03b9\\u03bd\\u03b7, \\u03bc\\u03c0\\u03bf\\u03c1\\u03bf\\u03cd\\u03bc\\u03b5, \\u03c0\\u03c1\\u03ac\\u03c3\\u03b9\\u03bd\\u03b7\\u03c2\",\"<b>Topic 2</b><br>Words: \\u03b5\\u03bb\\u03bb\\u03ac\\u03b4\\u03b1, \\u03bc\\u03c0\\u03bf\\u03c1\\u03bf\\u03cd\\u03bc\\u03b5, \\u03c0\\u03c1\\u03ac\\u03c3\\u03b9\\u03bd\\u03b7, \\u03c0\\u03c1\\u03ac\\u03c3\\u03b9\\u03bd\\u03b7\\u03c2, \\u03b1\\u03c0\\u03bb\\u03ac\",\"<b>Topic 2</b><br>Words: \\u03b5\\u03bb\\u03bb\\u03ac\\u03b4\\u03b1, \\u03b1\\u03c0\\u03bb\\u03ac, \\u03c0\\u03c1\\u03ac\\u03c3\\u03b9\\u03bd\\u03b7, \\u03bc\\u03c0\\u03bf\\u03c1\\u03bf\\u03cd\\u03bc\\u03b5, \\u03c7\\u03ce\\u03c1\\u03b1\",\"<b>Topic 2</b><br>Words: \\u03b5\\u03bb\\u03bb\\u03ac\\u03b4\\u03b1, \\u03c0\\u03c1\\u03ac\\u03c3\\u03b9\\u03bd\\u03b7, \\u03bc\\u03c0\\u03bf\\u03c1\\u03bf\\u03cd\\u03bc\\u03b5, \\u03c0\\u03c1\\u03ac\\u03c3\\u03b9\\u03bd\\u03b7\\u03c2, \\u03c0\\u03c1\\u03bf\\u03b7\\u03b3\\u03bf\\u03c5\\u03bc\\u03ad\\u03bd\\u03bf\\u03c5\",\"<b>Topic 2</b><br>Words: \\u03b5\\u03bb\\u03bb\\u03ac\\u03b4\\u03b1, \\u03bc\\u03c0\\u03bf\\u03c1\\u03bf\\u03cd\\u03bc\\u03b5, \\u03c0\\u03c1\\u03ac\\u03c3\\u03b9\\u03bd\\u03b7, \\u03c0\\u03c1\\u03ac\\u03c3\\u03b9\\u03bd\\u03b7\\u03c2, \\u03b1\\u03c0\\u03bb\\u03ac\",\"<b>Topic 2</b><br>Words: \\u03c0\\u03b1\\u03c1\\u03ad\\u03bb\\u03b5\\u03b9\\u03c8\\u03b5, \\u03b1\\u03c0\\u03ad\\u03ba\\u03c1\\u03c5\\u03c8\\u03b5, \\u03b5\\u03bb\\u03bb\\u03ac\\u03b4\\u03b1\\u03c2, \\u03c0\\u03c1\\u03c9\\u03b8\\u03c5\\u03c0\\u03bf\\u03c5\\u03c1\\u03b3\\u03cc\\u03c2, \\u03ba\\u03c5\\u03b2\\u03ad\\u03c1\\u03bd\\u03b7\\u03c3\\u03ae\",\"<b>Topic 2</b><br>Words: mclaren, \\u03c0\\u03c1\\u03af\\u03b3\\u03ba\\u03b9\\u03c0\\u03b1\\u03c2, \\u03ba\\u03ac\\u03c1\\u03bf\\u03bb\\u03bf\\u03c2, f1, \\u03bc\\u03c0\\u03c1\\u03bf\\u03bd\",\"<b>Topic 2</b><br>Words: \\u03c0\\u03b1\\u03c1\\u03ad\\u03bb\\u03b5\\u03b9\\u03c8\\u03b5, \\u03b1\\u03c0\\u03ad\\u03ba\\u03c1\\u03c5\\u03c8\\u03b5, \\u03b5\\u03bb\\u03bb\\u03ac\\u03b4\\u03b1\\u03c2, \\u03c0\\u03c1\\u03c9\\u03b8\\u03c5\\u03c0\\u03bf\\u03c5\\u03c1\\u03b3\\u03cc\\u03c2, \\u03ba\\u03c5\\u03b2\\u03ad\\u03c1\\u03bd\\u03b7\\u03c3\\u03ae\",\"<b>Topic 2</b><br>Words: \\u03c0\\u03b1\\u03c1\\u03ad\\u03bb\\u03b5\\u03b9\\u03c8\\u03b5, \\u03b1\\u03c0\\u03ad\\u03ba\\u03c1\\u03c5\\u03c8\\u03b5, \\u03b5\\u03bb\\u03bb\\u03ac\\u03b4\\u03b1\\u03c2, \\u03ba\\u03c5\\u03b2\\u03ad\\u03c1\\u03bd\\u03b7\\u03c3\\u03ae, \\u03ba\\u03bb\\u03b9\\u03bc\\u03b1\\u03c4\\u03b9\\u03ba\\u03ae\",\"<b>Topic 2</b><br>Words: \\u03bc\\u03c0\\u03b1\\u03ba\\u03bf\\u03b3\\u03b9\\u03ac\\u03bd\\u03bd\\u03b7\\u03c2, \\u03b4\\u03b7\\u03bc\\u03bf\\u03c4\\u03b9\\u03ba\\u03bf\\u03cd, \\u03b5\\u03b9\\u03b4\\u03ae\\u03c3\\u03b5\\u03b9\\u03c2, kathimerini, \\u03b4\\u03b7\\u03bc\\u03bf\\u03c4\\u03b9\\u03ba\\u03ae\",\"<b>Topic 2</b><br>Words: photo, 12, \\u03b5\\u03bc\\u03bc\\u03b1\\u03bd\\u03bf\\u03c5\\u03ae\\u03bb, \\u03ac\\u03b3\\u03b7\\u03c2, \\u03b5\\u03bb\\u03bb\\u03ac\\u03b4\\u03b1\",\"<b>Topic 2</b><br>Words: \\u03c5\\u03c0\\u03bf\\u03c5\\u03c1\\u03b3\\u03bf\\u03af, \\u03c3\\u03c5\\u03b6\\u03ae\\u03c4\\u03b7\\u03c3\\u03b1\\u03bd, \\u03b5\\u03be\\u03c9\\u03c4\\u03b5\\u03c1\\u03b9\\u03ba\\u03ce\\u03bd, \\u03c3\\u03bf\\u03cd\\u03ba\\u03c1\\u03b9, \\u03b1\\u03bd\\u03b1\\u03ba\\u03bf\\u03b9\\u03bd\\u03c9\\u03b8\\u03ad\\u03bd\",\"<b>Topic 2</b><br>Words: \\u03b5\\u03bb\\u03bb\\u03ac\\u03b4\\u03b1, \\u03ba\\u03ac\\u03c1\\u03b2\\u03bf\\u03c5\\u03bd\\u03bf\\u03c5, \\u03ba\\u03bb\\u03b9\\u03bc\\u03b1\\u03c4\\u03b9\\u03ba\\u03ae, \\u03ba\\u03bb\\u03b9\\u03bc\\u03b1\\u03c4\\u03b9\\u03ba\\u03ae\\u03c2, \\u03ba\\u03ac\\u03c1\\u03b2\\u03bf\\u03c5\\u03bd\\u03bf\",\"<b>Topic 2</b><br>Words: \\u03b5\\u03bb\\u03bb\\u03ac\\u03b4\\u03b1, \\u03ba\\u03b9, \\u03ba\\u03bb\\u03b9\\u03bc\\u03b1\\u03c4\\u03b9\\u03ba\\u03ae, \\u03c6\\u03c5\\u03c3\\u03b9\\u03ba\\u03cc, wwf\",\"<b>Topic 2</b><br>Words: wwf, \\u03c0\\u03c1\\u03bf\\u03c3\\u03c4\\u03b1\\u03c3\\u03af\\u03b1, \\u03c7\\u03c1\\u03cc\\u03bd\\u03b9\\u03b1, 30, \\u03b1\\u03c3\\u03c4\\u03b1\\u03bc\\u03ac\\u03c4\\u03b7\\u03c4\\u03b1\",\"<b>Topic 2</b><br>Words: \\u03be\\u03ad\\u03c1\\u03b5\\u03b9\\u03c2, \\u03ba\\u03ac\\u03bd\\u03b5\\u03b9, \\u03c0\\u03bb\\u03b5\\u03bc\\u03c0\\u03b1\\u03af\\u03b5, \\u03bc\\u03b5\\u03b3\\u03ac\\u03bb\\u03b5, \\u03c8\\u03b9\\u03c4\",\"<b>Topic 2</b><br>Words: \\u03ba\\u03cd\\u03c0\\u03c1\\u03bf\\u03c2, \\u03b1\\u03bd\\u03b1\\u03c3\\u03c4\\u03b1\\u03c3\\u03b9\\u03ac\\u03b4\\u03b7\\u03c2, \\u03bd\\u03b1\\u03c5\\u03c4\\u03b9\\u03bb\\u03af\\u03b1, \\u03c3\\u03c5\\u03bd\\u03b5\\u03c0\\u03b5\\u03b9\\u03ce\\u03bd, \\u03b1\\u03bb\\u03bb\\u03b1\\u03b3\\u03ae\\u03c2\",\"<b>Topic 2</b><br>Words: \\u03c5\\u03c0\\u03b5\\u03c1\\u03b8\\u03ad\\u03c1\\u03bc\\u03b1\\u03bd\\u03c3\\u03b7\\u03c2, \\u03b4\\u03b9\\u03b1\\u03ba\\u03c5\\u03b2\\u03b5\\u03c1\\u03bd\\u03b7\\u03c4\\u03b9\\u03ba\\u03ae\\u03c2, \\u03bc\\u03b5\\u03af\\u03c9\\u03c3\\u03b7, \\u03bf\\u03b7\\u03b5, \\u03b5\\u03ba\\u03c0\\u03c1\\u03bf\\u03c3\\u03ce\\u03c0\\u03c9\\u03bd\",\"<b>Topic 2</b><br>Words: \\u03bf\\u03b9\\u03ba\\u03bf\\u03bd\\u03bf\\u03bc\\u03b9\\u03ba\\u03ce\\u03bd, \\u03bf\\u03bc\\u03bf\\u03bb\\u03cc\\u03b3\\u03bf\\u03c5, \\u03ad\\u03ba\\u03b4\\u03bf\\u03c3\\u03b7\\u03c2, \\u03b5\\u03bb\\u03bb\\u03ac\\u03b4\\u03b1, \\u03b2\\u03b9\\u03ce\\u03c3\\u03b9\\u03bc\\u03bf\\u03c5\",\"<b>Topic 2</b><br>Words: \\u03c3\\u03c4\\u03bf\\u03c5\\u03c1\\u03bd\\u03ac\\u03c1\\u03b1\\u03c2, \\u03b5\\u03bb\\u03bb\\u03ac\\u03b4\\u03b1, 2014, \\u03c0\\u03bb\\u03b7\\u03b8\\u03c9\\u03c1\\u03b9\\u03c3\\u03bc\\u03bf\\u03cd, \\u03c0\\u03bb\\u03b7\\u03b8\\u03c9\\u03c1\\u03b9\\u03c3\\u03bc\\u03cc\",\"<b>Topic 2</b><br>Words: \\u03bc\\u03b7\\u03c4\\u03c3\\u03bf\\u03c4\\u03ac\\u03ba\\u03b7, \\u03ac\\u03c1\\u03b8\\u03c1\\u03bf, \\u03ba\\u03c5\\u03b2\\u03ad\\u03c1\\u03bd\\u03b7\\u03c3\\u03b7\\u03c2, \\u03ba\\u03bb\\u03b9\\u03bc\\u03b1\\u03c4\\u03b9\\u03ba\\u03ae, \\u03ba\\u03c5\\u03b2\\u03ad\\u03c1\\u03bd\\u03b7\\u03c3\\u03b7\",\"<b>Topic 2</b><br>Words: \\u03b4\\u03c1\\u03ac\\u03c3\\u03b5\\u03b9\\u03c2, \\u03b1\\u03bc\\u03c5\\u03c1\\u03ac\\u03c2, \\u03c4\\u03bf\\u03bd\\u03af\\u03b6\\u03bf\\u03bd\\u03c4\\u03b1\\u03c2, \\u03c5\\u03c6\\u03c5\\u03c0\\u03bf\\u03c5\\u03c1\\u03b3\\u03cc\\u03c2, \\u03b1\\u03c0\\u03bf\\u03bc\\u03b1\\u03ba\\u03c1\\u03c5\\u03c3\\u03bc\\u03ad\\u03bd\\u03c9\\u03bd\",\"<b>Topic 2</b><br>Words: \\u03c3\\u03c5\\u03bd\\u03b5\\u03b4\\u03c1\\u03b9\\u03ac\\u03b6\\u03b5\\u03b9, \\u03c3\\u03c5\\u03bd\\u03ae\\u03b8\\u03c9\\u03c2, \\u03bc\\u03c0\\u03af\\u03bb\\u03bd\\u03c4\\u03b5\\u03c1\\u03bc\\u03c0\\u03b5\\u03c1\\u03b3\\u03ba, \\u03c6\\u03bf\\u03c1\\u03ac, \\u03bf\\u03bc\\u03ac\\u03b4\\u03b1\",\"<b>Topic 2</b><br>Words: \\u03ba\\u03c5\\u03c0\\u03c1\\u03b9\\u03b1\\u03ba\\u03ae\\u03c2, \\u03c0\\u03c1\\u03c9\\u03c4\\u03bf\\u03b2\\u03bf\\u03c5\\u03bb\\u03af\\u03b1, \\u03b5\\u03be\\u03ad\\u03c6\\u03c1\\u03b1\\u03c3\\u03b5, \\u03b1\\u03bd\\u03ad\\u03c6\\u03b5\\u03c1\\u03b5, \\u03ba\\u03bb\\u03b9\\u03bc\\u03b1\\u03c4\\u03b9\\u03ba\\u03ae\",\"<b>Topic 2</b><br>Words: \\u03b4\\u03b9\\u03ba\\u03b1\\u03b9\\u03bf\\u03c3\\u03cd\\u03bd\\u03b7\\u03c2, \\u03c4\\u03c3\\u03b9\\u03ac\\u03c1\\u03b1\\u03c2, \\u03bf\\u03c5\\u03ac\\u03c3\\u03b9\\u03b3\\u03ba\\u03c4\\u03bf\\u03bd, \\u03c3\\u03c5\\u03bd\\u03ad\\u03bb\\u03b5\\u03c5\\u03c3\\u03b7\\u03c2, \\u03b3\\u03b5\\u03bd\\u03b9\\u03ba\\u03ae\\u03c2\",\"<b>Topic 2</b><br>Words: \\u03c0\\u03c1\\u03ce\\u03b7\\u03bd, \\u03bc\\u03b1\\u03bd\\u03b9\\u03ac\\u03c4\\u03b7\\u03c2, \\u03b5\\u03bd\\u03ad\\u03c1\\u03b3\\u03b5\\u03b9\\u03b1\\u03c2, \\u03c3\\u03c5\\u03b6\\u03ae\\u03c4\\u03b7\\u03c3\\u03b7, \\u03c5\\u03c0\\u03bf\\u03c3\\u03c4\\u03ae\\u03c1\\u03b9\\u03be\\u03b5\",\"<b>Topic 2</b><br>Words: \\u03b5\\u03c5\\u03c1\\u03c9\\u03c0\\u03b1\\u03af\\u03c9\\u03bd, \\u03b1\\u03bc\\u03b5\\u03c1\\u03b9\\u03ba\\u03b1\\u03bd\\u03ce\\u03bd, \\u03b4\\u03b9\\u03b1\\u03ba\\u03bf\\u03c0\\u03ce\\u03bd, \\u03ba\\u03b1\\u03ba\\u03cc, \\u03c6\\u03cc\\u03b2\\u03bf\\u03c2\",\"<b>Topic 2</b><br>Words: economist, \\u03b1\\u03bd\\u03b1\\u03c6\\u03b5\\u03c1\\u03b8\\u03b5\\u03af, \\u03c4\\u03c3\\u03af\\u03c0\\u03c1\\u03b1\\u03c2, \\u03c3\\u03c5\\u03bd\\u03ad\\u03b4\\u03c1\\u03b9\\u03bf, \\u03c0\\u03b1\\u03bd\\u03b4\\u03b7\\u03bc\\u03ac\",\"<b>Topic 2</b><br>Words: \\u03c4\\u03c3\\u03af\\u03c0\\u03c1\\u03b1\\u03c2, \\u03b1\\u03bd\\u03b1\\u03c6\\u03b5\\u03c1\\u03b8\\u03b5\\u03af, \\u03b8\\u03c5\\u03bc\\u03ae\\u03b8\\u03b7\\u03ba\\u03b5, \\u03c4\\u03c1\\u03bf\\u03c6\\u03bf\\u03b4\\u03bf\\u03c4\\u03bf\\u03cd\\u03c3\\u03b5, \\u03b5\\u03c0\\u03b9\\u03c4\\u03b5\\u03b8\\u03b5\\u03af\",\"<b>Topic 2</b><br>Words: \\u03ad\\u03ba\\u03c4\\u03b1\\u03c3\\u03b7, \\u03b5\\u03bb\\u03bb\\u03ac\\u03b4\\u03b1, \\u03c0\\u03c5\\u03c1\\u03ba\\u03b1\\u03b3\\u03b9\\u03ad\\u03c2, \\u03b5\\u03bb\\u03bb\\u03ac\\u03b4\\u03b1\\u03c2, \\u03c3\\u03c5\\u03bd\\u03bf\\u03bb\\u03b9\\u03ba\\u03ae\",\"<b>Topic 2</b><br>Words: \\u03ba\\u03bf\\u03c5\\u03bd\\u03bf\\u03c5\\u03c0\\u03b9\\u03ce\\u03bd, \\u03b5\\u03bd\\u03c4\\u03cc\\u03bc\\u03c9\\u03bd, \\u03c4\\u03b6\\u03b9\\u03c4\\u03b6\\u03b9\\u03ba\\u03b9\\u03ce\\u03bd, \\u03c4\\u03c1\\u03b9\\u03c7\\u03ac\\u03c2, \\u03c7\\u03c1\\u03bf\\u03bd\\u03b9\\u03ac\",\"<b>Topic 2</b><br>Words: \\u03c6\\u03c4\\u03b1\\u03af\\u03b5\\u03b9, \\u03ba\\u03c1\\u03af\\u03c3\\u03b7, \\u03ba\\u03b1\\u03c4\\u03b1\\u03c3\\u03c4\\u03c1\\u03bf\\u03c6\\u03ad\\u03c2, \\u03ba\\u03bb\\u03b9\\u03bc\\u03b1\\u03c4\\u03b9\\u03ba\\u03ae, \\u03ba\\u03c1\\u03ac\\u03c4\\u03bf\\u03c2\",\"<b>Topic 2</b><br>Words: \\u03c6\\u03c4\\u03b1\\u03af\\u03b5\\u03b9, \\u03ba\\u03c1\\u03af\\u03c3\\u03b7, \\u03ba\\u03b1\\u03c4\\u03b1\\u03c3\\u03c4\\u03c1\\u03bf\\u03c6\\u03ad\\u03c2, \\u03b1\\u03b9\\u03c4\\u03af\\u03b1\\u03c2, \\u03ba\\u03bb\\u03b9\\u03bc\\u03b1\\u03c4\\u03b9\\u03ba\\u03ae\",\"<b>Topic 2</b><br>Words: \\u03b1\\u03bc\\u03b5\\u03c1\\u03b9\\u03ba\\u03ae, \\u03b5\\u03bb\\u03bb\\u03ac\\u03b4\\u03b1, \\u03b1\\u03bd\\u03c4\\u03af\\u03b4\\u03c1\\u03b1\\u03c3\\u03b7, \\u03ba\\u03b1\\u03af\\u03b3\\u03b5\\u03c4\\u03b1\\u03b9, \\u03ba\\u03c5\\u03b2\\u03ad\\u03c1\\u03bd\\u03b7\\u03c3\\u03b7\",\"<b>Topic 2</b><br>Words: \\u03c0\\u03c5\\u03c1\\u03ba\\u03b1\\u03b3\\u03b9\\u03ac, \\u03b5\\u03bb\\u03bb\\u03ac\\u03b4\\u03b1, \\u03c0\\u03c1\\u03c9\\u03b8\\u03c5\\u03c0\\u03bf\\u03c5\\u03c1\\u03b3\\u03cc\\u03c2, \\u03ba\\u03c5\\u03b2\\u03ad\\u03c1\\u03bd\\u03b7\\u03c3\\u03b7, \\u03ba\\u03bb\\u03b9\\u03bc\\u03b1\\u03c4\\u03b9\\u03ba\\u03ae\",\"<b>Topic 2</b><br>Words: \\u03ba\\u03c5\\u03b2\\u03ad\\u03c1\\u03bd\\u03b7\\u03c3\\u03b7, \\u03b5\\u03bd\\u03ad\\u03c1\\u03b3\\u03b5\\u03b9\\u03b1\\u03c2, \\u03ba\\u03bb\\u03b9\\u03bc\\u03b1\\u03c4\\u03b9\\u03ba\\u03ae, \\u03b5\\u03bb\\u03bb\\u03ac\\u03b4\\u03b1, \\u03c3\\u03c4\\u03c1\\u03ad\\u03bc\\u03bc\\u03b1\\u03c4\\u03b1\",\"<b>Topic 2</b><br>Words: \\u03c0\\u03c1\\u03bf\\u03bf\\u03b4\\u03b5\\u03c5\\u03c4\\u03b9\\u03ba\\u03ae, \\u03b1\\u03ba\\u03c1\\u03af\\u03b2\\u03b5\\u03b9\\u03b1\\u03c2, \\u03c0\\u03bf\\u03bb\\u03b9\\u03c4\\u03b9\\u03ba\\u03ad\\u03c2, \\u03c3\\u03c5\\u03bc\\u03bc\\u03b1\\u03c7\\u03af\\u03b1, \\u03ba\\u03bf\\u03b9\\u03bd\\u03c9\\u03bd\\u03af\\u03b1\\u03c2\",\"<b>Topic 2</b><br>Words: mcguire, \\u03ba\\u03bb\\u03b9\\u03bc\\u03b1\\u03c4\\u03b9\\u03ba\\u03ae, \\u03b5\\u03bb\\u03bb\\u03ac\\u03b4\\u03b1, \\u03b1\\u03bd\\u03c4\\u03b9\\u03c3\\u03c4\\u03c1\\u03bf\\u03c6\\u03ae\\u03c2, \\u03b8\\u03b5\\u03c1\\u03bc\\u03bf\\u03ba\\u03c1\\u03b1\\u03c3\\u03af\\u03b1\\u03c2\",\"<b>Topic 2</b><br>Words: \\u03c1\\u03b5\\u03c0\\u03bf\\u03c1\\u03c4\\u03ac\\u03b6, \\u03b5\\u03bb\\u03bb\\u03ac\\u03b4\\u03b1, spiegel, handelsblatt, \\u03c7\\u03c1\\u03ad\\u03bf\\u03c5\\u03c2\",\"<b>Topic 2</b><br>Words: \\u03b5\\u03bb\\u03bb\\u03ac\\u03b4\\u03b1, ocean, conference, our, 2024\",\"<b>Topic 2</b><br>Words: \\u03b5\\u03bb\\u03bb\\u03ac\\u03b4\\u03b1, \\u03b7\\u03c0\\u03b1, \\u03bd\\u03b1\\u03c5\\u03c4\\u03b9\\u03bb\\u03af\\u03b1\\u03c2, \\u03c0\\u03c1\\u03c9\\u03b8\\u03c5\\u03c0\\u03bf\\u03c5\\u03c1\\u03b3\\u03bf\\u03cd, \\u03b5\\u03bd\\u03ad\\u03c1\\u03b3\\u03b5\\u03b9\\u03b1\\u03c2\",\"<b>Topic 2</b><br>Words: \\u03b5\\u03bb\\u03bb\\u03ac\\u03b4\\u03b1, \\u03b7\\u03c0\\u03b1, \\u03bd\\u03b1\\u03c5\\u03c4\\u03b9\\u03bb\\u03af\\u03b1\\u03c2, \\u03c0\\u03c1\\u03c9\\u03b8\\u03c5\\u03c0\\u03bf\\u03c5\\u03c1\\u03b3\\u03bf\\u03cd, \\u03b5\\u03bd\\u03ad\\u03c1\\u03b3\\u03b5\\u03b9\\u03b1\\u03c2\",\"<b>Topic 2</b><br>Words: \\u03b5\\u03bb\\u03bb\\u03ac\\u03b4\\u03b1, \\u03bd\\u03b1\\u03c5\\u03c4\\u03b9\\u03bb\\u03af\\u03b1\\u03c2, \\u03c9\\u03ba\\u03b5\\u03b1\\u03bd\\u03bf\\u03cd\\u03c2, \\u03ba\\u03ad\\u03c1\\u03b9, \\u03ba\\u03c1\\u03af\\u03c3\\u03b7\\u03c2\",\"<b>Topic 2</b><br>Words: \\u03b5\\u03bb\\u03bb\\u03ac\\u03b4\\u03b1, ocean, conference, our, \\u03b4\\u03b9\\u03ac\\u03c3\\u03ba\\u03b5\\u03c8\\u03b7\",\"<b>Topic 2</b><br>Words: \\u03b5\\u03bb\\u03bb\\u03ac\\u03b4\\u03b1, \\u03b7\\u03c0\\u03b1, \\u03bd\\u03b1\\u03c5\\u03c4\\u03b9\\u03bb\\u03af\\u03b1\\u03c2, \\u03c0\\u03c1\\u03c9\\u03b8\\u03c5\\u03c0\\u03bf\\u03c5\\u03c1\\u03b3\\u03bf\\u03cd, \\u03b5\\u03bd\\u03ad\\u03c1\\u03b3\\u03b5\\u03b9\\u03b1\\u03c2\",\"<b>Topic 2</b><br>Words: \\u03b5\\u03bb\\u03bb\\u03ac\\u03b4\\u03b1, \\u03c0\\u03c1\\u03c9\\u03b8\\u03c5\\u03c0\\u03bf\\u03c5\\u03c1\\u03b3\\u03bf\\u03cd, \\u03b7\\u03c0\\u03b1, \\u03ba\\u03ad\\u03c1\\u03b9, \\u03bd\\u03b1\\u03c5\\u03c4\\u03b9\\u03bb\\u03af\\u03b1\\u03c2\",\"<b>Topic 2</b><br>Words: \\u03b5\\u03be\\u03c9\\u03c4\\u03b5\\u03c1\\u03b9\\u03ba\\u03ce\\u03bd, \\u03c5\\u03c0\\u03bf\\u03c5\\u03c1\\u03b3\\u03cc\\u03c2, \\u03c4\\u03bf\\u03c5\\u03c1\\u03ba\\u03af\\u03b1, \\u03b4\\u03ad\\u03bd\\u03b4\\u03b9\\u03b1\\u03c2, \\u03c0\\u03c1\\u03ac\\u03c3\\u03b9\\u03bd\\u03b7\",\"<b>Topic 2</b><br>Words: \\u03b5\\u03be\\u03c9\\u03c4\\u03b5\\u03c1\\u03b9\\u03ba\\u03ce\\u03bd, \\u03b4\\u03ad\\u03bd\\u03b4\\u03b9\\u03b1\\u03c2, \\u03c5\\u03c0\\u03bf\\u03c5\\u03c1\\u03b3\\u03cc\\u03c2, \\u03c4\\u03bf\\u03c5\\u03c1\\u03ba\\u03af\\u03b1, \\u03c0\\u03c1\\u03ac\\u03c3\\u03b9\\u03bd\\u03b7\",\"<b>Topic 2</b><br>Words: \\u03b5\\u03bb\\u03bb\\u03ac\\u03b4\\u03b1, \\u03ba\\u03ad\\u03c1\\u03b9, ocean, conference, \\u03bd\\u03b1\\u03c5\\u03c4\\u03b9\\u03bb\\u03af\\u03b1\\u03c2\",\"<b>Topic 2</b><br>Words: \\u03b5\\u03bb\\u03bb\\u03ac\\u03b4\\u03b1, \\u03b5\\u03bb\\u03bb\\u03ac\\u03b4\\u03b1\\u03c2, \\u03b5\\u03bd\\u03ad\\u03c1\\u03b3\\u03b5\\u03b9\\u03b1\\u03c2, \\u03c4\\u03bf\\u03c5\\u03c1\\u03ba\\u03af\\u03b1\\u03c2, \\u03c5\\u03c0\\u03b5\\u03c1\\u03c0\\u03c4\\u03ae\\u03c3\\u03b5\\u03b9\\u03c2\",\"<b>Topic 2</b><br>Words: \\u03c0\\u03b1\\u03af\\u03be\\u03b5\\u03b9, \\u03b5\\u03c5\\u03c1\\u03ce\\u03c0\\u03b7, \\u03b1\\u03bb\\u03c4\\u03bc\\u03ac\\u03b9\\u03b5\\u03c1, \\u03c1\\u03cc\\u03bb\\u03bf, \\u03ba\\u03af\\u03bd\\u03b1\",\"<b>Topic 2</b><br>Words: \\u03c0\\u03b1\\u03af\\u03be\\u03b5\\u03b9, \\u03b1\\u03bb\\u03c4\\u03bc\\u03ac\\u03b9\\u03b5\\u03c1, \\u03b5\\u03c5\\u03c1\\u03ce\\u03c0\\u03b7, \\u03c1\\u03cc\\u03bb\\u03bf, \\u03b5\\u03bb\\u03bb\\u03ac\\u03b4\\u03b1\",\"<b>Topic 2</b><br>Words: \\u03c0\\u03b1\\u03af\\u03be\\u03b5\\u03b9, \\u03b1\\u03bb\\u03c4\\u03bc\\u03ac\\u03b9\\u03b5\\u03c1, \\u03b5\\u03c5\\u03c1\\u03ce\\u03c0\\u03b7, \\u03c1\\u03cc\\u03bb\\u03bf, \\u03b5\\u03bb\\u03bb\\u03ac\\u03b4\\u03b1\",\"<b>Topic 2</b><br>Words: \\u03c0\\u03c1\\u03c9\\u03b8\\u03c5\\u03c0\\u03bf\\u03c5\\u03c1\\u03b3\\u03cc\\u03c2, \\u03b5\\u03c1\\u03b3\\u03b1\\u03bb\\u03b5\\u03b9\\u03bf\\u03c0\\u03bf\\u03af\\u03b7\\u03c3\\u03b7, \\u03c3\\u03c4\\u03b5\\u03af\\u03bb\\u03b5\\u03b9, \\u03ba\\u03c5\\u03c1\\u03b9\\u03ac\\u03ba\\u03bf\\u03c2, \\u03bc\\u03b7\\u03c4\\u03c3\\u03bf\\u03c4\\u03ac\\u03ba\\u03b7\\u03c2\",\"<b>Topic 2</b><br>Words: \\u03b5\\u03bb\\u03bb\\u03ac\\u03b4\\u03b1, \\u03c0\\u03c1\\u03c9\\u03b8\\u03c5\\u03c0\\u03bf\\u03c5\\u03c1\\u03b3\\u03cc\\u03c2, \\u03c4\\u03bf\\u03c5\\u03c1\\u03ba\\u03af\\u03b1, \\u03b1\\u03b9\\u03b3\\u03b1\\u03af\\u03bf, \\u03b4\\u03b9\\u03b5\\u03ba\\u03b4\\u03b9\\u03ba\\u03ae\\u03c3\\u03b5\\u03b9\\u03c2\"],\"marker\":{\"color\":\"#009E73\"},\"mode\":\"lines\",\"name\":\"2_\\u03b5\\u03bb\\u03bb\\u03ac\\u03b4\\u03b1_\\u03ba\\u03bb\\u03b9\\u03bc\\u03b1\\u03c4\\u03b9\\u03ba\\u03ae_\\u03b5\\u03bd\\u03ad\\u03c1\\u03b3\\u03b5\\u03b9\\u03b1\\u03c2_\\u03ba\\u03c1\\u03af\\u03c3\\u03b7\",\"x\":[\"2021-10-09T12:34:00\",\"2021-10-11T06:01:43\",\"2021-10-12T22:15:00\",\"2021-10-13T08:08:04\",\"2021-10-14T13:28:32\",\"2021-10-19T18:12:00\",\"2021-10-19T19:00:00\",\"2021-10-21T11:22:00\",\"2021-10-25T07:39:00\",\"2021-10-25T10:18:00\",\"2021-10-26T08:34:00\",\"2021-10-27T15:18:53\",\"2021-10-27T18:20:59\",\"2021-10-30T07:53:00\",\"2021-10-31T05:45:02\",\"2021-11-01T15:07:59\",\"2021-11-01T15:08:00\",\"2021-11-01T15:10:55\",\"2021-11-01T15:11:35\",\"2021-11-01T15:43:46\",\"2021-11-01T15:50:00\",\"2021-11-01T16:13:39\",\"2021-11-01T16:17:49\",\"2021-11-01T16:24:35\",\"2021-11-01T16:33:30\",\"2021-11-01T16:45:00\",\"2021-11-01T16:45:35\",\"2021-11-01T16:45:50\",\"2021-11-01T16:47:26\",\"2021-11-01T16:49:00\",\"2021-11-01T16:52:33\",\"2021-11-01T16:59:21\",\"2021-11-01T17:10:10\",\"2021-11-01T17:21:15\",\"2021-11-01T17:30:00\",\"2021-11-01T17:32:44\",\"2021-11-01T18:00:30\",\"2021-11-01T18:17:21\",\"2021-11-01T18:45:00\",\"2021-11-01T21:01:57\",\"2021-11-02T07:04:00\",\"2021-11-02T10:49:46\",\"2021-11-02T12:40:22\",\"2021-11-03T08:52:00\",\"2021-11-03T08:54:01\",\"2021-11-03T08:55:00\",\"2021-11-03T09:03:11\",\"2021-11-03T09:06:50\",\"2021-11-03T09:07:01\",\"2021-11-03T10:00:00\",\"2021-11-03T10:08:41\",\"2021-11-05T10:44:19\",\"2021-11-05T11:02:30\",\"2021-11-05T14:38:34\",\"2021-11-06T13:55:00\",\"2021-11-08T20:13:00\",\"2021-11-13T05:00:43\",\"2021-11-19T23:25:40\",\"2021-12-04T10:00:28\",\"2021-12-16T06:53:07\",\"2021-12-16T20:04:44\",\"2022-01-28T09:40:11\",\"2022-02-11T12:00:00\",\"2022-04-11T18:28:42\",\"2022-04-19T18:10:33\",\"2022-05-07T11:51:18\",\"2022-05-23T18:18:40\",\"2022-05-25T17:59:32\",\"2022-06-01T13:48:58\",\"2022-06-07T12:49:00\",\"2022-06-09T17:18:49\",\"2022-06-11T19:54:00\",\"2022-07-01T20:55:00\",\"2022-07-07T17:36:28\",\"2022-07-07T19:00:00\",\"2022-07-08T15:27:32\",\"2022-07-13T09:34:10\",\"2022-07-20T17:15:56\",\"2022-07-21T05:42:04\",\"2022-07-22T18:19:00\",\"2022-07-23T13:30:02\",\"2022-07-25T11:00:42\",\"2022-07-26T08:45:00\",\"2022-08-06T12:11:01\",\"2022-08-19T11:00:00\",\"2022-08-29T11:09:00\",\"2022-08-29T12:00:40\",\"2022-08-29T12:06:56\",\"2022-08-29T12:20:25\",\"2022-08-29T12:30:00\",\"2022-08-29T13:50:48\",\"2022-08-29T14:02:00\",\"2022-08-29T17:19:09\",\"2022-08-29T19:00:23\",\"2022-08-30T07:48:00\",\"2022-08-31T17:24:00\",\"2022-09-09T08:33:32\",\"2022-09-09T09:18:03\",\"2022-09-09T09:22:06\",\"2022-09-23T16:46:13\",\"2022-09-23T20:10:43\"],\"y\":[1,1,1,1,1,1,1,1,1,1,1,1,1,1,1,1,1,1,1,1,1,1,1,1,1,1,2,1,1,1,1,1,1,1,1,1,1,1,2,1,1,1,1,1,1,1,1,1,1,1,1,1,1,1,1,1,1,1,1,1,1,1,1,1,1,1,1,1,1,1,1,1,1,1,1,1,1,1,1,1,1,1,1,1,1,1,1,1,1,1,1,1,1,1,1,1,1,1,1,1,1],\"type\":\"scatter\"},{\"hoverinfo\":\"text\",\"hovertext\":[\"<b>Topic 3</b><br>Words: \\u03b1\\u03bb\\u03bb\\u03b1\\u03b3\\u03ae, \\u03c0\\u03bf\\u03bb\\u03b9\\u03c4\\u03b9\\u03ba\\u03ae\\u03c2, \\u03c0\\u03c5\\u03c1\\u03ba\\u03b1\\u03b3\\u03b9\\u03ad\\u03c2, \\u03c0\\u03c1\\u03bf\\u03c3\\u03c4\\u03b1\\u03c3\\u03af\\u03b1\\u03c2, \\u03ba\\u03bb\\u03b9\\u03bc\\u03b1\\u03c4\\u03b9\\u03ba\\u03ae\",\"<b>Topic 3</b><br>Words: \\u03b1\\u03bd\\u03ad\\u03bc\\u03c9\\u03bd, ft, \\u03bc\\u03b5\\u03b9\\u03c9\\u03b8\\u03b5\\u03af, vortex, \\u03c0\\u03cc\\u03bb\\u03c9\\u03bd\",\"<b>Topic 3</b><br>Words: \\u03b1\\u03bb\\u03bb\\u03b1\\u03b3\\u03ae, \\u03ba\\u03bb\\u03b9\\u03bc\\u03b1\\u03c4\\u03b9\\u03ba\\u03ae, \\u03b1\\u03bb\\u03bb\\u03b1\\u03b3\\u03ae\\u03c2, \\u03ac\\u03c1\\u03b8\\u03c1\\u03c9\\u03bd, \\u03ba\\u03bb\\u03b9\\u03bc\\u03b1\\u03c4\\u03b9\\u03ba\\u03ae\\u03c2\",\"<b>Topic 3</b><br>Words: \\u03c0\\u03bb\\u03b7\\u03bc\\u03bc\\u03c5\\u03c1\\u03b9\\u03c3\\u03bc\\u03ad\\u03bd\\u03b1, \\u03b2\\u03c1\\u03ad\\u03c7\\u03b5\\u03b9, \\u03c7\\u03c9\\u03c1\\u03ac\\u03c6\\u03b9\\u03b1, \\u03b5\\u03c5\\u03b8\\u03cd\\u03bd\\u03b5\\u03c4\\u03b1\\u03b9, \\u03b4\\u03c5\\u03c3\\u03c4\\u03c5\\u03c7\\u03ce\\u03c2\",\"<b>Topic 3</b><br>Words: \\u03c0\\u03c5\\u03c1\\u03ba\\u03b1\\u03b3\\u03b9\\u03ad\\u03c2, \\u03ba\\u03bb\\u03b9\\u03bc\\u03b1\\u03c4\\u03b9\\u03ba\\u03ae, \\u03b4\\u03b9\\u03b1\\u03c7\\u03b5\\u03af\\u03c1\\u03b9\\u03c3\\u03b7, \\u03b1\\u03bb\\u03bb\\u03b1\\u03b3\\u03ae, \\u03c0\\u03bf\\u03bb\\u03af\\u03c4\\u03b7\",\"<b>Topic 3</b><br>Words: \\u03c0\\u03c5\\u03c1\\u03ba\\u03b1\\u03b3\\u03b9\\u03ad\\u03c2, \\u03bd\\u03c4\\u03bf\\u03ba\\u03b9\\u03bc\\u03b1\\u03bd\\u03c4\\u03ad\\u03c1, \\u03b5\\u03bb\\u03bb\\u03ac\\u03c2, cinedoc, wwf\",\"<b>Topic 3</b><br>Words: \\u03c0\\u03c5\\u03c1\\u03ba\\u03b1\\u03b3\\u03b9\\u03ad\\u03c2, \\u03bd\\u03c4\\u03bf\\u03ba\\u03b9\\u03bc\\u03b1\\u03bd\\u03c4\\u03ad\\u03c1, \\u03b5\\u03bb\\u03bb\\u03ac\\u03c2, cinedoc, wwf\",\"<b>Topic 3</b><br>Words: \\u03ba\\u03bb\\u03b9\\u03bc\\u03b1\\u03c4\\u03b9\\u03ba\\u03ae, \\u03b1\\u03bb\\u03bb\\u03b1\\u03b3\\u03ae, \\u03c0\\u03c5\\u03c1\\u03ba\\u03b1\\u03b3\\u03b9\\u03ad\\u03c2, \\u03c0\\u03cc\\u03bb\\u03b5\\u03b9\\u03c2, \\u03b3\\u03bb\\u03b1\\u03c3\\u03ba\\u03ce\\u03b2\\u03b7\",\"<b>Topic 3</b><br>Words: \\u03b5\\u03c5\\u03c1\\u03ce\\u03c0\\u03b7, \\u03c0\\u03c5\\u03c1\\u03ba\\u03b1\\u03b3\\u03b9\\u03ad\\u03c2, \\u03c1\\u03b5\\u03ba\\u03cc\\u03c1, \\u03c3\\u03c5\\u03c7\\u03bd\\u03cc\\u03c4\\u03b7\\u03c4\\u03b1, \\u03c7\\u03c1\\u03cc\\u03bd\\u03b9\\u03b1\",\"<b>Topic 3</b><br>Words: \\u03b8\\u03b5\\u03bf\\u03b4\\u03bf\\u03c3\\u03cc\\u03c0\\u03bf\\u03c5\\u03bb\\u03bf\\u03c2, \\u03c7\\u03b5\\u03b9\\u03bc\\u03ce\\u03bd\\u03b1, \\u03c0\\u03c1\\u03bf\\u03b3\\u03bd\\u03ce\\u03c3\\u03c4\\u03b7\\u03c2, \\u03b2\\u03b1\\u03b8\\u03bc\\u03bf\\u03cd\\u03c2, \\u03bc\\u03b5\\u03c4\\u03b5\\u03c9\\u03c1\\u03bf\\u03bb\\u03cc\\u03b3\\u03bf\\u03c2\",\"<b>Topic 3</b><br>Words: 07, 11, 2021, \\u03b5\\u03c5\\u03c1\\u03c9\\u03c0\\u03b7, \\u03b9\\u03c3\\u03c0\\u03b1\\u03bd\\u03af\\u03b1\",\"<b>Topic 3</b><br>Words: wwf, \\u03ba\\u03b1\\u03c4\\u03b1\\u03c3\\u03c4\\u03bf\\u03bb\\u03ae, \\u03c0\\u03c5\\u03c1\\u03ba\\u03b1\\u03b3\\u03b9\\u03ad\\u03c2, \\u03c0\\u03c1\\u03cc\\u03bb\\u03b7\\u03c8\\u03b7, \\u03c0\\u03c5\\u03c1\\u03ba\\u03b1\\u03b3\\u03b9\\u03ce\\u03bd\",\"<b>Topic 3</b><br>Words: \\u03c0\\u03c5\\u03c1\\u03ba\\u03b1\\u03b3\\u03b9\\u03ad\\u03c2, \\u03ba\\u03bb\\u03b9\\u03bc\\u03b1\\u03c4\\u03b9\\u03ba\\u03ae, \\u03b1\\u03c5\\u03c3\\u03c4\\u03c1\\u03b1\\u03bb\\u03af\\u03b1, \\u03c0\\u03b1\\u03c1\\u03ac\\u03b3\\u03bf\\u03bd\\u03c4\\u03b1\\u03c2, csiro\",\"<b>Topic 3</b><br>Words: \\u03c6\\u03c9\\u03c4\\u03b9\\u03ad\\u03c2, \\u03b5\\u03bc\\u03c0\\u03c1\\u03b7\\u03c3\\u03c4\\u03ad\\u03c2, \\u03c0\\u03c5\\u03c1\\u03ba\\u03b1\\u03b3\\u03b9\\u03ad\\u03c2, \\u03ba\\u03bb\\u03b9\\u03bc\\u03b1\\u03c4\\u03b9\\u03ba\\u03ae, \\u03ba\\u03b1\\u03bb\\u03bf\\u03ba\\u03b1\\u03af\\u03c1\\u03b9\",\"<b>Topic 3</b><br>Words: 14, 03, 2022, 13, \\u03ba\\u03bb\\u03b9\\u03bc\\u03b1\\u03c4\\u03b9\\u03ba\\u03ae\",\"<b>Topic 3</b><br>Words: \\u03b5\\u03b4\\u03b1\\u03c6\\u03ce\\u03bd, \\u03b5\\u03b4\\u03ac\\u03c6\\u03b7, \\u03c5\\u03c0\\u03bf\\u03b2\\u03ac\\u03b8\\u03bc\\u03b9\\u03c3\\u03b7, \\u03b1\\u03c6\\u03bf\\u03c1\\u03ac, \\u03c0\\u03c5\\u03c1\\u03ba\\u03b1\\u03b3\\u03b9\\u03ad\\u03c2\",\"<b>Topic 3</b><br>Words: \\u03b2\\u03b1\\u03b8\\u03bc\\u03bf\\u03cd\\u03c2, \\u03c0\\u03b9\\u03b8\\u03b1\\u03bd\\u03cc\\u03c4\\u03b7\\u03c4\\u03b1, \\u03ac\\u03bd\\u03b8\\u03c1\\u03b1\\u03ba\\u03b1, \\u03b5\\u03ba\\u03c0\\u03bf\\u03bc\\u03c0\\u03ad\\u03c2, \\u03ac\\u03bd\\u03bf\\u03b4\\u03bf\\u03c2\",\"<b>Topic 3</b><br>Words: \\u03c0\\u03b9\\u03b8\\u03b1\\u03bd\\u03cc\\u03c4\\u03b7\\u03c4\\u03b1, \\u03b2\\u03b1\\u03b8\\u03bc\\u03bf\\u03cd\\u03c2, \\u03ac\\u03bd\\u03b8\\u03c1\\u03b1\\u03ba\\u03b1, \\u03b5\\u03ba\\u03c0\\u03bf\\u03bc\\u03c0\\u03ad\\u03c2, \\u03ac\\u03bd\\u03bf\\u03b4\\u03bf\\u03c2\",\"<b>Topic 3</b><br>Words: \\u03b2\\u03b1\\u03b8\\u03bc\\u03bf\\u03cd\\u03c2, \\u03c0\\u03b9\\u03b8\\u03b1\\u03bd\\u03cc\\u03c4\\u03b7\\u03c4\\u03b1, \\u03ac\\u03bd\\u03b8\\u03c1\\u03b1\\u03ba\\u03b1, \\u03b5\\u03ba\\u03c0\\u03bf\\u03bc\\u03c0\\u03ad\\u03c2, \\u03ac\\u03bd\\u03bf\\u03b4\\u03bf\\u03c2\",\"<b>Topic 3</b><br>Words: and, \\u03b5\\u03c0\\u03b1\\u03c5\\u03c0\\u03c2, responders, \\u03bc\\u03b5\\u03c4\\u03ad\\u03c7\\u03b5\\u03b9, first\",\"<b>Topic 3</b><br>Words: climpact, \\u03ba\\u03bb\\u03b9\\u03bc\\u03b1\\u03c4\\u03b9\\u03ba\\u03ae, \\u03b1\\u03c4\\u03bc\\u03bf\\u03c3\\u03c6\\u03b1\\u03b9\\u03c1\\u03b9\\u03ba\\u03ae, \\u03b8\\u03b5\\u03c1\\u03bc\\u03bf\\u03ba\\u03c1\\u03b1\\u03c3\\u03af\\u03b1, \\u03b1\\u03bb\\u03bb\\u03b1\\u03b3\\u03ae\",\"<b>Topic 3</b><br>Words: \\u03ba\\u03c1\\u03af\\u03c3\\u03b5\\u03c9\\u03bd, \\u03ba\\u03b9\\u03bd\\u03b4\\u03cd\\u03bd\\u03c9\\u03bd, \\u03b4\\u03b9\\u03b5\\u03c1\\u03b3\\u03b1\\u03c3\\u03af\\u03b5\\u03c2, \\u03c3\\u03c4\\u03b1\\u03b4\\u03af\\u03bf\\u03c5, \\u03ba\\u03b9\\u03bd\\u03b4\\u03cd\\u03bd\\u03bf\\u03c5\",\"<b>Topic 3</b><br>Words: \\u03bd\\u03cc\\u03c4\\u03b9\\u03b1, \\u03b5\\u03c0\\u03bf\\u03c7\\u03ae, \\u03b9\\u03c3\\u03c0\\u03b1\\u03bd\\u03af\\u03b1, \\u03b3\\u03b1\\u03bb\\u03bb\\u03af\\u03b1, \\u03c3\\u03c4\\u03c1\\u03bf\\u03c6\\u03ae\",\"<b>Topic 3</b><br>Words: \\u03b5\\u03c5\\u03c1\\u03ce\\u03c0\\u03b7, \\u03b6\\u03ad\\u03c3\\u03c4\\u03b7, \\u03b3\\u03b1\\u03bb\\u03bb\\u03af\\u03b1, \\u03b9\\u03c3\\u03c0\\u03b1\\u03bd\\u03af\\u03b1, \\u03b8\\u03b5\\u03c1\\u03bc\\u03bf\\u03ba\\u03c1\\u03b1\\u03c3\\u03af\\u03b5\\u03c2\",\"<b>Topic 3</b><br>Words: \\u03c0\\u03c5\\u03c1\\u03ba\\u03b1\\u03b3\\u03b9\\u03ad\\u03c2, \\u03c0\\u03c5\\u03c1\\u03ba\\u03b1\\u03b3\\u03b9\\u03ce\\u03bd, drones, \\u03b5\\u03c5\\u03c1\\u03ce\\u03c0\\u03b7, \\u03ba\\u03bb\\u03b9\\u03bc\\u03b1\\u03c4\\u03b9\\u03ba\\u03ae\",\"<b>Topic 3</b><br>Words: \\u03c0\\u03c5\\u03c1\\u03ba\\u03b1\\u03b3\\u03b9\\u03ad\\u03c2, \\u03ba\\u03bb\\u03b9\\u03bc\\u03b1\\u03c4\\u03b9\\u03ba\\u03ae\\u03c2, \\u03b5\\u03bc\\u03c0\\u03c1\\u03b7\\u03c3\\u03bc\\u03bf\\u03cd, \\u03b1\\u03bb\\u03bb\\u03b1\\u03b3\\u03ae, \\u03ba\\u03bb\\u03b9\\u03bc\\u03b1\\u03c4\\u03b9\\u03ba\\u03ae\",\"<b>Topic 3</b><br>Words: 01, 07, 2022, \\u03c0\\u03c5\\u03c1\\u03ba\\u03b1\\u03b3\\u03b9\\u03ad\\u03c2, 11\",\"<b>Topic 3</b><br>Words: \\u03c0\\u03c5\\u03c1\\u03ba\\u03b1\\u03b3\\u03b9\\u03ad\\u03c2, \\u03c0\\u03c5\\u03c1\\u03ba\\u03b1\\u03b3\\u03b9\\u03ce\\u03bd, \\u03c0\\u03b5\\u03c1\\u03b9\\u03cc\\u03b4\\u03bf\\u03c5, \\u03b4\\u03b9\\u03ac\\u03c1\\u03ba\\u03b5\\u03b9\\u03b1, \\u03c0\\u03b1\\u03b3\\u03ba\\u03bf\\u03c3\\u03bc\\u03af\\u03c9\\u03c2\",\"<b>Topic 3</b><br>Words: \\u03b1\\u03ba\\u03c1\\u03b1\\u03af\\u03c9\\u03bd, \\u03ba\\u03b1\\u03b9\\u03c1\\u03b9\\u03ba\\u03ce\\u03bd, \\u03c6\\u03b1\\u03b9\\u03bd\\u03bf\\u03bc\\u03ad\\u03bd\\u03c9\\u03bd, \\u03ba\\u03bb\\u03b9\\u03bc\\u03b1\\u03c4\\u03b9\\u03ba\\u03ae\\u03c2, \\u03b5\\u03c5\\u03c1\\u03ce\\u03c0\\u03b7\",\"<b>Topic 3</b><br>Words: \\u03b1\\u03b7\\u03b4\\u03af\\u03b5\\u03c2, \\u03b5\\u03c1\\u03b3\\u03b1\\u03c3\\u03c4\\u03b7\\u03c1\\u03b9\\u03b1\\u03ba\\u03ad\\u03c2, \\u03bc\\u03c0\\u03bf\\u03c5\\u03ba\\u03ce\\u03c3\\u03bf\\u03c5\\u03bd, \\u03b3\\u03b9\\u03ac, \\u03c4\\u03b1\\u03c0\\u03cd\\u03c1\\u03b9\\u03bd\\u03b1\",\"<b>Topic 3</b><br>Words: \\u03b5\\u03c5\\u03c1\\u03ce\\u03c0\\u03b7, \\u03b6\\u03ad\\u03c3\\u03c4\\u03b7, \\u03b2\\u03bf\\u03bb\\u03b2\\u03bf\\u03cd, \\u03c5\\u03b3\\u03c1\\u03bf\\u03cd, \\u03b8\\u03b5\\u03c1\\u03bc\\u03bf\\u03ba\\u03c1\\u03b1\\u03c3\\u03af\\u03b5\\u03c2\",\"<b>Topic 3</b><br>Words: \\u03c0\\u03c5\\u03c1\\u03ba\\u03b1\\u03b3\\u03b9\\u03ad\\u03c2, \\u03b5\\u03c5\\u03c1\\u03ce\\u03c0\\u03b7, \\u03b8\\u03b5\\u03c1\\u03bc\\u03bf\\u03ba\\u03c1\\u03b1\\u03c3\\u03af\\u03b5\\u03c2, \\u03c0\\u03b5\\u03c1\\u03b9\\u03c3\\u03c3\\u03cc\\u03c4\\u03b5\\u03c1\\u03b1, \\u03ba\\u03b1\\u03cd\\u03c3\\u03c9\\u03bd\\u03b1\\u03c2\",\"<b>Topic 3</b><br>Words: 07, 18, \\u03b5\\u03c5\\u03c1\\u03ce\\u03c0\\u03b7, 2022, \\u03c0\\u03c5\\u03c1\\u03ba\\u03b1\\u03b3\\u03b9\\u03ad\\u03c2\",\"<b>Topic 3</b><br>Words: \\u03c0\\u03bb\\u03b1\\u03bd\\u03ae\\u03c4\\u03b7, \\u03bf\\u03bb\\u03bf\\u03ad\\u03bd\\u03b1, \\u03c0\\u03b5\\u03c1\\u03b9\\u03bf\\u03c7\\u03ad\\u03c2, \\u03b5\\u03c5\\u03c1\\u03ce\\u03c0\\u03b7, \\u03ba\\u03b1\\u03cd\\u03c3\\u03c9\\u03bd\\u03b1\",\"<b>Topic 3</b><br>Words: \\u03c0\\u03bb\\u03b1\\u03bd\\u03ae\\u03c4\\u03b7, \\u03bf\\u03bb\\u03bf\\u03ad\\u03bd\\u03b1, \\u03b5\\u03c5\\u03c1\\u03ce\\u03c0\\u03b7, \\u03c0\\u03b5\\u03c1\\u03b9\\u03bf\\u03c7\\u03ad\\u03c2, \\u03ba\\u03b1\\u03cd\\u03c3\\u03c9\\u03bd\\u03b1\",\"<b>Topic 3</b><br>Words: \\u03c0\\u03bb\\u03b1\\u03bd\\u03ae\\u03c4\\u03b7, \\u03bf\\u03bb\\u03bf\\u03ad\\u03bd\\u03b1, \\u03c0\\u03b5\\u03c1\\u03b9\\u03bf\\u03c7\\u03ad\\u03c2, \\u03b5\\u03c5\\u03c1\\u03ce\\u03c0\\u03b7, \\u03ba\\u03b1\\u03cd\\u03c3\\u03c9\\u03bd\\u03b1\",\"<b>Topic 3</b><br>Words: \\u03c0\\u03bb\\u03b1\\u03bd\\u03ae\\u03c4\\u03b7, \\u03bf\\u03bb\\u03bf\\u03ad\\u03bd\\u03b1, \\u03c0\\u03b5\\u03c1\\u03b9\\u03bf\\u03c7\\u03ad\\u03c2, \\u03b5\\u03c5\\u03c1\\u03ce\\u03c0\\u03b7, \\u03ba\\u03b1\\u03cd\\u03c3\\u03c9\\u03bd\\u03b1\",\"<b>Topic 3</b><br>Words: \\u03b1\\u03bb\\u03bb\\u03b1\\u03b3\\u03ae, \\u03bc\\u03c0\\u03bf\\u03c1\\u03b5\\u03af\\u03c2, \\u03ba\\u03bb\\u03b9\\u03bc\\u03b1\\u03c4\\u03b9\\u03ba\\u03ae, \\u03ba\\u03ac\\u03bd\\u03b5\\u03b9\\u03c2, \\u03c0\\u03c5\\u03c1\\u03ba\\u03b1\\u03b3\\u03b9\\u03ad\\u03c2\",\"<b>Topic 3</b><br>Words: \\u03c0\\u03bf\\u03c5\\u03bb\\u03ac\\u03bd\\u03b5, \\u03bd\\u03bf\\u03c1\\u03bc\\u03ac\\u03bb, \\u03b1\\u03ad\\u03c1\\u03b1, \\u03c6\\u03c9\\u03c4\\u03b9\\u03ad\\u03c2, \\u03b8\\u03b5\\u03c1\\u03bc\\u03bf\\u03ba\\u03c1\\u03b1\\u03c3\\u03af\\u03b5\\u03c2\",\"<b>Topic 3</b><br>Words: \\u03c0\\u03c5\\u03c1\\u03ba\\u03b1\\u03b3\\u03b9\\u03ad\\u03c2, \\u03b8\\u03b5\\u03c1\\u03bc\\u03bf\\u03ba\\u03c1\\u03b1\\u03c3\\u03af\\u03b1, \\u03b5\\u03c5\\u03c1\\u03ce\\u03c0\\u03b7, \\u03b1\\u03cd\\u03be\\u03b7\\u03c3\\u03b7, \\u03c3\\u03c4\\u03bf\\u03b9\\u03c7\\u03b5\\u03af\\u03b1\",\"<b>Topic 3</b><br>Words: \\u03c0\\u03c5\\u03c1\\u03ba\\u03b1\\u03b3\\u03b9\\u03ad\\u03c2, \\u03b8\\u03b5\\u03c1\\u03bc\\u03bf\\u03ba\\u03c1\\u03b1\\u03c3\\u03af\\u03b1, \\u03b5\\u03c5\\u03c1\\u03ce\\u03c0\\u03b7, \\u03b1\\u03cd\\u03be\\u03b7\\u03c3\\u03b7, \\u03c3\\u03c4\\u03bf\\u03b9\\u03c7\\u03b5\\u03af\\u03b1\",\"<b>Topic 3</b><br>Words: \\u03c0\\u03c5\\u03c1\\u03ba\\u03b1\\u03b3\\u03b9\\u03ad\\u03c2, \\u03b8\\u03b5\\u03c1\\u03bc\\u03bf\\u03ba\\u03c1\\u03b1\\u03c3\\u03af\\u03b1, \\u03b5\\u03c5\\u03c1\\u03ce\\u03c0\\u03b7, \\u03b1\\u03cd\\u03be\\u03b7\\u03c3\\u03b7, \\u03c3\\u03c4\\u03bf\\u03b9\\u03c7\\u03b5\\u03af\\u03b1\",\"<b>Topic 3</b><br>Words: \\u03c0\\u03c5\\u03c1\\u03ba\\u03b1\\u03b3\\u03b9\\u03ad\\u03c2, \\u03b8\\u03b5\\u03c1\\u03bc\\u03bf\\u03ba\\u03c1\\u03b1\\u03c3\\u03af\\u03b1, \\u03b1\\u03cd\\u03be\\u03b7\\u03c3\\u03b7, \\u03b5\\u03c5\\u03c1\\u03ce\\u03c0\\u03b7, \\u03c3\\u03c4\\u03bf\\u03b9\\u03c7\\u03b5\\u03af\\u03b1\",\"<b>Topic 3</b><br>Words: \\u03c0\\u03c5\\u03c1\\u03ba\\u03b1\\u03b3\\u03b9\\u03ad\\u03c2, \\u03b8\\u03b5\\u03c1\\u03bc\\u03bf\\u03ba\\u03c1\\u03b1\\u03c3\\u03af\\u03b1, \\u03b5\\u03c5\\u03c1\\u03ce\\u03c0\\u03b7, \\u03b1\\u03cd\\u03be\\u03b7\\u03c3\\u03b7, \\u03c3\\u03c4\\u03bf\\u03b9\\u03c7\\u03b5\\u03af\\u03b1\",\"<b>Topic 3</b><br>Words: \\u03c0\\u03c5\\u03c1\\u03ba\\u03b1\\u03b3\\u03b9\\u03ad\\u03c2, \\u03b8\\u03b5\\u03c1\\u03bc\\u03bf\\u03ba\\u03c1\\u03b1\\u03c3\\u03af\\u03b1, \\u03b5\\u03c5\\u03c1\\u03ce\\u03c0\\u03b7, \\u03b1\\u03cd\\u03be\\u03b7\\u03c3\\u03b7, \\u03c3\\u03c4\\u03bf\\u03b9\\u03c7\\u03b5\\u03af\\u03b1\",\"<b>Topic 3</b><br>Words: \\u03c0\\u03c5\\u03c1\\u03ba\\u03b1\\u03b3\\u03b9\\u03ad\\u03c2, vouchers, \\u03b4\\u03b9\\u03c0\\u03bb\\u03b1\\u03c3\\u03b9\\u03ac\\u03b6\\u03bf\\u03bd\\u03c4\\u03b1\\u03b9, \\u03b5\\u03bb\\u03bb\\u03ac\\u03b4\\u03b1, 400\",\"<b>Topic 3</b><br>Words: \\u03c0\\u03c5\\u03c1\\u03ba\\u03b1\\u03b3\\u03b9\\u03ad\\u03c2, \\u03b8\\u03b5\\u03c1\\u03bc\\u03bf\\u03ba\\u03c1\\u03b1\\u03c3\\u03af\\u03b1, \\u03b5\\u03c5\\u03c1\\u03ce\\u03c0\\u03b7, \\u03b1\\u03cd\\u03be\\u03b7\\u03c3\\u03b7, \\u03c3\\u03c4\\u03bf\\u03b9\\u03c7\\u03b5\\u03af\\u03b1\",\"<b>Topic 3</b><br>Words: \\u03c0\\u03c5\\u03c1\\u03ba\\u03b1\\u03b3\\u03b9\\u03ad\\u03c2, \\u03b8\\u03b5\\u03c1\\u03bc\\u03bf\\u03ba\\u03c1\\u03b1\\u03c3\\u03af\\u03b1, \\u03b5\\u03c5\\u03c1\\u03ce\\u03c0\\u03b7, \\u03b1\\u03cd\\u03be\\u03b7\\u03c3\\u03b7, \\u03c3\\u03c4\\u03bf\\u03b9\\u03c7\\u03b5\\u03af\\u03b1\",\"<b>Topic 3</b><br>Words: \\u03c0\\u03c5\\u03c1\\u03ba\\u03b1\\u03b3\\u03b9\\u03ad\\u03c2, \\u03b8\\u03b5\\u03c1\\u03bc\\u03bf\\u03ba\\u03c1\\u03b1\\u03c3\\u03af\\u03b1, \\u03b5\\u03c5\\u03c1\\u03ce\\u03c0\\u03b7, \\u03b1\\u03cd\\u03be\\u03b7\\u03c3\\u03b7, \\u03c3\\u03c4\\u03bf\\u03b9\\u03c7\\u03b5\\u03af\\u03b1\",\"<b>Topic 3</b><br>Words: \\u03c0\\u03c5\\u03c1\\u03ba\\u03b1\\u03b3\\u03b9\\u03ad\\u03c2, \\u03b8\\u03b5\\u03c1\\u03bc\\u03bf\\u03ba\\u03c1\\u03b1\\u03c3\\u03af\\u03b1, \\u03b5\\u03c5\\u03c1\\u03ce\\u03c0\\u03b7, \\u03b1\\u03cd\\u03be\\u03b7\\u03c3\\u03b7, \\u03c3\\u03c4\\u03bf\\u03b9\\u03c7\\u03b5\\u03af\\u03b1\",\"<b>Topic 3</b><br>Words: \\u03c0\\u03c5\\u03c1\\u03ba\\u03b1\\u03b3\\u03b9\\u03ad\\u03c2, \\u03b8\\u03b5\\u03c1\\u03bc\\u03bf\\u03ba\\u03c1\\u03b1\\u03c3\\u03af\\u03b1, \\u03b5\\u03c5\\u03c1\\u03ce\\u03c0\\u03b7, \\u03b1\\u03cd\\u03be\\u03b7\\u03c3\\u03b7, \\u03c3\\u03c4\\u03bf\\u03b9\\u03c7\\u03b5\\u03af\\u03b1\",\"<b>Topic 3</b><br>Words: \\u03b8\\u03b5\\u03c1\\u03bc\\u03bf\\u03ba\\u03c1\\u03b1\\u03c3\\u03af\\u03b1, \\u03b1\\u03cd\\u03be\\u03b7\\u03c3\\u03b7, \\u03c3\\u03c4\\u03bf\\u03b9\\u03c7\\u03b5\\u03af\\u03b1, \\u03b5\\u03c5\\u03c1\\u03ce\\u03c0\\u03b7, \\u03ba\\u03bb\\u03b9\\u03bc\\u03b1\\u03c4\\u03b9\\u03ba\\u03ae\",\"<b>Topic 3</b><br>Words: \\u03c0\\u03c5\\u03c1\\u03ba\\u03b1\\u03b3\\u03b9\\u03ad\\u03c2, \\u03b8\\u03b5\\u03c1\\u03bc\\u03bf\\u03ba\\u03c1\\u03b1\\u03c3\\u03af\\u03b1, \\u03b5\\u03c5\\u03c1\\u03ce\\u03c0\\u03b7, \\u03c3\\u03c4\\u03bf\\u03b9\\u03c7\\u03b5\\u03af\\u03b1, \\u03b1\\u03cd\\u03be\\u03b7\\u03c3\\u03b7\",\"<b>Topic 3</b><br>Words: \\u03c0\\u03c5\\u03c1\\u03ba\\u03b1\\u03b3\\u03b9\\u03ad\\u03c2, \\u03b8\\u03b5\\u03c1\\u03bc\\u03bf\\u03ba\\u03c1\\u03b1\\u03c3\\u03af\\u03b1, \\u03b5\\u03c5\\u03c1\\u03ce\\u03c0\\u03b7, \\u03b1\\u03cd\\u03be\\u03b7\\u03c3\\u03b7, \\u03c3\\u03c4\\u03bf\\u03b9\\u03c7\\u03b5\\u03af\\u03b1\",\"<b>Topic 3</b><br>Words: \\u03b8\\u03b5\\u03c1\\u03bc\\u03bf\\u03ba\\u03c1\\u03b1\\u03c3\\u03af\\u03b1, \\u03b1\\u03cd\\u03be\\u03b7\\u03c3\\u03b7, \\u03c3\\u03c4\\u03bf\\u03b9\\u03c7\\u03b5\\u03af\\u03b1, \\u03b5\\u03c5\\u03c1\\u03ce\\u03c0\\u03b7, \\u03ba\\u03bb\\u03b9\\u03bc\\u03b1\\u03c4\\u03b9\\u03ba\\u03ae\",\"<b>Topic 3</b><br>Words: \\u03c0\\u03c5\\u03c1\\u03ba\\u03b1\\u03b3\\u03b9\\u03ad\\u03c2, \\u03b8\\u03b5\\u03c1\\u03bc\\u03bf\\u03ba\\u03c1\\u03b1\\u03c3\\u03af\\u03b1, \\u03b5\\u03c5\\u03c1\\u03ce\\u03c0\\u03b7, \\u03b1\\u03cd\\u03be\\u03b7\\u03c3\\u03b7, \\u03c3\\u03c4\\u03bf\\u03b9\\u03c7\\u03b5\\u03af\\u03b1\",\"<b>Topic 3</b><br>Words: \\u03c0\\u03c5\\u03c1\\u03ba\\u03b1\\u03b3\\u03b9\\u03ad\\u03c2, \\u03b8\\u03b5\\u03c1\\u03bc\\u03bf\\u03ba\\u03c1\\u03b1\\u03c3\\u03af\\u03b1, \\u03b5\\u03c5\\u03c1\\u03ce\\u03c0\\u03b7, \\u03b1\\u03cd\\u03be\\u03b7\\u03c3\\u03b7, \\u03c3\\u03c4\\u03bf\\u03b9\\u03c7\\u03b5\\u03af\\u03b1\",\"<b>Topic 3</b><br>Words: \\u03c0\\u03c5\\u03c1\\u03ba\\u03b1\\u03b3\\u03b9\\u03ad\\u03c2, \\u03b8\\u03b5\\u03c1\\u03bc\\u03bf\\u03ba\\u03c1\\u03b1\\u03c3\\u03af\\u03b1, \\u03b5\\u03c5\\u03c1\\u03ce\\u03c0\\u03b7, \\u03b1\\u03cd\\u03be\\u03b7\\u03c3\\u03b7, \\u03c3\\u03c4\\u03bf\\u03b9\\u03c7\\u03b5\\u03af\\u03b1\",\"<b>Topic 3</b><br>Words: \\u03b8\\u03b5\\u03c1\\u03bc\\u03bf\\u03ba\\u03c1\\u03b1\\u03c3\\u03af\\u03b1, \\u03b1\\u03cd\\u03be\\u03b7\\u03c3\\u03b7, \\u03c3\\u03c4\\u03bf\\u03b9\\u03c7\\u03b5\\u03af\\u03b1, \\u03b5\\u03c5\\u03c1\\u03ce\\u03c0\\u03b7, \\u03ba\\u03bb\\u03b9\\u03bc\\u03b1\\u03c4\\u03b9\\u03ba\\u03ae\",\"<b>Topic 3</b><br>Words: \\u03c0\\u03c5\\u03c1\\u03ba\\u03b1\\u03b3\\u03b9\\u03ad\\u03c2, \\u03b8\\u03b5\\u03c1\\u03bc\\u03bf\\u03ba\\u03c1\\u03b1\\u03c3\\u03af\\u03b1, \\u03b5\\u03c5\\u03c1\\u03ce\\u03c0\\u03b7, \\u03b1\\u03cd\\u03be\\u03b7\\u03c3\\u03b7, \\u03c3\\u03c4\\u03bf\\u03b9\\u03c7\\u03b5\\u03af\\u03b1\",\"<b>Topic 3</b><br>Words: \\u03c0\\u03c5\\u03c1\\u03ba\\u03b1\\u03b3\\u03b9\\u03ad\\u03c2, \\u03b8\\u03b5\\u03c1\\u03bc\\u03bf\\u03ba\\u03c1\\u03b1\\u03c3\\u03af\\u03b1, \\u03b5\\u03c5\\u03c1\\u03ce\\u03c0\\u03b7, \\u03b1\\u03cd\\u03be\\u03b7\\u03c3\\u03b7, \\u03c3\\u03c4\\u03bf\\u03b9\\u03c7\\u03b5\\u03af\\u03b1\",\"<b>Topic 3</b><br>Words: \\u03c0\\u03c5\\u03c1\\u03ba\\u03b1\\u03b3\\u03b9\\u03ad\\u03c2, \\u03b8\\u03b5\\u03c1\\u03bc\\u03bf\\u03ba\\u03c1\\u03b1\\u03c3\\u03af\\u03b1, \\u03b5\\u03c5\\u03c1\\u03ce\\u03c0\\u03b7, \\u03b1\\u03cd\\u03be\\u03b7\\u03c3\\u03b7, \\u03c3\\u03c4\\u03bf\\u03b9\\u03c7\\u03b5\\u03af\\u03b1\",\"<b>Topic 3</b><br>Words: \\u03b8\\u03b5\\u03c1\\u03bc\\u03bf\\u03ba\\u03c1\\u03b1\\u03c3\\u03af\\u03b1, \\u03c3\\u03c4\\u03bf\\u03b9\\u03c7\\u03b5\\u03af\\u03b1, \\u03b1\\u03cd\\u03be\\u03b7\\u03c3\\u03b7, \\u03b5\\u03c5\\u03c1\\u03ce\\u03c0\\u03b7, \\u03ba\\u03bb\\u03b9\\u03bc\\u03b1\\u03c4\\u03b9\\u03ba\\u03ae\",\"<b>Topic 3</b><br>Words: \\u03c0\\u03c5\\u03c1\\u03ba\\u03b1\\u03b3\\u03b9\\u03ad\\u03c2, \\u03c3\\u03c4\\u03bf\\u03b9\\u03c7\\u03b5\\u03af\\u03b1, \\u03bc\\u03c0\\u03b5, \\u03b1\\u03c0\\u03b5, \\u03b5\\u03bb\\u03bb\\u03ac\\u03b4\\u03b1\",\"<b>Topic 3</b><br>Words: \\u03c0\\u03c5\\u03c1\\u03ba\\u03b1\\u03b3\\u03b9\\u03ad\\u03c2, \\u03ba\\u03bb\\u03b9\\u03bc\\u03b1\\u03c4\\u03b9\\u03ba\\u03ae, \\u03b1\\u03bb\\u03bb\\u03b1\\u03b3\\u03ae, \\u03c3\\u03c4\\u03bf\\u03b9\\u03c7\\u03b5\\u03af\\u03b1, \\u03c0\\u03b1\\u03b9\\u03b4\\u03b9\\u03ac\",\"<b>Topic 3</b><br>Words: \\u03c0\\u03c5\\u03c1\\u03ba\\u03b1\\u03b3\\u03b9\\u03ad\\u03c2, \\u03b8\\u03b5\\u03c1\\u03bc\\u03bf\\u03ba\\u03c1\\u03b1\\u03c3\\u03af\\u03b1, \\u03b5\\u03c5\\u03c1\\u03ce\\u03c0\\u03b7, \\u03b1\\u03cd\\u03be\\u03b7\\u03c3\\u03b7, \\u03c3\\u03c4\\u03bf\\u03b9\\u03c7\\u03b5\\u03af\\u03b1\",\"<b>Topic 3</b><br>Words: \\u03c0\\u03c5\\u03c1\\u03ba\\u03b1\\u03b3\\u03b9\\u03ad\\u03c2, \\u03b8\\u03b5\\u03c1\\u03bc\\u03bf\\u03ba\\u03c1\\u03b1\\u03c3\\u03af\\u03b1, \\u03b5\\u03c5\\u03c1\\u03ce\\u03c0\\u03b7, \\u03b1\\u03cd\\u03be\\u03b7\\u03c3\\u03b7, \\u03c3\\u03c4\\u03bf\\u03b9\\u03c7\\u03b5\\u03af\\u03b1\",\"<b>Topic 3</b><br>Words: \\u03c0\\u03c5\\u03c1\\u03ba\\u03b1\\u03b3\\u03b9\\u03ad\\u03c2, \\u03b8\\u03b5\\u03c1\\u03bc\\u03bf\\u03ba\\u03c1\\u03b1\\u03c3\\u03af\\u03b1, \\u03b5\\u03c5\\u03c1\\u03ce\\u03c0\\u03b7, \\u03b1\\u03cd\\u03be\\u03b7\\u03c3\\u03b7, \\u03c3\\u03c4\\u03bf\\u03b9\\u03c7\\u03b5\\u03af\\u03b1\",\"<b>Topic 3</b><br>Words: \\u03c0\\u03c5\\u03c1\\u03ba\\u03b1\\u03b3\\u03b9\\u03ad\\u03c2, \\u03b8\\u03b5\\u03c1\\u03bc\\u03bf\\u03ba\\u03c1\\u03b1\\u03c3\\u03af\\u03b1, \\u03b5\\u03c5\\u03c1\\u03ce\\u03c0\\u03b7, \\u03b1\\u03cd\\u03be\\u03b7\\u03c3\\u03b7, \\u03c3\\u03c4\\u03bf\\u03b9\\u03c7\\u03b5\\u03af\\u03b1\",\"<b>Topic 3</b><br>Words: \\u03c0\\u03c5\\u03c1\\u03ba\\u03b1\\u03b3\\u03b9\\u03ad\\u03c2, \\u03b8\\u03b5\\u03c1\\u03bc\\u03bf\\u03ba\\u03c1\\u03b1\\u03c3\\u03af\\u03b1, \\u03b5\\u03c5\\u03c1\\u03ce\\u03c0\\u03b7, \\u03b1\\u03cd\\u03be\\u03b7\\u03c3\\u03b7, \\u03c3\\u03c4\\u03bf\\u03b9\\u03c7\\u03b5\\u03af\\u03b1\",\"<b>Topic 3</b><br>Words: \\u03c0\\u03c5\\u03c1\\u03ba\\u03b1\\u03b3\\u03b9\\u03ad\\u03c2, \\u03b8\\u03b5\\u03c1\\u03bc\\u03bf\\u03ba\\u03c1\\u03b1\\u03c3\\u03af\\u03b1, \\u03b5\\u03c5\\u03c1\\u03ce\\u03c0\\u03b7, \\u03b1\\u03cd\\u03be\\u03b7\\u03c3\\u03b7, \\u03c3\\u03c4\\u03bf\\u03b9\\u03c7\\u03b5\\u03af\\u03b1\",\"<b>Topic 3</b><br>Words: \\u03c0\\u03c5\\u03c1\\u03ba\\u03b1\\u03b3\\u03b9\\u03ad\\u03c2, \\u03b8\\u03b5\\u03c1\\u03bc\\u03bf\\u03ba\\u03c1\\u03b1\\u03c3\\u03af\\u03b1, \\u03ba\\u03bb\\u03b9\\u03bc\\u03b1\\u03c4\\u03b9\\u03ba\\u03ae, \\u03b5\\u03c5\\u03c1\\u03ce\\u03c0\\u03b7, \\u03b1\\u03bb\\u03bb\\u03b1\\u03b3\\u03ae\",\"<b>Topic 3</b><br>Words: \\u03c0\\u03c5\\u03c1\\u03ba\\u03b1\\u03b3\\u03b9\\u03ad\\u03c2, \\u03b8\\u03b5\\u03c1\\u03bc\\u03bf\\u03ba\\u03c1\\u03b1\\u03c3\\u03af\\u03b1, \\u03ba\\u03bb\\u03b9\\u03bc\\u03b1\\u03c4\\u03b9\\u03ba\\u03ae, \\u03b5\\u03c5\\u03c1\\u03ce\\u03c0\\u03b7, \\u03b1\\u03bb\\u03bb\\u03b1\\u03b3\\u03ae\",\"<b>Topic 3</b><br>Words: \\u03c0\\u03c5\\u03c1\\u03ba\\u03b1\\u03b3\\u03b9\\u03ad\\u03c2, \\u03b8\\u03b5\\u03c1\\u03bc\\u03bf\\u03ba\\u03c1\\u03b1\\u03c3\\u03af\\u03b1, \\u03b5\\u03c5\\u03c1\\u03ce\\u03c0\\u03b7, \\u03b1\\u03cd\\u03be\\u03b7\\u03c3\\u03b7, \\u03c3\\u03c4\\u03bf\\u03b9\\u03c7\\u03b5\\u03af\\u03b1\",\"<b>Topic 3</b><br>Words: \\u03c0\\u03c5\\u03c1\\u03ba\\u03b1\\u03b3\\u03b9\\u03ad\\u03c2, \\u03c3\\u03c4\\u03bf\\u03b9\\u03c7\\u03b5\\u03af\\u03b1, \\u03b5\\u03bb\\u03bb\\u03ac\\u03b4\\u03b1, \\u03b1\\u03bd\\u03ac\\u03b3\\u03bd\\u03c9\\u03c3\\u03b7, \\u03b1\\u03bc\\u03c6\\u03b9\\u03b2\\u03bf\\u03bb\\u03af\\u03b1\\u03c2\",\"<b>Topic 3</b><br>Words: \\u03c0\\u03c5\\u03c1\\u03ba\\u03b1\\u03b3\\u03b9\\u03ad\\u03c2, \\u03b8\\u03b5\\u03c1\\u03bc\\u03bf\\u03ba\\u03c1\\u03b1\\u03c3\\u03af\\u03b1, \\u03b5\\u03c5\\u03c1\\u03ce\\u03c0\\u03b7, \\u03b1\\u03cd\\u03be\\u03b7\\u03c3\\u03b7, \\u03c3\\u03c4\\u03bf\\u03b9\\u03c7\\u03b5\\u03af\\u03b1\",\"<b>Topic 3</b><br>Words: \\u03c0\\u03c5\\u03c1\\u03ba\\u03b1\\u03b3\\u03b9\\u03ad\\u03c2, \\u03b5\\u03c5\\u03c1\\u03ce\\u03c0\\u03b7, \\u03ba\\u03bb\\u03b9\\u03bc\\u03b1\\u03c4\\u03b9\\u03ba\\u03ae, \\u03b8\\u03b5\\u03c1\\u03bc\\u03bf\\u03ba\\u03c1\\u03b1\\u03c3\\u03af\\u03b1, \\u03b1\\u03bb\\u03bb\\u03b1\\u03b3\\u03ae\",\"<b>Topic 3</b><br>Words: \\u03c0\\u03c5\\u03c1\\u03ba\\u03b1\\u03b3\\u03b9\\u03ad\\u03c2, \\u03b8\\u03b5\\u03c1\\u03bc\\u03bf\\u03ba\\u03c1\\u03b1\\u03c3\\u03af\\u03b1, \\u03b5\\u03c5\\u03c1\\u03ce\\u03c0\\u03b7, \\u03c3\\u03c4\\u03bf\\u03b9\\u03c7\\u03b5\\u03af\\u03b1, \\u03b1\\u03cd\\u03be\\u03b7\\u03c3\\u03b7\",\"<b>Topic 3</b><br>Words: \\u03c0\\u03c5\\u03c1\\u03ba\\u03b1\\u03b3\\u03b9\\u03ad\\u03c2, \\u03b8\\u03b5\\u03c1\\u03bc\\u03bf\\u03ba\\u03c1\\u03b1\\u03c3\\u03af\\u03b1, \\u03b5\\u03c5\\u03c1\\u03ce\\u03c0\\u03b7, \\u03b1\\u03cd\\u03be\\u03b7\\u03c3\\u03b7, \\u03ba\\u03bb\\u03b9\\u03bc\\u03b1\\u03c4\\u03b9\\u03ba\\u03ae\",\"<b>Topic 3</b><br>Words: \\u03c0\\u03c5\\u03c1\\u03ba\\u03b1\\u03b3\\u03b9\\u03ad\\u03c2, \\u03b8\\u03b5\\u03c1\\u03bc\\u03bf\\u03ba\\u03c1\\u03b1\\u03c3\\u03af\\u03b1, \\u03b5\\u03c5\\u03c1\\u03ce\\u03c0\\u03b7, \\u03b1\\u03cd\\u03be\\u03b7\\u03c3\\u03b7, \\u03c3\\u03c4\\u03bf\\u03b9\\u03c7\\u03b5\\u03af\\u03b1\",\"<b>Topic 3</b><br>Words: \\u03bc\\u03ad\\u03c3\\u03b7, \\u03c3\\u03c5\\u03c7\\u03bd\\u03ac, \\u03b1\\u03bd\\u03b1\\u03c4\\u03bf\\u03bb\\u03ae, \\u03b8\\u03b5\\u03c1\\u03bc\\u03bf\\u03ba\\u03c1\\u03b1\\u03c3\\u03af\\u03b5\\u03c2, \\u03c0\\u03c5\\u03c1\\u03ba\\u03b1\\u03b3\\u03b9\\u03ad\\u03c2\",\"<b>Topic 3</b><br>Words: \\u03b9\\u03bf\\u03c5\\u03bb\\u03af\\u03bf\\u03c5, \\u03c0\\u03c5\\u03c1\\u03ba\\u03b1\\u03b3\\u03b9\\u03ad\\u03c2, \\u03b8\\u03b5\\u03c1\\u03bc\\u03bf\\u03ba\\u03c1\\u03b1\\u03c3\\u03af\\u03b5\\u03c2, \\u03ba\\u03cd\\u03bc\\u03b1, \\u03c0\\u03ac\\u03b3\\u03bf\\u03c5\",\"<b>Topic 3</b><br>Words: \\u03c0\\u03c5\\u03c1\\u03ba\\u03b1\\u03b3\\u03b9\\u03ac\\u03c2, \\u03ba\\u03b9\\u03bd\\u03b4\\u03cd\\u03bd\\u03bf\\u03c5, \\u03b1\\u03cd\\u03be\\u03b7\\u03c3\\u03b7, \\u03c0\\u03c5\\u03c1\\u03ba\\u03b1\\u03b3\\u03b9\\u03ce\\u03bd, \\u03b5\\u03c5\\u03c1\\u03ce\\u03c0\\u03b7\",\"<b>Topic 3</b><br>Words: \\u03c0\\u03c5\\u03c1\\u03ba\\u03b1\\u03b3\\u03b9\\u03ac\\u03c2, \\u03ba\\u03b9\\u03bd\\u03b4\\u03cd\\u03bd\\u03bf\\u03c5, \\u03b1\\u03cd\\u03be\\u03b7\\u03c3\\u03b7, \\u03b5\\u03c5\\u03c1\\u03ce\\u03c0\\u03b7, \\u03c0\\u03c5\\u03c1\\u03ba\\u03b1\\u03b3\\u03b9\\u03ce\\u03bd\",\"<b>Topic 3</b><br>Words: \\u03c0\\u03c5\\u03c1\\u03ba\\u03b1\\u03b3\\u03b9\\u03ad\\u03c2, \\u03c0\\u03c5\\u03c1\\u03ba\\u03b1\\u03b3\\u03b9\\u03ce\\u03bd, \\u03c0\\u03c5\\u03c1\\u03bf\\u03c3\\u03b2\\u03ad\\u03c3\\u03c4\\u03b5\\u03c2, \\u03b4\\u03b1\\u03c3\\u03b9\\u03ba\\u03ce\\u03bd, \\u03b4\\u03b1\\u03c3\\u03b9\\u03ba\\u03ad\\u03c2\",\"<b>Topic 3</b><br>Words: \\u03c0\\u03c5\\u03c1\\u03ba\\u03b1\\u03b3\\u03b9\\u03ad\\u03c2, \\u03b5\\u03c5\\u03c1\\u03ce\\u03c0\\u03b7, \\u03c0\\u03c5\\u03c1\\u03ba\\u03b1\\u03b3\\u03b9\\u03ce\\u03bd, \\u03ba\\u03bb\\u03b9\\u03bc\\u03b1\\u03c4\\u03b9\\u03ba\\u03ae, \\u03b1\\u03cd\\u03be\\u03b7\\u03c3\\u03b7\",\"<b>Topic 3</b><br>Words: \\u03c0\\u03c5\\u03c1\\u03ba\\u03b1\\u03b3\\u03b9\\u03ad\\u03c2, \\u03b1\\u03bd\\u03b1\\u03bc\\u03ad\\u03bd\\u03b5\\u03c4\\u03b1\\u03b9, \\u03bc\\u03ad\\u03c3\\u03b7, \\u03b8\\u03b5\\u03c1\\u03bc\\u03bf\\u03ba\\u03c1\\u03b1\\u03c3\\u03af\\u03b1, \\u03b5\\u03bb\\u03bb\\u03ac\\u03b4\\u03b1\",\"<b>Topic 3</b><br>Words: mcguire, \\u03c0\\u03c5\\u03c1\\u03ba\\u03b1\\u03b3\\u03b9\\u03ad\\u03c2, \\u03b8\\u03b5\\u03c1\\u03bc\\u03bf\\u03ba\\u03c1\\u03b1\\u03c3\\u03af\\u03b1, \\u03bb\\u03ad\\u03b5\\u03b9, \\u03ba\\u03bb\\u03b9\\u03bc\\u03b1\\u03c4\\u03b9\\u03ba\\u03ae\",\"<b>Topic 3</b><br>Words: 01, 08, 2022, \\u03b5\\u03c0\\u03b9\\u03c3\\u03c4\\u03b7\\u03bc\\u03bf\\u03bd\\u03b9\\u03ba\\u03b1, \\u03bd\\u03b5\\u03b1\",\"<b>Topic 3</b><br>Words: \\u03c0\\u03c5\\u03c1\\u03ba\\u03b1\\u03b3\\u03b9\\u03ad\\u03c2, \\u03c3\\u03c4\\u03c1\\u03ad\\u03bc\\u03bc\\u03b1\\u03c4\\u03b1, \\u03c7\\u03c1\\u03cc\\u03bd\\u03b9\\u03b1, \\u03c5\\u03c0\\u03b7\\u03c1\\u03b5\\u03c3\\u03af\\u03b1, \\u03b4\\u03b1\\u03c3\\u03b9\\u03ba\\u03ae\",\"<b>Topic 3</b><br>Words: \\u03b6\\u03ad\\u03c3\\u03c4\\u03b7, \\u03b8\\u03b1\\u03bd\\u03ac\\u03c4\\u03c9\\u03bd, \\u03ba\\u03bb\\u03b9\\u03bc\\u03b1\\u03c4\\u03b9\\u03ba\\u03ae, 2018, \\u03c0\\u03c5\\u03c1\\u03ba\\u03b1\\u03b3\\u03b9\\u03ad\\u03c2\",\"<b>Topic 3</b><br>Words: 08, 2022, 11, \\u03b5\\u03c5\\u03c1\\u03ce\\u03c0\\u03b7, \\u03c0\\u03c5\\u03c1\\u03ba\\u03b1\\u03b3\\u03b9\\u03ad\\u03c2\",\"<b>Topic 3</b><br>Words: \\u03c0\\u03c5\\u03c1\\u03ba\\u03b1\\u03b3\\u03b9\\u03ad\\u03c2, \\u03c6\\u03c9\\u03c4\\u03b9\\u03ad\\u03c2, \\u03b5\\u03c0\\u03b1\\u03bd\\u03b4\\u03c1\\u03c9\\u03bc\\u03ad\\u03bd\\u03b1, \\u03c7\\u03b1\\u03c1\\u03b1\\u03ba\\u03c4\\u03b7\\u03c1\\u03b9\\u03c3\\u03c4\\u03bf\\u03cd\\u03bd, \\u03b4\\u03ac\\u03c3\\u03b7\",\"<b>Topic 3</b><br>Words: \\u03b5\\u03c5\\u03c1\\u03ce\\u03c0\\u03b7, \\u03b9\\u03c3\\u03c0\\u03b1\\u03bd\\u03af\\u03b1, \\u03b9\\u03c4\\u03b1\\u03bb\\u03af\\u03b1, \\u03b2\\u03b1\\u03bb\\u03ad\\u03bd\\u03b8\\u03b9\\u03b1, \\u03c3\\u03b1\\u03c1\\u03ce\\u03bd\\u03bf\\u03c5\\u03bd\",\"<b>Topic 3</b><br>Words: 08, 25, 2022, \\u03b4\\u03b1\\u03c3\\u03ce\\u03bd, \\u03b5\\u03c0\\u03b9\\u03c3\\u03c4\\u03b7\\u03bc\\u03bf\\u03bd\\u03b9\\u03ba\\u03b1\",\"<b>Topic 3</b><br>Words: \\u03c0\\u03c5\\u03c1\\u03ba\\u03b1\\u03b3\\u03b9\\u03ad\\u03c2, \\u03b8\\u03b5\\u03c1\\u03bc\\u03bf\\u03ba\\u03c1\\u03b1\\u03c3\\u03af\\u03b1\\u03c2, \\u03b8\\u03c5\\u03b5\\u03bb\\u03bb\\u03ce\\u03b4\\u03b5\\u03b9\\u03c2, \\u03b5\\u03bb\\u03bb\\u03ac\\u03b4\\u03b1, \\u03b1\\u03cd\\u03be\\u03b7\\u03c3\\u03b7\"],\"marker\":{\"color\":\"#F0E442\"},\"mode\":\"lines\",\"name\":\"3_\\u03c0\\u03c5\\u03c1\\u03ba\\u03b1\\u03b3\\u03b9\\u03ad\\u03c2_\\u03b5\\u03c5\\u03c1\\u03ce\\u03c0\\u03b7_\\u03b8\\u03b5\\u03c1\\u03bc\\u03bf\\u03ba\\u03c1\\u03b1\\u03c3\\u03af\\u03b1_\\u03ba\\u03bb\\u03b9\\u03bc\\u03b1\\u03c4\\u03b9\\u03ba\\u03ae\",\"x\":[\"2021-10-02T13:10:11\",\"2021-10-08T11:44:33\",\"2021-10-08T13:00:00\",\"2021-10-15T17:15:25\",\"2021-10-22T09:35:43\",\"2021-10-26T08:31:00\",\"2021-10-26T09:50:57\",\"2021-10-31T07:00:00\",\"2021-11-03T09:30:48\",\"2021-11-07T11:00:00\",\"2021-11-07T17:12:53\",\"2021-11-18T21:28:00\",\"2021-11-29T11:48:18\",\"2022-01-13T07:11:25\",\"2022-03-14T12:38:49\",\"2022-04-04T06:10:00\",\"2022-04-14T08:30:49\",\"2022-04-14T16:10:06\",\"2022-04-14T20:54:00\",\"2022-04-17T17:43:03\",\"2022-06-05T07:03:00\",\"2022-06-08T10:30:00\",\"2022-06-14T12:00:14\",\"2022-06-23T03:00:14\",\"2022-06-27T06:01:31\",\"2022-06-29T07:10:00\",\"2022-07-01T07:52:32\",\"2022-07-01T15:00:38\",\"2022-07-03T05:45:51\",\"2022-07-17T11:58:48\",\"2022-07-17T19:24:22\",\"2022-07-18T08:08:00\",\"2022-07-18T09:11:00\",\"2022-07-18T10:42:43\",\"2022-07-18T12:45:00\",\"2022-07-19T03:33:42\",\"2022-07-19T04:08:00\",\"2022-07-19T13:08:52\",\"2022-07-21T14:16:49\",\"2022-07-23T05:03:00\",\"2022-07-23T05:15:00\",\"2022-07-23T05:43:54\",\"2022-07-23T06:00:00\",\"2022-07-23T06:09:23\",\"2022-07-23T06:29:00\",\"2022-07-23T06:31:56\",\"2022-07-23T06:39:04\",\"2022-07-23T06:46:39\",\"2022-07-23T07:01:55\",\"2022-07-23T07:09:12\",\"2022-07-23T07:19:32\",\"2022-07-23T07:23:00\",\"2022-07-23T07:34:51\",\"2022-07-23T07:37:30\",\"2022-07-23T07:44:40\",\"2022-07-23T07:49:00\",\"2022-07-23T07:52:00\",\"2022-07-23T08:21:45\",\"2022-07-23T08:30:13\",\"2022-07-23T08:36:32\",\"2022-07-23T08:38:00\",\"2022-07-23T09:10:00\",\"2022-07-23T09:19:54\",\"2022-07-23T09:22:43\",\"2022-07-23T09:56:08\",\"2022-07-23T10:00:07\",\"2022-07-23T10:15:05\",\"2022-07-23T10:30:00\",\"2022-07-23T12:30:00\",\"2022-07-23T12:44:09\",\"2022-07-23T14:00:00\",\"2022-07-23T14:30:53\",\"2022-07-23T15:40:10\",\"2022-07-23T16:00:53\",\"2022-07-23T23:10:00\",\"2022-07-24T06:30:57\",\"2022-07-24T10:18:35\",\"2022-07-24T11:06:00\",\"2022-07-24T13:00:00\",\"2022-07-25T15:10:39\",\"2022-07-25T21:10:00\",\"2022-07-26T02:40:58\",\"2022-07-28T15:15:00\",\"2022-07-28T19:50:29\",\"2022-07-29T16:49:00\",\"2022-07-30T04:45:05\",\"2022-07-31T08:08:35\",\"2022-08-01T04:50:39\",\"2022-08-01T08:38:23\",\"2022-08-05T09:35:13\",\"2022-08-06T10:37:26\",\"2022-08-11T03:00:00\",\"2022-08-13T06:57:06\",\"2022-08-19T18:54:00\",\"2022-08-25T15:47:14\",\"2022-08-26T08:53:00\"],\"y\":[1,1,1,1,1,1,1,1,1,1,1,1,1,1,1,1,1,1,1,1,1,1,1,1,1,1,1,1,1,1,1,1,1,1,1,1,1,1,1,1,1,1,1,1,1,1,1,1,1,1,1,1,1,1,1,1,1,1,1,1,1,1,1,1,1,1,1,1,1,1,1,1,1,1,1,1,1,1,1,1,1,1,1,1,1,1,1,1,1,1,1,1,1,1,1,1],\"type\":\"scatter\"},{\"hoverinfo\":\"text\",\"hovertext\":[\"<b>Topic 4</b><br>Words: \\u03c4\\u03c1\\u03bf\\u03c6\\u03af\\u03bc\\u03c9\\u03bd, \\u03c4\\u03b9\\u03bc\\u03ad\\u03c2, \\u03c4\\u03b9\\u03bc\\u03ce\\u03bd, \\u03c4\\u03c1\\u03cc\\u03c6\\u03b9\\u03bc\\u03b1, fao\",\"<b>Topic 4</b><br>Words: \\u03c4\\u03c1\\u03bf\\u03c6\\u03af\\u03bc\\u03c9\\u03bd, \\u03c4\\u03b9\\u03bc\\u03ad\\u03c2, \\u03c4\\u03b9\\u03bc\\u03ce\\u03bd, \\u03c4\\u03c1\\u03cc\\u03c6\\u03b9\\u03bc\\u03b1, fao\",\"<b>Topic 4</b><br>Words: \\u03bc\\u03b1\\u03c1\\u03ba\\u03b5\\u03c4, \\u03c1\\u03ac\\u03c6\\u03b9\\u03b1, \\u03c3\\u03bf\\u03cd\\u03c0\\u03b5\\u03c1, video, \\u03b1\\u03c5\\u03be\\u03ae\\u03c3\\u03b5\\u03b9\\u03c2\",\"<b>Topic 4</b><br>Words: \\u03b1\\u03bc\\u03bd\\u03b7\\u03c3\\u03c4\\u03af\\u03b1, \\u03b4\\u03b9\\u03b5\\u03b8\\u03bd\\u03ae\\u03c2, \\u03be\\u03b7\\u03c1\\u03b1\\u03c3\\u03af\\u03b1, \\u03bc\\u03b1\\u03b4\\u03b1\\u03b3\\u03b1\\u03c3\\u03ba\\u03ac\\u03c1\\u03b7\\u03c2, \\u03b1\\u03bd\\u03b8\\u03c1\\u03c9\\u03c0\\u03b9\\u03c3\\u03c4\\u03b9\\u03ba\\u03ae\",\"<b>Topic 4</b><br>Words: \\u03b1\\u03bc\\u03bd\\u03b7\\u03c3\\u03c4\\u03af\\u03b1, \\u03b4\\u03b9\\u03b5\\u03b8\\u03bd\\u03ae\\u03c2, \\u03be\\u03b7\\u03c1\\u03b1\\u03c3\\u03af\\u03b1, \\u03bc\\u03b1\\u03b4\\u03b1\\u03b3\\u03b1\\u03c3\\u03ba\\u03ac\\u03c1\\u03b7\\u03c2, \\u03b1\\u03bd\\u03b8\\u03c1\\u03c9\\u03c0\\u03b9\\u03c3\\u03c4\\u03b9\\u03ba\\u03ae\",\"<b>Topic 4</b><br>Words: \\u03b1\\u03bc\\u03bd\\u03b7\\u03c3\\u03c4\\u03af\\u03b1, \\u03b4\\u03b9\\u03b5\\u03b8\\u03bd\\u03ae\\u03c2, \\u03be\\u03b7\\u03c1\\u03b1\\u03c3\\u03af\\u03b1, \\u03bc\\u03b1\\u03b4\\u03b1\\u03b3\\u03b1\\u03c3\\u03ba\\u03ac\\u03c1\\u03b7\\u03c2, \\u03ad\\u03ba\\u03b8\\u03b5\\u03c3\\u03b7\",\"<b>Topic 4</b><br>Words: \\u03b1\\u03bc\\u03bd\\u03b7\\u03c3\\u03c4\\u03af\\u03b1, \\u03b4\\u03b9\\u03b5\\u03b8\\u03bd\\u03ae\\u03c2, \\u03be\\u03b7\\u03c1\\u03b1\\u03c3\\u03af\\u03b1, \\u03bc\\u03b1\\u03b4\\u03b1\\u03b3\\u03b1\\u03c3\\u03ba\\u03ac\\u03c1\\u03b7\\u03c2, \\u03b1\\u03bd\\u03b8\\u03c1\\u03c9\\u03c0\\u03b9\\u03c3\\u03c4\\u03b9\\u03ba\\u03ae\",\"<b>Topic 4</b><br>Words: \\u03b1\\u03bc\\u03bd\\u03b7\\u03c3\\u03c4\\u03af\\u03b1, \\u03b4\\u03b9\\u03b5\\u03b8\\u03bd\\u03ae\\u03c2, \\u03be\\u03b7\\u03c1\\u03b1\\u03c3\\u03af\\u03b1, mixanitouxronou, \\u03bc\\u03b1\\u03b4\\u03b1\\u03b3\\u03b1\\u03c3\\u03ba\\u03ac\\u03c1\\u03b7\\u03c2\",\"<b>Topic 4</b><br>Words: \\u03b5\\u03ba\\u03b1\\u03c4\\u03bf\\u03bc\\u03bc\\u03cd\\u03c1\\u03b9\\u03b1, \\u03c0\\u03b5\\u03c0, \\u03b1\\u03c6\\u03b3\\u03b1\\u03bd\\u03b9\\u03c3\\u03c4\\u03ac\\u03bd, \\u03bb\\u03b9\\u03bc\\u03bf\\u03cd, \\u03bf\\u03be\\u03b5\\u03af\\u03b1\\u03c2\",\"<b>Topic 4</b><br>Words: \\u03bb\\u03bf\\u03c5\\u03ba\\u03b1\\u03c3\\u03ad\\u03bd\\u03ba\\u03bf, \\u03bb\\u03b5\\u03c5\\u03ba\\u03bf\\u03c1\\u03c9\\u03c3\\u03af\\u03b1, \\u03b5\\u03b9\\u03b4\\u03ae\\u03c3\\u03b5\\u03b9\\u03c2, \\u03ba\\u03b1\\u03b8\\u03b5\\u03c3\\u03c4\\u03ce\\u03c2, kathimerini\",\"<b>Topic 4</b><br>Words: \\u03c3\\u03bf\\u03c5\\u03b4\\u03ac\\u03bd, \\u03bd\\u03cc\\u03c4\\u03b9\\u03bf, \\u03bd\\u03b9\\u03ce\\u03b8\\u03bf\\u03c5\\u03bc\\u03b5, \\u03c0\\u03bb\\u03b7\\u03bc\\u03bc\\u03cd\\u03c1\\u03b5\\u03c2, \\u03c4\\u03c1\\u03bf\\u03c6\\u03af\\u03bc\\u03c9\\u03bd\",\"<b>Topic 4</b><br>Words: \\u03c3\\u03bf\\u03bc\\u03b1\\u03bb\\u03af\\u03b1, \\u03bf\\u03b7\\u03b5, \\u03b2\\u03bf\\u03ae\\u03b8\\u03b5\\u03b9\\u03b1, \\u03b1\\u03bd\\u03b8\\u03c1\\u03c9\\u03c0\\u03b9\\u03c3\\u03c4\\u03b9\\u03ba\\u03ae, \\u03c3\\u03c5\\u03b3\\u03ba\\u03c1\\u03bf\\u03cd\\u03c3\\u03b5\\u03b9\\u03c2\",\"<b>Topic 4</b><br>Words: \\u03c3\\u03bf\\u03bc\\u03b1\\u03bb\\u03af\\u03b1, \\u03bf\\u03b7\\u03b5, \\u03b2\\u03bf\\u03ae\\u03b8\\u03b5\\u03b9\\u03b1, \\u03b1\\u03bd\\u03b8\\u03c1\\u03c9\\u03c0\\u03b9\\u03c3\\u03c4\\u03b9\\u03ba\\u03ae, \\u03c3\\u03c5\\u03b3\\u03ba\\u03c1\\u03bf\\u03cd\\u03c3\\u03b5\\u03b9\\u03c2\",\"<b>Topic 4</b><br>Words: \\u03c3\\u03bf\\u03bc\\u03b1\\u03bb\\u03af\\u03b1, \\u03b2\\u03bf\\u03ae\\u03b8\\u03b5\\u03b9\\u03b1, \\u03bf\\u03b7\\u03b5, \\u03b1\\u03bd\\u03b8\\u03c1\\u03c9\\u03c0\\u03b9\\u03c3\\u03c4\\u03b9\\u03ba\\u03ae, \\u03c3\\u03c5\\u03b3\\u03ba\\u03c1\\u03bf\\u03cd\\u03c3\\u03b5\\u03b9\\u03c2\",\"<b>Topic 4</b><br>Words: \\u03c3\\u03bf\\u03bc\\u03b1\\u03bb\\u03af\\u03b1, \\u03bf\\u03b7\\u03b5, \\u03b2\\u03bf\\u03ae\\u03b8\\u03b5\\u03b9\\u03b1, \\u03b1\\u03bd\\u03b8\\u03c1\\u03c9\\u03c0\\u03b9\\u03c3\\u03c4\\u03b9\\u03ba\\u03ae, \\u03c3\\u03c5\\u03b3\\u03ba\\u03c1\\u03bf\\u03cd\\u03c3\\u03b5\\u03b9\\u03c2\",\"<b>Topic 4</b><br>Words: \\u03c3\\u03bf\\u03bc\\u03b1\\u03bb\\u03af\\u03b1, \\u03bf\\u03b7\\u03b5, \\u03b2\\u03bf\\u03ae\\u03b8\\u03b5\\u03b9\\u03b1, \\u03b1\\u03bd\\u03b8\\u03c1\\u03c9\\u03c0\\u03b9\\u03c3\\u03c4\\u03b9\\u03ba\\u03ae, \\u03c3\\u03c5\\u03b3\\u03ba\\u03c1\\u03bf\\u03cd\\u03c3\\u03b5\\u03b9\\u03c2\",\"<b>Topic 4</b><br>Words: \\u03c3\\u03bf\\u03bc\\u03b1\\u03bb\\u03af\\u03b1, \\u03b2\\u03bf\\u03ae\\u03b8\\u03b5\\u03b9\\u03b1, \\u03b1\\u03bd\\u03b8\\u03c1\\u03c9\\u03c0\\u03b9\\u03c3\\u03c4\\u03b9\\u03ba\\u03ae, \\u03bf\\u03b7\\u03b5, \\u03c3\\u03c5\\u03b3\\u03ba\\u03c1\\u03bf\\u03cd\\u03c3\\u03b5\\u03b9\\u03c2\",\"<b>Topic 4</b><br>Words: \\u03c3\\u03bf\\u03bc\\u03b1\\u03bb\\u03af\\u03b1, \\u03bf\\u03b7\\u03b5, \\u03b2\\u03bf\\u03ae\\u03b8\\u03b5\\u03b9\\u03b1, \\u03b1\\u03bd\\u03b8\\u03c1\\u03c9\\u03c0\\u03b9\\u03c3\\u03c4\\u03b9\\u03ba\\u03ae, \\u03c3\\u03c5\\u03b3\\u03ba\\u03c1\\u03bf\\u03cd\\u03c3\\u03b5\\u03b9\\u03c2\",\"<b>Topic 4</b><br>Words: \\u03c3\\u03bf\\u03bc\\u03b1\\u03bb\\u03af\\u03b1, \\u03bf\\u03b7\\u03b5, \\u03b2\\u03bf\\u03ae\\u03b8\\u03b5\\u03b9\\u03b1, \\u03b1\\u03bd\\u03b8\\u03c1\\u03c9\\u03c0\\u03b9\\u03c3\\u03c4\\u03b9\\u03ba\\u03ae, \\u03b5\\u03ba\\u03b1\\u03c4\\u03bf\\u03bc\\u03bc\\u03cd\\u03c1\\u03b9\\u03b1\",\"<b>Topic 4</b><br>Words: \\u03b9\\u03b8\\u03b1\\u03ba\\u03b7\\u03c2, \\u03ba\\u03b5\\u03b8\\u03b5\\u03b1, \\u03ba\\u03bf\\u03b9\\u03bd\\u03cc\\u03c4\\u03b7\\u03c4\\u03b1\\u03c2, \\u03c0\\u03c1\\u03bf\\u03ca\\u03cc\\u03bd\\u03c4\\u03b1, \\u03c0\\u03c1\\u03bf\\u03ca\\u03cc\\u03bd\\u03c4\\u03c9\\u03bd\",\"<b>Topic 4</b><br>Words: 08, 02, 2022, \\u03b5\\u03ba\\u03b1\\u03c4\\u03bf\\u03bc\\u03bc\\u03cd\\u03c1\\u03b9\\u03b1, \\u03c4\\u03c1\\u03bf\\u03c6\\u03af\\u03bc\\u03c9\\u03bd\",\"<b>Topic 4</b><br>Words: \\u03b4\\u03ae\\u03bb\\u03c9\\u03c3\\u03b1\\u03bd, \\u03b7\\u03b3\\u03ad\\u03c4\\u03b5\\u03c2, g7, \\u03b9\\u03c3\\u03c4\\u03bf\\u03c1\\u03af\\u03b1\\u03c2, \\u03bf\\u03c5\\u03ba\\u03c1\\u03b1\\u03bd\\u03af\\u03b1\",\"<b>Topic 4</b><br>Words: \\u03c0\\u03c1\\u03cc\\u03b2\\u03bb\\u03b7\\u03bc\\u03b1, \\u03bb\\u03b5\\u03c0\\u03c4\\u03ac, \\u03ba\\u03b1\\u03c1\\u03c4\\u03ad\\u03bb, \\u03c8\\u03c9\\u03bc\\u03b9\\u03bf\\u03cd, \\u03c4\\u03b9\\u03bc\\u03ae\",\"<b>Topic 4</b><br>Words: \\u03bf\\u03c5\\u03ba\\u03c1\\u03b1\\u03bd\\u03af\\u03b1, \\u03c1\\u03c9\\u03c3\\u03af\\u03b1, \\u03c3\\u03b9\\u03c4\\u03b1\\u03c1\\u03b9\\u03bf\\u03cd, \\u03c4\\u03c1\\u03bf\\u03c6\\u03af\\u03bc\\u03c9\\u03bd, \\u03b5\\u03be\\u03b1\\u03b3\\u03c9\\u03b3\\u03ad\\u03c2\",\"<b>Topic 4</b><br>Words: \\u03c4\\u03c1\\u03bf\\u03c6\\u03af\\u03bc\\u03c9\\u03bd, \\u03bf\\u03b7\\u03b5, \\u03b1\\u03bb\\u03c5\\u03c3\\u03b9\\u03b4\\u03c9\\u03c4\\u03ad\\u03c2, \\u03b1\\u03bd\\u03b1\\u03c6\\u03ad\\u03c1\\u03b5\\u03b9, \\u03c4\\u03b9\\u03bc\\u03ad\\u03c2\",\"<b>Topic 4</b><br>Words: \\u03c4\\u03c1\\u03bf\\u03c6\\u03af\\u03bc\\u03c9\\u03bd, \\u03b5\\u03c0\\u03b9\\u03c3\\u03b9\\u03c4\\u03b9\\u03c3\\u03c4\\u03b9\\u03ba\\u03ae, \\u03bf\\u03c5\\u03ba\\u03c1\\u03b1\\u03bd\\u03af\\u03b1, \\u03c0\\u03b1\\u03c1\\u03b1\\u03b3\\u03c9\\u03b3\\u03ae, \\u03c4\\u03b9\\u03bc\\u03ad\\u03c2\",\"<b>Topic 4</b><br>Words: \\u03c1\\u03c9\\u03c3\\u03af\\u03b1, \\u03c4\\u03c1\\u03bf\\u03c6\\u03af\\u03bc\\u03c9\\u03bd, \\u03bf\\u03c5\\u03ba\\u03c1\\u03b1\\u03bd\\u03af\\u03b1, \\u03bf\\u03c5\\u03ba\\u03c1\\u03b1\\u03bd\\u03af\\u03b1\\u03c2, \\u03c0\\u03bf\\u03cd\\u03c4\\u03b9\\u03bd\",\"<b>Topic 4</b><br>Words: \\u03b5\\u03c0\\u03b9\\u03c3\\u03b9\\u03c4\\u03b9\\u03c3\\u03c4\\u03b9\\u03ba\\u03ae, \\u03c0\\u03cc\\u03bb\\u03b5\\u03bc\\u03bf\\u03c2, \\u03be\\u03b5\\u03bc\\u03ad\\u03bd\\u03bf\\u03c5\\u03bc\\u03b5, \\u03ba\\u03bb\\u03b5\\u03af\\u03b4\\u03c9\\u03bc\\u03b1, \\u03b5\\u03be\\u03b5\\u03b3\\u03ad\\u03c1\\u03c3\\u03b5\\u03b9\\u03c2\",\"<b>Topic 4</b><br>Words: \\u03c0\\u03bf\\u03b9\\u03ba\\u03b9\\u03bb\\u03b9\\u03ce\\u03bd, \\u03c4\\u03bf\\u03c0\\u03b9\\u03ba\\u03ce\\u03bd, \\u03b2\\u03b9\\u03bf\\u03c0\\u03bf\\u03b9\\u03ba\\u03b9\\u03bb\\u03cc\\u03c4\\u03b7\\u03c4\\u03b1\\u03c2, \\u03c4\\u03c1\\u03bf\\u03c6\\u03af\\u03bc\\u03c9\\u03bd, \\u03b3\\u03b5\\u03c9\\u03c1\\u03b3\\u03af\\u03b1\\u03c2\",\"<b>Topic 4</b><br>Words: \\u03b5\\u03ba\\u03b1\\u03c4\\u03bf\\u03bc\\u03bc\\u03cd\\u03c1\\u03b9\\u03b1, \\u03b5\\u03c0\\u03b9\\u03c3\\u03b9\\u03c4\\u03b9\\u03c3\\u03c4\\u03b9\\u03ba\\u03ae, 2022, \\u03bc\\u03b1\\u0390\\u03bf\\u03c5, \\u03c4\\u03c1\\u03bf\\u03c6\\u03af\\u03bc\\u03c9\\u03bd\",\"<b>Topic 4</b><br>Words: \\u03c4\\u03c1\\u03bf\\u03c6\\u03af\\u03bc\\u03c9\\u03bd, \\u03ba\\u03c1\\u03af\\u03c3\\u03b7, \\u03b5\\u03c0\\u03b9\\u03c3\\u03b9\\u03c4\\u03b9\\u03c3\\u03c4\\u03b9\\u03ba\\u03ae, \\u03b5\\u03ba\\u03b1\\u03c4\\u03bf\\u03bc\\u03bc\\u03cd\\u03c1\\u03b9\\u03b1, \\u03bf\\u03b7\\u03b5\",\"<b>Topic 4</b><br>Words: \\u03c4\\u03c1\\u03bf\\u03c6\\u03af\\u03bc\\u03c9\\u03bd, \\u03b5\\u03c0\\u03b9\\u03c3\\u03b9\\u03c4\\u03b9\\u03c3\\u03c4\\u03b9\\u03ba\\u03ae, \\u03bf\\u03c5\\u03ba\\u03c1\\u03b1\\u03bd\\u03af\\u03b1, \\u03c4\\u03b9\\u03bc\\u03ad\\u03c2, \\u03c7\\u03ce\\u03c1\\u03b5\\u03c2\",\"<b>Topic 4</b><br>Words: \\u03c4\\u03c1\\u03bf\\u03c6\\u03af\\u03bc\\u03c9\\u03bd, \\u03b5\\u03c0\\u03b9\\u03c3\\u03b9\\u03c4\\u03b9\\u03c3\\u03c4\\u03b9\\u03ba\\u03ae, \\u03bf\\u03c5\\u03ba\\u03c1\\u03b1\\u03bd\\u03af\\u03b1, \\u03c4\\u03b9\\u03bc\\u03ad\\u03c2, \\u03c7\\u03ce\\u03c1\\u03b5\\u03c2\",\"<b>Topic 4</b><br>Words: \\u03c4\\u03c1\\u03bf\\u03c6\\u03af\\u03bc\\u03c9\\u03bd, \\u03b5\\u03c0\\u03b9\\u03c3\\u03b9\\u03c4\\u03b9\\u03c3\\u03c4\\u03b9\\u03ba\\u03ae, \\u03bf\\u03c5\\u03ba\\u03c1\\u03b1\\u03bd\\u03af\\u03b1, \\u03c4\\u03b9\\u03bc\\u03ad\\u03c2, \\u03c7\\u03ce\\u03c1\\u03b5\\u03c2\",\"<b>Topic 4</b><br>Words: \\u03c4\\u03c1\\u03bf\\u03c6\\u03af\\u03bc\\u03c9\\u03bd, \\u03b5\\u03c0\\u03b9\\u03c3\\u03b9\\u03c4\\u03b9\\u03c3\\u03c4\\u03b9\\u03ba\\u03ae, \\u03c4\\u03b9\\u03bc\\u03ad\\u03c2, \\u03bf\\u03c5\\u03ba\\u03c1\\u03b1\\u03bd\\u03af\\u03b1, \\u03ba\\u03c1\\u03af\\u03c3\\u03b7\",\"<b>Topic 4</b><br>Words: \\u03b5\\u03c0\\u03b9\\u03c3\\u03b9\\u03c4\\u03b9\\u03c3\\u03c4\\u03b9\\u03ba\\u03ae\\u03c2, \\u03b4\\u03ae\\u03bb\\u03c9\\u03c3\\u03b5, \\u03b5\\u03c0\\u03b9\\u03c3\\u03b9\\u03c4\\u03b9\\u03c3\\u03c4\\u03b9\\u03ba\\u03ae, g20, \\u03ba\\u03c1\\u03af\\u03c3\\u03b7\",\"<b>Topic 4</b><br>Words: \\u03c6\\u03ac\\u03c3\\u03bf, \\u03bc\\u03c0\\u03bf\\u03c5\\u03c1\\u03ba\\u03af\\u03bd\\u03b1, \\u03b3\\u03ba\\u03c1\\u03ac\\u03bd\\u03c4\\u03b9, \\u03c4\\u03c3\\u03b1\\u03bd\\u03c4, \\u03c3\\u03ac\\u03c7\\u03b5\\u03bb\",\"<b>Topic 4</b><br>Words: \\u03bc\\u03bf\\u03c5\\u03c3\\u03c4\\u03ac\\u03c1\\u03b4\\u03b1\\u03c2, \\u03b3\\u03ac\\u03bb\\u03bb\\u03c9\\u03bd, dijon, \\u03bc\\u03bf\\u03c5\\u03c3\\u03c4\\u03ac\\u03c1\\u03b4\\u03b1, \\u03bd\\u03c4\\u03b9\\u03b6\\u03cc\\u03bd\",\"<b>Topic 4</b><br>Words: \\u03c4\\u03c1\\u03bf\\u03c6\\u03af\\u03bc\\u03c9\\u03bd, \\u03b1\\u03b2\\u03bf\\u03ba\\u03ac\\u03bd\\u03c4\\u03bf, \\u03c4\\u03b9\\u03bc\\u03ad\\u03c2, \\u03b5\\u03c0\\u03b9\\u03c3\\u03b9\\u03c4\\u03b9\\u03c3\\u03c4\\u03b9\\u03ba\\u03ae, \\u03b1\\u03bd\\u03b7\\u03c3\\u03c5\\u03c7\\u03b5\\u03af\\u03c4\\u03b5\",\"<b>Topic 4</b><br>Words: \\u03c0\\u03b5\\u03af\\u03bd\\u03b1, \\u03bc\\u03b1\\u03b4\\u03b1\\u03b3\\u03b1\\u03c3\\u03ba\\u03ac\\u03c1\\u03b7, \\u03bc\\u03b1\\u03b4\\u03b1\\u03b3\\u03b1\\u03c3\\u03ba\\u03ac\\u03c1\\u03b7\\u03c2, \\u03bb\\u03b9\\u03bc\\u03cc, \\u03ba\\u03ad\\u03c1\\u03b5\",\"<b>Topic 4</b><br>Words: \\u03b5\\u03c0\\u03b9\\u03c3\\u03b9\\u03c4\\u03b9\\u03c3\\u03c4\\u03b9\\u03ba\\u03ae, \\u03c0\\u03bf\\u03bb\\u03ad\\u03bc\\u03bf\\u03c5, \\u03c1\\u03c9\\u03c3\\u03af\\u03b1, \\u03b3\\u03ba\\u03c1\\u03af\\u03bd\\u03c6\\u03b9\\u03bb\\u03bd\\u03c4, \\u03c4\\u03c1\\u03bf\\u03c6\\u03af\\u03bc\\u03c9\\u03bd\",\"<b>Topic 4</b><br>Words: \\u03b5\\u03c0\\u03b9\\u03c3\\u03b9\\u03c4\\u03b9\\u03c3\\u03c4\\u03b9\\u03ba\\u03ae, \\u03c0\\u03bf\\u03bb\\u03ad\\u03bc\\u03bf\\u03c5, \\u03c1\\u03c9\\u03c3\\u03af\\u03b1, \\u03c4\\u03c1\\u03bf\\u03c6\\u03af\\u03bc\\u03c9\\u03bd, \\u03b3\\u03ba\\u03c1\\u03af\\u03bd\\u03c6\\u03b9\\u03bb\\u03bd\\u03c4\",\"<b>Topic 4</b><br>Words: \\u03b5\\u03c0\\u03b9\\u03c3\\u03b9\\u03c4\\u03b9\\u03c3\\u03c4\\u03b9\\u03ba\\u03ae, \\u03c0\\u03bf\\u03bb\\u03ad\\u03bc\\u03bf\\u03c5, \\u03c1\\u03c9\\u03c3\\u03af\\u03b1, \\u03c4\\u03c1\\u03bf\\u03c6\\u03af\\u03bc\\u03c9\\u03bd, \\u03b4\\u03bf\\u03bb\\u03ac\\u03c1\\u03b9\\u03b1\",\"<b>Topic 4</b><br>Words: \\u03b5\\u03c0\\u03b9\\u03c3\\u03b9\\u03c4\\u03b9\\u03c3\\u03c4\\u03b9\\u03ba\\u03ae, \\u03c0\\u03bf\\u03bb\\u03ad\\u03bc\\u03bf\\u03c5, \\u03c1\\u03c9\\u03c3\\u03af\\u03b1, \\u03b3\\u03ba\\u03c1\\u03af\\u03bd\\u03c6\\u03b9\\u03bb\\u03bd\\u03c4, \\u03c4\\u03c1\\u03bf\\u03c6\\u03af\\u03bc\\u03c9\\u03bd\",\"<b>Topic 4</b><br>Words: \\u03b5\\u03c0\\u03b9\\u03c3\\u03b9\\u03c4\\u03b9\\u03c3\\u03c4\\u03b9\\u03ba\\u03ae, \\u03c0\\u03bf\\u03bb\\u03ad\\u03bc\\u03bf\\u03c5, \\u03c1\\u03c9\\u03c3\\u03af\\u03b1, \\u03c4\\u03c1\\u03bf\\u03c6\\u03af\\u03bc\\u03c9\\u03bd, \\u03b3\\u03ba\\u03c1\\u03af\\u03bd\\u03c6\\u03b9\\u03bb\\u03bd\\u03c4\",\"<b>Topic 4</b><br>Words: \\u03b5\\u03c0\\u03b9\\u03c3\\u03b9\\u03c4\\u03b9\\u03c3\\u03c4\\u03b9\\u03ba\\u03ae, \\u03c0\\u03bf\\u03bb\\u03ad\\u03bc\\u03bf\\u03c5, \\u03c1\\u03c9\\u03c3\\u03af\\u03b1, \\u03b3\\u03ba\\u03c1\\u03af\\u03bd\\u03c6\\u03b9\\u03bb\\u03bd\\u03c4, \\u03c4\\u03c1\\u03bf\\u03c6\\u03af\\u03bc\\u03c9\\u03bd\",\"<b>Topic 4</b><br>Words: \\u03b5\\u03c0\\u03b9\\u03c3\\u03b9\\u03c4\\u03b9\\u03c3\\u03c4\\u03b9\\u03ba\\u03ae, \\u03c0\\u03bf\\u03bb\\u03ad\\u03bc\\u03bf\\u03c5, \\u03c1\\u03c9\\u03c3\\u03af\\u03b1, \\u03c4\\u03c1\\u03bf\\u03c6\\u03af\\u03bc\\u03c9\\u03bd, \\u03b3\\u03ba\\u03c1\\u03af\\u03bd\\u03c6\\u03b9\\u03bb\\u03bd\\u03c4\",\"<b>Topic 4</b><br>Words: \\u03b5\\u03c0\\u03b9\\u03c3\\u03b9\\u03c4\\u03b9\\u03c3\\u03c4\\u03b9\\u03ba\\u03ae, \\u03c0\\u03bf\\u03bb\\u03ad\\u03bc\\u03bf\\u03c5, \\u03c1\\u03c9\\u03c3\\u03af\\u03b1, \\u03b3\\u03ba\\u03c1\\u03af\\u03bd\\u03c6\\u03b9\\u03bb\\u03bd\\u03c4, \\u03c4\\u03c1\\u03bf\\u03c6\\u03af\\u03bc\\u03c9\\u03bd\",\"<b>Topic 4</b><br>Words: \\u03b5\\u03c0\\u03b9\\u03c3\\u03b9\\u03c4\\u03b9\\u03c3\\u03c4\\u03b9\\u03ba\\u03ae, \\u03c0\\u03bf\\u03bb\\u03ad\\u03bc\\u03bf\\u03c5, \\u03c1\\u03c9\\u03c3\\u03af\\u03b1, \\u03b3\\u03ba\\u03c1\\u03af\\u03bd\\u03c6\\u03b9\\u03bb\\u03bd\\u03c4, \\u03c4\\u03c1\\u03bf\\u03c6\\u03af\\u03bc\\u03c9\\u03bd\",\"<b>Topic 4</b><br>Words: \\u03b5\\u03c0\\u03b9\\u03c3\\u03b9\\u03c4\\u03b9\\u03c3\\u03c4\\u03b9\\u03ba\\u03ae, \\u03c0\\u03bf\\u03bb\\u03ad\\u03bc\\u03bf\\u03c5, \\u03c1\\u03c9\\u03c3\\u03af\\u03b1, \\u03b3\\u03ba\\u03c1\\u03af\\u03bd\\u03c6\\u03b9\\u03bb\\u03bd\\u03c4, \\u03c4\\u03c1\\u03bf\\u03c6\\u03af\\u03bc\\u03c9\\u03bd\",\"<b>Topic 4</b><br>Words: \\u03b5\\u03c0\\u03b9\\u03c3\\u03b9\\u03c4\\u03b9\\u03c3\\u03c4\\u03b9\\u03ba\\u03ae, \\u03c0\\u03bf\\u03bb\\u03ad\\u03bc\\u03bf\\u03c5, \\u03c1\\u03c9\\u03c3\\u03af\\u03b1, \\u03b3\\u03ba\\u03c1\\u03af\\u03bd\\u03c6\\u03b9\\u03bb\\u03bd\\u03c4, \\u03c4\\u03c1\\u03bf\\u03c6\\u03af\\u03bc\\u03c9\\u03bd\",\"<b>Topic 4</b><br>Words: \\u03b5\\u03c0\\u03b9\\u03c3\\u03b9\\u03c4\\u03b9\\u03c3\\u03c4\\u03b9\\u03ba\\u03ae, \\u03c0\\u03bf\\u03bb\\u03ad\\u03bc\\u03bf\\u03c5, \\u03c1\\u03c9\\u03c3\\u03af\\u03b1, \\u03b3\\u03ba\\u03c1\\u03af\\u03bd\\u03c6\\u03b9\\u03bb\\u03bd\\u03c4, \\u03c4\\u03c1\\u03bf\\u03c6\\u03af\\u03bc\\u03c9\\u03bd\",\"<b>Topic 4</b><br>Words: \\u03b5\\u03c0\\u03b9\\u03c3\\u03b9\\u03c4\\u03b9\\u03c3\\u03c4\\u03b9\\u03ba\\u03ae, \\u03c0\\u03bf\\u03bb\\u03ad\\u03bc\\u03bf\\u03c5, \\u03c1\\u03c9\\u03c3\\u03af\\u03b1, \\u03bf\\u03c5\\u03ba\\u03c1\\u03b1\\u03bd\\u03af\\u03b1, \\u03c4\\u03c1\\u03bf\\u03c6\\u03af\\u03bc\\u03c9\\u03bd\",\"<b>Topic 4</b><br>Words: \\u03b5\\u03c0\\u03b9\\u03c3\\u03b9\\u03c4\\u03b9\\u03c3\\u03c4\\u03b9\\u03ba\\u03ae, \\u03c0\\u03bf\\u03bb\\u03ad\\u03bc\\u03bf\\u03c5, \\u03c1\\u03c9\\u03c3\\u03af\\u03b1, \\u03b3\\u03ba\\u03c1\\u03af\\u03bd\\u03c6\\u03b9\\u03bb\\u03bd\\u03c4, \\u03c4\\u03c1\\u03bf\\u03c6\\u03af\\u03bc\\u03c9\\u03bd\",\"<b>Topic 4</b><br>Words: \\u03b5\\u03c0\\u03b9\\u03c3\\u03b9\\u03c4\\u03b9\\u03c3\\u03c4\\u03b9\\u03ba\\u03ae, \\u03c0\\u03bf\\u03bb\\u03ad\\u03bc\\u03bf\\u03c5, \\u03c1\\u03c9\\u03c3\\u03af\\u03b1, \\u03b3\\u03ba\\u03c1\\u03af\\u03bd\\u03c6\\u03b9\\u03bb\\u03bd\\u03c4, \\u03c4\\u03c1\\u03bf\\u03c6\\u03af\\u03bc\\u03c9\\u03bd\",\"<b>Topic 4</b><br>Words: \\u03b5\\u03c0\\u03b9\\u03c3\\u03b9\\u03c4\\u03b9\\u03c3\\u03c4\\u03b9\\u03ba\\u03ae, \\u03c0\\u03bf\\u03bb\\u03ad\\u03bc\\u03bf\\u03c5, \\u03c1\\u03c9\\u03c3\\u03af\\u03b1, \\u03c4\\u03c1\\u03bf\\u03c6\\u03af\\u03bc\\u03c9\\u03bd, \\u03b4\\u03bf\\u03bb\\u03ac\\u03c1\\u03b9\\u03b1\",\"<b>Topic 4</b><br>Words: \\u03b5\\u03c0\\u03b9\\u03c3\\u03b9\\u03c4\\u03b9\\u03c3\\u03c4\\u03b9\\u03ba\\u03ae, \\u03c0\\u03bf\\u03bb\\u03ad\\u03bc\\u03bf\\u03c5, \\u03c1\\u03c9\\u03c3\\u03af\\u03b1, \\u03b3\\u03ba\\u03c1\\u03af\\u03bd\\u03c6\\u03b9\\u03bb\\u03bd\\u03c4, \\u03c4\\u03c1\\u03bf\\u03c6\\u03af\\u03bc\\u03c9\\u03bd\",\"<b>Topic 4</b><br>Words: \\u03b5\\u03c0\\u03b9\\u03c3\\u03b9\\u03c4\\u03b9\\u03c3\\u03c4\\u03b9\\u03ba\\u03ae, \\u03b3\\u03ba\\u03c1\\u03af\\u03bd\\u03c6\\u03b9\\u03bb\\u03bd\\u03c4, \\u03c4\\u03c1\\u03bf\\u03c6\\u03af\\u03bc\\u03c9\\u03bd, \\u03bf\\u03c5\\u03ba\\u03c1\\u03b1\\u03bd\\u03af\\u03b1, \\u03ba\\u03c5\\u03c1\\u03ce\\u03c3\\u03b5\\u03b9\\u03c2\",\"<b>Topic 4</b><br>Words: \\u03b5\\u03c0\\u03b9\\u03c3\\u03b9\\u03c4\\u03b9\\u03c3\\u03c4\\u03b9\\u03ba\\u03ae, \\u03c0\\u03bf\\u03bb\\u03ad\\u03bc\\u03bf\\u03c5, \\u03c1\\u03c9\\u03c3\\u03af\\u03b1, \\u03c4\\u03c1\\u03bf\\u03c6\\u03af\\u03bc\\u03c9\\u03bd, \\u03b4\\u03bf\\u03bb\\u03ac\\u03c1\\u03b9\\u03b1\",\"<b>Topic 4</b><br>Words: \\u03b5\\u03c0\\u03b9\\u03c3\\u03b9\\u03c4\\u03b9\\u03c3\\u03c4\\u03b9\\u03ba\\u03ae, \\u03c0\\u03bf\\u03bb\\u03ad\\u03bc\\u03bf\\u03c5, \\u03c1\\u03c9\\u03c3\\u03af\\u03b1, \\u03c4\\u03c1\\u03bf\\u03c6\\u03af\\u03bc\\u03c9\\u03bd, \\u03b3\\u03ba\\u03c1\\u03af\\u03bd\\u03c6\\u03b9\\u03bb\\u03bd\\u03c4\",\"<b>Topic 4</b><br>Words: jquery, appendto, \\u03c1\\u03ce\\u03c3\\u03bf\\u03c2, \\u03c1\\u03c9\\u03c3\\u03af\\u03b1, empty\",\"<b>Topic 4</b><br>Words: \\u03c4\\u03c1\\u03bf\\u03c6\\u03af\\u03bc\\u03c9\\u03bd, \\u03c0\\u03b5\\u03af\\u03bd\\u03b1\\u03c2, \\u03bf\\u03b7\\u03b5, \\u03bb\\u03b9\\u03bc\\u03cc, \\u03bf\\u03c5\\u03ba\\u03c1\\u03b1\\u03bd\\u03af\\u03b1\",\"<b>Topic 4</b><br>Words: jquery, appendto, empty, dv200, dv202\",\"<b>Topic 4</b><br>Words: \\u03b5\\u03ba\\u03b1\\u03c4\\u03bf\\u03bc\\u03bc\\u03cd\\u03c1\\u03b9\\u03b1, \\u03c6\\u03bb\\u03ac\\u03b9\\u03c3\\u03b5\\u03c1, wfp, \\u03ad\\u03bb\\u03bb\\u03b5\\u03b9\\u03c8\\u03b7, \\u03b5\\u03c0\\u03b9\\u03c3\\u03b9\\u03c4\\u03b9\\u03c3\\u03c4\\u03b9\\u03ba\\u03ae\",\"<b>Topic 4</b><br>Words: \\u03b5\\u03ba\\u03b1\\u03c4\\u03bf\\u03bc\\u03bc\\u03cd\\u03c1\\u03b9\\u03b1, \\u03c6\\u03bb\\u03ac\\u03b9\\u03c3\\u03b5\\u03c1, \\u03b5\\u03c0\\u03b9\\u03c3\\u03b9\\u03c4\\u03b9\\u03c3\\u03c4\\u03b9\\u03ba\\u03ae, wfp, \\u03b9\\u03c1\\u03ac\\u03ba\",\"<b>Topic 4</b><br>Words: wfp, \\u03c6\\u03bb\\u03ac\\u03b9\\u03c3\\u03b5\\u03c1, \\u03b5\\u03ba\\u03b1\\u03c4\\u03bf\\u03bc\\u03bc\\u03cd\\u03c1\\u03b9\\u03b1, \\u03ac\\u03bd\\u03b8\\u03c1\\u03c9\\u03c0\\u03bf\\u03b9, \\u03c3\\u03c5\\u03b3\\u03ba\\u03c1\\u03bf\\u03cd\\u03c3\\u03b5\\u03b9\\u03c2\",\"<b>Topic 4</b><br>Words: wfp, \\u03c6\\u03bb\\u03ac\\u03b9\\u03c3\\u03b5\\u03c1, \\u03b5\\u03ba\\u03b1\\u03c4\\u03bf\\u03bc\\u03bc\\u03cd\\u03c1\\u03b9\\u03b1, \\u03c0\\u03cc\\u03bb\\u03b5\\u03bc\\u03bf\\u03c2, \\u03c0\\u03b1\\u03b3\\u03ba\\u03bf\\u03c3\\u03bc\\u03af\\u03c9\\u03c2\",\"<b>Topic 4</b><br>Words: \\u03b5\\u03c0\\u03b9\\u03c3\\u03b9\\u03c4\\u03b9\\u03c3\\u03c4\\u03b9\\u03ba\\u03ae, \\u03b3\\u03c5\\u03bd\\u03b1\\u03af\\u03ba\\u03b5\\u03c2, \\u03c4\\u03c1\\u03bf\\u03c6\\u03af\\u03bc\\u03c9\\u03bd, \\u03b5\\u03ba\\u03b1\\u03c4\\u03bf\\u03bc\\u03bc\\u03cd\\u03c1\\u03b9\\u03b1, \\u03bf\\u03c5\\u03ba\\u03c1\\u03b1\\u03bd\\u03af\\u03b1\",\"<b>Topic 4</b><br>Words: 09, 2022, \\u03b5\\u03ba\\u03b1\\u03c4\\u03bf\\u03bc\\u03bc\\u03cd\\u03c1\\u03b9\\u03b1, 16, \\u03b5\\u03c0\\u03b9\\u03c3\\u03b9\\u03c4\\u03b9\\u03c3\\u03c4\\u03b9\\u03ba\\u03ae\",\"<b>Topic 4</b><br>Words: \\u03c3\\u03c5\\u03bd\\u03ad\\u03bb\\u03b5\\u03c5\\u03c3\\u03b7, \\u03b3\\u03b5\\u03bd\\u03b9\\u03ba\\u03ae, \\u03bf\\u03c5\\u03ba\\u03c1\\u03b1\\u03bd\\u03af\\u03b1, \\u03b5\\u03c0\\u03b9\\u03c3\\u03b9\\u03c4\\u03b9\\u03c3\\u03c4\\u03b9\\u03ba\\u03ae, \\u03bf\\u03b7\\u03b5\"],\"marker\":{\"color\":\"#D55E00\"},\"mode\":\"lines\",\"name\":\"4_\\u03c4\\u03c1\\u03bf\\u03c6\\u03af\\u03bc\\u03c9\\u03bd_\\u03b5\\u03c0\\u03b9\\u03c3\\u03b9\\u03c4\\u03b9\\u03c3\\u03c4\\u03b9\\u03ba\\u03ae_\\u03bf\\u03c5\\u03ba\\u03c1\\u03b1\\u03bd\\u03af\\u03b1_\\u03b5\\u03ba\\u03b1\\u03c4\\u03bf\\u03bc\\u03bc...\",\"x\":[\"2021-10-02T11:58:38\",\"2021-10-02T20:21:42\",\"2021-10-26T13:15:00\",\"2021-10-27T10:50:36\",\"2021-10-27T11:03:30\",\"2021-10-27T11:05:24\",\"2021-10-27T14:35:45\",\"2021-10-27T15:30:18\",\"2021-11-08T04:37:27\",\"2021-11-08T23:10:00\",\"2021-12-12T05:12:00\",\"2021-12-20T07:49:04\",\"2021-12-20T07:56:00\",\"2021-12-20T07:57:24\",\"2021-12-20T08:12:21\",\"2021-12-20T08:30:00\",\"2021-12-20T08:38:00\",\"2021-12-20T09:06:24\",\"2021-12-20T09:13:37\",\"2021-12-26T17:50:03\",\"2022-02-08T11:07:39\",\"2022-02-24T17:00:00\",\"2022-03-17T11:51:37\",\"2022-03-25T23:39:00\",\"2022-04-15T06:29:09\",\"2022-05-05T18:15:39\",\"2022-05-22T20:55:50\",\"2022-05-29T13:49:33\",\"2022-06-01T16:51:11\",\"2022-06-01T22:33:00\",\"2022-06-12T05:10:00\",\"2022-06-14T15:37:43\",\"2022-06-14T18:00:20\",\"2022-06-14T18:51:26\",\"2022-06-15T04:36:08\",\"2022-07-15T09:19:44\",\"2022-07-15T11:35:31\",\"2022-07-16T23:07:00\",\"2022-08-02T21:00:00\",\"2022-08-05T02:40:02\",\"2022-08-05T16:53:00\",\"2022-08-05T17:08:18\",\"2022-08-05T17:08:39\",\"2022-08-05T17:10:16\",\"2022-08-05T17:15:00\",\"2022-08-05T17:16:00\",\"2022-08-05T17:28:42\",\"2022-08-05T17:30:22\",\"2022-08-05T17:30:32\",\"2022-08-05T17:50:00\",\"2022-08-05T18:03:43\",\"2022-08-05T18:12:58\",\"2022-08-05T18:20:14\",\"2022-08-05T18:21:00\",\"2022-08-05T18:45:00\",\"2022-08-05T18:58:24\",\"2022-08-05T19:38:00\",\"2022-08-05T20:03:00\",\"2022-08-05T20:15:00\",\"2022-08-06T04:56:00\",\"2022-08-06T19:00:00\",\"2022-08-16T12:11:49\",\"2022-08-24T16:15:00\",\"2022-08-24T18:00:02\",\"2022-08-24T19:44:51\",\"2022-08-25T07:11:10\",\"2022-08-25T08:13:46\",\"2022-08-30T06:50:13\",\"2022-09-16T09:40:29\",\"2022-09-21T06:54:00\"],\"y\":[1,1,1,1,1,1,1,1,1,1,1,1,1,1,1,1,1,1,1,1,1,1,1,1,1,1,1,1,1,1,1,1,1,1,1,1,1,1,1,1,1,1,1,1,1,1,1,1,1,1,1,1,1,1,1,1,1,1,1,1,1,1,1,1,1,1,1,1,1,1],\"type\":\"scatter\"}],                        {\"template\":{\"data\":{\"barpolar\":[{\"marker\":{\"line\":{\"color\":\"white\",\"width\":0.5},\"pattern\":{\"fillmode\":\"overlay\",\"size\":10,\"solidity\":0.2}},\"type\":\"barpolar\"}],\"bar\":[{\"error_x\":{\"color\":\"rgb(36,36,36)\"},\"error_y\":{\"color\":\"rgb(36,36,36)\"},\"marker\":{\"line\":{\"color\":\"white\",\"width\":0.5},\"pattern\":{\"fillmode\":\"overlay\",\"size\":10,\"solidity\":0.2}},\"type\":\"bar\"}],\"carpet\":[{\"aaxis\":{\"endlinecolor\":\"rgb(36,36,36)\",\"gridcolor\":\"white\",\"linecolor\":\"white\",\"minorgridcolor\":\"white\",\"startlinecolor\":\"rgb(36,36,36)\"},\"baxis\":{\"endlinecolor\":\"rgb(36,36,36)\",\"gridcolor\":\"white\",\"linecolor\":\"white\",\"minorgridcolor\":\"white\",\"startlinecolor\":\"rgb(36,36,36)\"},\"type\":\"carpet\"}],\"choropleth\":[{\"colorbar\":{\"outlinewidth\":1,\"tickcolor\":\"rgb(36,36,36)\",\"ticks\":\"outside\"},\"type\":\"choropleth\"}],\"contourcarpet\":[{\"colorbar\":{\"outlinewidth\":1,\"tickcolor\":\"rgb(36,36,36)\",\"ticks\":\"outside\"},\"type\":\"contourcarpet\"}],\"contour\":[{\"colorbar\":{\"outlinewidth\":1,\"tickcolor\":\"rgb(36,36,36)\",\"ticks\":\"outside\"},\"colorscale\":[[0.0,\"#440154\"],[0.1111111111111111,\"#482878\"],[0.2222222222222222,\"#3e4989\"],[0.3333333333333333,\"#31688e\"],[0.4444444444444444,\"#26828e\"],[0.5555555555555556,\"#1f9e89\"],[0.6666666666666666,\"#35b779\"],[0.7777777777777778,\"#6ece58\"],[0.8888888888888888,\"#b5de2b\"],[1.0,\"#fde725\"]],\"type\":\"contour\"}],\"heatmapgl\":[{\"colorbar\":{\"outlinewidth\":1,\"tickcolor\":\"rgb(36,36,36)\",\"ticks\":\"outside\"},\"colorscale\":[[0.0,\"#440154\"],[0.1111111111111111,\"#482878\"],[0.2222222222222222,\"#3e4989\"],[0.3333333333333333,\"#31688e\"],[0.4444444444444444,\"#26828e\"],[0.5555555555555556,\"#1f9e89\"],[0.6666666666666666,\"#35b779\"],[0.7777777777777778,\"#6ece58\"],[0.8888888888888888,\"#b5de2b\"],[1.0,\"#fde725\"]],\"type\":\"heatmapgl\"}],\"heatmap\":[{\"colorbar\":{\"outlinewidth\":1,\"tickcolor\":\"rgb(36,36,36)\",\"ticks\":\"outside\"},\"colorscale\":[[0.0,\"#440154\"],[0.1111111111111111,\"#482878\"],[0.2222222222222222,\"#3e4989\"],[0.3333333333333333,\"#31688e\"],[0.4444444444444444,\"#26828e\"],[0.5555555555555556,\"#1f9e89\"],[0.6666666666666666,\"#35b779\"],[0.7777777777777778,\"#6ece58\"],[0.8888888888888888,\"#b5de2b\"],[1.0,\"#fde725\"]],\"type\":\"heatmap\"}],\"histogram2dcontour\":[{\"colorbar\":{\"outlinewidth\":1,\"tickcolor\":\"rgb(36,36,36)\",\"ticks\":\"outside\"},\"colorscale\":[[0.0,\"#440154\"],[0.1111111111111111,\"#482878\"],[0.2222222222222222,\"#3e4989\"],[0.3333333333333333,\"#31688e\"],[0.4444444444444444,\"#26828e\"],[0.5555555555555556,\"#1f9e89\"],[0.6666666666666666,\"#35b779\"],[0.7777777777777778,\"#6ece58\"],[0.8888888888888888,\"#b5de2b\"],[1.0,\"#fde725\"]],\"type\":\"histogram2dcontour\"}],\"histogram2d\":[{\"colorbar\":{\"outlinewidth\":1,\"tickcolor\":\"rgb(36,36,36)\",\"ticks\":\"outside\"},\"colorscale\":[[0.0,\"#440154\"],[0.1111111111111111,\"#482878\"],[0.2222222222222222,\"#3e4989\"],[0.3333333333333333,\"#31688e\"],[0.4444444444444444,\"#26828e\"],[0.5555555555555556,\"#1f9e89\"],[0.6666666666666666,\"#35b779\"],[0.7777777777777778,\"#6ece58\"],[0.8888888888888888,\"#b5de2b\"],[1.0,\"#fde725\"]],\"type\":\"histogram2d\"}],\"histogram\":[{\"marker\":{\"line\":{\"color\":\"white\",\"width\":0.6}},\"type\":\"histogram\"}],\"mesh3d\":[{\"colorbar\":{\"outlinewidth\":1,\"tickcolor\":\"rgb(36,36,36)\",\"ticks\":\"outside\"},\"type\":\"mesh3d\"}],\"parcoords\":[{\"line\":{\"colorbar\":{\"outlinewidth\":1,\"tickcolor\":\"rgb(36,36,36)\",\"ticks\":\"outside\"}},\"type\":\"parcoords\"}],\"pie\":[{\"automargin\":true,\"type\":\"pie\"}],\"scatter3d\":[{\"line\":{\"colorbar\":{\"outlinewidth\":1,\"tickcolor\":\"rgb(36,36,36)\",\"ticks\":\"outside\"}},\"marker\":{\"colorbar\":{\"outlinewidth\":1,\"tickcolor\":\"rgb(36,36,36)\",\"ticks\":\"outside\"}},\"type\":\"scatter3d\"}],\"scattercarpet\":[{\"marker\":{\"colorbar\":{\"outlinewidth\":1,\"tickcolor\":\"rgb(36,36,36)\",\"ticks\":\"outside\"}},\"type\":\"scattercarpet\"}],\"scattergeo\":[{\"marker\":{\"colorbar\":{\"outlinewidth\":1,\"tickcolor\":\"rgb(36,36,36)\",\"ticks\":\"outside\"}},\"type\":\"scattergeo\"}],\"scattergl\":[{\"marker\":{\"colorbar\":{\"outlinewidth\":1,\"tickcolor\":\"rgb(36,36,36)\",\"ticks\":\"outside\"}},\"type\":\"scattergl\"}],\"scattermapbox\":[{\"marker\":{\"colorbar\":{\"outlinewidth\":1,\"tickcolor\":\"rgb(36,36,36)\",\"ticks\":\"outside\"}},\"type\":\"scattermapbox\"}],\"scatterpolargl\":[{\"marker\":{\"colorbar\":{\"outlinewidth\":1,\"tickcolor\":\"rgb(36,36,36)\",\"ticks\":\"outside\"}},\"type\":\"scatterpolargl\"}],\"scatterpolar\":[{\"marker\":{\"colorbar\":{\"outlinewidth\":1,\"tickcolor\":\"rgb(36,36,36)\",\"ticks\":\"outside\"}},\"type\":\"scatterpolar\"}],\"scatter\":[{\"fillpattern\":{\"fillmode\":\"overlay\",\"size\":10,\"solidity\":0.2},\"type\":\"scatter\"}],\"scatterternary\":[{\"marker\":{\"colorbar\":{\"outlinewidth\":1,\"tickcolor\":\"rgb(36,36,36)\",\"ticks\":\"outside\"}},\"type\":\"scatterternary\"}],\"surface\":[{\"colorbar\":{\"outlinewidth\":1,\"tickcolor\":\"rgb(36,36,36)\",\"ticks\":\"outside\"},\"colorscale\":[[0.0,\"#440154\"],[0.1111111111111111,\"#482878\"],[0.2222222222222222,\"#3e4989\"],[0.3333333333333333,\"#31688e\"],[0.4444444444444444,\"#26828e\"],[0.5555555555555556,\"#1f9e89\"],[0.6666666666666666,\"#35b779\"],[0.7777777777777778,\"#6ece58\"],[0.8888888888888888,\"#b5de2b\"],[1.0,\"#fde725\"]],\"type\":\"surface\"}],\"table\":[{\"cells\":{\"fill\":{\"color\":\"rgb(237,237,237)\"},\"line\":{\"color\":\"white\"}},\"header\":{\"fill\":{\"color\":\"rgb(217,217,217)\"},\"line\":{\"color\":\"white\"}},\"type\":\"table\"}]},\"layout\":{\"annotationdefaults\":{\"arrowhead\":0,\"arrowwidth\":1},\"autotypenumbers\":\"strict\",\"coloraxis\":{\"colorbar\":{\"outlinewidth\":1,\"tickcolor\":\"rgb(36,36,36)\",\"ticks\":\"outside\"}},\"colorscale\":{\"diverging\":[[0.0,\"rgb(103,0,31)\"],[0.1,\"rgb(178,24,43)\"],[0.2,\"rgb(214,96,77)\"],[0.3,\"rgb(244,165,130)\"],[0.4,\"rgb(253,219,199)\"],[0.5,\"rgb(247,247,247)\"],[0.6,\"rgb(209,229,240)\"],[0.7,\"rgb(146,197,222)\"],[0.8,\"rgb(67,147,195)\"],[0.9,\"rgb(33,102,172)\"],[1.0,\"rgb(5,48,97)\"]],\"sequential\":[[0.0,\"#440154\"],[0.1111111111111111,\"#482878\"],[0.2222222222222222,\"#3e4989\"],[0.3333333333333333,\"#31688e\"],[0.4444444444444444,\"#26828e\"],[0.5555555555555556,\"#1f9e89\"],[0.6666666666666666,\"#35b779\"],[0.7777777777777778,\"#6ece58\"],[0.8888888888888888,\"#b5de2b\"],[1.0,\"#fde725\"]],\"sequentialminus\":[[0.0,\"#440154\"],[0.1111111111111111,\"#482878\"],[0.2222222222222222,\"#3e4989\"],[0.3333333333333333,\"#31688e\"],[0.4444444444444444,\"#26828e\"],[0.5555555555555556,\"#1f9e89\"],[0.6666666666666666,\"#35b779\"],[0.7777777777777778,\"#6ece58\"],[0.8888888888888888,\"#b5de2b\"],[1.0,\"#fde725\"]]},\"colorway\":[\"#1F77B4\",\"#FF7F0E\",\"#2CA02C\",\"#D62728\",\"#9467BD\",\"#8C564B\",\"#E377C2\",\"#7F7F7F\",\"#BCBD22\",\"#17BECF\"],\"font\":{\"color\":\"rgb(36,36,36)\"},\"geo\":{\"bgcolor\":\"white\",\"lakecolor\":\"white\",\"landcolor\":\"white\",\"showlakes\":true,\"showland\":true,\"subunitcolor\":\"white\"},\"hoverlabel\":{\"align\":\"left\"},\"hovermode\":\"closest\",\"mapbox\":{\"style\":\"light\"},\"paper_bgcolor\":\"white\",\"plot_bgcolor\":\"white\",\"polar\":{\"angularaxis\":{\"gridcolor\":\"rgb(232,232,232)\",\"linecolor\":\"rgb(36,36,36)\",\"showgrid\":false,\"showline\":true,\"ticks\":\"outside\"},\"bgcolor\":\"white\",\"radialaxis\":{\"gridcolor\":\"rgb(232,232,232)\",\"linecolor\":\"rgb(36,36,36)\",\"showgrid\":false,\"showline\":true,\"ticks\":\"outside\"}},\"scene\":{\"xaxis\":{\"backgroundcolor\":\"white\",\"gridcolor\":\"rgb(232,232,232)\",\"gridwidth\":2,\"linecolor\":\"rgb(36,36,36)\",\"showbackground\":true,\"showgrid\":false,\"showline\":true,\"ticks\":\"outside\",\"zeroline\":false,\"zerolinecolor\":\"rgb(36,36,36)\"},\"yaxis\":{\"backgroundcolor\":\"white\",\"gridcolor\":\"rgb(232,232,232)\",\"gridwidth\":2,\"linecolor\":\"rgb(36,36,36)\",\"showbackground\":true,\"showgrid\":false,\"showline\":true,\"ticks\":\"outside\",\"zeroline\":false,\"zerolinecolor\":\"rgb(36,36,36)\"},\"zaxis\":{\"backgroundcolor\":\"white\",\"gridcolor\":\"rgb(232,232,232)\",\"gridwidth\":2,\"linecolor\":\"rgb(36,36,36)\",\"showbackground\":true,\"showgrid\":false,\"showline\":true,\"ticks\":\"outside\",\"zeroline\":false,\"zerolinecolor\":\"rgb(36,36,36)\"}},\"shapedefaults\":{\"fillcolor\":\"black\",\"line\":{\"width\":0},\"opacity\":0.3},\"ternary\":{\"aaxis\":{\"gridcolor\":\"rgb(232,232,232)\",\"linecolor\":\"rgb(36,36,36)\",\"showgrid\":false,\"showline\":true,\"ticks\":\"outside\"},\"baxis\":{\"gridcolor\":\"rgb(232,232,232)\",\"linecolor\":\"rgb(36,36,36)\",\"showgrid\":false,\"showline\":true,\"ticks\":\"outside\"},\"bgcolor\":\"white\",\"caxis\":{\"gridcolor\":\"rgb(232,232,232)\",\"linecolor\":\"rgb(36,36,36)\",\"showgrid\":false,\"showline\":true,\"ticks\":\"outside\"}},\"title\":{\"x\":0.05},\"xaxis\":{\"automargin\":true,\"gridcolor\":\"rgb(232,232,232)\",\"linecolor\":\"rgb(36,36,36)\",\"showgrid\":false,\"showline\":true,\"ticks\":\"outside\",\"title\":{\"standoff\":15},\"zeroline\":false,\"zerolinecolor\":\"rgb(36,36,36)\"},\"yaxis\":{\"automargin\":true,\"gridcolor\":\"rgb(232,232,232)\",\"linecolor\":\"rgb(36,36,36)\",\"showgrid\":false,\"showline\":true,\"ticks\":\"outside\",\"title\":{\"standoff\":15},\"zeroline\":false,\"zerolinecolor\":\"rgb(36,36,36)\"}}},\"xaxis\":{\"showgrid\":true},\"yaxis\":{\"showgrid\":true,\"title\":{\"text\":\"Frequency\"}},\"title\":{\"font\":{\"size\":22,\"color\":\"Black\"},\"text\":\"<b>Topics over Time\",\"y\":0.95,\"x\":0.4,\"xanchor\":\"center\",\"yanchor\":\"top\"},\"hoverlabel\":{\"font\":{\"size\":16,\"family\":\"Rockwell\"},\"bgcolor\":\"white\"},\"width\":1250,\"height\":450,\"legend\":{\"title\":{\"text\":\"<b>Global Topic Representation\"}}},                        {\"responsive\": true}                    ).then(function(){\n",
       "                            \n",
       "var gd = document.getElementById('5d9606aa-1a1f-49e7-a930-9f4e4f7aace2');\n",
       "var x = new MutationObserver(function (mutations, observer) {{\n",
       "        var display = window.getComputedStyle(gd).display;\n",
       "        if (!display || display === 'none') {{\n",
       "            console.log([gd, 'removed!']);\n",
       "            Plotly.purge(gd);\n",
       "            observer.disconnect();\n",
       "        }}\n",
       "}});\n",
       "\n",
       "// Listen for the removal of the full notebook cells\n",
       "var notebookContainer = gd.closest('#notebook-container');\n",
       "if (notebookContainer) {{\n",
       "    x.observe(notebookContainer, {childList: true});\n",
       "}}\n",
       "\n",
       "// Listen for the clearing of the current output cell\n",
       "var outputEl = gd.closest('.output');\n",
       "if (outputEl) {{\n",
       "    x.observe(outputEl, {childList: true});\n",
       "}}\n",
       "\n",
       "                        })                };                });            </script>        </div>"
      ]
     },
     "metadata": {},
     "output_type": "display_data"
    }
   ],
   "source": [
    "topics_over_time = topic_model.topics_over_time(news_list, timestamps)\n",
    "\n",
    "topic_model.visualize_topics_over_time(topics_over_time)"
   ]
  },
  {
   "cell_type": "code",
   "execution_count": null,
   "id": "49562044-383e-45da-bbbd-61dbc3b53ef5",
   "metadata": {},
   "outputs": [],
   "source": []
  }
 ],
 "metadata": {
  "kernelspec": {
   "display_name": "Python 3 (ipykernel)",
   "language": "python",
   "name": "python3"
  },
  "language_info": {
   "codemirror_mode": {
    "name": "ipython",
    "version": 3
   },
   "file_extension": ".py",
   "mimetype": "text/x-python",
   "name": "python",
   "nbconvert_exporter": "python",
   "pygments_lexer": "ipython3",
   "version": "3.9.12"
  }
 },
 "nbformat": 4,
 "nbformat_minor": 5
}
