{
 "cells": [
  {
   "cell_type": "code",
   "execution_count": 1,
   "id": "99bd4ac4-f968-4dfa-a18e-773ceec782bf",
   "metadata": {},
   "outputs": [],
   "source": [
    "import time, csv, os, json, requests\n",
    "import pandas as pd\n"
   ]
  },
  {
   "cell_type": "code",
   "execution_count": 2,
   "id": "396e71a6-71ea-44d4-8b3c-2ee7b7841db4",
   "metadata": {},
   "outputs": [],
   "source": [
    "api_key = 'hJHY5Je-xrbWP4-y3kwXMn7aDOkqML7BX2Uh2mhiZgE'\n",
    "base_url = 'https://api.newscatcherapi.com/v2/latest_headlines'"
   ]
  },
  {
   "cell_type": "code",
   "execution_count": 6,
   "id": "0aedd6ff-61c7-4a88-94f8-cd3ac869ffe5",
   "metadata": {
    "tags": []
   },
   "outputs": [
    {
     "data": {
      "text/html": [
       "<div>\n",
       "<style scoped>\n",
       "    .dataframe tbody tr th:only-of-type {\n",
       "        vertical-align: middle;\n",
       "    }\n",
       "\n",
       "    .dataframe tbody tr th {\n",
       "        vertical-align: top;\n",
       "    }\n",
       "\n",
       "    .dataframe thead th {\n",
       "        text-align: right;\n",
       "    }\n",
       "</style>\n",
       "<table border=\"1\" class=\"dataframe\">\n",
       "  <thead>\n",
       "    <tr style=\"text-align: right;\">\n",
       "      <th></th>\n",
       "      <th>title</th>\n",
       "      <th>author</th>\n",
       "      <th>published_date</th>\n",
       "      <th>published_date_precision</th>\n",
       "      <th>link</th>\n",
       "      <th>clean_url</th>\n",
       "      <th>excerpt</th>\n",
       "      <th>summary</th>\n",
       "      <th>rights</th>\n",
       "      <th>rank</th>\n",
       "      <th>topic</th>\n",
       "      <th>country</th>\n",
       "      <th>language</th>\n",
       "      <th>authors</th>\n",
       "      <th>media</th>\n",
       "      <th>is_opinion</th>\n",
       "      <th>twitter_account</th>\n",
       "      <th>_score</th>\n",
       "      <th>_id</th>\n",
       "    </tr>\n",
       "  </thead>\n",
       "  <tbody>\n",
       "    <tr>\n",
       "      <th>0</th>\n",
       "      <td>Το Ε.Σ καλεί την Τουρκία να διασφαλίσει την πλ...</td>\n",
       "      <td>None</td>\n",
       "      <td>2021-10-22 17:54:00</td>\n",
       "      <td>timezone unknown</td>\n",
       "      <td>https://www.madata.gr/epikairotita/world/81738...</td>\n",
       "      <td>madata.gr</td>\n",
       "      <td>Το Ευρωπαϊκό Συμβούλιο, στα συμπεράσματα που υ...</td>\n",
       "      <td>Το Ευρωπαϊκό Συμβούλιο, στα συμπεράσματα που υ...</td>\n",
       "      <td>Madata.GR</td>\n",
       "      <td>237278</td>\n",
       "      <td>news</td>\n",
       "      <td>GR</td>\n",
       "      <td>el</td>\n",
       "      <td>[]</td>\n",
       "      <td>https://www.madata.gr/files/SINODO2021.jpg</td>\n",
       "      <td>False</td>\n",
       "      <td>@madata</td>\n",
       "      <td>None</td>\n",
       "      <td>0bd6816bfa47c9e3d2bc898842d2151c</td>\n",
       "    </tr>\n",
       "  </tbody>\n",
       "</table>\n",
       "</div>"
      ],
      "text/plain": [
       "                                               title author  \\\n",
       "0  Το Ε.Σ καλεί την Τουρκία να διασφαλίσει την πλ...   None   \n",
       "\n",
       "        published_date published_date_precision  \\\n",
       "0  2021-10-22 17:54:00         timezone unknown   \n",
       "\n",
       "                                                link  clean_url  \\\n",
       "0  https://www.madata.gr/epikairotita/world/81738...  madata.gr   \n",
       "\n",
       "                                             excerpt  \\\n",
       "0  Το Ευρωπαϊκό Συμβούλιο, στα συμπεράσματα που υ...   \n",
       "\n",
       "                                             summary     rights    rank topic  \\\n",
       "0  Το Ευρωπαϊκό Συμβούλιο, στα συμπεράσματα που υ...  Madata.GR  237278  news   \n",
       "\n",
       "  country language authors                                       media  \\\n",
       "0      GR       el      []  https://www.madata.gr/files/SINODO2021.jpg   \n",
       "\n",
       "   is_opinion twitter_account _score                               _id  \n",
       "0       False         @madata   None  0bd6816bfa47c9e3d2bc898842d2151c  "
      ]
     },
     "execution_count": 6,
     "metadata": {},
     "output_type": "execute_result"
    }
   ],
   "source": [
    "headers = {'x-api-key': api_key}\n",
    "\n",
    "params = {\n",
    "    'countries': 'gr',\n",
    "    'lang': 'el',\n",
    "    'page_size': 1,\n",
    "    'page': 1  }\n",
    "\n",
    "response = requests.get(base_url, headers=headers, params=params)\n",
    "results = json.loads(response.text.encode())\n",
    "\n",
    "df = pd.DataFrame(results['articles'])\n",
    "\n",
    "df"
   ]
  },
  {
   "cell_type": "code",
   "execution_count": 7,
   "id": "b164414a-7f75-4dff-8a00-56b3a64ad85e",
   "metadata": {
    "tags": []
   },
   "outputs": [],
   "source": [
    "for i in range(1, 101):\n",
    "    params = {\n",
    "    'countries': 'gr',\n",
    "    'lang': 'el',\n",
    "    'page_size': 100,\n",
    "    'page': i }\n",
    "\n",
    "    response = requests.get(base_url, headers=headers, params=params)\n",
    "    results = json.loads(response.text.encode())\n",
    "    \n",
    "    df = df.append(results['articles'], ignore_index = True)\n",
    "    \n",
    "    time.sleep(1)\n",
    "    \n",
    "    "
   ]
  },
  {
   "cell_type": "code",
   "execution_count": 13,
   "id": "6fd33b9d-8ea4-44b8-af28-e9076a808cad",
   "metadata": {},
   "outputs": [
    {
     "name": "stdout",
     "output_type": "stream",
     "text": [
      "<class 'pandas.core.frame.DataFrame'>\n",
      "RangeIndex: 10001 entries, 0 to 10000\n",
      "Data columns (total 19 columns):\n",
      " #   Column                    Non-Null Count  Dtype \n",
      "---  ------                    --------------  ----- \n",
      " 0   title                     10001 non-null  object\n",
      " 1   author                    5978 non-null   object\n",
      " 2   published_date            10001 non-null  object\n",
      " 3   published_date_precision  10001 non-null  object\n",
      " 4   link                      10001 non-null  object\n",
      " 5   clean_url                 10001 non-null  object\n",
      " 6   excerpt                   9949 non-null   object\n",
      " 7   summary                   9921 non-null   object\n",
      " 8   rights                    9615 non-null   object\n",
      " 9   rank                      10001 non-null  int64 \n",
      " 10  topic                     10001 non-null  object\n",
      " 11  country                   10001 non-null  object\n",
      " 12  language                  10001 non-null  object\n",
      " 13  authors                   10001 non-null  object\n",
      " 14  media                     9922 non-null   object\n",
      " 15  is_opinion                10001 non-null  bool  \n",
      " 16  twitter_account           6596 non-null   object\n",
      " 17  _score                    0 non-null      object\n",
      " 18  _id                       10001 non-null  object\n",
      "dtypes: bool(1), int64(1), object(17)\n",
      "memory usage: 1.4+ MB\n"
     ]
    }
   ],
   "source": [
    "df.info()"
   ]
  },
  {
   "cell_type": "code",
   "execution_count": 15,
   "id": "e8813cfc-b6e3-4315-81c9-62ed2568b20a",
   "metadata": {},
   "outputs": [],
   "source": [
    "#df.to_csv('greek_news_articles.csv', encoding='utf-8', index=False, sep=',')"
   ]
  },
  {
   "cell_type": "code",
   "execution_count": 18,
   "id": "cc1c77a6-0cc1-4f37-b86e-e2d73f6bca6c",
   "metadata": {},
   "outputs": [
    {
     "data": {
      "text/plain": [
       "makeleio.gr           353\n",
       "protothema.gr         280\n",
       "in.gr                 232\n",
       "iefimerida.gr         201\n",
       "newsit.gr             194\n",
       "sdna.gr               183\n",
       "sigmalive.com         183\n",
       "zougla.gr             179\n",
       "cretalive.gr          168\n",
       "newsbomb.gr           167\n",
       "capital.gr            167\n",
       "real.gr               159\n",
       "parapolitika.gr       152\n",
       "magnesianews.gr       149\n",
       "naftemporiki.gr       139\n",
       "insider.gr            137\n",
       "thestival.gr          133\n",
       "newsbeast.gr          131\n",
       "euro2day.gr           130\n",
       "makthes.gr            120\n",
       "neakriti.gr           120\n",
       "pelop.gr              119\n",
       "kathimerini.gr        117\n",
       "sputniknews.gr        117\n",
       "star.gr               117\n",
       "reporter.gr           117\n",
       "ieidiseis.gr          112\n",
       "ertnews.gr            110\n",
       "bankingnews.gr        108\n",
       "dikaiologitika.gr     105\n",
       "tanea.gr              100\n",
       "skai.gr                98\n",
       "thetoc.gr              96\n",
       "madata.gr              96\n",
       "liberal.gr             94\n",
       "efsyn.gr               93\n",
       "novasports.gr          90\n",
       "patrasevents.gr        89\n",
       "eleftherostypos.gr     88\n",
       "news247.gr             86\n",
       "to10.gr                85\n",
       "aftodioikisi.gr        82\n",
       "athina984.gr           81\n",
       "taxydromos.gr          79\n",
       "thebest.gr             76\n",
       "e-thessalia.gr         76\n",
       "tovima.gr              74\n",
       "athensvoice.gr         73\n",
       "enikos.gr              72\n",
       "sofokleous10.gr        72\n",
       "Name: clean_url, dtype: int64"
      ]
     },
     "execution_count": 18,
     "metadata": {},
     "output_type": "execute_result"
    }
   ],
   "source": [
    "df['clean_url'].value_counts()[:50]"
   ]
  },
  {
   "cell_type": "code",
   "execution_count": null,
   "id": "308a9919-56b8-4387-bd7d-f9084de93ce7",
   "metadata": {},
   "outputs": [],
   "source": []
  }
 ],
 "metadata": {
  "kernelspec": {
   "display_name": "Python 3 (ipykernel)",
   "language": "python",
   "name": "python3"
  },
  "language_info": {
   "codemirror_mode": {
    "name": "ipython",
    "version": 3
   },
   "file_extension": ".py",
   "mimetype": "text/x-python",
   "name": "python",
   "nbconvert_exporter": "python",
   "pygments_lexer": "ipython3",
   "version": "3.9.5"
  }
 },
 "nbformat": 4,
 "nbformat_minor": 5
}
