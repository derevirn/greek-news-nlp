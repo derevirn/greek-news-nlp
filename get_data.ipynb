{
 "cells": [
  {
   "cell_type": "code",
   "execution_count": 2,
   "id": "99bd4ac4-f968-4dfa-a18e-773ceec782bf",
   "metadata": {},
   "outputs": [],
   "source": [
    "import time, csv, os, json, requests\n",
    "import pandas as pd\n"
   ]
  },
  {
   "cell_type": "code",
   "execution_count": 7,
   "id": "396e71a6-71ea-44d4-8b3c-2ee7b7841db4",
   "metadata": {},
   "outputs": [],
   "source": [
    "api_key = 'hJHY5Je-xrbWP4-y3kwXMn7aDOkqML7BX2Uh2mhiZgE'\n",
    "base_url = 'https://api.newscatcherapi.com/v2/latest_headlines'"
   ]
  },
  {
   "cell_type": "code",
   "execution_count": 170,
   "id": "0aedd6ff-61c7-4a88-94f8-cd3ac869ffe5",
   "metadata": {
    "tags": []
   },
   "outputs": [
    {
     "data": {
      "text/html": [
       "<div>\n",
       "<style scoped>\n",
       "    .dataframe tbody tr th:only-of-type {\n",
       "        vertical-align: middle;\n",
       "    }\n",
       "\n",
       "    .dataframe tbody tr th {\n",
       "        vertical-align: top;\n",
       "    }\n",
       "\n",
       "    .dataframe thead th {\n",
       "        text-align: right;\n",
       "    }\n",
       "</style>\n",
       "<table border=\"1\" class=\"dataframe\">\n",
       "  <thead>\n",
       "    <tr style=\"text-align: right;\">\n",
       "      <th></th>\n",
       "      <th>title</th>\n",
       "      <th>author</th>\n",
       "      <th>published_date</th>\n",
       "      <th>published_date_precision</th>\n",
       "      <th>link</th>\n",
       "      <th>clean_url</th>\n",
       "      <th>excerpt</th>\n",
       "      <th>summary</th>\n",
       "      <th>rights</th>\n",
       "      <th>rank</th>\n",
       "      <th>topic</th>\n",
       "      <th>country</th>\n",
       "      <th>language</th>\n",
       "      <th>authors</th>\n",
       "      <th>media</th>\n",
       "      <th>is_opinion</th>\n",
       "      <th>twitter_account</th>\n",
       "      <th>_score</th>\n",
       "      <th>_id</th>\n",
       "    </tr>\n",
       "  </thead>\n",
       "  <tbody>\n",
       "    <tr>\n",
       "      <th>0</th>\n",
       "      <td>Πούτιν: Η Μόσχα εξετάζει να αφαιρέσει τους Ταλ...</td>\n",
       "      <td>Newsroom</td>\n",
       "      <td>2021-10-21 22:44:00</td>\n",
       "      <td>timezone unknown</td>\n",
       "      <td>https://www.kathimerini.gr/world/561550855/poy...</td>\n",
       "      <td>kathimerini.gr</td>\n",
       "      <td>Η Ρωσία εξετάζει να αφαιρέσει τους Ταλιμπάν απ...</td>\n",
       "      <td>Sputnik/Maksim Blinov/Kremlin via REUTERS \\nΗ ...</td>\n",
       "      <td>© kathimerini.gr 2020</td>\n",
       "      <td>12440</td>\n",
       "      <td>news</td>\n",
       "      <td>GR</td>\n",
       "      <td>el</td>\n",
       "      <td>[Newsroom]</td>\n",
       "      <td>https://www.kathimerini.gr/wp-content/uploads/...</td>\n",
       "      <td>False</td>\n",
       "      <td>@kathimerini_gr</td>\n",
       "      <td>None</td>\n",
       "      <td>9c48016afeb16780452c336a29b41132</td>\n",
       "    </tr>\n",
       "  </tbody>\n",
       "</table>\n",
       "</div>"
      ],
      "text/plain": [
       "                                               title    author  \\\n",
       "0  Πούτιν: Η Μόσχα εξετάζει να αφαιρέσει τους Ταλ...  Newsroom   \n",
       "\n",
       "        published_date published_date_precision  \\\n",
       "0  2021-10-21 22:44:00         timezone unknown   \n",
       "\n",
       "                                                link       clean_url  \\\n",
       "0  https://www.kathimerini.gr/world/561550855/poy...  kathimerini.gr   \n",
       "\n",
       "                                             excerpt  \\\n",
       "0  Η Ρωσία εξετάζει να αφαιρέσει τους Ταλιμπάν απ...   \n",
       "\n",
       "                                             summary                 rights  \\\n",
       "0  Sputnik/Maksim Blinov/Kremlin via REUTERS \\nΗ ...  © kathimerini.gr 2020   \n",
       "\n",
       "    rank topic country language     authors  \\\n",
       "0  12440  news      GR       el  [Newsroom]   \n",
       "\n",
       "                                               media  is_opinion  \\\n",
       "0  https://www.kathimerini.gr/wp-content/uploads/...       False   \n",
       "\n",
       "   twitter_account _score                               _id  \n",
       "0  @kathimerini_gr   None  9c48016afeb16780452c336a29b41132  "
      ]
     },
     "execution_count": 170,
     "metadata": {},
     "output_type": "execute_result"
    }
   ],
   "source": [
    "headers = {'x-api-key': api_key}\n",
    "\n",
    "params = {\n",
    "    'countries': 'gr',\n",
    "    'lang': 'el',\n",
    "    'page_size': 1,\n",
    "    'page': 1  }\n",
    "\n",
    "response = requests.get(base_url, headers=headers, params=params)\n",
    "results = json.loads(response.text.encode())\n",
    "\n",
    "df = pd.DataFrame(results['articles'])\n",
    "\n",
    "df"
   ]
  },
  {
   "cell_type": "code",
   "execution_count": 171,
   "id": "b164414a-7f75-4dff-8a00-56b3a64ad85e",
   "metadata": {
    "tags": []
   },
   "outputs": [],
   "source": [
    "for i in range(1, 101):\n",
    "    params = {\n",
    "    'countries': 'gr',\n",
    "    'lang': 'el',\n",
    "    'page_size': 100,\n",
    "    'page': i }\n",
    "\n",
    "    response = requests.get(base_url, headers=headers, params=params)\n",
    "    results = json.loads(response.text.encode())\n",
    "    \n",
    "    df = df.append(results['articles'], ignore_index = True)\n",
    "    \n",
    "    time.sleep(1)\n",
    "    \n",
    "    "
   ]
  },
  {
   "cell_type": "code",
   "execution_count": 90,
   "id": "e8813cfc-b6e3-4315-81c9-62ed2568b20a",
   "metadata": {},
   "outputs": [],
   "source": [
    "#df.to_csv('greek_news_articles.csv', encoding='utf-8', index=False, sep=',')"
   ]
  }
 ],
 "metadata": {
  "kernelspec": {
   "display_name": "Python 3 (ipykernel)",
   "language": "python",
   "name": "python3"
  },
  "language_info": {
   "codemirror_mode": {
    "name": "ipython",
    "version": 3
   },
   "file_extension": ".py",
   "mimetype": "text/x-python",
   "name": "python",
   "nbconvert_exporter": "python",
   "pygments_lexer": "ipython3",
   "version": "3.9.5"
  }
 },
 "nbformat": 4,
 "nbformat_minor": 5
}
